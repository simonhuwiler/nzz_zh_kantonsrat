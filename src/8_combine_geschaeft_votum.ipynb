{
 "cells": [
  {
   "cell_type": "markdown",
   "metadata": {},
   "source": [
    "# Geschäfte vs Votum"
   ]
  },
  {
   "cell_type": "code",
   "execution_count": 8,
   "metadata": {},
   "outputs": [],
   "source": [
    "from pathlib import Path\n",
    "import pandas as pd\n",
    "import datetime\n",
    "import utils\n",
    "import json\n",
    "import numpy as np\n",
    "pd.options.plotting.backend = \"plotly\""
   ]
  },
  {
   "cell_type": "markdown",
   "metadata": {},
   "source": [
    "## Load Data"
   ]
  },
  {
   "cell_type": "markdown",
   "metadata": {},
   "source": [
    "### Load Kantonsrat History"
   ]
  },
  {
   "cell_type": "code",
   "execution_count": 9,
   "metadata": {},
   "outputs": [],
   "source": [
    "# Load Kantonsrats-member-history\n",
    "with open(Path('../export/mitglieder.json'), encoding='utf-8') as f:\n",
    "    kantonsrat = json.load(f)\n",
    "\n",
    "# Typecast\n",
    "utils.kantonsrat_to_datetime(kantonsrat)"
   ]
  },
  {
   "cell_type": "markdown",
   "metadata": {},
   "source": [
    "### Load Geschäfte"
   ]
  },
  {
   "cell_type": "code",
   "execution_count": 10,
   "metadata": {},
   "outputs": [],
   "source": [
    "df_raw = pd.read_csv(Path('../export/geschaefte.csv'))\n",
    "\n",
    "# Only Members\n",
    "df_raw = df_raw[df_raw.erstunterzeichneristkantonsrat == True]\n",
    "\n",
    "# To Datetime\n",
    "df_raw['start'] = pd.to_datetime(df_raw['start'])\n",
    "\n",
    "# Calculate Amtsjahr (Amtsjahr 2020 = 1.5.2020 - 30.4.2021)\n",
    "df_raw['year'] = df_raw['start'].dt.year\n",
    "df_raw['month'] = df_raw['start'].dt.month\n",
    "df_raw['session'] = df_raw.apply(lambda row: row['year'] if row['month'] > 5 else row['year'] - 1, axis=1)\n",
    "\n",
    "# Concat Name for convenience reasons\n",
    "df_raw['_name'] = df_raw.apply(lambda row: \"%s %s\" % (row['erstunterzeichnervorname'], row['erstunterzeichnername']), axis = 1)\n",
    "\n",
    "df_geschaeft_raw = df_raw.copy()"
   ]
  },
  {
   "cell_type": "markdown",
   "metadata": {},
   "source": [
    "### Load Voten"
   ]
  },
  {
   "cell_type": "code",
   "execution_count": 14,
   "metadata": {},
   "outputs": [],
   "source": [
    "df_votum_raw = pd.concat([\n",
    "    pd.read_csv(Path('../export/votum/votum_0.csv')),\n",
    "    pd.read_csv(Path('../export/votum/votum_1.csv'))\n",
    "])\n",
    "\n",
    "# Remove non members (mostly former members who are now in the Regierungsrat)\n",
    "df_votum_raw = df_votum_raw[df_votum_raw.ismember == True]\n",
    "\n",
    "# Typecast\n",
    "df_votum_raw['sitzung_date'] = pd.to_datetime(df_votum_raw['sitzung_date'])\n",
    "\n",
    "# Remove empty texts\n",
    "df_votum_raw = df_votum_raw[df_votum_raw.text.notna()]\n",
    "\n",
    "# Concat Name for convenience reasons\n",
    "df_votum_raw['_name'] = df_votum_raw.apply(lambda row: \"%s %s\" % (row['vorname'], row['name']), axis = 1)\n",
    "\n",
    "# Calculate Amtsjahr (Amtsjahr 2020 = 1.5.2020 - 30.4.2021)\n",
    "df_votum_raw['year'] = df_votum_raw['sitzung_date'].dt.year\n",
    "df_votum_raw['month'] = df_votum_raw['sitzung_date'].dt.month\n",
    "df_votum_raw['session'] = df_votum_raw.apply(lambda row: row['year'] if row['month'] > 5 else row['year'] - 1, axis=1)"
   ]
  },
  {
   "cell_type": "code",
   "execution_count": 15,
   "metadata": {},
   "outputs": [],
   "source": [
    "# Cut same date\n",
    "d = '2002-01-07'\n",
    "df_votum_raw = df_votum_raw[df_votum_raw.sitzung_date >= d]\n",
    "df_geschaeft_raw = df_geschaeft_raw[df_geschaeft_raw.eingereicht >= d]"
   ]
  },
  {
   "cell_type": "markdown",
   "metadata": {},
   "source": [
    "## Calc Difference between Votum and Geschaeft"
   ]
  },
  {
   "cell_type": "code",
   "execution_count": 16,
   "metadata": {},
   "outputs": [
    {
     "data": {
      "application/vnd.plotly.v1+json": {
       "config": {
        "plotlyServerURL": "https://plot.ly"
       },
       "data": [
        {
         "customdata": [
          [
           "Corina Gredig",
           0
          ],
          [
           "Klara Reber",
           0
          ],
          [
           "Kurt Krebs",
           0
          ],
          [
           "Christoph Fischbach",
           0
          ],
          [
           "Beatrix Stüssi",
           0
          ],
          [
           "Lothar Ziörjen",
           0
          ],
          [
           "Beatrice Krebs",
           0
          ],
          [
           "Ernst Schibli",
           0
          ],
          [
           "Maleica-Monique Landolt",
           0
          ],
          [
           "Maria Styger-Bosshard",
           0
          ],
          [
           "Ernst Knellwolf",
           0
          ],
          [
           "Markus Hess",
           0
          ],
          [
           "Markus Hutter",
           0
          ],
          [
           "Markus Mendelin",
           0
          ],
          [
           "Martin Bornhauser",
           0
          ],
          [
           "Martin Romer",
           0
          ],
          [
           "Matthias Kestenholz",
           0
          ],
          [
           "Christian Achermann",
           0
          ],
          [
           "Katrin Jaggi",
           0
          ],
          [
           "Monica Sanesi Muri",
           0
          ],
          [
           "Felix Müller",
           0
          ],
          [
           "Jürg Leibundgut",
           0
          ],
          [
           "Hans Egloff",
           0
          ],
          [
           "Hans Meier",
           0
          ],
          [
           "Hans Wild",
           0
          ],
          [
           "Hans-Peter Züblin",
           0
          ],
          [
           "Hans-Rudolf Knöpfli",
           0
          ],
          [
           "Gregor Kreuzer",
           0
          ],
          [
           "Hans-Ulrich Brechbühl",
           0
          ],
          [
           "Hanspeter Schneebeli",
           0
          ],
          [
           "Georg Schellenberg",
           0
          ],
          [
           "Fredy Ganz",
           0
          ],
          [
           "Hansueli Sallenbach",
           0
          ],
          [
           "Irene Minder-Roost",
           0
          ],
          [
           "Isabel Garcia",
           0
          ],
          [
           "Ivo Koller",
           0
          ],
          [
           "Fredi Binder",
           0
          ],
          [
           "Jeanine Kosch-Vernier",
           0
          ],
          [
           "Jürg Altwegg",
           0
          ],
          [
           "Karl Zweifel",
           0
          ],
          [
           "Nathalie Rickli",
           0
          ],
          [
           "Meret Schneider",
           0
          ],
          [
           "Susanne Bernasconi-Aeppli",
           0
          ],
          [
           "Andreas Honegger",
           0
          ],
          [
           "Thomas Dähler",
           0
          ],
          [
           "Thomas Isler",
           0
          ],
          [
           "Thomas Kübler",
           0
          ],
          [
           "Thomas Müller",
           0
          ],
          [
           "Toni W. Püntener",
           0
          ],
          [
           "Ueli Kübler",
           0
          ],
          [
           "Erich Hollenstein",
           0
          ],
          [
           "Ulrich Isler",
           0
          ],
          [
           "Verena Albrecht",
           0
          ],
          [
           "Vinzenz Bütler",
           0
          ],
          [
           "Walter Langhard",
           0
          ],
          [
           "Werner Honegger",
           0
          ],
          [
           "Denise Wahlen",
           0
          ],
          [
           "Daniel Schwab",
           0
          ],
          [
           "Adrian Bucher",
           0
          ],
          [
           "Urs Glättli",
           0
          ],
          [
           "Sebastian Brändli",
           0
          ],
          [
           "Hans Badertscher",
           0
          ],
          [
           "Regula Kuhn",
           0
          ],
          [
           "Regina Bapst-Herzog",
           0
          ],
          [
           "Regula Thalmann-Meyer",
           0
          ],
          [
           "Renate Dürr",
           0
          ],
          [
           "Armin Heinimann",
           0
          ],
          [
           "Rolf Robert Zimmermann",
           0
          ],
          [
           "Robert Chanson",
           0
          ],
          [
           "Dorothee Jaun",
           0
          ],
          [
           "Peter Uhlmann",
           0
          ],
          [
           "Dominique Feuillet",
           0
          ],
          [
           "Peter Meier",
           0
          ],
          [
           "Peter F. Bielmann",
           0
          ],
          [
           "Rolf Steiner",
           0
          ],
          [
           "Pierre Rappazzo",
           0
          ],
          [
           "Urs Lauffer",
           "FDP"
          ],
          [
           "Heinz Jauch",
           "EVP"
          ],
          [
           "Ernst Brunner",
           "SVP"
          ],
          [
           "Astrid Gut",
           "BDP"
          ],
          [
           "Theo Toggweiler",
           "SVP"
          ],
          [
           "Valentin Landmann",
           "SVP"
          ],
          [
           "Ruth Ackermann",
           "Die Mitte"
          ],
          [
           "Martin Bäumle",
           "Grüne"
          ],
          [
           "Ruedi Hatt",
           "FDP"
          ],
          [
           "Silvia Kamm",
           "Grüne"
          ],
          [
           "Yvonne Bürgin-Hartmann",
           "Die Mitte"
          ],
          [
           "Yvonne Eugster",
           "Die Mitte"
          ],
          [
           "Willy Haderer",
           "SVP"
          ],
          [
           "Hans-Ueli Vogt",
           "SVP"
          ],
          [
           "Benno Scherrer Moser",
           "GLP"
          ],
          [
           "Oskar Bachmann",
           "SVP"
          ],
          [
           "Martin Mossdorf",
           "FDP"
          ],
          [
           "Markus Bärtschiger",
           "SP"
          ],
          [
           "Adrian Hug",
           "Die Mitte"
          ],
          [
           "Angelo Barrile",
           "SP"
          ],
          [
           "Hansruedi Hartmann",
           "FDP"
          ],
          [
           "Roman Schmid",
           "SVP"
          ],
          [
           "Laura Huonker",
           "AL"
          ],
          [
           "Jakob Schneebeli",
           "SVP"
          ],
          [
           "Lucius Dürr",
           "Die Mitte"
          ],
          [
           "Daniel Hodel",
           "GLP"
          ],
          [
           "Ernst Stocker-Rusterholz",
           "SVP"
          ],
          [
           "Esther Arnet",
           "SP"
          ],
          [
           "Bruno Fenner",
           "BDP"
          ],
          [
           "Kurt Schreiber",
           "EVP"
          ],
          [
           "Blanca Ramer-Stäubli",
           "Die Mitte"
          ],
          [
           "Selma L'Orange Seigo",
           "Grüne"
          ],
          [
           "Erich Bollinger",
           "SVP"
          ],
          [
           "Thomas Weibel",
           "GLP"
          ],
          [
           "Stefan Krebs",
           "SVP"
          ],
          [
           "Beat Monhart",
           "EVP"
          ],
          [
           "Raphael Golta",
           "SP"
          ],
          [
           "Arnold Suter",
           "SVP"
          ],
          [
           "Ernst Züst",
           "SVP"
          ],
          [
           "Gabriele Petri",
           "Grüne"
          ],
          [
           "Daniel Vischer",
           "Grüne"
          ],
          [
           "Josef Widler",
           "Die Mitte"
          ],
          [
           "Andreas Erdin",
           "GLP"
          ],
          [
           "Thomas Marthaler",
           "SP"
          ],
          [
           "Heinz Kyburz",
           "EDU"
          ],
          [
           "Martin Zuber",
           "SVP"
          ],
          [
           "Katharina Kull-Benz",
           "FDP"
          ],
          [
           "Carmen Marty Fässler",
           "SP"
          ],
          [
           "Corinne Thomet-Bürki",
           "Die Mitte"
          ],
          [
           "Katharina Weibel",
           "FDP"
          ],
          [
           "Marcel Lenggenhager",
           "BDP"
          ],
          [
           "Martin Kull",
           "SP"
          ],
          [
           "Peter Mächler",
           "SVP"
          ],
          [
           "Kathrin Wydler",
           "Die Mitte"
          ],
          [
           "Jacqueline Peter",
           "SP"
          ],
          [
           "Ursina Egli",
           "SP"
          ],
          [
           "Claudia Hollenstein",
           "GLP"
          ],
          [
           "Peter Stirnemann",
           "SP"
          ],
          [
           "Regula Mäder-Weikart",
           "Die Mitte"
          ],
          [
           "Brigitta Leiser-Burri",
           "Die Mitte"
          ],
          [
           "Willy Furter",
           "EVP"
          ],
          [
           "Daniel Sommer",
           "EVP"
          ],
          [
           "Eva Gutmann",
           "GLP"
          ],
          [
           "Stephan Schwitter",
           "Die Mitte"
          ],
          [
           "Esther Guyer",
           "Grüne"
          ],
          [
           "Max F. Clerici",
           "FDP"
          ],
          [
           "Kathy Steiner",
           "Grüne"
          ],
          [
           "Walter Isliker",
           "SVP"
          ],
          [
           "Ursula Moor-Schwarz",
           "SVP"
          ],
          [
           "Farid Zeroual",
           "Die Mitte"
          ],
          [
           "Nicole Barandun-Gross",
           "Die Mitte"
          ],
          [
           "Felix Hess",
           "SVP"
          ],
          [
           "Beat Bloch",
           "CSP"
          ],
          [
           "Brigitta Johner",
           "FDP"
          ],
          [
           "Hans Fahrni",
           "EVP"
          ],
          [
           "Ruedi Menzi",
           "SVP"
          ],
          [
           "Hans Peter Frei",
           "SVP"
          ],
          [
           "Jörg Mäder",
           "GLP"
          ],
          [
           "Rosmarie Joss",
           "SP"
          ],
          [
           "Stefan Hunger",
           "BDP"
          ],
          [
           "Michel Baumgartner",
           "FDP"
          ],
          [
           "Patrick Hächler",
           "Die Mitte"
          ],
          [
           "Alexander Jäger",
           "FDP"
          ],
          [
           "Martin Neukom",
           "Grüne"
          ],
          [
           "Lisette Müller-Jaag",
           "EVP"
          ],
          [
           "Daniel Oswald",
           "SVP"
          ],
          [
           "Rico Brazerol",
           "BDP"
          ],
          [
           "Peter Reinhard",
           "EVP"
          ],
          [
           "Sabine Sieber Hirschi",
           "SP"
          ],
          [
           "Marlies Zaugg-Brüllmann",
           "FDP"
          ],
          [
           "Ernst Bachmann",
           "SVP"
          ],
          [
           "Peter Ritschard",
           "EVP"
          ],
          [
           "Mark Anthony Wisskirchen",
           "EVP"
          ],
          [
           "Hans-Peter Brunner",
           "FDP"
          ],
          [
           "Alma Redzic",
           "Grüne"
          ],
          [
           "Laurenz Styger",
           "SVP"
          ],
          [
           "Romana Leuzinger",
           "SP"
          ],
          [
           "Franziska Frey-Wettstein",
           "FDP"
          ],
          [
           "Peter Häni",
           "EDU"
          ],
          [
           "Philipp Kutter",
           "Die Mitte"
          ],
          [
           "Susanne Trost Vetter",
           "SP"
          ],
          [
           "Rochus Burtscher",
           "SVP"
          ],
          [
           "Beat Stiefel",
           "SVP"
          ],
          [
           "Armin Steinmann",
           "SVP"
          ],
          [
           "Hans-Heinrich Heusser",
           "SVP"
          ],
          [
           "Hansueli Züllig",
           "SVP"
          ],
          [
           "Germain Mittaz",
           "Die Mitte"
          ],
          [
           "Claudia Balocco",
           "SP"
          ],
          [
           "Regula Götsch Neukom",
           "SP"
          ],
          [
           "Annelies Schneider-Schatz",
           "SVP"
          ],
          [
           "Martin Geilinger",
           "Grüne"
          ],
          [
           "Rudolf Ackeret",
           "SVP"
          ],
          [
           "Nik Gugger",
           "EVP"
          ],
          [
           "Reinhard Fürst",
           "SVP"
          ],
          [
           "Kurt Weber",
           "FDP"
          ],
          [
           "Bernhard Egg",
           "SP"
          ],
          [
           "Sonja Rueff-Frenkel",
           "FDP"
          ],
          [
           "Rolf Walther",
           "FDP"
          ],
          [
           "Jean-Philippe Pinto",
           "Die Mitte"
          ],
          [
           "Lukas Briner",
           "FDP"
          ],
          [
           "Markus Schaaf",
           "EVP"
          ],
          [
           "Martin Naef",
           "SP"
          ],
          [
           "Andrew Katumba",
           "SP"
          ],
          [
           "Nadja Galliker",
           "FDP"
          ],
          [
           "Moritz Spillmann",
           "SP"
          ],
          [
           "Benjamin Fischer",
           "SVP"
          ],
          [
           "Hans Heinrich Raths",
           "SVP"
          ],
          [
           "Thomas Wirth",
           "GLP"
          ],
          [
           "Martin Haab",
           "SVP"
          ],
          [
           "Elisabeth Pflugshaupt",
           "SVP"
          ],
          [
           "René Isler",
           "SVP"
          ],
          [
           "Thomas Forrer",
           "Grüne"
          ],
          [
           "Nora Bussmann Bulaños",
           "Grüne"
          ],
          [
           "Sabine Wettstein-Studer",
           "FDP"
          ],
          [
           "Hanspeter Göldi",
           "SP"
          ],
          [
           "Judith Anna Stofer",
           "AL"
          ],
          [
           "Rolf Stucker",
           "SVP"
          ],
          [
           "Charles Spillmann",
           "SP"
          ],
          [
           "Orlando Wyss",
           "SVP"
          ],
          [
           "Antoine Berger",
           "FDP"
          ],
          [
           "Sylvie Matter",
           "SP"
          ],
          [
           "Rita Bernoulli",
           "FDP"
          ],
          [
           "Ruedi Lais",
           "SP"
          ],
          [
           "Ruth Frei-Baumann",
           "SVP"
          ],
          [
           "Thomas Hardegger",
           "SP"
          ],
          [
           "Claudia Gambacciani",
           "Grüne"
          ],
          [
           "Angie Romero",
           "FDP"
          ],
          [
           "Lorenz Schmid",
           "Die Mitte"
          ],
          [
           "Heinrich Frei",
           "SVP"
          ],
          [
           "Christa Isabelle Stünzi",
           "GLP"
          ],
          [
           "Samuel Ramseyer",
           "SVP"
          ],
          [
           "Matthias Gfeller",
           "Grüne"
          ],
          [
           "Alex Gantner",
           "FDP"
          ],
          [
           "Robert Marty",
           "FDP"
          ],
          [
           "Gerhard Fischer",
           "EVP"
          ],
          [
           "Hanspeter Amstutz",
           "EVP"
          ],
          [
           "Bruno Grossmann",
           "SVP"
          ],
          [
           "Cäcilia Hänni-Etter",
           "FDP"
          ],
          [
           "Christian Schucan",
           "FDP"
          ],
          [
           "Ruth Kleiber",
           "EVP"
          ],
          [
           "Andreas Hasler",
           "GLP"
          ],
          [
           "Hansjörg Schmid",
           "SVP"
          ],
          [
           "Markus Bischoff",
           "AL"
          ],
          [
           "Esther Hildebrand",
           "Grüne"
          ],
          [
           "Christoph Holenstein",
           "Die Mitte"
          ],
          [
           "Barbara Schaffner",
           "GLP"
          ],
          [
           "Barbara Grüter",
           "SVP"
          ],
          [
           "Marco Ruggli",
           "SP"
          ],
          [
           "Emy Lalli",
           "SP"
          ],
          [
           "Cornelia Keller",
           "BDP"
          ],
          [
           "Christoph Ziegler",
           "GLP"
          ],
          [
           "Markus Späth-Walter",
           "SP"
          ],
          [
           "Alfred Heer",
           "SVP"
          ],
          [
           "Lorenz Habicher",
           "SVP"
          ],
          [
           "Martin Arnold",
           "SVP"
          ],
          [
           "Martin Hübscher",
           "SVP"
          ],
          [
           "Manuel Sahli",
           "AL"
          ],
          [
           "Walter Honegger",
           "SVP"
          ],
          [
           "Heinrich Wuhrmann",
           "SVP"
          ],
          [
           "Michael Welz",
           "EDU"
          ],
          [
           "Eva-Maria Würth",
           "SP"
          ],
          [
           "Balz Hösly",
           "FDP"
          ],
          [
           "Urs Hany",
           "Die Mitte"
          ],
          [
           "Hans W. Wiesner",
           "GLP"
          ],
          [
           "Walter Schoch",
           "EVP"
          ],
          [
           "Natalie Vieli-Platzer",
           "Grüne"
          ],
          [
           "Matthias Hauser",
           "SVP"
          ],
          [
           "Melissa Näf-Doffey",
           "GLP"
          ],
          [
           "Corinne Hoss-Blatter",
           "FDP"
          ],
          [
           "Peter Vollenweider",
           "FDP"
          ],
          [
           "Oliver B. Meier",
           "SVP"
          ],
          [
           "Johann Jucker-Inhelder",
           "SVP"
          ],
          [
           "Theresia Weber",
           "SVP"
          ],
          [
           "Peter Weber",
           "Grüne"
          ],
          [
           "Bruno Walliser",
           "SVP"
          ],
          [
           "Jürg Sulser",
           "SVP"
          ],
          [
           "Hanspeter Haug",
           "SVP"
          ],
          [
           "Erich Vontobel",
           "EDU"
          ],
          [
           "Kurt Leuch",
           "EVP"
          ],
          [
           "Beatrix Frey-Eigenmann",
           "FDP"
          ],
          [
           "Othmar Kern",
           "SVP"
          ],
          [
           "Katharina Prelicz-Huber",
           "Grüne"
          ],
          [
           "Emil Manser",
           "SVP"
          ],
          [
           "Walter Müller",
           "SVP"
          ],
          [
           "Stefan Feldmann",
           "SP"
          ],
          [
           "Anne-Claude Hensch Frei",
           "AL"
          ],
          [
           "Davide Loss",
           "SP"
          ],
          [
           "Willy Germann",
           "Die Mitte"
          ],
          [
           "Andrea Widmer Graf",
           "PALO"
          ],
          [
           "Bruno Amacker",
           "SVP"
          ],
          [
           "Luzius Rüegg",
           "SVP"
          ],
          [
           "Nicole Wyss",
           "AL"
          ],
          [
           "Andrea Gisler",
           "GLP"
          ],
          [
           "Esther Straub",
           "SP"
          ],
          [
           "Thomas Maier",
           "GLP"
          ],
          [
           "Christian Lucek",
           "SVP"
          ],
          [
           "Jörg Kündig",
           "FDP"
          ],
          [
           "Felix Hoesch",
           "SP"
          ],
          [
           "Beat Badertscher",
           "FDP"
          ],
          [
           "Theres Agosti Monn",
           "SP"
          ],
          [
           "Jürg Leuthold",
           "SVP"
          ],
          [
           "Franco Albanese",
           "SVP"
          ],
          [
           "Gaston Guex",
           "FDP"
          ],
          [
           "Res Marti",
           "Grüne"
          ],
          [
           "Rafael Steiner",
           "SP"
          ],
          [
           "Jürg Trachsel",
           "SVP"
          ],
          [
           "Regula Kaeser-Stöckli",
           "Grüne"
          ],
          [
           "Richard Hirt",
           "Die Mitte"
          ],
          [
           "Maria Rohweder-Lischer",
           "Grüne"
          ],
          [
           "Johannes Zollinger",
           "EVP"
          ],
          [
           "Catherine Heuberger Golta",
           "SP"
          ],
          [
           "Katrin Cometta-Müller",
           "GLP"
          ],
          [
           "Andreas Daurù",
           "SP"
          ],
          [
           "Ernst Jud",
           "FDP"
          ],
          [
           "Roger Liebi",
           "SVP"
          ],
          [
           "Daniel Häuptli",
           "GLP"
          ],
          [
           "Silvia Steiner",
           "Die Mitte"
          ],
          [
           "Hanspeter Hugentobler",
           "EVP"
          ],
          [
           "Domenik Ledergerber",
           "SVP"
          ],
          [
           "Hans Finsler",
           "SVP"
          ],
          [
           "Hans Rutschmann",
           "SVP"
          ],
          [
           "Franziska Barmettler",
           "GLP"
          ],
          [
           "Max Robert Homberger",
           "Grüne"
          ],
          [
           "Robert Brunner",
           "Grüne"
          ],
          [
           "Ornella Ferro",
           "Grüne"
          ],
          [
           "Birgit Tognella-Geertsen",
           "SP"
          ],
          [
           "Ueli Bamert",
           "SVP"
          ],
          [
           "Fabian Müller",
           "FDP"
          ],
          [
           "Hartmuth Attenhofer",
           "SP"
          ],
          [
           "Christian Müller",
           "FDP"
          ],
          [
           "Gregor Rutz",
           "SVP"
          ],
          [
           "Diego Bonato",
           "SVP"
          ],
          [
           "Kaspar Bütikofer",
           "AL"
          ],
          [
           "Simon Schlauri",
           "GLP"
          ],
          [
           "Thomas Heiniger",
           "FDP"
          ],
          [
           "Luca Rosario Roth",
           "GLP"
          ],
          [
           "Walter Reist",
           "SP"
          ],
          [
           "Pierre Dalcher",
           "SVP"
          ],
          [
           "Monika Spring",
           "SP"
          ],
          [
           "Jean-Jacques Bertschi",
           "FDP"
          ],
          [
           "Hans Peter Häring",
           "EDU"
          ],
          [
           "Stefan Dollenmeier",
           "EDU"
          ],
          [
           "Roland Munz",
           "SP"
          ],
          [
           "Urs Waser",
           "SVP"
          ],
          [
           "Thomas Kappeler",
           "Die Mitte"
          ],
          [
           "Andreas Federer",
           "Die Mitte"
          ],
          [
           "Michael Biber",
           "FDP"
          ],
          [
           "Silvia Seiz-Gut",
           "SP"
          ],
          [
           "Thomas Ziegler",
           "EVP"
          ],
          [
           "Christoph Schürch",
           "SP"
          ],
          [
           "Marc Bourgeois",
           "FDP"
          ],
          [
           "Jasmin Pokerschnig",
           "Grüne"
          ],
          [
           "Andreas Burger",
           "SP"
          ],
          [
           "Andreas Geistlich",
           "FDP"
          ],
          [
           "Florian Heer",
           "Grüne"
          ],
          [
           "Melanie Berner",
           "AL"
          ],
          [
           "Karin Fehr Thoma",
           "Grüne"
          ],
          [
           "Sabine Ziegler",
           "SP"
          ],
          [
           "Andreas Wolf",
           "Grüne"
          ],
          [
           "Beat Walti",
           "FDP"
          ],
          [
           "Peter Roesler",
           "FDP"
          ],
          [
           "Judith Bellaïche",
           "GLP"
          ],
          [
           "Beni Schwarzenbach",
           "GLP"
          ],
          [
           "Johanna Tremp",
           "SP"
          ],
          [
           "Oskar Denzler",
           "FDP"
          ],
          [
           "Thomas Honegger",
           "Grüne"
          ],
          [
           "Rahel Walti",
           "GLP"
          ],
          [
           "Erika Ziltener",
           "SP"
          ],
          [
           "Barbara Günthard Fitze",
           "EVP"
          ],
          [
           "Cyrill Planta von",
           "GLP"
          ],
          [
           "Hans Läubli",
           "Grüne"
          ],
          [
           "Regine Sauter",
           "FDP"
          ],
          [
           "Harry Robert Brandenberger",
           "SP"
          ],
          [
           "Peter Stutz",
           "SP"
          ],
          [
           "Susanne Leuenberger",
           "SVP"
          ],
          [
           "Isabel Bartal",
           "SP"
          ],
          [
           "Carola Etter-Gick",
           "FDP"
          ],
          [
           "Ueli Annen",
           "SP"
          ],
          [
           "Nicolas Galladé",
           "SP"
          ],
          [
           "Jürg Stünzi",
           "Grüne"
          ],
          [
           "Josef Wiederkehr",
           "Die Mitte"
          ],
          [
           "Hansruedi Bär",
           "SVP"
          ],
          [
           "Lilith Claudia Hübscher",
           "Grüne"
          ],
          [
           "Jonas Erni",
           "SP"
          ],
          [
           "Peter Anderegg",
           "SP"
          ],
          [
           "Peider Filli",
           "AL"
          ],
          [
           "Edith Häusler-Michel",
           "Grüne"
          ],
          [
           "Jorge Serra",
           "SP"
          ],
          [
           "Reto Cavegn",
           "FDP"
          ],
          [
           "Astrid Furrer",
           "FDP"
          ],
          [
           "Linda Camenisch",
           "FDP"
          ],
          [
           "Anita Simioni-Dahm",
           "FDP"
          ],
          [
           "Cristina Wyss-Cortellini",
           "GLP"
          ],
          [
           "David John Galeuchet",
           "Grüne"
          ],
          [
           "Barbara Bussmann",
           "SP"
          ],
          [
           "Andrea Sprecher",
           "SP"
          ],
          [
           "Tobias Mani",
           "EVP"
          ],
          [
           "Pierre-André Duc",
           "SVP"
          ],
          [
           "Barbara Marty Kälin",
           "SP"
          ],
          [
           "Christoph Marty",
           "SVP"
          ],
          [
           "Ruedi Noser",
           "FDP"
          ],
          [
           "Martin Sarbach",
           "SP"
          ],
          [
           "Benedikt Gschwind",
           "SP"
          ],
          [
           "Ralf Margreiter",
           "Grüne"
          ],
          [
           "Hans-Peter Amrein",
           "SVP"
          ],
          [
           "Leila Feit",
           "FDP"
          ],
          [
           "Benjamin Walder",
           "Grüne"
          ],
          [
           "Bruno Dobler",
           "SVP"
          ],
          [
           "Ronald Alder",
           "GLP"
          ],
          [
           "Karin Maeder-Zuberbühler",
           "SP"
          ],
          [
           "Hans-Peter Portmann",
           "FDP"
          ],
          [
           "Susanne Rihs-Lanz",
           "Grüne"
          ],
          [
           "Karin Joss",
           "GLP"
          ],
          [
           "Karin Egli-Zimmermann",
           "SVP"
          ],
          [
           "Ueli Keller",
           "SP"
          ],
          [
           "Céline Widmer",
           "SP"
          ],
          [
           "Daniela Rinderknecht",
           "SVP"
          ],
          [
           "Priska Seiler Graf",
           "SP"
          ],
          [
           "Heidi Bucher-Steinegger",
           "Grüne"
          ],
          [
           "Margreth Rinderknecht",
           "SVP"
          ],
          [
           "Nathalie Aeschbacher",
           "GLP"
          ],
          [
           "Barbara Hunziker Wanner",
           "Grüne"
          ],
          [
           "Hannah Pfalzgraf",
           "SP"
          ],
          [
           "Leandra Columberg",
           "SP"
          ],
          [
           "Susanne Brunner",
           "Die Mitte"
          ],
          [
           "Gabriela Winkler",
           "FDP"
          ],
          [
           "Michèle Bättig",
           "GLP"
          ],
          [
           "André Bender",
           "SVP"
          ],
          [
           "Marionna Schlatter-Schmid",
           "Grüne"
          ],
          [
           "Regula Ziegler-Leuzinger",
           "SP"
          ],
          [
           "Daniela Güller",
           "GLP"
          ],
          [
           "Renate Büchi-Wild",
           "SP"
          ],
          [
           "Maria Rita Marty",
           "SVP"
          ],
          [
           "Dieter Kläy",
           "FDP"
          ],
          [
           "Benedikt Hoffmann",
           "SVP"
          ],
          [
           "Olivier Moïse Hofmann",
           "FDP"
          ],
          [
           "Janine Vannaz",
           "Die Mitte"
          ],
          [
           "Florian Meier",
           "Grüne"
          ],
          [
           "Silvia Rigoni",
           "Grüne"
          ],
          [
           "Andreas Hauri",
           "GLP"
          ],
          [
           "Thomas Vogel",
           "FDP"
          ],
          [
           "Daniel Heierli",
           "Grüne"
          ],
          [
           "Sandro Feuillet",
           "Grüne"
          ],
          [
           "Bettina Volland",
           "SP"
          ],
          [
           "Jeannette Büsser",
           "Grüne"
          ],
          [
           "Markus Brandenberger",
           "SP"
          ],
          [
           "Beat Habegger",
           "FDP"
          ],
          [
           "Susanna Rusca Speck",
           "SP"
          ],
          [
           "Pia Holenstein Weidmann",
           "SP"
          ],
          [
           "Nancy Bolleter-Malcom",
           "EVP"
          ],
          [
           "Franziska Troesch-Schnyder",
           "FDP"
          ],
          [
           "Ulrich Pfister",
           "SVP"
          ],
          [
           "Esther Meier",
           "SP"
          ],
          [
           "Claudio Zanetti",
           "SVP"
          ],
          [
           "Manuel Kampus",
           "Grüne"
          ],
          [
           "Käthi Furrer",
           "SP"
          ],
          [
           "Peter Schick",
           "SVP"
          ],
          [
           "Tobias Langenegger",
           "SP"
          ],
          [
           "Werner Scherrer",
           "FDP"
          ],
          [
           "Anita Borer",
           "SVP"
          ],
          [
           "Carmen Walker Späh",
           "FDP"
          ],
          [
           "Hedi Strahm",
           "SP"
          ],
          [
           "Stephan Weber",
           "FDP"
          ],
          [
           "Inge Stutz-Wanner",
           "SVP"
          ],
          [
           "Thomas Lamprecht",
           "EDU"
          ],
          [
           "Mattea Meyer",
           "SP"
          ],
          [
           "Peter Preisig",
           "SVP"
          ],
          [
           "Andrea Kennel Schnider",
           "SP"
          ],
          [
           "Raffaela Fehr",
           "FDP"
          ],
          [
           "Doris Meier",
           "FDP"
          ],
          [
           "Martin Huber",
           "FDP"
          ],
          [
           "Elisabeth Scheffeldt Kern",
           "SP"
          ],
          [
           "Hans-Jakob Boesch",
           "FDP"
          ],
          [
           "Christian Mettler",
           "SVP"
          ],
          [
           "Ann Barbara Franzen",
           "FDP"
          ],
          [
           "Hans Jörg Fischer",
           "SD"
          ],
          [
           "Chantal Galladé",
           "SP"
          ],
          [
           "Martin Farner",
           "FDP"
          ],
          [
           "Sonja Gehrig Schmidt",
           "GLP"
          ],
          [
           "Claudia Wyssen",
           "GLP"
          ],
          [
           "Romaine Roggenmoser",
           "SVP"
          ],
          [
           "Nicola Siegrist",
           "SP"
          ],
          [
           "Claudio Schmid",
           "SVP"
          ],
          [
           "Françoise Okopnik",
           "Grüne"
          ],
          [
           "Thea Mauchle",
           "SP"
          ],
          [
           "Konrad Langhart",
           "Die Mitte"
          ],
          [
           "Gustav Kessler",
           "Die Mitte"
          ],
          [
           "Marcel Burlet",
           "SP"
          ],
          [
           "Sandra Bossert",
           "SVP"
          ],
          [
           "Adrian Bergmann",
           "SVP"
          ],
          [
           "Stefan Schmid",
           "SVP"
          ],
          [
           "Peter A. Schmid",
           "SP"
          ],
          [
           "René Gutknecht",
           "GLP"
          ],
          [
           "Hansruedi Schmid",
           "SP"
          ],
          [
           "Rolf André Siegenthaler",
           "SVP"
          ],
          [
           "Michael Zeugin",
           "GLP"
          ],
          [
           "Anna Maria Riedi",
           "SP"
          ],
          [
           "Elisabeth Derisiotis-Scherrer",
           "SP"
          ],
          [
           "Severin Huber",
           "FDP"
          ],
          [
           "Ruth Gurny",
           "SP"
          ],
          [
           "Paul Euw von",
           "SVP"
          ],
          [
           "Julia Gerber Rüegg",
           "SP"
          ],
          [
           "Roland Scheck",
           "SVP"
          ],
          [
           "Brigitte Röösli",
           "SP"
          ],
          [
           "Daniel Frei",
           "SP"
          ],
          [
           "André Bürgi",
           "SP"
          ],
          [
           "Jacqueline Gübeli",
           "SP"
          ],
          [
           "Michael Stampfli",
           "SP"
          ],
          [
           "Luc Pillard",
           "SP"
          ],
          [
           "Margrit Haller-Traber",
           "SVP"
          ],
          [
           "André Müller",
           "FDP"
          ],
          [
           "Sibylle Marti",
           "SP"
          ],
          [
           "Marcel Suter",
           "SVP"
          ],
          [
           "Yves de Mestral",
           "SP"
          ],
          [
           "Stefanie Huber",
           "GLP"
          ],
          [
           "Kurt Bosshard",
           "SVP"
          ],
          [
           "Sarah Akanji",
           "SP"
          ],
          [
           "Daniel Jositsch",
           "SP"
          ],
          [
           "Rolf Boder",
           "SD"
          ],
          [
           "Prisca Koller",
           "FDP"
          ],
          [
           "Barbara Steinemann",
           "SVP"
          ],
          [
           "Arianne Moser-Schäfer",
           "FDP"
          ],
          [
           "Bettina Balmer-Schiltknecht",
           "FDP"
          ],
          [
           "Tobias Weidmann",
           "SVP"
          ],
          [
           "Mauro Tuena",
           "SVP"
          ],
          [
           "Paul Mayer",
           "SVP"
          ],
          [
           "Thomas Schweizer",
           "Grüne"
          ],
          [
           "Qëndresa (Qëni) Sadriu",
           "SP"
          ],
          [
           "Jean-Luc Cornaz",
           "FDP"
          ],
          [
           "Rosmarie Frehsner",
           "SVP"
          ],
          [
           "Barbara Angelsberger",
           "FDP"
          ],
          [
           "Tumasch Mischol",
           "SVP"
          ],
          [
           "Beat Huber",
           "SVP"
          ],
          [
           "Jacqueline Hofer",
           "SVP"
          ],
          [
           "Peter Schulthess",
           "SP"
          ],
          [
           "Wilma Willi",
           "Grüne"
          ],
          [
           "Katrin Meier",
           "SP"
          ],
          [
           "Marianne Trüb Klingler",
           "SP"
          ],
          [
           "Lars Gubler",
           "Grüne"
          ],
          [
           "Urs Hans",
           "Grüne"
          ],
          [
           "Ruedi Bachmann",
           "SVP"
          ],
          [
           "Hugo Buchs",
           "SP"
          ],
          [
           "Christopher Vohdin",
           "SVP"
          ],
          [
           "Eva Torp",
           "SP"
          ],
          [
           "Peter Good",
           "SVP"
          ],
          [
           "René Truninger",
           "SVP"
          ],
          [
           "John Appenzeller",
           "SVP"
          ],
          [
           "Erika Zahler",
           "SVP"
          ],
          [
           "Nicola Yuste",
           "SP"
          ],
          [
           "Fabian Molina",
           "SP"
          ],
          [
           "Urs Grob",
           "SP"
          ],
          [
           "Michèle Dünki-Bättig",
           "SP"
          ],
          [
           "Pia Ackermann",
           "SP"
          ],
          [
           "Christian Hurter",
           "SVP"
          ],
          [
           "Nina Fehr Düsel",
           "SVP"
          ],
          [
           "Liliane Waldner",
           "SP"
          ],
          [
           "Gabriel Mäder",
           "GLP"
          ],
          [
           "Daniel Wäfler",
           "SVP"
          ],
          [
           "Urs Dietschi",
           "Grüne"
          ],
          [
           "Christina Zurfluh Fraefel",
           "SVP"
          ],
          [
           "Monika Wicki",
           "SP"
          ],
          [
           "Peter Vonlanthen",
           "SP"
          ],
          [
           "Yiea Wey Te",
           "FDP"
          ],
          [
           "Cécile Krebs",
           "SP"
          ],
          [
           "Yves Senn",
           "SVP"
          ],
          [
           "Ursula Braunschweig-Lütolf",
           "SP"
          ],
          [
           "Helga Zopfi-Joch",
           "FDP"
          ],
          [
           "Rolando Keller",
           "SVP"
          ],
          [
           "Roland Brändli",
           "SVP"
          ],
          [
           "Roger Bartholdi",
           "SVP"
          ],
          [
           "Patricia Ljuboje",
           "Grüne"
          ],
          [
           "Andrea Planta von",
           "SVP"
          ],
          [
           "Susanna Lisibach",
           "SVP"
          ],
          [
           "Guido Bergmaier",
           "SVP"
          ]
         ],
         "hovertemplate": "voten=%{x}<br>erstunterzeichner=%{y}<br>_name=%{customdata[0]}<br>partei=%{customdata[1]}<extra></extra>",
         "legendgroup": "",
         "marker": {
          "color": "#636efa",
          "symbol": "circle"
         },
         "mode": "markers",
         "name": "",
         "orientation": "v",
         "showlegend": false,
         "type": "scatter",
         "x": [
          3,
          1,
          6,
          1,
          9,
          8,
          1,
          2,
          39,
          1,
          1,
          3,
          13,
          19,
          7,
          20,
          6,
          3,
          3,
          12,
          64,
          3,
          92,
          41,
          1,
          16,
          5,
          6,
          1,
          3,
          10,
          3,
          4,
          1,
          1,
          35,
          13,
          4,
          5,
          15,
          1,
          9,
          50,
          19,
          72,
          88,
          7,
          22,
          23,
          20,
          29,
          17,
          26,
          4,
          2,
          10,
          15,
          42,
          9,
          5,
          22,
          20,
          9,
          17,
          142,
          6,
          19,
          6,
          2,
          131,
          21,
          6,
          1,
          17,
          111,
          2,
          261,
          149,
          87,
          88,
          189,
          89,
          152,
          143,
          65,
          59,
          163,
          105,
          645,
          105,
          396,
          102,
          101,
          48,
          48,
          47,
          46,
          44,
          128,
          44,
          438,
          87,
          126,
          83,
          84,
          158,
          157,
          38,
          112,
          113,
          75,
          75,
          217,
          216,
          72,
          144,
          141,
          144,
          242,
          243,
          348,
          67,
          192,
          32,
          314,
          91,
          333,
          30,
          29,
          87,
          89,
          27,
          54,
          54,
          27,
          52,
          132,
          256,
          199,
          25,
          920,
          74,
          221,
          24,
          93,
          69,
          47,
          47,
          228,
          228,
          183,
          178,
          44,
          211,
          311,
          231,
          21,
          230,
          42,
          207,
          165,
          21,
          125,
          629,
          82,
          41,
          20,
          319,
          98,
          77,
          19,
          19,
          38,
          37,
          54,
          324,
          18,
          195,
          36,
          35,
          194,
          53,
          88,
          35,
          122,
          35,
          225,
          17,
          34,
          17,
          17,
          252,
          265,
          67,
          347,
          82,
          525,
          66,
          163,
          32,
          225,
          129,
          275,
          405,
          65,
          63,
          287,
          239,
          46,
          197,
          76,
          362,
          15,
          15,
          104,
          44,
          59,
          44,
          631,
          103,
          265,
          101,
          29,
          598,
          57,
          71,
          296,
          98,
          291,
          83,
          415,
          215,
          81,
          67,
          146,
          80,
          133,
          119,
          719,
          181,
          339,
          272,
          13,
          51,
          77,
          180,
          352,
          352,
          276,
          632,
          268,
          146,
          220,
          12,
          12,
          303,
          24,
          36,
          47,
          35,
          150,
          113,
          702,
          33,
          11,
          66,
          11,
          11,
          98,
          130,
          141,
          65,
          153,
          172,
          106,
          202,
          32,
          224,
          42,
          21,
          187,
          52,
          144,
          468,
          41,
          30,
          90,
          10,
          30,
          79,
          169,
          206,
          214,
          183,
          48,
          106,
          95,
          105,
          66,
          150,
          93,
          222,
          129,
          128,
          64,
          201,
          9,
          9,
          162,
          9,
          98,
          143,
          125,
          150,
          53,
          26,
          26,
          43,
          241,
          782,
          120,
          51,
          34,
          17,
          153,
          59,
          25,
          66,
          512,
          40,
          32,
          8,
          8,
          159,
          284,
          39,
          313,
          206,
          189,
          30,
          15,
          15,
          51,
          58,
          160,
          174,
          145,
          65,
          36,
          101,
          21,
          35,
          258,
          329,
          97,
          171,
          41,
          116,
          54,
          27,
          140,
          20,
          20,
          179,
          73,
          145,
          176,
          177,
          13,
          26,
          13,
          39,
          13,
          103,
          32,
          70,
          405,
          19,
          82,
          113,
          107,
          25,
          144,
          93,
          56,
          118,
          117,
          105,
          43,
          85,
          72,
          30,
          84,
          24,
          12,
          6,
          6,
          24,
          153,
          649,
          853,
          23,
          23,
          23,
          57,
          240,
          171,
          384,
          22,
          22,
          124,
          91,
          16,
          128,
          169,
          21,
          21,
          21,
          58,
          26,
          52,
          241,
          46,
          25,
          5,
          15,
          5,
          199,
          94,
          173,
          49,
          102,
          24,
          38,
          104,
          66,
          165,
          108,
          14,
          28,
          51,
          83,
          60,
          214,
          27,
          36,
          9,
          40,
          31,
          277,
          13,
          34,
          17,
          93,
          76,
          80,
          293,
          50,
          29,
          54,
          37,
          82,
          48,
          8,
          16,
          4,
          16,
          36,
          51,
          82,
          120,
          31,
          54,
          317,
          138,
          23,
          19,
          19,
          358,
          64,
          26,
          63,
          11,
          215,
          25,
          92,
          134,
          28,
          21,
          14,
          52,
          114,
          48,
          131,
          10,
          33,
          42,
          270,
          50,
          28,
          49,
          12,
          12,
          9,
          3,
          3,
          47,
          77,
          37,
          59,
          28,
          14,
          11,
          11,
          8,
          13,
          160,
          18,
          69,
          10,
          5,
          10,
          37,
          17,
          17,
          26,
          32,
          34,
          36,
          42,
          72,
          32,
          19,
          21,
          21,
          129,
          2,
          8,
          2,
          107,
          25,
          30,
          37,
          51,
          9,
          9,
          7,
          62,
          15,
          8,
          32,
          5,
          7,
          26,
          13,
          29,
          76,
          1,
          1,
          29,
          7,
          16,
          1,
          1,
          1,
          5,
          1,
          4,
          3,
          1
         ],
         "xaxis": "x",
         "y": [
          0,
          0,
          0,
          0,
          0,
          0,
          0,
          0,
          0,
          0,
          0,
          0,
          0,
          0,
          0,
          0,
          0,
          0,
          0,
          0,
          0,
          0,
          0,
          0,
          0,
          0,
          0,
          0,
          0,
          0,
          0,
          0,
          0,
          0,
          0,
          0,
          0,
          0,
          0,
          0,
          0,
          0,
          0,
          0,
          0,
          0,
          0,
          0,
          0,
          0,
          0,
          0,
          0,
          0,
          0,
          0,
          0,
          0,
          0,
          0,
          0,
          0,
          0,
          0,
          0,
          0,
          0,
          0,
          0,
          0,
          0,
          0,
          0,
          0,
          0,
          0,
          1,
          1,
          1,
          1,
          2,
          1,
          2,
          2,
          1,
          1,
          3,
          2,
          12,
          2,
          8,
          2,
          2,
          1,
          1,
          1,
          1,
          1,
          3,
          1,
          10,
          2,
          3,
          2,
          2,
          4,
          4,
          1,
          3,
          3,
          2,
          2,
          6,
          6,
          2,
          4,
          4,
          4,
          7,
          7,
          10,
          2,
          6,
          1,
          10,
          3,
          11,
          1,
          1,
          3,
          3,
          1,
          2,
          2,
          1,
          2,
          5,
          10,
          8,
          1,
          37,
          3,
          9,
          1,
          4,
          3,
          2,
          2,
          10,
          10,
          8,
          8,
          2,
          10,
          15,
          11,
          1,
          11,
          2,
          10,
          8,
          1,
          6,
          31,
          4,
          2,
          1,
          16,
          5,
          4,
          1,
          1,
          2,
          2,
          3,
          18,
          1,
          11,
          2,
          2,
          11,
          3,
          5,
          2,
          7,
          2,
          13,
          1,
          2,
          1,
          1,
          15,
          16,
          4,
          21,
          5,
          32,
          4,
          10,
          2,
          14,
          8,
          17,
          25,
          4,
          4,
          18,
          15,
          3,
          13,
          5,
          24,
          1,
          1,
          7,
          3,
          4,
          3,
          43,
          7,
          18,
          7,
          2,
          42,
          4,
          5,
          21,
          7,
          21,
          6,
          30,
          16,
          6,
          5,
          11,
          6,
          10,
          9,
          55,
          14,
          26,
          21,
          1,
          4,
          6,
          14,
          28,
          28,
          22,
          51,
          22,
          12,
          18,
          1,
          1,
          25,
          2,
          3,
          4,
          3,
          13,
          10,
          63,
          3,
          1,
          6,
          1,
          1,
          9,
          12,
          13,
          6,
          14,
          16,
          10,
          19,
          3,
          21,
          4,
          2,
          18,
          5,
          14,
          46,
          4,
          3,
          9,
          1,
          3,
          8,
          17,
          21,
          22,
          19,
          5,
          11,
          10,
          11,
          7,
          16,
          10,
          24,
          14,
          14,
          7,
          22,
          1,
          1,
          18,
          1,
          11,
          16,
          14,
          17,
          6,
          3,
          3,
          5,
          28,
          91,
          14,
          6,
          4,
          2,
          18,
          7,
          3,
          8,
          63,
          5,
          4,
          1,
          1,
          20,
          36,
          5,
          41,
          27,
          25,
          4,
          2,
          2,
          7,
          8,
          22,
          24,
          20,
          9,
          5,
          14,
          3,
          5,
          37,
          47,
          14,
          25,
          6,
          17,
          8,
          4,
          21,
          3,
          3,
          27,
          11,
          22,
          27,
          27,
          2,
          4,
          2,
          6,
          2,
          16,
          5,
          11,
          64,
          3,
          13,
          18,
          17,
          4,
          23,
          15,
          9,
          19,
          19,
          17,
          7,
          14,
          12,
          5,
          14,
          4,
          2,
          1,
          1,
          4,
          26,
          111,
          147,
          4,
          4,
          4,
          10,
          42,
          30,
          68,
          4,
          4,
          23,
          17,
          3,
          24,
          32,
          4,
          4,
          4,
          11,
          5,
          10,
          47,
          9,
          5,
          1,
          3,
          1,
          40,
          19,
          35,
          10,
          21,
          5,
          8,
          22,
          14,
          35,
          23,
          3,
          6,
          11,
          18,
          13,
          47,
          6,
          8,
          2,
          9,
          7,
          63,
          3,
          8,
          4,
          22,
          18,
          19,
          70,
          12,
          7,
          13,
          9,
          20,
          12,
          2,
          4,
          1,
          4,
          9,
          13,
          21,
          31,
          8,
          14,
          82,
          36,
          6,
          5,
          5,
          95,
          17,
          7,
          17,
          3,
          59,
          7,
          26,
          38,
          8,
          6,
          4,
          15,
          33,
          14,
          39,
          3,
          10,
          13,
          84,
          16,
          9,
          16,
          4,
          4,
          3,
          1,
          1,
          16,
          27,
          13,
          21,
          10,
          5,
          4,
          4,
          3,
          5,
          62,
          7,
          27,
          4,
          2,
          4,
          15,
          7,
          7,
          11,
          14,
          15,
          16,
          19,
          33,
          15,
          9,
          10,
          10,
          64,
          1,
          4,
          1,
          55,
          13,
          16,
          20,
          28,
          5,
          5,
          4,
          37,
          10,
          6,
          25,
          4,
          6,
          24,
          12,
          27,
          72,
          1,
          1,
          30,
          9,
          22,
          2,
          2,
          2,
          10,
          2,
          9,
          7,
          4
         ],
         "yaxis": "y"
        },
        {
         "hovertemplate": "<b>OLS trendline</b><br>erstunterzeichner = 0.0868615 * voten + 2.53871<br>R<sup>2</sup>=0.489604<br><br>voten=%{x}<br>erstunterzeichner=%{y} <b>(trend)</b><extra></extra>",
         "legendgroup": "",
         "marker": {
          "color": "#636efa",
          "symbol": "circle"
         },
         "mode": "lines",
         "name": "",
         "showlegend": false,
         "type": "scatter",
         "x": [
          1,
          1,
          1,
          1,
          1,
          1,
          1,
          1,
          1,
          1,
          1,
          1,
          1,
          1,
          1,
          1,
          1,
          1,
          2,
          2,
          2,
          2,
          2,
          2,
          3,
          3,
          3,
          3,
          3,
          3,
          3,
          3,
          3,
          3,
          4,
          4,
          4,
          4,
          4,
          5,
          5,
          5,
          5,
          5,
          5,
          5,
          5,
          6,
          6,
          6,
          6,
          6,
          6,
          6,
          6,
          7,
          7,
          7,
          7,
          7,
          8,
          8,
          8,
          8,
          8,
          8,
          8,
          9,
          9,
          9,
          9,
          9,
          9,
          9,
          9,
          9,
          9,
          9,
          10,
          10,
          10,
          10,
          10,
          10,
          11,
          11,
          11,
          11,
          11,
          11,
          12,
          12,
          12,
          12,
          12,
          12,
          13,
          13,
          13,
          13,
          13,
          13,
          13,
          13,
          13,
          14,
          14,
          14,
          15,
          15,
          15,
          15,
          15,
          15,
          15,
          15,
          16,
          16,
          16,
          16,
          16,
          17,
          17,
          17,
          17,
          17,
          17,
          17,
          17,
          17,
          17,
          18,
          18,
          19,
          19,
          19,
          19,
          19,
          19,
          19,
          19,
          19,
          20,
          20,
          20,
          20,
          20,
          20,
          21,
          21,
          21,
          21,
          21,
          21,
          21,
          21,
          21,
          21,
          21,
          22,
          22,
          22,
          22,
          23,
          23,
          23,
          23,
          23,
          24,
          24,
          24,
          24,
          24,
          25,
          25,
          25,
          25,
          25,
          25,
          26,
          26,
          26,
          26,
          26,
          26,
          26,
          26,
          27,
          27,
          27,
          27,
          28,
          28,
          28,
          28,
          29,
          29,
          29,
          29,
          29,
          29,
          30,
          30,
          30,
          30,
          30,
          30,
          31,
          31,
          32,
          32,
          32,
          32,
          32,
          32,
          32,
          32,
          33,
          33,
          34,
          34,
          34,
          34,
          35,
          35,
          35,
          35,
          35,
          35,
          36,
          36,
          36,
          36,
          36,
          36,
          37,
          37,
          37,
          37,
          37,
          38,
          38,
          38,
          39,
          39,
          39,
          40,
          40,
          41,
          41,
          41,
          41,
          42,
          42,
          42,
          42,
          42,
          43,
          43,
          44,
          44,
          44,
          44,
          44,
          46,
          46,
          46,
          47,
          47,
          47,
          47,
          47,
          48,
          48,
          48,
          48,
          48,
          49,
          49,
          50,
          50,
          50,
          51,
          51,
          51,
          51,
          51,
          51,
          52,
          52,
          52,
          52,
          53,
          53,
          54,
          54,
          54,
          54,
          54,
          54,
          56,
          57,
          57,
          58,
          58,
          59,
          59,
          59,
          59,
          60,
          62,
          63,
          63,
          64,
          64,
          64,
          65,
          65,
          65,
          65,
          66,
          66,
          66,
          66,
          66,
          67,
          67,
          67,
          69,
          69,
          70,
          71,
          72,
          72,
          72,
          72,
          73,
          74,
          75,
          75,
          76,
          76,
          76,
          77,
          77,
          77,
          79,
          80,
          80,
          81,
          82,
          82,
          82,
          82,
          82,
          83,
          83,
          83,
          84,
          84,
          85,
          87,
          87,
          87,
          88,
          88,
          88,
          89,
          89,
          90,
          91,
          91,
          92,
          92,
          93,
          93,
          93,
          93,
          94,
          95,
          97,
          98,
          98,
          98,
          98,
          101,
          101,
          101,
          102,
          102,
          103,
          103,
          104,
          104,
          105,
          105,
          105,
          105,
          106,
          106,
          107,
          107,
          108,
          111,
          112,
          113,
          113,
          113,
          114,
          116,
          117,
          118,
          119,
          120,
          120,
          122,
          124,
          125,
          125,
          126,
          128,
          128,
          128,
          129,
          129,
          129,
          130,
          131,
          131,
          132,
          133,
          134,
          138,
          140,
          141,
          141,
          142,
          143,
          143,
          144,
          144,
          144,
          144,
          145,
          145,
          146,
          146,
          149,
          150,
          150,
          150,
          152,
          153,
          153,
          153,
          157,
          158,
          159,
          160,
          160,
          162,
          163,
          163,
          165,
          165,
          169,
          169,
          171,
          171,
          172,
          173,
          174,
          176,
          177,
          178,
          179,
          180,
          181,
          183,
          183,
          187,
          189,
          189,
          192,
          194,
          195,
          197,
          199,
          199,
          201,
          202,
          206,
          206,
          207,
          211,
          214,
          214,
          215,
          215,
          216,
          217,
          220,
          221,
          222,
          224,
          225,
          225,
          228,
          228,
          230,
          231,
          239,
          240,
          241,
          241,
          242,
          243,
          252,
          256,
          258,
          261,
          265,
          265,
          268,
          270,
          272,
          275,
          276,
          277,
          284,
          287,
          291,
          293,
          296,
          303,
          311,
          313,
          314,
          317,
          319,
          324,
          329,
          333,
          339,
          347,
          348,
          352,
          352,
          358,
          362,
          384,
          396,
          405,
          405,
          415,
          438,
          468,
          512,
          525,
          598,
          629,
          631,
          632,
          645,
          649,
          702,
          719,
          782,
          853,
          920
         ],
         "xaxis": "x",
         "y": [
          2.6255715512919773,
          2.6255715512919773,
          2.6255715512919773,
          2.6255715512919773,
          2.6255715512919773,
          2.6255715512919773,
          2.6255715512919773,
          2.6255715512919773,
          2.6255715512919773,
          2.6255715512919773,
          2.6255715512919773,
          2.6255715512919773,
          2.6255715512919773,
          2.6255715512919773,
          2.6255715512919773,
          2.6255715512919773,
          2.6255715512919773,
          2.6255715512919773,
          2.7124330254046614,
          2.7124330254046614,
          2.7124330254046614,
          2.7124330254046614,
          2.7124330254046614,
          2.7124330254046614,
          2.7992944995173454,
          2.7992944995173454,
          2.7992944995173454,
          2.7992944995173454,
          2.7992944995173454,
          2.7992944995173454,
          2.7992944995173454,
          2.7992944995173454,
          2.7992944995173454,
          2.7992944995173454,
          2.8861559736300295,
          2.8861559736300295,
          2.8861559736300295,
          2.8861559736300295,
          2.8861559736300295,
          2.9730174477427136,
          2.9730174477427136,
          2.9730174477427136,
          2.9730174477427136,
          2.9730174477427136,
          2.9730174477427136,
          2.9730174477427136,
          2.9730174477427136,
          3.0598789218553977,
          3.0598789218553977,
          3.0598789218553977,
          3.0598789218553977,
          3.0598789218553977,
          3.0598789218553977,
          3.0598789218553977,
          3.0598789218553977,
          3.1467403959680813,
          3.1467403959680813,
          3.1467403959680813,
          3.1467403959680813,
          3.1467403959680813,
          3.2336018700807654,
          3.2336018700807654,
          3.2336018700807654,
          3.2336018700807654,
          3.2336018700807654,
          3.2336018700807654,
          3.2336018700807654,
          3.3204633441934495,
          3.3204633441934495,
          3.3204633441934495,
          3.3204633441934495,
          3.3204633441934495,
          3.3204633441934495,
          3.3204633441934495,
          3.3204633441934495,
          3.3204633441934495,
          3.3204633441934495,
          3.3204633441934495,
          3.4073248183061335,
          3.4073248183061335,
          3.4073248183061335,
          3.4073248183061335,
          3.4073248183061335,
          3.4073248183061335,
          3.4941862924188176,
          3.4941862924188176,
          3.4941862924188176,
          3.4941862924188176,
          3.4941862924188176,
          3.4941862924188176,
          3.5810477665315017,
          3.5810477665315017,
          3.5810477665315017,
          3.5810477665315017,
          3.5810477665315017,
          3.5810477665315017,
          3.6679092406441858,
          3.6679092406441858,
          3.6679092406441858,
          3.6679092406441858,
          3.6679092406441858,
          3.6679092406441858,
          3.6679092406441858,
          3.6679092406441858,
          3.6679092406441858,
          3.7547707147568694,
          3.7547707147568694,
          3.7547707147568694,
          3.8416321888695535,
          3.8416321888695535,
          3.8416321888695535,
          3.8416321888695535,
          3.8416321888695535,
          3.8416321888695535,
          3.8416321888695535,
          3.8416321888695535,
          3.9284936629822376,
          3.9284936629822376,
          3.9284936629822376,
          3.9284936629822376,
          3.9284936629822376,
          4.015355137094922,
          4.015355137094922,
          4.015355137094922,
          4.015355137094922,
          4.015355137094922,
          4.015355137094922,
          4.015355137094922,
          4.015355137094922,
          4.015355137094922,
          4.015355137094922,
          4.102216611207606,
          4.102216611207606,
          4.18907808532029,
          4.18907808532029,
          4.18907808532029,
          4.18907808532029,
          4.18907808532029,
          4.18907808532029,
          4.18907808532029,
          4.18907808532029,
          4.18907808532029,
          4.275939559432974,
          4.275939559432974,
          4.275939559432974,
          4.275939559432974,
          4.275939559432974,
          4.275939559432974,
          4.362801033545658,
          4.362801033545658,
          4.362801033545658,
          4.362801033545658,
          4.362801033545658,
          4.362801033545658,
          4.362801033545658,
          4.362801033545658,
          4.362801033545658,
          4.362801033545658,
          4.362801033545658,
          4.449662507658342,
          4.449662507658342,
          4.449662507658342,
          4.449662507658342,
          4.536523981771026,
          4.536523981771026,
          4.536523981771026,
          4.536523981771026,
          4.536523981771026,
          4.62338545588371,
          4.62338545588371,
          4.62338545588371,
          4.62338545588371,
          4.62338545588371,
          4.710246929996394,
          4.710246929996394,
          4.710246929996394,
          4.710246929996394,
          4.710246929996394,
          4.710246929996394,
          4.797108404109078,
          4.797108404109078,
          4.797108404109078,
          4.797108404109078,
          4.797108404109078,
          4.797108404109078,
          4.797108404109078,
          4.797108404109078,
          4.883969878221762,
          4.883969878221762,
          4.883969878221762,
          4.883969878221762,
          4.9708313523344465,
          4.9708313523344465,
          4.9708313523344465,
          4.9708313523344465,
          5.057692826447131,
          5.057692826447131,
          5.057692826447131,
          5.057692826447131,
          5.057692826447131,
          5.057692826447131,
          5.144554300559815,
          5.144554300559815,
          5.144554300559815,
          5.144554300559815,
          5.144554300559815,
          5.144554300559815,
          5.231415774672499,
          5.231415774672499,
          5.318277248785183,
          5.318277248785183,
          5.318277248785183,
          5.318277248785183,
          5.318277248785183,
          5.318277248785183,
          5.318277248785183,
          5.318277248785183,
          5.405138722897867,
          5.405138722897867,
          5.492000197010551,
          5.492000197010551,
          5.492000197010551,
          5.492000197010551,
          5.578861671123235,
          5.578861671123235,
          5.578861671123235,
          5.578861671123235,
          5.578861671123235,
          5.578861671123235,
          5.665723145235919,
          5.665723145235919,
          5.665723145235919,
          5.665723145235919,
          5.665723145235919,
          5.665723145235919,
          5.752584619348603,
          5.752584619348603,
          5.752584619348603,
          5.752584619348603,
          5.752584619348603,
          5.839446093461286,
          5.839446093461286,
          5.839446093461286,
          5.9263075675739705,
          5.9263075675739705,
          5.9263075675739705,
          6.013169041686655,
          6.013169041686655,
          6.100030515799339,
          6.100030515799339,
          6.100030515799339,
          6.100030515799339,
          6.186891989912023,
          6.186891989912023,
          6.186891989912023,
          6.186891989912023,
          6.186891989912023,
          6.273753464024707,
          6.273753464024707,
          6.360614938137391,
          6.360614938137391,
          6.360614938137391,
          6.360614938137391,
          6.360614938137391,
          6.534337886362759,
          6.534337886362759,
          6.534337886362759,
          6.621199360475443,
          6.621199360475443,
          6.621199360475443,
          6.621199360475443,
          6.621199360475443,
          6.708060834588127,
          6.708060834588127,
          6.708060834588127,
          6.708060834588127,
          6.708060834588127,
          6.794922308700811,
          6.794922308700811,
          6.881783782813495,
          6.881783782813495,
          6.881783782813495,
          6.968645256926179,
          6.968645256926179,
          6.968645256926179,
          6.968645256926179,
          6.968645256926179,
          6.968645256926179,
          7.0555067310388635,
          7.0555067310388635,
          7.0555067310388635,
          7.0555067310388635,
          7.142368205151548,
          7.142368205151548,
          7.229229679264231,
          7.229229679264231,
          7.229229679264231,
          7.229229679264231,
          7.229229679264231,
          7.229229679264231,
          7.402952627489599,
          7.489814101602283,
          7.489814101602283,
          7.576675575714967,
          7.576675575714967,
          7.663537049827651,
          7.663537049827651,
          7.663537049827651,
          7.663537049827651,
          7.750398523940335,
          7.924121472165703,
          8.010982946278387,
          8.010982946278387,
          8.097844420391072,
          8.097844420391072,
          8.097844420391072,
          8.184705894503756,
          8.184705894503756,
          8.184705894503756,
          8.184705894503756,
          8.27156736861644,
          8.27156736861644,
          8.27156736861644,
          8.27156736861644,
          8.27156736861644,
          8.358428842729124,
          8.358428842729124,
          8.358428842729124,
          8.532151790954492,
          8.532151790954492,
          8.619013265067176,
          8.70587473917986,
          8.792736213292544,
          8.792736213292544,
          8.792736213292544,
          8.792736213292544,
          8.879597687405228,
          8.966459161517912,
          9.053320635630595,
          9.053320635630595,
          9.140182109743279,
          9.140182109743279,
          9.140182109743279,
          9.227043583855963,
          9.227043583855963,
          9.227043583855963,
          9.400766532081331,
          9.487628006194015,
          9.487628006194015,
          9.574489480306699,
          9.661350954419383,
          9.661350954419383,
          9.661350954419383,
          9.661350954419383,
          9.661350954419383,
          9.748212428532067,
          9.748212428532067,
          9.748212428532067,
          9.835073902644751,
          9.835073902644751,
          9.921935376757435,
          10.095658324982804,
          10.095658324982804,
          10.095658324982804,
          10.182519799095488,
          10.182519799095488,
          10.182519799095488,
          10.269381273208172,
          10.269381273208172,
          10.356242747320856,
          10.44310422143354,
          10.44310422143354,
          10.529965695546224,
          10.529965695546224,
          10.616827169658908,
          10.616827169658908,
          10.616827169658908,
          10.616827169658908,
          10.703688643771592,
          10.790550117884276,
          10.964273066109644,
          11.051134540222328,
          11.051134540222328,
          11.051134540222328,
          11.051134540222328,
          11.31171896256038,
          11.31171896256038,
          11.31171896256038,
          11.398580436673065,
          11.398580436673065,
          11.485441910785749,
          11.485441910785749,
          11.572303384898433,
          11.572303384898433,
          11.659164859011117,
          11.659164859011117,
          11.659164859011117,
          11.659164859011117,
          11.746026333123801,
          11.746026333123801,
          11.832887807236485,
          11.832887807236485,
          11.91974928134917,
          12.180333703687221,
          12.267195177799906,
          12.35405665191259,
          12.35405665191259,
          12.35405665191259,
          12.440918126025274,
          12.614641074250642,
          12.701502548363326,
          12.78836402247601,
          12.875225496588694,
          12.962086970701378,
          12.962086970701378,
          13.135809918926746,
          13.309532867152114,
          13.396394341264799,
          13.396394341264799,
          13.483255815377483,
          13.65697876360285,
          13.65697876360285,
          13.65697876360285,
          13.743840237715535,
          13.743840237715535,
          13.743840237715535,
          13.830701711828219,
          13.917563185940903,
          13.917563185940903,
          14.004424660053587,
          14.091286134166271,
          14.178147608278955,
          14.525593504729692,
          14.69931645295506,
          14.786177927067744,
          14.786177927067744,
          14.873039401180428,
          14.959900875293112,
          14.959900875293112,
          15.046762349405796,
          15.046762349405796,
          15.046762349405796,
          15.046762349405796,
          15.13362382351848,
          15.13362382351848,
          15.220485297631164,
          15.220485297631164,
          15.481069719969216,
          15.567931194081897,
          15.567931194081897,
          15.567931194081897,
          15.741654142307265,
          15.82851561641995,
          15.82851561641995,
          15.82851561641995,
          16.175961512870686,
          16.26282298698337,
          16.349684461096054,
          16.436545935208738,
          16.436545935208738,
          16.610268883434106,
          16.69713035754679,
          16.69713035754679,
          16.870853305772158,
          16.870853305772158,
          17.218299202222894,
          17.218299202222894,
          17.392022150448263,
          17.392022150448263,
          17.478883624560947,
          17.56574509867363,
          17.652606572786315,
          17.826329521011683,
          17.913190995124367,
          18.00005246923705,
          18.086913943349735,
          18.17377541746242,
          18.260636891575103,
          18.43435983980047,
          18.43435983980047,
          18.781805736251208,
          18.955528684476576,
          18.955528684476576,
          19.21611310681463,
          19.389836055039996,
          19.47669752915268,
          19.65042047737805,
          19.824143425603417,
          19.824143425603417,
          19.997866373828785,
          20.08472784794147,
          20.432173744392205,
          20.432173744392205,
          20.51903521850489,
          20.866481114955626,
          21.127065537293674,
          21.127065537293674,
          21.21392701140636,
          21.21392701140636,
          21.300788485519043,
          21.387649959631727,
          21.64823438196978,
          21.735095856082463,
          21.821957330195147,
          21.995680278420515,
          22.0825417525332,
          22.0825417525332,
          22.34312617487125,
          22.34312617487125,
          22.51684912309662,
          22.603710597209304,
          23.298602390110776,
          23.38546386422346,
          23.472325338336145,
          23.472325338336145,
          23.55918681244883,
          23.646048286561513,
          24.42780155357567,
          24.775247450026406,
          24.948970398251774,
          25.209554820589826,
          25.557000717040562,
          25.557000717040562,
          25.817585139378615,
          25.991308087603983,
          26.16503103582935,
          26.425615458167403,
          26.512476932280087,
          26.59933840639277,
          27.20736872518156,
          27.467953147519612,
          27.81539904397035,
          27.989121992195717,
          28.24970641453377,
          28.857736733322554,
          29.552628526224026,
          29.726351474449395,
          29.81321294856208,
          30.07379737090013,
          30.2475203191255,
          30.68182768968892,
          31.11613506025234,
          31.463580956703076,
          31.98474980137918,
          32.67964159428065,
          32.76650306839334,
          33.11394896484408,
          33.11394896484408,
          33.63511780952018,
          33.98256370597092,
          35.89351613644997,
          36.93585382580218,
          37.71760709281633,
          37.71760709281633,
          38.58622183394317,
          40.5840357385349,
          43.18987996191542,
          47.01178482287352,
          48.14098398633841,
          54.481871596564346,
          57.174577294057556,
          57.348300242282924,
          57.435161716395605,
          58.5643608798605,
          58.91180677631124,
          63.51546490428349,
          64.99210996419912,
          70.4643828332982,
          76.63154749529878,
          82.4512662608486
         ],
         "yaxis": "y"
        }
       ],
       "layout": {
        "height": 800,
        "legend": {
         "tracegroupgap": 0
        },
        "margin": {
         "t": 60
        },
        "template": {
         "data": {
          "bar": [
           {
            "error_x": {
             "color": "#2a3f5f"
            },
            "error_y": {
             "color": "#2a3f5f"
            },
            "marker": {
             "line": {
              "color": "#E5ECF6",
              "width": 0.5
             },
             "pattern": {
              "fillmode": "overlay",
              "size": 10,
              "solidity": 0.2
             }
            },
            "type": "bar"
           }
          ],
          "barpolar": [
           {
            "marker": {
             "line": {
              "color": "#E5ECF6",
              "width": 0.5
             },
             "pattern": {
              "fillmode": "overlay",
              "size": 10,
              "solidity": 0.2
             }
            },
            "type": "barpolar"
           }
          ],
          "carpet": [
           {
            "aaxis": {
             "endlinecolor": "#2a3f5f",
             "gridcolor": "white",
             "linecolor": "white",
             "minorgridcolor": "white",
             "startlinecolor": "#2a3f5f"
            },
            "baxis": {
             "endlinecolor": "#2a3f5f",
             "gridcolor": "white",
             "linecolor": "white",
             "minorgridcolor": "white",
             "startlinecolor": "#2a3f5f"
            },
            "type": "carpet"
           }
          ],
          "choropleth": [
           {
            "colorbar": {
             "outlinewidth": 0,
             "ticks": ""
            },
            "type": "choropleth"
           }
          ],
          "contour": [
           {
            "colorbar": {
             "outlinewidth": 0,
             "ticks": ""
            },
            "colorscale": [
             [
              0,
              "#0d0887"
             ],
             [
              0.1111111111111111,
              "#46039f"
             ],
             [
              0.2222222222222222,
              "#7201a8"
             ],
             [
              0.3333333333333333,
              "#9c179e"
             ],
             [
              0.4444444444444444,
              "#bd3786"
             ],
             [
              0.5555555555555556,
              "#d8576b"
             ],
             [
              0.6666666666666666,
              "#ed7953"
             ],
             [
              0.7777777777777778,
              "#fb9f3a"
             ],
             [
              0.8888888888888888,
              "#fdca26"
             ],
             [
              1,
              "#f0f921"
             ]
            ],
            "type": "contour"
           }
          ],
          "contourcarpet": [
           {
            "colorbar": {
             "outlinewidth": 0,
             "ticks": ""
            },
            "type": "contourcarpet"
           }
          ],
          "heatmap": [
           {
            "colorbar": {
             "outlinewidth": 0,
             "ticks": ""
            },
            "colorscale": [
             [
              0,
              "#0d0887"
             ],
             [
              0.1111111111111111,
              "#46039f"
             ],
             [
              0.2222222222222222,
              "#7201a8"
             ],
             [
              0.3333333333333333,
              "#9c179e"
             ],
             [
              0.4444444444444444,
              "#bd3786"
             ],
             [
              0.5555555555555556,
              "#d8576b"
             ],
             [
              0.6666666666666666,
              "#ed7953"
             ],
             [
              0.7777777777777778,
              "#fb9f3a"
             ],
             [
              0.8888888888888888,
              "#fdca26"
             ],
             [
              1,
              "#f0f921"
             ]
            ],
            "type": "heatmap"
           }
          ],
          "heatmapgl": [
           {
            "colorbar": {
             "outlinewidth": 0,
             "ticks": ""
            },
            "colorscale": [
             [
              0,
              "#0d0887"
             ],
             [
              0.1111111111111111,
              "#46039f"
             ],
             [
              0.2222222222222222,
              "#7201a8"
             ],
             [
              0.3333333333333333,
              "#9c179e"
             ],
             [
              0.4444444444444444,
              "#bd3786"
             ],
             [
              0.5555555555555556,
              "#d8576b"
             ],
             [
              0.6666666666666666,
              "#ed7953"
             ],
             [
              0.7777777777777778,
              "#fb9f3a"
             ],
             [
              0.8888888888888888,
              "#fdca26"
             ],
             [
              1,
              "#f0f921"
             ]
            ],
            "type": "heatmapgl"
           }
          ],
          "histogram": [
           {
            "marker": {
             "pattern": {
              "fillmode": "overlay",
              "size": 10,
              "solidity": 0.2
             }
            },
            "type": "histogram"
           }
          ],
          "histogram2d": [
           {
            "colorbar": {
             "outlinewidth": 0,
             "ticks": ""
            },
            "colorscale": [
             [
              0,
              "#0d0887"
             ],
             [
              0.1111111111111111,
              "#46039f"
             ],
             [
              0.2222222222222222,
              "#7201a8"
             ],
             [
              0.3333333333333333,
              "#9c179e"
             ],
             [
              0.4444444444444444,
              "#bd3786"
             ],
             [
              0.5555555555555556,
              "#d8576b"
             ],
             [
              0.6666666666666666,
              "#ed7953"
             ],
             [
              0.7777777777777778,
              "#fb9f3a"
             ],
             [
              0.8888888888888888,
              "#fdca26"
             ],
             [
              1,
              "#f0f921"
             ]
            ],
            "type": "histogram2d"
           }
          ],
          "histogram2dcontour": [
           {
            "colorbar": {
             "outlinewidth": 0,
             "ticks": ""
            },
            "colorscale": [
             [
              0,
              "#0d0887"
             ],
             [
              0.1111111111111111,
              "#46039f"
             ],
             [
              0.2222222222222222,
              "#7201a8"
             ],
             [
              0.3333333333333333,
              "#9c179e"
             ],
             [
              0.4444444444444444,
              "#bd3786"
             ],
             [
              0.5555555555555556,
              "#d8576b"
             ],
             [
              0.6666666666666666,
              "#ed7953"
             ],
             [
              0.7777777777777778,
              "#fb9f3a"
             ],
             [
              0.8888888888888888,
              "#fdca26"
             ],
             [
              1,
              "#f0f921"
             ]
            ],
            "type": "histogram2dcontour"
           }
          ],
          "mesh3d": [
           {
            "colorbar": {
             "outlinewidth": 0,
             "ticks": ""
            },
            "type": "mesh3d"
           }
          ],
          "parcoords": [
           {
            "line": {
             "colorbar": {
              "outlinewidth": 0,
              "ticks": ""
             }
            },
            "type": "parcoords"
           }
          ],
          "pie": [
           {
            "automargin": true,
            "type": "pie"
           }
          ],
          "scatter": [
           {
            "marker": {
             "colorbar": {
              "outlinewidth": 0,
              "ticks": ""
             }
            },
            "type": "scatter"
           }
          ],
          "scatter3d": [
           {
            "line": {
             "colorbar": {
              "outlinewidth": 0,
              "ticks": ""
             }
            },
            "marker": {
             "colorbar": {
              "outlinewidth": 0,
              "ticks": ""
             }
            },
            "type": "scatter3d"
           }
          ],
          "scattercarpet": [
           {
            "marker": {
             "colorbar": {
              "outlinewidth": 0,
              "ticks": ""
             }
            },
            "type": "scattercarpet"
           }
          ],
          "scattergeo": [
           {
            "marker": {
             "colorbar": {
              "outlinewidth": 0,
              "ticks": ""
             }
            },
            "type": "scattergeo"
           }
          ],
          "scattergl": [
           {
            "marker": {
             "colorbar": {
              "outlinewidth": 0,
              "ticks": ""
             }
            },
            "type": "scattergl"
           }
          ],
          "scattermapbox": [
           {
            "marker": {
             "colorbar": {
              "outlinewidth": 0,
              "ticks": ""
             }
            },
            "type": "scattermapbox"
           }
          ],
          "scatterpolar": [
           {
            "marker": {
             "colorbar": {
              "outlinewidth": 0,
              "ticks": ""
             }
            },
            "type": "scatterpolar"
           }
          ],
          "scatterpolargl": [
           {
            "marker": {
             "colorbar": {
              "outlinewidth": 0,
              "ticks": ""
             }
            },
            "type": "scatterpolargl"
           }
          ],
          "scatterternary": [
           {
            "marker": {
             "colorbar": {
              "outlinewidth": 0,
              "ticks": ""
             }
            },
            "type": "scatterternary"
           }
          ],
          "surface": [
           {
            "colorbar": {
             "outlinewidth": 0,
             "ticks": ""
            },
            "colorscale": [
             [
              0,
              "#0d0887"
             ],
             [
              0.1111111111111111,
              "#46039f"
             ],
             [
              0.2222222222222222,
              "#7201a8"
             ],
             [
              0.3333333333333333,
              "#9c179e"
             ],
             [
              0.4444444444444444,
              "#bd3786"
             ],
             [
              0.5555555555555556,
              "#d8576b"
             ],
             [
              0.6666666666666666,
              "#ed7953"
             ],
             [
              0.7777777777777778,
              "#fb9f3a"
             ],
             [
              0.8888888888888888,
              "#fdca26"
             ],
             [
              1,
              "#f0f921"
             ]
            ],
            "type": "surface"
           }
          ],
          "table": [
           {
            "cells": {
             "fill": {
              "color": "#EBF0F8"
             },
             "line": {
              "color": "white"
             }
            },
            "header": {
             "fill": {
              "color": "#C8D4E3"
             },
             "line": {
              "color": "white"
             }
            },
            "type": "table"
           }
          ]
         },
         "layout": {
          "annotationdefaults": {
           "arrowcolor": "#2a3f5f",
           "arrowhead": 0,
           "arrowwidth": 1
          },
          "autotypenumbers": "strict",
          "coloraxis": {
           "colorbar": {
            "outlinewidth": 0,
            "ticks": ""
           }
          },
          "colorscale": {
           "diverging": [
            [
             0,
             "#8e0152"
            ],
            [
             0.1,
             "#c51b7d"
            ],
            [
             0.2,
             "#de77ae"
            ],
            [
             0.3,
             "#f1b6da"
            ],
            [
             0.4,
             "#fde0ef"
            ],
            [
             0.5,
             "#f7f7f7"
            ],
            [
             0.6,
             "#e6f5d0"
            ],
            [
             0.7,
             "#b8e186"
            ],
            [
             0.8,
             "#7fbc41"
            ],
            [
             0.9,
             "#4d9221"
            ],
            [
             1,
             "#276419"
            ]
           ],
           "sequential": [
            [
             0,
             "#0d0887"
            ],
            [
             0.1111111111111111,
             "#46039f"
            ],
            [
             0.2222222222222222,
             "#7201a8"
            ],
            [
             0.3333333333333333,
             "#9c179e"
            ],
            [
             0.4444444444444444,
             "#bd3786"
            ],
            [
             0.5555555555555556,
             "#d8576b"
            ],
            [
             0.6666666666666666,
             "#ed7953"
            ],
            [
             0.7777777777777778,
             "#fb9f3a"
            ],
            [
             0.8888888888888888,
             "#fdca26"
            ],
            [
             1,
             "#f0f921"
            ]
           ],
           "sequentialminus": [
            [
             0,
             "#0d0887"
            ],
            [
             0.1111111111111111,
             "#46039f"
            ],
            [
             0.2222222222222222,
             "#7201a8"
            ],
            [
             0.3333333333333333,
             "#9c179e"
            ],
            [
             0.4444444444444444,
             "#bd3786"
            ],
            [
             0.5555555555555556,
             "#d8576b"
            ],
            [
             0.6666666666666666,
             "#ed7953"
            ],
            [
             0.7777777777777778,
             "#fb9f3a"
            ],
            [
             0.8888888888888888,
             "#fdca26"
            ],
            [
             1,
             "#f0f921"
            ]
           ]
          },
          "colorway": [
           "#636efa",
           "#EF553B",
           "#00cc96",
           "#ab63fa",
           "#FFA15A",
           "#19d3f3",
           "#FF6692",
           "#B6E880",
           "#FF97FF",
           "#FECB52"
          ],
          "font": {
           "color": "#2a3f5f"
          },
          "geo": {
           "bgcolor": "white",
           "lakecolor": "white",
           "landcolor": "#E5ECF6",
           "showlakes": true,
           "showland": true,
           "subunitcolor": "white"
          },
          "hoverlabel": {
           "align": "left"
          },
          "hovermode": "closest",
          "mapbox": {
           "style": "light"
          },
          "paper_bgcolor": "white",
          "plot_bgcolor": "#E5ECF6",
          "polar": {
           "angularaxis": {
            "gridcolor": "white",
            "linecolor": "white",
            "ticks": ""
           },
           "bgcolor": "#E5ECF6",
           "radialaxis": {
            "gridcolor": "white",
            "linecolor": "white",
            "ticks": ""
           }
          },
          "scene": {
           "xaxis": {
            "backgroundcolor": "#E5ECF6",
            "gridcolor": "white",
            "gridwidth": 2,
            "linecolor": "white",
            "showbackground": true,
            "ticks": "",
            "zerolinecolor": "white"
           },
           "yaxis": {
            "backgroundcolor": "#E5ECF6",
            "gridcolor": "white",
            "gridwidth": 2,
            "linecolor": "white",
            "showbackground": true,
            "ticks": "",
            "zerolinecolor": "white"
           },
           "zaxis": {
            "backgroundcolor": "#E5ECF6",
            "gridcolor": "white",
            "gridwidth": 2,
            "linecolor": "white",
            "showbackground": true,
            "ticks": "",
            "zerolinecolor": "white"
           }
          },
          "shapedefaults": {
           "line": {
            "color": "#2a3f5f"
           }
          },
          "ternary": {
           "aaxis": {
            "gridcolor": "white",
            "linecolor": "white",
            "ticks": ""
           },
           "baxis": {
            "gridcolor": "white",
            "linecolor": "white",
            "ticks": ""
           },
           "bgcolor": "#E5ECF6",
           "caxis": {
            "gridcolor": "white",
            "linecolor": "white",
            "ticks": ""
           }
          },
          "title": {
           "x": 0.05
          },
          "xaxis": {
           "automargin": true,
           "gridcolor": "white",
           "linecolor": "white",
           "ticks": "",
           "title": {
            "standoff": 15
           },
           "zerolinecolor": "white",
           "zerolinewidth": 2
          },
          "yaxis": {
           "automargin": true,
           "gridcolor": "white",
           "linecolor": "white",
           "ticks": "",
           "title": {
            "standoff": 15
           },
           "zerolinecolor": "white",
           "zerolinewidth": 2
          }
         }
        },
        "width": 800,
        "xaxis": {
         "anchor": "y",
         "domain": [
          0,
          1
         ],
         "title": {
          "text": "voten"
         }
        },
        "yaxis": {
         "anchor": "x",
         "domain": [
          0,
          1
         ],
         "title": {
          "text": "erstunterzeichner"
         }
        }
       }
      }
     },
     "metadata": {},
     "output_type": "display_data"
    }
   ],
   "source": [
    "# Group Geschaeft\n",
    "df_geschaeft = df_geschaeft_raw.groupby('_name').agg(\n",
    "    erstunterzeichner = ('titel', 'count'),\n",
    "    partei = ('erstunterzeichnerpartei', 'first'),\n",
    "    letztes_geschaeft = ('eingereicht', 'last')\n",
    ")\n",
    "\n",
    "# Drop Präsident in Votum\n",
    "df_votum = df_votum_raw[df_votum_raw.funktion.isna()]\n",
    "df_votum = df_votum.groupby('_name').agg(\n",
    "    voten = ('session', 'count'),\n",
    "    letztes_votum = ('sitzung_date', 'last')\n",
    ")\n",
    "\n",
    "# Join!\n",
    "df = df_votum.join(df_geschaeft)\n",
    "\n",
    "#Fillna\n",
    "df = df.fillna(0)\n",
    "\n",
    "# Calc Abweichung\n",
    "df['factor'] = 0\n",
    "\n",
    "df.loc[df.erstunterzeichner > 0, 'factor'] = round(df['erstunterzeichner'] / df['voten'], 3)\n",
    "df = df.sort_values('factor')\n",
    "\n",
    "#df = df.reset_index()\n",
    "df.reset_index().plot.scatter(x = 'voten', y = 'erstunterzeichner', hover_data = ['_name', 'partei'], trendline=\"ols\", width = 800, height = 800)\n"
   ]
  },
  {
   "cell_type": "code",
   "execution_count": null,
   "metadata": {},
   "outputs": [],
   "source": []
  }
 ],
 "metadata": {
  "interpreter": {
   "hash": "0d89f51c21e61334fa582c5b112d16d67677dd53345d4e7223b029a81b433160"
  },
  "kernelspec": {
   "display_name": "Python 3.9.0 64-bit ('env': venv)",
   "language": "python",
   "name": "python3"
  },
  "language_info": {
   "codemirror_mode": {
    "name": "ipython",
    "version": 3
   },
   "file_extension": ".py",
   "mimetype": "text/x-python",
   "name": "python",
   "nbconvert_exporter": "python",
   "pygments_lexer": "ipython3",
   "version": "3.9.0"
  },
  "orig_nbformat": 4
 },
 "nbformat": 4,
 "nbformat_minor": 2
}
