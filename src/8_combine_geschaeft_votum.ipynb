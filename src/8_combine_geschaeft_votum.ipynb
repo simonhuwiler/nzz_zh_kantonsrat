{
 "cells": [
  {
   "cell_type": "markdown",
   "metadata": {},
   "source": [
    "# Geschäfte vs Votum"
   ]
  },
  {
   "cell_type": "code",
   "execution_count": 1,
   "metadata": {},
   "outputs": [],
   "source": [
    "from pathlib import Path\n",
    "import pandas as pd\n",
    "import datetime\n",
    "import utils\n",
    "import json\n",
    "import numpy as np\n",
    "pd.options.plotting.backend = \"plotly\""
   ]
  },
  {
   "cell_type": "markdown",
   "metadata": {},
   "source": [
    "## Load Data"
   ]
  },
  {
   "cell_type": "markdown",
   "metadata": {},
   "source": [
    "### Load Kantonsrat History"
   ]
  },
  {
   "cell_type": "code",
   "execution_count": 2,
   "metadata": {},
   "outputs": [],
   "source": [
    "# Load Kantonsrats-member-history\n",
    "with open(Path('../export/mitglieder.json'), encoding='utf-8') as f:\n",
    "    kantonsrat = json.load(f)\n",
    "\n",
    "# Typecast\n",
    "utils.kantonsrat_to_datetime(kantonsrat)"
   ]
  },
  {
   "cell_type": "markdown",
   "metadata": {},
   "source": [
    "### Load Geschäfte"
   ]
  },
  {
   "cell_type": "code",
   "execution_count": 3,
   "metadata": {},
   "outputs": [],
   "source": [
    "df_raw = pd.read_csv(Path('../export/geschaefte.csv'))\n",
    "\n",
    "# Only Members\n",
    "df_raw = df_raw[df_raw.erstunterzeichneristkantonsrat == True]\n",
    "\n",
    "# To Datetime\n",
    "df_raw['start'] = pd.to_datetime(df_raw['start'])\n",
    "\n",
    "# Calculate Amtsjahr (Amtsjahr 2020 = 1.5.2020 - 30.4.2021)\n",
    "df_raw['year'] = df_raw['start'].dt.year\n",
    "df_raw['month'] = df_raw['start'].dt.month\n",
    "df_raw['session'] = df_raw.apply(lambda row: row['year'] if row['month'] > 5 else row['year'] - 1, axis=1)\n",
    "\n",
    "# Concat Name for convenience reasons\n",
    "df_raw['_name'] = df_raw.apply(lambda row: \"%s %s\" % (row['erstunterzeichnervorname'], row['erstunterzeichnername']), axis = 1)\n",
    "\n",
    "df_geschaeft_raw = df_raw.copy()"
   ]
  },
  {
   "cell_type": "markdown",
   "metadata": {},
   "source": [
    "### Load Voten"
   ]
  },
  {
   "cell_type": "code",
   "execution_count": 4,
   "metadata": {},
   "outputs": [],
   "source": [
    "df_votum_raw = pd.concat([\n",
    "    pd.read_csv(Path('../export/votum/votum_0.csv')),\n",
    "    pd.read_csv(Path('../export/votum/votum_1.csv'))\n",
    "])\n",
    "\n",
    "# Remove non members (mostly former members who are now in the Regierungsrat)\n",
    "df_votum_raw = df_votum_raw[df_votum_raw.ismember == True]\n",
    "\n",
    "# Typecast\n",
    "df_votum_raw['sitzung_date'] = pd.to_datetime(df_votum_raw['sitzung_date'])\n",
    "\n",
    "# Remove empty texts\n",
    "df_votum_raw = df_votum_raw[df_votum_raw.text.notna()]\n",
    "\n",
    "# Concat Name for convenience reasons\n",
    "df_votum_raw['_name'] = df_votum_raw.apply(lambda row: \"%s %s\" % (row['vorname'], row['name']), axis = 1)\n",
    "\n",
    "# Calculate Amtsjahr (Amtsjahr 2020 = 1.5.2020 - 30.4.2021)\n",
    "df_votum_raw['year'] = df_votum_raw['sitzung_date'].dt.year\n",
    "df_votum_raw['month'] = df_votum_raw['sitzung_date'].dt.month\n",
    "df_votum_raw['session'] = df_votum_raw.apply(lambda row: row['year'] if row['month'] > 5 else row['year'] - 1, axis=1)"
   ]
  },
  {
   "cell_type": "code",
   "execution_count": 5,
   "metadata": {},
   "outputs": [],
   "source": [
    "# Cut same date\n",
    "d = '2002-01-07'\n",
    "df_votum_raw = df_votum_raw[df_votum_raw.sitzung_date >= d]\n",
    "df_geschaeft_raw = df_geschaeft_raw[df_geschaeft_raw.eingereicht >= d]"
   ]
  },
  {
   "cell_type": "markdown",
   "metadata": {},
   "source": [
    "## Calc Difference between Votum and Geschaeft"
   ]
  },
  {
   "cell_type": "code",
   "execution_count": 6,
   "metadata": {},
   "outputs": [
    {
     "data": {
      "application/vnd.plotly.v1+json": {
       "config": {
        "plotlyServerURL": "https://plot.ly"
       },
       "data": [
        {
         "customdata": [
          [
           "Markus Hutter",
           0
          ],
          [
           "Isabel Garcia",
           0
          ],
          [
           "Ivo Koller",
           0
          ],
          [
           "Jeanine Kosch-Vernier",
           0
          ],
          [
           "Jürg Altwegg",
           0
          ],
          [
           "Jürg Leibundgut",
           0
          ],
          [
           "Karl Zweifel",
           0
          ],
          [
           "Katrin Jaggi",
           0
          ],
          [
           "Klara Reber",
           0
          ],
          [
           "Irene Minder-Roost",
           0
          ],
          [
           "Kurt Krebs",
           0
          ],
          [
           "Beatrix Stüssi",
           0
          ],
          [
           "Beatrice Krebs",
           0
          ],
          [
           "Maleica-Monique Landolt",
           0
          ],
          [
           "Maria Styger-Bosshard",
           0
          ],
          [
           "Markus Hess",
           0
          ],
          [
           "Markus Mendelin",
           0
          ],
          [
           "Martin Bornhauser",
           0
          ],
          [
           "Martin Romer",
           0
          ],
          [
           "Lothar Ziörjen",
           0
          ],
          [
           "Matthias Kestenholz",
           0
          ],
          [
           "Hansueli Sallenbach",
           0
          ],
          [
           "Hans-Ulrich Brechbühl",
           0
          ],
          [
           "Daniel Schwab",
           0
          ],
          [
           "Denise Wahlen",
           0
          ],
          [
           "Dominique Feuillet",
           0
          ],
          [
           "Dorothee Jaun",
           0
          ],
          [
           "Erich Hollenstein",
           0
          ],
          [
           "Ernst Knellwolf",
           0
          ],
          [
           "Ernst Schibli",
           0
          ],
          [
           "Felix Müller",
           0
          ],
          [
           "Hanspeter Schneebeli",
           0
          ],
          [
           "Fredi Binder",
           0
          ],
          [
           "Georg Schellenberg",
           0
          ],
          [
           "Hans Badertscher",
           0
          ],
          [
           "Hans Egloff",
           0
          ],
          [
           "Christian Achermann",
           0
          ],
          [
           "Hans Meier",
           0
          ],
          [
           "Hans Wild",
           0
          ],
          [
           "Hans-Peter Züblin",
           0
          ],
          [
           "Hans-Rudolf Knöpfli",
           0
          ],
          [
           "Fredy Ganz",
           0
          ],
          [
           "Meret Schneider",
           0
          ],
          [
           "Corina Gredig",
           0
          ],
          [
           "Nathalie Rickli",
           0
          ],
          [
           "Vinzenz Bütler",
           0
          ],
          [
           "Thomas Müller",
           0
          ],
          [
           "Rolf Steiner",
           0
          ],
          [
           "Verena Albrecht",
           0
          ],
          [
           "Sebastian Brändli",
           0
          ],
          [
           "Monica Sanesi Muri",
           0
          ],
          [
           "Robert Chanson",
           0
          ],
          [
           "Urs Glättli",
           0
          ],
          [
           "Susanne Bernasconi-Aeppli",
           0
          ],
          [
           "Andreas Honegger",
           0
          ],
          [
           "Ueli Kübler",
           0
          ],
          [
           "Thomas Dähler",
           0
          ],
          [
           "Thomas Isler",
           0
          ],
          [
           "Thomas Kübler",
           0
          ],
          [
           "Ulrich Isler",
           0
          ],
          [
           "Renate Dürr",
           0
          ],
          [
           "Rolf Robert Zimmermann",
           0
          ],
          [
           "Toni W. Püntener",
           0
          ],
          [
           "Regula Thalmann-Meyer",
           0
          ],
          [
           "Regula Kuhn",
           0
          ],
          [
           "Walter Langhard",
           0
          ],
          [
           "Regina Bapst-Herzog",
           0
          ],
          [
           "Armin Heinimann",
           0
          ],
          [
           "Adrian Bucher",
           0
          ],
          [
           "Peter F. Bielmann",
           0
          ],
          [
           "Peter Meier",
           0
          ],
          [
           "Pierre Rappazzo",
           0
          ],
          [
           "Werner Honegger",
           0
          ],
          [
           "Peter Uhlmann",
           0
          ],
          [
           "Urs Lauffer",
           "FDP"
          ],
          [
           "Heinz Jauch",
           "EVP"
          ],
          [
           "Valentin Landmann",
           "SVP"
          ],
          [
           "Astrid Gut",
           "BDP"
          ],
          [
           "Theo Toggweiler",
           "SVP"
          ],
          [
           "Ernst Brunner",
           "SVP"
          ],
          [
           "Ruth Ackermann",
           "Die Mitte"
          ],
          [
           "Martin Bäumle",
           "Grüne"
          ],
          [
           "Ruedi Hatt",
           "FDP"
          ],
          [
           "Silvia Kamm",
           "Grüne"
          ],
          [
           "Markus Bärtschiger",
           "SP"
          ],
          [
           "Yvonne Bürgin-Hartmann",
           "Die Mitte"
          ],
          [
           "Willy Haderer",
           "SVP"
          ],
          [
           "Yvonne Eugster",
           "Die Mitte"
          ],
          [
           "Hans-Ueli Vogt",
           "SVP"
          ],
          [
           "Benno Scherrer Moser",
           "GLP"
          ],
          [
           "Martin Mossdorf",
           "FDP"
          ],
          [
           "Oskar Bachmann",
           "SVP"
          ],
          [
           "Angelo Barrile",
           "SP"
          ],
          [
           "Adrian Hug",
           "Die Mitte"
          ],
          [
           "Hansruedi Hartmann",
           "FDP"
          ],
          [
           "Jakob Schneebeli",
           "SVP"
          ],
          [
           "Roman Schmid",
           "SVP"
          ],
          [
           "Laura Huonker",
           "AL"
          ],
          [
           "Lucius Dürr",
           "Die Mitte"
          ],
          [
           "Daniel Hodel",
           "GLP"
          ],
          [
           "Bruno Fenner",
           "BDP"
          ],
          [
           "Esther Arnet",
           "SP"
          ],
          [
           "Ernst Stocker-Rusterholz",
           "SVP"
          ],
          [
           "Selma L'Orange Seigo",
           "Grüne"
          ],
          [
           "Kurt Schreiber",
           "EVP"
          ],
          [
           "Beat Monhart",
           "EVP"
          ],
          [
           "Blanca Ramer-Stäubli",
           "Die Mitte"
          ],
          [
           "Thomas Weibel",
           "GLP"
          ],
          [
           "Erich Bollinger",
           "SVP"
          ],
          [
           "Stefan Krebs",
           "SVP"
          ],
          [
           "Josef Widler",
           "Die Mitte"
          ],
          [
           "Ernst Züst",
           "SVP"
          ],
          [
           "Raphael Golta",
           "SP"
          ],
          [
           "Arnold Suter",
           "SVP"
          ],
          [
           "Thomas Marthaler",
           "SP"
          ],
          [
           "Daniel Vischer",
           "Grüne"
          ],
          [
           "Gabriele Petri",
           "Grüne"
          ],
          [
           "Andreas Erdin",
           "GLP"
          ],
          [
           "Heinz Kyburz",
           "EDU"
          ],
          [
           "Martin Zuber",
           "SVP"
          ],
          [
           "Katharina Kull-Benz",
           "FDP"
          ],
          [
           "Corinne Thomet-Bürki",
           "Die Mitte"
          ],
          [
           "Marcel Lenggenhager",
           "BDP"
          ],
          [
           "Kathrin Wydler",
           "Die Mitte"
          ],
          [
           "Katharina Weibel",
           "FDP"
          ],
          [
           "Martin Kull",
           "SP"
          ],
          [
           "Jacqueline Peter",
           "SP"
          ],
          [
           "Claudia Hollenstein",
           "GLP"
          ],
          [
           "Peter Mächler",
           "SVP"
          ],
          [
           "Regula Mäder-Weikart",
           "Die Mitte"
          ],
          [
           "Peter Stirnemann",
           "SP"
          ],
          [
           "Ursina Egli",
           "SP"
          ],
          [
           "Willy Furter",
           "EVP"
          ],
          [
           "Brigitta Leiser-Burri",
           "Die Mitte"
          ],
          [
           "Esther Guyer",
           "Grüne"
          ],
          [
           "Stephan Schwitter",
           "Die Mitte"
          ],
          [
           "Eva Gutmann",
           "GLP"
          ],
          [
           "Max F. Clerici",
           "FDP"
          ],
          [
           "Daniel Sommer",
           "EVP"
          ],
          [
           "Kathy Steiner",
           "Grüne"
          ],
          [
           "Alexander Jäger",
           "FDP"
          ],
          [
           "Walter Isliker",
           "SVP"
          ],
          [
           "Farid Zeroual",
           "Die Mitte"
          ],
          [
           "Nicole Barandun-Gross",
           "Die Mitte"
          ],
          [
           "Ursula Moor-Schwarz",
           "SVP"
          ],
          [
           "Felix Hess",
           "SVP"
          ],
          [
           "Beat Bloch",
           "CSP"
          ],
          [
           "Brigitta Johner",
           "FDP"
          ],
          [
           "Hans Fahrni",
           "EVP"
          ],
          [
           "Walter Honegger",
           "SVP"
          ],
          [
           "Ruedi Menzi",
           "SVP"
          ],
          [
           "Hans Peter Frei",
           "SVP"
          ],
          [
           "Rosmarie Joss",
           "SP"
          ],
          [
           "Jörg Mäder",
           "GLP"
          ],
          [
           "Michel Baumgartner",
           "FDP"
          ],
          [
           "Rico Brazerol",
           "BDP"
          ],
          [
           "Mark Anthony Wisskirchen",
           "EVP"
          ],
          [
           "Patrick Hächler",
           "Die Mitte"
          ],
          [
           "Martin Neukom",
           "Grüne"
          ],
          [
           "Lisette Müller-Jaag",
           "EVP"
          ],
          [
           "Stefan Hunger",
           "BDP"
          ],
          [
           "Daniel Oswald",
           "SVP"
          ],
          [
           "Marlies Zaugg-Brüllmann",
           "FDP"
          ],
          [
           "Sabine Sieber Hirschi",
           "SP"
          ],
          [
           "Peter Reinhard",
           "EVP"
          ],
          [
           "Hans-Peter Brunner",
           "FDP"
          ],
          [
           "Peter Ritschard",
           "EVP"
          ],
          [
           "Ernst Bachmann",
           "SVP"
          ],
          [
           "Alma Redzic",
           "Grüne"
          ],
          [
           "Laurenz Styger",
           "SVP"
          ],
          [
           "Romana Leuzinger",
           "SP"
          ],
          [
           "Carmen Marty Fässler",
           "SP"
          ],
          [
           "Franziska Frey-Wettstein",
           "FDP"
          ],
          [
           "Rochus Burtscher",
           "SVP"
          ],
          [
           "Peter Häni",
           "EDU"
          ],
          [
           "Beat Stiefel",
           "SVP"
          ],
          [
           "Philipp Kutter",
           "Die Mitte"
          ],
          [
           "Susanne Trost Vetter",
           "SP"
          ],
          [
           "Regula Götsch Neukom",
           "SP"
          ],
          [
           "Annelies Schneider-Schatz",
           "SVP"
          ],
          [
           "Germain Mittaz",
           "Die Mitte"
          ],
          [
           "Hans-Heinrich Heusser",
           "SVP"
          ],
          [
           "Hansueli Züllig",
           "SVP"
          ],
          [
           "Benjamin Fischer",
           "SVP"
          ],
          [
           "Claudia Balocco",
           "SP"
          ],
          [
           "Armin Steinmann",
           "SVP"
          ],
          [
           "Andrew Katumba",
           "SP"
          ],
          [
           "Martin Geilinger",
           "Grüne"
          ],
          [
           "Kurt Weber",
           "FDP"
          ],
          [
           "Jean-Philippe Pinto",
           "Die Mitte"
          ],
          [
           "Reinhard Fürst",
           "SVP"
          ],
          [
           "Rudolf Ackeret",
           "SVP"
          ],
          [
           "Nik Gugger",
           "EVP"
          ],
          [
           "Bernhard Egg",
           "SP"
          ],
          [
           "Rolf Walther",
           "FDP"
          ],
          [
           "Thomas Wirth",
           "GLP"
          ],
          [
           "Thomas Forrer",
           "Grüne"
          ],
          [
           "Markus Schaaf",
           "EVP"
          ],
          [
           "Lukas Briner",
           "FDP"
          ],
          [
           "Martin Naef",
           "SP"
          ],
          [
           "Elisabeth Pflugshaupt",
           "SVP"
          ],
          [
           "Martin Haab",
           "SVP"
          ],
          [
           "Moritz Spillmann",
           "SP"
          ],
          [
           "Nicole Wyss",
           "AL"
          ],
          [
           "Nadja Galliker",
           "FDP"
          ],
          [
           "Hans Heinrich Raths",
           "SVP"
          ],
          [
           "Hanspeter Göldi",
           "SP"
          ],
          [
           "Judith Anna Stofer",
           "AL"
          ],
          [
           "Sabine Wettstein-Studer",
           "FDP"
          ],
          [
           "Sonja Rueff-Frenkel",
           "FDP"
          ],
          [
           "Rolf Stucker",
           "SVP"
          ],
          [
           "Charles Spillmann",
           "SP"
          ],
          [
           "Orlando Wyss",
           "SVP"
          ],
          [
           "Thomas Hardegger",
           "SP"
          ],
          [
           "Ruth Frei-Baumann",
           "SVP"
          ],
          [
           "René Isler",
           "SVP"
          ],
          [
           "Rita Bernoulli",
           "FDP"
          ],
          [
           "Ruedi Lais",
           "SP"
          ],
          [
           "Antoine Berger",
           "FDP"
          ],
          [
           "Sylvie Matter",
           "SP"
          ],
          [
           "Alex Gantner",
           "FDP"
          ],
          [
           "Claudia Gambacciani",
           "Grüne"
          ],
          [
           "Lorenz Schmid",
           "Die Mitte"
          ],
          [
           "Heinrich Frei",
           "SVP"
          ],
          [
           "Samuel Ramseyer",
           "SVP"
          ],
          [
           "Matthias Gfeller",
           "Grüne"
          ],
          [
           "Barbara Grüter",
           "SVP"
          ],
          [
           "Gerhard Fischer",
           "EVP"
          ],
          [
           "Robert Marty",
           "FDP"
          ],
          [
           "Christian Schucan",
           "FDP"
          ],
          [
           "Bruno Grossmann",
           "SVP"
          ],
          [
           "Markus Bischoff",
           "AL"
          ],
          [
           "Hanspeter Amstutz",
           "EVP"
          ],
          [
           "Cäcilia Hänni-Etter",
           "FDP"
          ],
          [
           "Christa Isabelle Stünzi",
           "GLP"
          ],
          [
           "Ruth Kleiber",
           "EVP"
          ],
          [
           "Hansjörg Schmid",
           "SVP"
          ],
          [
           "Christoph Ziegler",
           "GLP"
          ],
          [
           "Barbara Schaffner",
           "GLP"
          ],
          [
           "Andreas Hasler",
           "GLP"
          ],
          [
           "Corinne Hoss-Blatter",
           "FDP"
          ],
          [
           "Esther Hildebrand",
           "Grüne"
          ],
          [
           "Christoph Holenstein",
           "Die Mitte"
          ],
          [
           "Manuel Sahli",
           "AL"
          ],
          [
           "Marco Ruggli",
           "SP"
          ],
          [
           "Emy Lalli",
           "SP"
          ],
          [
           "Markus Späth-Walter",
           "SP"
          ],
          [
           "Cornelia Keller",
           "BDP"
          ],
          [
           "Anne-Claude Hensch Frei",
           "AL"
          ],
          [
           "Melissa Näf-Doffey",
           "GLP"
          ],
          [
           "Alfred Heer",
           "SVP"
          ],
          [
           "Nora Bussmann Bulaños",
           "Grüne"
          ],
          [
           "Lorenz Habicher",
           "SVP"
          ],
          [
           "Martin Arnold",
           "SVP"
          ],
          [
           "Michael Welz",
           "EDU"
          ],
          [
           "Eva-Maria Würth",
           "SP"
          ],
          [
           "Balz Hösly",
           "FDP"
          ],
          [
           "Heinrich Wuhrmann",
           "SVP"
          ],
          [
           "Martin Hübscher",
           "SVP"
          ],
          [
           "Urs Hany",
           "Die Mitte"
          ],
          [
           "Hans W. Wiesner",
           "GLP"
          ],
          [
           "Jürg Sulser",
           "SVP"
          ],
          [
           "Walter Schoch",
           "EVP"
          ],
          [
           "Fabian Müller",
           "FDP"
          ],
          [
           "Natalie Vieli-Platzer",
           "Grüne"
          ],
          [
           "Florian Heer",
           "Grüne"
          ],
          [
           "Matthias Hauser",
           "SVP"
          ],
          [
           "Peter Vollenweider",
           "FDP"
          ],
          [
           "Oliver B. Meier",
           "SVP"
          ],
          [
           "Johann Jucker-Inhelder",
           "SVP"
          ],
          [
           "Hanspeter Haug",
           "SVP"
          ],
          [
           "Theresia Weber",
           "SVP"
          ],
          [
           "Peter Weber",
           "Grüne"
          ],
          [
           "Bruno Walliser",
           "SVP"
          ],
          [
           "Beatrix Frey-Eigenmann",
           "FDP"
          ],
          [
           "Othmar Kern",
           "SVP"
          ],
          [
           "Kurt Leuch",
           "EVP"
          ],
          [
           "Katharina Prelicz-Huber",
           "Grüne"
          ],
          [
           "Angie Romero",
           "FDP"
          ],
          [
           "Emil Manser",
           "SVP"
          ],
          [
           "Walter Müller",
           "SVP"
          ],
          [
           "Stefan Feldmann",
           "SP"
          ],
          [
           "Davide Loss",
           "SP"
          ],
          [
           "Theres Agosti Monn",
           "SP"
          ],
          [
           "Esther Straub",
           "SP"
          ],
          [
           "Christian Lucek",
           "SVP"
          ],
          [
           "Willy Germann",
           "Die Mitte"
          ],
          [
           "Andrea Widmer Graf",
           "PALO"
          ],
          [
           "Luzius Rüegg",
           "SVP"
          ],
          [
           "Bruno Amacker",
           "SVP"
          ],
          [
           "Felix Hoesch",
           "SP"
          ],
          [
           "Thomas Maier",
           "GLP"
          ],
          [
           "Franziska Barmettler",
           "GLP"
          ],
          [
           "Beat Badertscher",
           "FDP"
          ],
          [
           "Erich Vontobel",
           "EDU"
          ],
          [
           "Franco Albanese",
           "SVP"
          ],
          [
           "Jürg Leuthold",
           "SVP"
          ],
          [
           "Hanspeter Hugentobler",
           "EVP"
          ],
          [
           "Gaston Guex",
           "FDP"
          ],
          [
           "Diego Bonato",
           "SVP"
          ],
          [
           "Res Marti",
           "Grüne"
          ],
          [
           "Rafael Steiner",
           "SP"
          ],
          [
           "Jürg Trachsel",
           "SVP"
          ],
          [
           "Maria Rohweder-Lischer",
           "Grüne"
          ],
          [
           "Regula Kaeser-Stöckli",
           "Grüne"
          ],
          [
           "Richard Hirt",
           "Die Mitte"
          ],
          [
           "Jörg Kündig",
           "FDP"
          ],
          [
           "Johannes Zollinger",
           "EVP"
          ],
          [
           "Catherine Heuberger Golta",
           "SP"
          ],
          [
           "Birgit Tognella-Geertsen",
           "SP"
          ],
          [
           "Ueli Bamert",
           "SVP"
          ],
          [
           "Ernst Jud",
           "FDP"
          ],
          [
           "Katrin Cometta-Müller",
           "GLP"
          ],
          [
           "Christian Müller",
           "FDP"
          ],
          [
           "Silvia Steiner",
           "Die Mitte"
          ],
          [
           "Roger Liebi",
           "SVP"
          ],
          [
           "Daniel Häuptli",
           "GLP"
          ],
          [
           "Andreas Daurù",
           "SP"
          ],
          [
           "Hans Rutschmann",
           "SVP"
          ],
          [
           "Robert Brunner",
           "Grüne"
          ],
          [
           "Max Robert Homberger",
           "Grüne"
          ],
          [
           "Ornella Ferro",
           "Grüne"
          ],
          [
           "Urs Dietschi",
           "Grüne"
          ],
          [
           "Hartmuth Attenhofer",
           "SP"
          ],
          [
           "Gregor Rutz",
           "SVP"
          ],
          [
           "Michael Biber",
           "FDP"
          ],
          [
           "Kaspar Bütikofer",
           "AL"
          ],
          [
           "Simon Schlauri",
           "GLP"
          ],
          [
           "Thomas Heiniger",
           "FDP"
          ],
          [
           "Luca Rosario Roth",
           "GLP"
          ],
          [
           "Walter Reist",
           "SP"
          ],
          [
           "Pierre Dalcher",
           "SVP"
          ],
          [
           "Domenik Ledergerber",
           "SVP"
          ],
          [
           "Monika Spring",
           "SP"
          ],
          [
           "Jean-Jacques Bertschi",
           "FDP"
          ],
          [
           "Andrea Gisler",
           "GLP"
          ],
          [
           "Urs Waser",
           "SVP"
          ],
          [
           "Hans Peter Häring",
           "EDU"
          ],
          [
           "Stefan Dollenmeier",
           "EDU"
          ],
          [
           "Roland Munz",
           "SP"
          ],
          [
           "Thomas Kappeler",
           "Die Mitte"
          ],
          [
           "Andreas Federer",
           "Die Mitte"
          ],
          [
           "Karin Fehr Thoma",
           "Grüne"
          ],
          [
           "Jasmin Pokerschnig",
           "Grüne"
          ],
          [
           "Silvia Seiz-Gut",
           "SP"
          ],
          [
           "Marc Bourgeois",
           "FDP"
          ],
          [
           "Christoph Schürch",
           "SP"
          ],
          [
           "Thomas Ziegler",
           "EVP"
          ],
          [
           "Andreas Burger",
           "SP"
          ],
          [
           "Andreas Geistlich",
           "FDP"
          ],
          [
           "Melanie Berner",
           "AL"
          ],
          [
           "Sabine Ziegler",
           "SP"
          ],
          [
           "Karin Joss",
           "GLP"
          ],
          [
           "Daniela Güller",
           "GLP"
          ],
          [
           "Gregor Kreuzer",
           "GLP"
          ],
          [
           "Andreas Wolf",
           "Grüne"
          ],
          [
           "Beat Walti",
           "FDP"
          ],
          [
           "Peter Roesler",
           "FDP"
          ],
          [
           "Barbara Günthard Fitze",
           "EVP"
          ],
          [
           "Judith Bellaïche",
           "GLP"
          ],
          [
           "Beni Schwarzenbach",
           "GLP"
          ],
          [
           "Florian Meier",
           "Grüne"
          ],
          [
           "Johanna Tremp",
           "SP"
          ],
          [
           "Cristina Wyss-Cortellini",
           "GLP"
          ],
          [
           "Cyrill Planta von",
           "GLP"
          ],
          [
           "Rahel Walti",
           "GLP"
          ],
          [
           "Oskar Denzler",
           "FDP"
          ],
          [
           "Erika Ziltener",
           "SP"
          ],
          [
           "Jonas Erni",
           "SP"
          ],
          [
           "Hans Läubli",
           "Grüne"
          ],
          [
           "Regine Sauter",
           "FDP"
          ],
          [
           "Carola Etter-Gick",
           "FDP"
          ],
          [
           "Susanne Leuenberger",
           "SVP"
          ],
          [
           "Isabel Bartal",
           "SP"
          ],
          [
           "Harry Robert Brandenberger",
           "SP"
          ],
          [
           "Peter Stutz",
           "SP"
          ],
          [
           "Ueli Annen",
           "SP"
          ],
          [
           "Astrid Furrer",
           "FDP"
          ],
          [
           "Nicolas Galladé",
           "SP"
          ],
          [
           "Tobias Mani",
           "EVP"
          ],
          [
           "Jürg Stünzi",
           "Grüne"
          ],
          [
           "Hansruedi Bär",
           "SVP"
          ],
          [
           "Edith Häusler-Michel",
           "Grüne"
          ],
          [
           "Josef Wiederkehr",
           "Die Mitte"
          ],
          [
           "Peter Anderegg",
           "SP"
          ],
          [
           "Lilith Claudia Hübscher",
           "Grüne"
          ],
          [
           "Peider Filli",
           "AL"
          ],
          [
           "Jorge Serra",
           "SP"
          ],
          [
           "Ronald Alder",
           "GLP"
          ],
          [
           "David John Galeuchet",
           "Grüne"
          ],
          [
           "Reto Cavegn",
           "FDP"
          ],
          [
           "Anita Simioni-Dahm",
           "FDP"
          ],
          [
           "Andrea Sprecher",
           "SP"
          ],
          [
           "Pierre-André Duc",
           "SVP"
          ],
          [
           "Ruedi Noser",
           "FDP"
          ],
          [
           "Thomas Honegger",
           "Grüne"
          ],
          [
           "Barbara Bussmann",
           "SP"
          ],
          [
           "Barbara Marty Kälin",
           "SP"
          ],
          [
           "Linda Camenisch",
           "FDP"
          ],
          [
           "Martin Sarbach",
           "SP"
          ],
          [
           "Benedikt Gschwind",
           "SP"
          ],
          [
           "Hans-Peter Amrein",
           "SVP"
          ],
          [
           "Ralf Margreiter",
           "Grüne"
          ],
          [
           "Leila Feit",
           "FDP"
          ],
          [
           "Bruno Dobler",
           "SVP"
          ],
          [
           "Hans-Peter Portmann",
           "FDP"
          ],
          [
           "Karin Maeder-Zuberbühler",
           "SP"
          ],
          [
           "Daniela Rinderknecht",
           "SVP"
          ],
          [
           "Susanne Rihs-Lanz",
           "Grüne"
          ],
          [
           "Leandra Columberg",
           "SP"
          ],
          [
           "Hannah Pfalzgraf",
           "SP"
          ],
          [
           "Karin Egli-Zimmermann",
           "SVP"
          ],
          [
           "Nathalie Aeschbacher",
           "GLP"
          ],
          [
           "Stephan Weber",
           "FDP"
          ],
          [
           "Ulrich Pfister",
           "SVP"
          ],
          [
           "Ueli Keller",
           "SP"
          ],
          [
           "Céline Widmer",
           "SP"
          ],
          [
           "Priska Seiler Graf",
           "SP"
          ],
          [
           "Heidi Bucher-Steinegger",
           "Grüne"
          ],
          [
           "Barbara Hunziker Wanner",
           "Grüne"
          ],
          [
           "Margreth Rinderknecht",
           "SVP"
          ],
          [
           "Susanne Brunner",
           "Die Mitte"
          ],
          [
           "Gabriela Winkler",
           "FDP"
          ],
          [
           "Michèle Bättig",
           "GLP"
          ],
          [
           "Dieter Kläy",
           "FDP"
          ],
          [
           "Maria Rita Marty",
           "SVP"
          ],
          [
           "André Bender",
           "SVP"
          ],
          [
           "Regula Ziegler-Leuzinger",
           "SP"
          ],
          [
           "Hans Finsler",
           "SVP"
          ],
          [
           "Marionna Schlatter-Schmid",
           "Grüne"
          ],
          [
           "Renate Büchi-Wild",
           "SP"
          ],
          [
           "Beat Habegger",
           "FDP"
          ],
          [
           "Benedikt Hoffmann",
           "SVP"
          ],
          [
           "Silvia Rigoni",
           "Grüne"
          ],
          [
           "Olivier Moïse Hofmann",
           "FDP"
          ],
          [
           "Urs Hans",
           "Grüne"
          ],
          [
           "Benjamin Walder",
           "Grüne"
          ],
          [
           "Andreas Hauri",
           "GLP"
          ],
          [
           "Thomas Vogel",
           "FDP"
          ],
          [
           "Sandro Feuillet",
           "Grüne"
          ],
          [
           "Bettina Volland",
           "SP"
          ],
          [
           "Markus Brandenberger",
           "SP"
          ],
          [
           "Daniel Heierli",
           "Grüne"
          ],
          [
           "Susanna Rusca Speck",
           "SP"
          ],
          [
           "Monika Wicki",
           "SP"
          ],
          [
           "Franziska Troesch-Schnyder",
           "FDP"
          ],
          [
           "Peter Schick",
           "SVP"
          ],
          [
           "Janine Vannaz",
           "Die Mitte"
          ],
          [
           "Pia Holenstein Weidmann",
           "SP"
          ],
          [
           "Nancy Bolleter-Malcom",
           "EVP"
          ],
          [
           "Esther Meier",
           "SP"
          ],
          [
           "Claudio Zanetti",
           "SVP"
          ],
          [
           "Tobias Langenegger",
           "SP"
          ],
          [
           "Romaine Roggenmoser",
           "SVP"
          ],
          [
           "Stefan Schmid",
           "SVP"
          ],
          [
           "Manuel Kampus",
           "Grüne"
          ],
          [
           "Jeannette Büsser",
           "Grüne"
          ],
          [
           "Käthi Furrer",
           "SP"
          ],
          [
           "Raffaela Fehr",
           "FDP"
          ],
          [
           "Werner Scherrer",
           "FDP"
          ],
          [
           "Nicola Siegrist",
           "SP"
          ],
          [
           "Anita Borer",
           "SVP"
          ],
          [
           "Carmen Walker Späh",
           "FDP"
          ],
          [
           "Hedi Strahm",
           "SP"
          ],
          [
           "Inge Stutz-Wanner",
           "SVP"
          ],
          [
           "Mattea Meyer",
           "SP"
          ],
          [
           "Sonja Gehrig Schmidt",
           "GLP"
          ],
          [
           "Andrea Kennel Schnider",
           "SP"
          ],
          [
           "Claudia Wyssen",
           "GLP"
          ],
          [
           "Ann Barbara Franzen",
           "FDP"
          ],
          [
           "Peter Preisig",
           "SVP"
          ],
          [
           "Yiea Wey Te",
           "FDP"
          ],
          [
           "Elisabeth Scheffeldt Kern",
           "SP"
          ],
          [
           "Konrad Langhart",
           "Die Mitte"
          ],
          [
           "Hans-Jakob Boesch",
           "FDP"
          ],
          [
           "Christian Mettler",
           "SVP"
          ],
          [
           "Sandra Bossert",
           "SVP"
          ],
          [
           "Hans Jörg Fischer",
           "SD"
          ],
          [
           "Chantal Galladé",
           "SP"
          ],
          [
           "Martin Farner",
           "FDP"
          ],
          [
           "Françoise Okopnik",
           "Grüne"
          ],
          [
           "Thea Mauchle",
           "SP"
          ],
          [
           "Thomas Lamprecht",
           "EDU"
          ],
          [
           "Claudio Schmid",
           "SVP"
          ],
          [
           "Gustav Kessler",
           "Die Mitte"
          ],
          [
           "Marcel Burlet",
           "SP"
          ],
          [
           "Paul Euw von",
           "SVP"
          ],
          [
           "Adrian Bergmann",
           "SVP"
          ],
          [
           "Peter A. Schmid",
           "SP"
          ],
          [
           "Hansruedi Schmid",
           "SP"
          ],
          [
           "René Gutknecht",
           "GLP"
          ],
          [
           "Rolf André Siegenthaler",
           "SVP"
          ],
          [
           "Anna Maria Riedi",
           "SP"
          ],
          [
           "Michael Zeugin",
           "GLP"
          ],
          [
           "Elisabeth Derisiotis-Scherrer",
           "SP"
          ],
          [
           "Severin Huber",
           "FDP"
          ],
          [
           "Ruth Gurny",
           "SP"
          ],
          [
           "Nicola Yuste",
           "SP"
          ],
          [
           "Julia Gerber Rüegg",
           "SP"
          ],
          [
           "Marcel Suter",
           "SVP"
          ],
          [
           "Brigitte Röösli",
           "SP"
          ],
          [
           "Daniel Frei",
           "SP"
          ],
          [
           "Michael Stampfli",
           "SP"
          ],
          [
           "Roland Scheck",
           "SVP"
          ],
          [
           "Sarah Akanji",
           "SP"
          ],
          [
           "Luc Pillard",
           "SP"
          ],
          [
           "André Müller",
           "FDP"
          ],
          [
           "Margrit Haller-Traber",
           "SVP"
          ],
          [
           "André Bürgi",
           "SP"
          ],
          [
           "Paul Mayer",
           "SVP"
          ],
          [
           "Jacqueline Gübeli",
           "SP"
          ],
          [
           "Sibylle Marti",
           "SP"
          ],
          [
           "Thomas Schweizer",
           "Grüne"
          ],
          [
           "Martin Huber",
           "FDP"
          ],
          [
           "Yves de Mestral",
           "SP"
          ],
          [
           "Kurt Bosshard",
           "SVP"
          ],
          [
           "Stefanie Huber",
           "GLP"
          ],
          [
           "Daniel Jositsch",
           "SP"
          ],
          [
           "Rolf Boder",
           "SD"
          ],
          [
           "Prisca Koller",
           "FDP"
          ],
          [
           "Bettina Balmer-Schiltknecht",
           "FDP"
          ],
          [
           "Barbara Steinemann",
           "SVP"
          ],
          [
           "Qëndresa (Qëni) Sadriu",
           "SP"
          ],
          [
           "Arianne Moser-Schäfer",
           "FDP"
          ],
          [
           "Doris Meier",
           "FDP"
          ],
          [
           "Mauro Tuena",
           "SVP"
          ],
          [
           "Jean-Luc Cornaz",
           "FDP"
          ],
          [
           "Tobias Weidmann",
           "SVP"
          ],
          [
           "Rosmarie Frehsner",
           "SVP"
          ],
          [
           "Barbara Angelsberger",
           "FDP"
          ],
          [
           "Tumasch Mischol",
           "SVP"
          ],
          [
           "Jacqueline Hofer",
           "SVP"
          ],
          [
           "Peter Schulthess",
           "SP"
          ],
          [
           "Wilma Willi",
           "Grüne"
          ],
          [
           "Beat Huber",
           "SVP"
          ],
          [
           "Katrin Meier",
           "SP"
          ],
          [
           "Marianne Trüb Klingler",
           "SP"
          ],
          [
           "Lars Gubler",
           "Grüne"
          ],
          [
           "Christoph Marty",
           "SVP"
          ],
          [
           "Hugo Buchs",
           "SP"
          ],
          [
           "Ruedi Bachmann",
           "SVP"
          ],
          [
           "Christopher Vohdin",
           "SVP"
          ],
          [
           "Eva Torp",
           "SP"
          ],
          [
           "Peter Good",
           "SVP"
          ],
          [
           "Erika Zahler",
           "SVP"
          ],
          [
           "René Truninger",
           "SVP"
          ],
          [
           "John Appenzeller",
           "SVP"
          ],
          [
           "Fabian Molina",
           "SP"
          ],
          [
           "Urs Grob",
           "SP"
          ],
          [
           "Michèle Dünki-Bättig",
           "SP"
          ],
          [
           "Gabriel Mäder",
           "GLP"
          ],
          [
           "Pia Ackermann",
           "SP"
          ],
          [
           "Christian Hurter",
           "SVP"
          ],
          [
           "Nina Fehr Düsel",
           "SVP"
          ],
          [
           "Daniel Wäfler",
           "SVP"
          ],
          [
           "Christina Zurfluh Fraefel",
           "SVP"
          ],
          [
           "Liliane Waldner",
           "SP"
          ],
          [
           "Peter Vonlanthen",
           "SP"
          ],
          [
           "Christoph Fischbach",
           "SP"
          ],
          [
           "Cécile Krebs",
           "SP"
          ],
          [
           "Yves Senn",
           "SVP"
          ],
          [
           "Ursula Braunschweig-Lütolf",
           "SP"
          ],
          [
           "Susanna Lisibach",
           "SVP"
          ],
          [
           "Helga Zopfi-Joch",
           "FDP"
          ],
          [
           "Roland Brändli",
           "SVP"
          ],
          [
           "Patricia Ljuboje",
           "Grüne"
          ],
          [
           "Rolando Keller",
           "SVP"
          ],
          [
           "Roger Bartholdi",
           "SVP"
          ],
          [
           "Andrea Planta von",
           "SVP"
          ],
          [
           "Guido Bergmaier",
           "SVP"
          ]
         ],
         "hovertemplate": "voten=%{x}<br>erstunterzeichner=%{y}<br>_name=%{customdata[0]}<br>partei=%{customdata[1]}<extra></extra>",
         "legendgroup": "",
         "marker": {
          "color": "#636efa",
          "symbol": "circle"
         },
         "mode": "markers",
         "name": "",
         "orientation": "v",
         "showlegend": false,
         "type": "scatter",
         "x": [
          13,
          2,
          35,
          4,
          5,
          3,
          15,
          3,
          1,
          1,
          6,
          12,
          1,
          39,
          1,
          3,
          19,
          7,
          20,
          8,
          6,
          4,
          1,
          42,
          15,
          6,
          131,
          29,
          1,
          2,
          64,
          3,
          13,
          10,
          20,
          92,
          3,
          41,
          1,
          16,
          5,
          3,
          9,
          3,
          1,
          4,
          22,
          111,
          26,
          22,
          19,
          2,
          5,
          50,
          19,
          20,
          72,
          88,
          7,
          17,
          6,
          6,
          23,
          142,
          9,
          2,
          17,
          19,
          9,
          17,
          1,
          2,
          10,
          21,
          261,
          149,
          100,
          88,
          189,
          87,
          164,
          143,
          65,
          59,
          57,
          168,
          645,
          105,
          105,
          396,
          101,
          102,
          47,
          48,
          46,
          44,
          44,
          128,
          438,
          87,
          84,
          83,
          126,
          42,
          158,
          79,
          157,
          113,
          112,
          75,
          147,
          72,
          217,
          216,
          249,
          141,
          144,
          242,
          348,
          67,
          192,
          314,
          333,
          92,
          91,
          30,
          89,
          59,
          29,
          27,
          54,
          27,
          132,
          52,
          920,
          25,
          199,
          74,
          268,
          221,
          48,
          24,
          71,
          47,
          93,
          47,
          235,
          228,
          183,
          22,
          178,
          44,
          317,
          211,
          21,
          125,
          105,
          230,
          207,
          165,
          231,
          21,
          41,
          82,
          629,
          82,
          319,
          20,
          19,
          19,
          38,
          37,
          37,
          205,
          54,
          36,
          324,
          18,
          122,
          35,
          88,
          194,
          53,
          140,
          35,
          35,
          172,
          225,
          17,
          355,
          17,
          17,
          34,
          252,
          67,
          415,
          249,
          532,
          82,
          66,
          64,
          65,
          225,
          16,
          32,
          275,
          79,
          371,
          197,
          273,
          15,
          15,
          104,
          265,
          103,
          293,
          44,
          631,
          44,
          59,
          305,
          101,
          602,
          57,
          296,
          98,
          14,
          415,
          83,
          150,
          81,
          742,
          215,
          67,
          80,
          80,
          119,
          367,
          272,
          143,
          13,
          181,
          339,
          231,
          51,
          77,
          359,
          180,
          63,
          38,
          276,
          50,
          639,
          268,
          303,
          24,
          36,
          12,
          154,
          47,
          35,
          69,
          150,
          23,
          113,
          34,
          712,
          66,
          11,
          11,
          153,
          98,
          130,
          141,
          205,
          32,
          106,
          224,
          32,
          42,
          21,
          190,
          146,
          115,
          82,
          214,
          468,
          41,
          90,
          30,
          189,
          169,
          48,
          48,
          173,
          105,
          95,
          160,
          66,
          75,
          150,
          93,
          222,
          64,
          129,
          128,
          221,
          201,
          9,
          54,
          36,
          9,
          9,
          63,
          125,
          98,
          143,
          170,
          26,
          782,
          241,
          120,
          51,
          153,
          25,
          57,
          512,
          40,
          32,
          8,
          8,
          159,
          55,
          284,
          39,
          31,
          31,
          313,
          206,
          189,
          15,
          15,
          274,
          73,
          58,
          159,
          174,
          160,
          36,
          101,
          43,
          329,
          28,
          7,
          7,
          97,
          171,
          41,
          75,
          116,
          54,
          54,
          27,
          47,
          147,
          20,
          140,
          179,
          118,
          176,
          177,
          13,
          13,
          39,
          13,
          26,
          103,
          122,
          32,
          90,
          70,
          19,
          152,
          405,
          107,
          82,
          25,
          93,
          62,
          93,
          56,
          105,
          30,
          24,
          6,
          24,
          72,
          12,
          120,
          24,
          153,
          887,
          649,
          23,
          23,
          171,
          240,
          17,
          384,
          28,
          61,
          22,
          22,
          38,
          49,
          124,
          91,
          128,
          169,
          21,
          21,
          52,
          241,
          46,
          177,
          96,
          25,
          15,
          30,
          5,
          199,
          64,
          49,
          112,
          102,
          154,
          24,
          66,
          165,
          14,
          28,
          83,
          110,
          214,
          173,
          9,
          18,
          27,
          27,
          36,
          31,
          277,
          97,
          22,
          166,
          13,
          56,
          34,
          17,
          76,
          21,
          80,
          293,
          50,
          54,
          82,
          147,
          8,
          24,
          136,
          48,
          4,
          36,
          67,
          51,
          82,
          31,
          31,
          54,
          322,
          64,
          26,
          37,
          358,
          11,
          215,
          46,
          92,
          28,
          14,
          21,
          52,
          48,
          119,
          131,
          10,
          33,
          23,
          270,
          41,
          28,
          49,
          9,
          51,
          15,
          3,
          48,
          3,
          12,
          12,
          12,
          81,
          46,
          17,
          59,
          14,
          28,
          11,
          8,
          13,
          70,
          160,
          18,
          18,
          5,
          5,
          17,
          12,
          26,
          32,
          34,
          42,
          72,
          37,
          37,
          19,
          21,
          21,
          6,
          8,
          2,
          2,
          107,
          25,
          55,
          30,
          37,
          9,
          7,
          67,
          9,
          15,
          8,
          35,
          32,
          37,
          5,
          1,
          1,
          29,
          7,
          16,
          4,
          1,
          1,
          1,
          1,
          5,
          4,
          1
         ],
         "xaxis": "x",
         "y": [
          0,
          0,
          0,
          0,
          0,
          0,
          0,
          0,
          0,
          0,
          0,
          0,
          0,
          0,
          0,
          0,
          0,
          0,
          0,
          0,
          0,
          0,
          0,
          0,
          0,
          0,
          0,
          0,
          0,
          0,
          0,
          0,
          0,
          0,
          0,
          0,
          0,
          0,
          0,
          0,
          0,
          0,
          0,
          0,
          0,
          0,
          0,
          0,
          0,
          0,
          0,
          0,
          0,
          0,
          0,
          0,
          0,
          0,
          0,
          0,
          0,
          0,
          0,
          0,
          0,
          0,
          0,
          0,
          0,
          0,
          0,
          0,
          0,
          0,
          1,
          1,
          1,
          1,
          2,
          1,
          2,
          2,
          1,
          1,
          1,
          3,
          12,
          2,
          2,
          8,
          2,
          2,
          1,
          1,
          1,
          1,
          1,
          3,
          10,
          2,
          2,
          2,
          3,
          1,
          4,
          2,
          4,
          3,
          3,
          2,
          4,
          2,
          6,
          6,
          7,
          4,
          4,
          7,
          10,
          2,
          6,
          10,
          11,
          3,
          3,
          1,
          3,
          2,
          1,
          1,
          2,
          1,
          5,
          2,
          37,
          1,
          8,
          3,
          11,
          9,
          2,
          1,
          3,
          2,
          4,
          2,
          10,
          10,
          8,
          1,
          8,
          2,
          15,
          10,
          1,
          6,
          5,
          11,
          10,
          8,
          11,
          1,
          2,
          4,
          31,
          4,
          16,
          1,
          1,
          1,
          2,
          2,
          2,
          11,
          3,
          2,
          18,
          1,
          7,
          2,
          5,
          11,
          3,
          8,
          2,
          2,
          10,
          13,
          1,
          21,
          1,
          1,
          2,
          15,
          4,
          25,
          15,
          32,
          5,
          4,
          4,
          4,
          14,
          1,
          2,
          17,
          5,
          24,
          13,
          18,
          1,
          1,
          7,
          18,
          7,
          20,
          3,
          43,
          3,
          4,
          21,
          7,
          42,
          4,
          21,
          7,
          1,
          30,
          6,
          11,
          6,
          55,
          16,
          5,
          6,
          6,
          9,
          28,
          21,
          11,
          1,
          14,
          26,
          18,
          4,
          6,
          28,
          14,
          5,
          3,
          22,
          4,
          52,
          22,
          25,
          2,
          3,
          1,
          13,
          4,
          3,
          6,
          13,
          2,
          10,
          3,
          64,
          6,
          1,
          1,
          14,
          9,
          12,
          13,
          19,
          3,
          10,
          21,
          3,
          4,
          2,
          18,
          14,
          11,
          8,
          21,
          46,
          4,
          9,
          3,
          19,
          17,
          5,
          5,
          18,
          11,
          10,
          17,
          7,
          8,
          16,
          10,
          24,
          7,
          14,
          14,
          24,
          22,
          1,
          6,
          4,
          1,
          1,
          7,
          14,
          11,
          16,
          19,
          3,
          91,
          28,
          14,
          6,
          18,
          3,
          7,
          63,
          5,
          4,
          1,
          1,
          20,
          7,
          36,
          5,
          4,
          4,
          41,
          27,
          25,
          2,
          2,
          37,
          10,
          8,
          22,
          24,
          22,
          5,
          14,
          6,
          47,
          4,
          1,
          1,
          14,
          25,
          6,
          11,
          17,
          8,
          8,
          4,
          7,
          22,
          3,
          21,
          27,
          18,
          27,
          27,
          2,
          2,
          6,
          2,
          4,
          16,
          19,
          5,
          14,
          11,
          3,
          24,
          64,
          17,
          13,
          4,
          15,
          10,
          15,
          9,
          17,
          5,
          4,
          1,
          4,
          12,
          2,
          20,
          4,
          26,
          152,
          111,
          4,
          4,
          30,
          42,
          3,
          68,
          5,
          11,
          4,
          4,
          7,
          9,
          23,
          17,
          24,
          32,
          4,
          4,
          10,
          47,
          9,
          35,
          19,
          5,
          3,
          6,
          1,
          40,
          13,
          10,
          23,
          21,
          32,
          5,
          14,
          35,
          3,
          6,
          18,
          24,
          47,
          38,
          2,
          4,
          6,
          6,
          8,
          7,
          63,
          22,
          5,
          38,
          3,
          13,
          8,
          4,
          18,
          5,
          19,
          70,
          12,
          13,
          20,
          36,
          2,
          6,
          34,
          12,
          1,
          9,
          17,
          13,
          21,
          8,
          8,
          14,
          84,
          17,
          7,
          10,
          97,
          3,
          59,
          13,
          26,
          8,
          4,
          6,
          15,
          14,
          35,
          39,
          3,
          10,
          7,
          84,
          13,
          9,
          16,
          3,
          17,
          5,
          1,
          16,
          1,
          4,
          4,
          4,
          28,
          16,
          6,
          21,
          5,
          10,
          4,
          3,
          5,
          27,
          62,
          7,
          7,
          2,
          2,
          7,
          5,
          11,
          14,
          15,
          19,
          33,
          17,
          17,
          9,
          10,
          10,
          3,
          4,
          1,
          1,
          55,
          13,
          29,
          16,
          20,
          5,
          4,
          40,
          6,
          11,
          6,
          27,
          25,
          29,
          4,
          1,
          1,
          30,
          9,
          22,
          7,
          2,
          2,
          2,
          2,
          10,
          9,
          4
         ],
         "yaxis": "y"
        },
        {
         "hovertemplate": "<b>OLS trendline</b><br>erstunterzeichner = 0.0873012 * voten + 2.34916<br>R<sup>2</sup>=0.512166<br><br>voten=%{x}<br>erstunterzeichner=%{y} <b>(trend)</b><extra></extra>",
         "legendgroup": "",
         "marker": {
          "color": "#636efa",
          "symbol": "circle"
         },
         "mode": "lines",
         "name": "",
         "showlegend": false,
         "type": "scatter",
         "x": [
          1,
          1,
          1,
          1,
          1,
          1,
          1,
          1,
          1,
          1,
          1,
          1,
          1,
          1,
          1,
          1,
          2,
          2,
          2,
          2,
          2,
          2,
          2,
          3,
          3,
          3,
          3,
          3,
          3,
          3,
          3,
          3,
          4,
          4,
          4,
          4,
          4,
          4,
          5,
          5,
          5,
          5,
          5,
          5,
          5,
          5,
          6,
          6,
          6,
          6,
          6,
          6,
          6,
          7,
          7,
          7,
          7,
          7,
          7,
          8,
          8,
          8,
          8,
          8,
          8,
          8,
          9,
          9,
          9,
          9,
          9,
          9,
          9,
          9,
          9,
          9,
          10,
          10,
          10,
          11,
          11,
          11,
          11,
          12,
          12,
          12,
          12,
          12,
          12,
          12,
          13,
          13,
          13,
          13,
          13,
          13,
          13,
          13,
          14,
          14,
          14,
          14,
          15,
          15,
          15,
          15,
          15,
          15,
          15,
          15,
          15,
          16,
          16,
          16,
          17,
          17,
          17,
          17,
          17,
          17,
          17,
          17,
          17,
          17,
          18,
          18,
          18,
          18,
          19,
          19,
          19,
          19,
          19,
          19,
          19,
          19,
          20,
          20,
          20,
          20,
          20,
          21,
          21,
          21,
          21,
          21,
          21,
          21,
          21,
          21,
          21,
          22,
          22,
          22,
          22,
          22,
          22,
          23,
          23,
          23,
          23,
          23,
          24,
          24,
          24,
          24,
          24,
          24,
          24,
          25,
          25,
          25,
          25,
          25,
          26,
          26,
          26,
          26,
          26,
          27,
          27,
          27,
          27,
          27,
          28,
          28,
          28,
          28,
          28,
          28,
          29,
          29,
          29,
          30,
          30,
          30,
          30,
          30,
          31,
          31,
          31,
          31,
          31,
          32,
          32,
          32,
          32,
          32,
          32,
          32,
          33,
          34,
          34,
          34,
          34,
          35,
          35,
          35,
          35,
          35,
          35,
          36,
          36,
          36,
          36,
          36,
          36,
          37,
          37,
          37,
          37,
          37,
          37,
          37,
          38,
          38,
          38,
          39,
          39,
          39,
          40,
          41,
          41,
          41,
          41,
          41,
          42,
          42,
          42,
          42,
          43,
          44,
          44,
          44,
          44,
          44,
          46,
          46,
          46,
          46,
          47,
          47,
          47,
          47,
          47,
          48,
          48,
          48,
          48,
          48,
          48,
          48,
          49,
          49,
          49,
          50,
          50,
          50,
          51,
          51,
          51,
          51,
          52,
          52,
          52,
          53,
          54,
          54,
          54,
          54,
          54,
          54,
          54,
          55,
          55,
          56,
          56,
          57,
          57,
          57,
          58,
          59,
          59,
          59,
          59,
          61,
          62,
          63,
          63,
          64,
          64,
          64,
          64,
          64,
          65,
          65,
          66,
          66,
          66,
          66,
          67,
          67,
          67,
          67,
          67,
          69,
          70,
          70,
          71,
          72,
          72,
          72,
          72,
          73,
          74,
          75,
          75,
          75,
          76,
          77,
          79,
          79,
          80,
          80,
          80,
          81,
          81,
          82,
          82,
          82,
          82,
          82,
          82,
          82,
          83,
          83,
          83,
          84,
          87,
          87,
          88,
          88,
          88,
          89,
          90,
          90,
          91,
          91,
          92,
          92,
          92,
          93,
          93,
          93,
          93,
          95,
          96,
          97,
          97,
          98,
          98,
          98,
          100,
          101,
          101,
          101,
          102,
          102,
          103,
          103,
          104,
          105,
          105,
          105,
          105,
          105,
          106,
          107,
          107,
          110,
          111,
          112,
          112,
          113,
          113,
          115,
          116,
          118,
          119,
          119,
          120,
          120,
          122,
          122,
          124,
          125,
          125,
          126,
          128,
          128,
          128,
          129,
          130,
          131,
          131,
          132,
          136,
          140,
          140,
          141,
          141,
          142,
          143,
          143,
          143,
          144,
          146,
          147,
          147,
          147,
          149,
          150,
          150,
          150,
          152,
          153,
          153,
          153,
          154,
          154,
          157,
          158,
          159,
          159,
          160,
          160,
          160,
          164,
          165,
          165,
          166,
          168,
          169,
          169,
          170,
          171,
          171,
          172,
          173,
          173,
          174,
          176,
          177,
          177,
          178,
          179,
          180,
          181,
          183,
          189,
          189,
          189,
          190,
          192,
          194,
          197,
          199,
          199,
          201,
          205,
          205,
          206,
          207,
          211,
          214,
          214,
          215,
          215,
          216,
          217,
          221,
          221,
          222,
          224,
          225,
          225,
          228,
          230,
          231,
          231,
          235,
          240,
          241,
          241,
          242,
          249,
          249,
          252,
          261,
          265,
          268,
          268,
          270,
          272,
          273,
          274,
          275,
          276,
          277,
          284,
          293,
          293,
          296,
          303,
          305,
          313,
          314,
          317,
          319,
          322,
          324,
          329,
          333,
          339,
          348,
          355,
          358,
          359,
          367,
          371,
          384,
          396,
          405,
          415,
          415,
          438,
          468,
          512,
          532,
          602,
          629,
          631,
          639,
          645,
          649,
          712,
          742,
          782,
          887,
          920
         ],
         "xaxis": "x",
         "y": [
          2.4364632173215868,
          2.4364632173215868,
          2.4364632173215868,
          2.4364632173215868,
          2.4364632173215868,
          2.4364632173215868,
          2.4364632173215868,
          2.4364632173215868,
          2.4364632173215868,
          2.4364632173215868,
          2.4364632173215868,
          2.4364632173215868,
          2.4364632173215868,
          2.4364632173215868,
          2.4364632173215868,
          2.4364632173215868,
          2.523764413012935,
          2.523764413012935,
          2.523764413012935,
          2.523764413012935,
          2.523764413012935,
          2.523764413012935,
          2.523764413012935,
          2.6110656087042825,
          2.6110656087042825,
          2.6110656087042825,
          2.6110656087042825,
          2.6110656087042825,
          2.6110656087042825,
          2.6110656087042825,
          2.6110656087042825,
          2.6110656087042825,
          2.6983668043956306,
          2.6983668043956306,
          2.6983668043956306,
          2.6983668043956306,
          2.6983668043956306,
          2.6983668043956306,
          2.7856680000869787,
          2.7856680000869787,
          2.7856680000869787,
          2.7856680000869787,
          2.7856680000869787,
          2.7856680000869787,
          2.7856680000869787,
          2.7856680000869787,
          2.8729691957783268,
          2.8729691957783268,
          2.8729691957783268,
          2.8729691957783268,
          2.8729691957783268,
          2.8729691957783268,
          2.8729691957783268,
          2.960270391469675,
          2.960270391469675,
          2.960270391469675,
          2.960270391469675,
          2.960270391469675,
          2.960270391469675,
          3.047571587161023,
          3.047571587161023,
          3.047571587161023,
          3.047571587161023,
          3.047571587161023,
          3.047571587161023,
          3.047571587161023,
          3.134872782852371,
          3.134872782852371,
          3.134872782852371,
          3.134872782852371,
          3.134872782852371,
          3.134872782852371,
          3.134872782852371,
          3.134872782852371,
          3.134872782852371,
          3.134872782852371,
          3.2221739785437187,
          3.2221739785437187,
          3.2221739785437187,
          3.3094751742350668,
          3.3094751742350668,
          3.3094751742350668,
          3.3094751742350668,
          3.396776369926415,
          3.396776369926415,
          3.396776369926415,
          3.396776369926415,
          3.396776369926415,
          3.396776369926415,
          3.396776369926415,
          3.484077565617763,
          3.484077565617763,
          3.484077565617763,
          3.484077565617763,
          3.484077565617763,
          3.484077565617763,
          3.484077565617763,
          3.484077565617763,
          3.571378761309111,
          3.571378761309111,
          3.571378761309111,
          3.571378761309111,
          3.6586799570004587,
          3.6586799570004587,
          3.6586799570004587,
          3.6586799570004587,
          3.6586799570004587,
          3.6586799570004587,
          3.6586799570004587,
          3.6586799570004587,
          3.6586799570004587,
          3.745981152691807,
          3.745981152691807,
          3.745981152691807,
          3.833282348383155,
          3.833282348383155,
          3.833282348383155,
          3.833282348383155,
          3.833282348383155,
          3.833282348383155,
          3.833282348383155,
          3.833282348383155,
          3.833282348383155,
          3.833282348383155,
          3.920583544074503,
          3.920583544074503,
          3.920583544074503,
          3.920583544074503,
          4.007884739765851,
          4.007884739765851,
          4.007884739765851,
          4.007884739765851,
          4.007884739765851,
          4.007884739765851,
          4.007884739765851,
          4.007884739765851,
          4.095185935457199,
          4.095185935457199,
          4.095185935457199,
          4.095185935457199,
          4.095185935457199,
          4.182487131148547,
          4.182487131148547,
          4.182487131148547,
          4.182487131148547,
          4.182487131148547,
          4.182487131148547,
          4.182487131148547,
          4.182487131148547,
          4.182487131148547,
          4.182487131148547,
          4.269788326839895,
          4.269788326839895,
          4.269788326839895,
          4.269788326839895,
          4.269788326839895,
          4.269788326839895,
          4.357089522531243,
          4.357089522531243,
          4.357089522531243,
          4.357089522531243,
          4.357089522531243,
          4.444390718222591,
          4.444390718222591,
          4.444390718222591,
          4.444390718222591,
          4.444390718222591,
          4.444390718222591,
          4.444390718222591,
          4.531691913913939,
          4.531691913913939,
          4.531691913913939,
          4.531691913913939,
          4.531691913913939,
          4.618993109605287,
          4.618993109605287,
          4.618993109605287,
          4.618993109605287,
          4.618993109605287,
          4.706294305296636,
          4.706294305296636,
          4.706294305296636,
          4.706294305296636,
          4.706294305296636,
          4.793595500987983,
          4.793595500987983,
          4.793595500987983,
          4.793595500987983,
          4.793595500987983,
          4.793595500987983,
          4.880896696679331,
          4.880896696679331,
          4.880896696679331,
          4.968197892370679,
          4.968197892370679,
          4.968197892370679,
          4.968197892370679,
          4.968197892370679,
          5.055499088062027,
          5.055499088062027,
          5.055499088062027,
          5.055499088062027,
          5.055499088062027,
          5.142800283753376,
          5.142800283753376,
          5.142800283753376,
          5.142800283753376,
          5.142800283753376,
          5.142800283753376,
          5.142800283753376,
          5.230101479444723,
          5.317402675136071,
          5.317402675136071,
          5.317402675136071,
          5.317402675136071,
          5.4047038708274195,
          5.4047038708274195,
          5.4047038708274195,
          5.4047038708274195,
          5.4047038708274195,
          5.4047038708274195,
          5.492005066518767,
          5.492005066518767,
          5.492005066518767,
          5.492005066518767,
          5.492005066518767,
          5.492005066518767,
          5.579306262210116,
          5.579306262210116,
          5.579306262210116,
          5.579306262210116,
          5.579306262210116,
          5.579306262210116,
          5.579306262210116,
          5.666607457901463,
          5.666607457901463,
          5.666607457901463,
          5.753908653592811,
          5.753908653592811,
          5.753908653592811,
          5.8412098492841595,
          5.928511044975508,
          5.928511044975508,
          5.928511044975508,
          5.928511044975508,
          5.928511044975508,
          6.015812240666856,
          6.015812240666856,
          6.015812240666856,
          6.015812240666856,
          6.103113436358203,
          6.190414632049551,
          6.190414632049551,
          6.190414632049551,
          6.190414632049551,
          6.190414632049551,
          6.365017023432247,
          6.365017023432247,
          6.365017023432247,
          6.365017023432247,
          6.452318219123596,
          6.452318219123596,
          6.452318219123596,
          6.452318219123596,
          6.452318219123596,
          6.539619414814943,
          6.539619414814943,
          6.539619414814943,
          6.539619414814943,
          6.539619414814943,
          6.539619414814943,
          6.539619414814943,
          6.626920610506292,
          6.626920610506292,
          6.626920610506292,
          6.7142218061976395,
          6.7142218061976395,
          6.7142218061976395,
          6.801523001888988,
          6.801523001888988,
          6.801523001888988,
          6.801523001888988,
          6.888824197580336,
          6.888824197580336,
          6.888824197580336,
          6.976125393271683,
          7.063426588963032,
          7.063426588963032,
          7.063426588963032,
          7.063426588963032,
          7.063426588963032,
          7.063426588963032,
          7.063426588963032,
          7.1507277846543795,
          7.1507277846543795,
          7.238028980345728,
          7.238028980345728,
          7.325330176037076,
          7.325330176037076,
          7.325330176037076,
          7.412631371728423,
          7.499932567419772,
          7.499932567419772,
          7.499932567419772,
          7.499932567419772,
          7.674534958802468,
          7.761836154493816,
          7.849137350185164,
          7.849137350185164,
          7.936438545876512,
          7.936438545876512,
          7.936438545876512,
          7.936438545876512,
          7.936438545876512,
          8.023739741567859,
          8.023739741567859,
          8.111040937259208,
          8.111040937259208,
          8.111040937259208,
          8.111040937259208,
          8.198342132950556,
          8.198342132950556,
          8.198342132950556,
          8.198342132950556,
          8.198342132950556,
          8.372944524333253,
          8.4602457200246,
          8.4602457200246,
          8.547546915715948,
          8.634848111407296,
          8.634848111407296,
          8.634848111407296,
          8.634848111407296,
          8.722149307098643,
          8.809450502789993,
          8.89675169848134,
          8.89675169848134,
          8.89675169848134,
          8.984052894172688,
          9.071354089864036,
          9.245956481246733,
          9.245956481246733,
          9.33325767693808,
          9.33325767693808,
          9.33325767693808,
          9.420558872629428,
          9.420558872629428,
          9.507860068320777,
          9.507860068320777,
          9.507860068320777,
          9.507860068320777,
          9.507860068320777,
          9.507860068320777,
          9.507860068320777,
          9.595161264012123,
          9.595161264012123,
          9.595161264012123,
          9.682462459703473,
          9.944366046777517,
          9.944366046777517,
          10.031667242468863,
          10.031667242468863,
          10.031667242468863,
          10.118968438160213,
          10.20626963385156,
          10.20626963385156,
          10.293570829542908,
          10.293570829542908,
          10.380872025234256,
          10.380872025234256,
          10.380872025234256,
          10.468173220925605,
          10.468173220925605,
          10.468173220925605,
          10.468173220925605,
          10.6427756123083,
          10.730076807999648,
          10.817378003690996,
          10.817378003690996,
          10.904679199382345,
          10.904679199382345,
          10.904679199382345,
          11.07928159076504,
          11.166582786456388,
          11.166582786456388,
          11.166582786456388,
          11.253883982147737,
          11.253883982147737,
          11.341185177839085,
          11.341185177839085,
          11.428486373530433,
          11.51578756922178,
          11.51578756922178,
          11.51578756922178,
          11.51578756922178,
          11.51578756922178,
          11.603088764913128,
          11.690389960604477,
          11.690389960604477,
          11.95229354767852,
          12.039594743369868,
          12.126895939061217,
          12.126895939061217,
          12.214197134752565,
          12.214197134752565,
          12.38879952613526,
          12.476100721826608,
          12.650703113209305,
          12.738004308900653,
          12.738004308900653,
          12.825305504592,
          12.825305504592,
          12.999907895974697,
          12.999907895974697,
          13.174510287357393,
          13.26181148304874,
          13.26181148304874,
          13.34911267874009,
          13.523715070122785,
          13.523715070122785,
          13.523715070122785,
          13.611016265814133,
          13.69831746150548,
          13.78561865719683,
          13.78561865719683,
          13.872919852888177,
          14.22212463565357,
          14.571329418418962,
          14.571329418418962,
          14.65863061411031,
          14.65863061411031,
          14.745931809801657,
          14.833233005493005,
          14.833233005493005,
          14.833233005493005,
          14.920534201184353,
          15.09513659256705,
          15.182437788258397,
          15.182437788258397,
          15.182437788258397,
          15.357040179641093,
          15.444341375332442,
          15.444341375332442,
          15.444341375332442,
          15.618943766715137,
          15.706244962406485,
          15.706244962406485,
          15.706244962406485,
          15.793546158097833,
          15.793546158097833,
          16.055449745171877,
          16.142750940863223,
          16.230052136554576,
          16.230052136554576,
          16.317353332245922,
          16.317353332245922,
          16.317353332245922,
          16.666558115011313,
          16.753859310702662,
          16.753859310702662,
          16.84116050639401,
          17.015762897776703,
          17.103064093468056,
          17.103064093468056,
          17.190365289159402,
          17.277666484850748,
          17.277666484850748,
          17.364967680542097,
          17.452268876233447,
          17.452268876233447,
          17.539570071924793,
          17.71417246330749,
          17.801473658998837,
          17.801473658998837,
          17.888774854690187,
          17.976076050381536,
          18.063377246072882,
          18.150678441764228,
          18.325280833146927,
          18.849088007295013,
          18.849088007295013,
          18.849088007295013,
          18.936389202986362,
          19.110991594369057,
          19.285593985751753,
          19.547497572825797,
          19.722099964208493,
          19.722099964208493,
          19.89670235559119,
          20.245907138356582,
          20.245907138356582,
          20.33320833404793,
          20.420509529739277,
          20.76971431250467,
          21.031617899578716,
          21.031617899578716,
          21.118919095270062,
          21.118919095270062,
          21.20622029096141,
          21.293521486652757,
          21.64272626941815,
          21.64272626941815,
          21.730027465109497,
          21.904629856492196,
          21.991931052183542,
          21.991931052183542,
          22.253834639257587,
          22.428437030640282,
          22.51573822633163,
          22.51573822633163,
          22.864943009097022,
          23.301448987553762,
          23.38875018324511,
          23.38875018324511,
          23.47605137893646,
          24.087159748775896,
          24.087159748775896,
          24.34906333584994,
          25.13477409707207,
          25.483978879837462,
          25.745882466911507,
          25.745882466911507,
          25.920484858294202,
          26.0950872496769,
          26.182388445368247,
          26.269689641059596,
          26.356990836750946,
          26.44429203244229,
          26.53159322813364,
          27.142701597973076,
          27.928412359195207,
          27.928412359195207,
          28.19031594626925,
          28.801424316108687,
          28.976026707491386,
          29.67443627302217,
          29.761737468713516,
          30.02364105578756,
          30.198243447170256,
          30.4601470342443,
          30.634749425626996,
          31.071255404083736,
          31.42046018684913,
          31.944267360997216,
          32.72997812221935,
          33.341086492058785,
          33.60299007913283,
          33.690291274824176,
          34.38870084035496,
          34.737905623120355,
          35.87282116710787,
          36.92043551540405,
          37.706146276626185,
          38.57915823353967,
          38.57915823353967,
          40.58708573444068,
          43.20612160518111,
          47.04737421560043,
          48.79339812942739,
          54.90448182782174,
          57.26161411148814,
          57.436216502870835,
          58.134626068401616,
          58.658433242549705,
          59.0076380253151,
          64.50761335387003,
          67.12664922461046,
          70.61869705226438,
          79.78532259985593,
          82.66626205767041
         ],
         "yaxis": "y"
        }
       ],
       "layout": {
        "height": 800,
        "legend": {
         "tracegroupgap": 0
        },
        "margin": {
         "t": 60
        },
        "template": {
         "data": {
          "bar": [
           {
            "error_x": {
             "color": "#2a3f5f"
            },
            "error_y": {
             "color": "#2a3f5f"
            },
            "marker": {
             "line": {
              "color": "#E5ECF6",
              "width": 0.5
             },
             "pattern": {
              "fillmode": "overlay",
              "size": 10,
              "solidity": 0.2
             }
            },
            "type": "bar"
           }
          ],
          "barpolar": [
           {
            "marker": {
             "line": {
              "color": "#E5ECF6",
              "width": 0.5
             },
             "pattern": {
              "fillmode": "overlay",
              "size": 10,
              "solidity": 0.2
             }
            },
            "type": "barpolar"
           }
          ],
          "carpet": [
           {
            "aaxis": {
             "endlinecolor": "#2a3f5f",
             "gridcolor": "white",
             "linecolor": "white",
             "minorgridcolor": "white",
             "startlinecolor": "#2a3f5f"
            },
            "baxis": {
             "endlinecolor": "#2a3f5f",
             "gridcolor": "white",
             "linecolor": "white",
             "minorgridcolor": "white",
             "startlinecolor": "#2a3f5f"
            },
            "type": "carpet"
           }
          ],
          "choropleth": [
           {
            "colorbar": {
             "outlinewidth": 0,
             "ticks": ""
            },
            "type": "choropleth"
           }
          ],
          "contour": [
           {
            "colorbar": {
             "outlinewidth": 0,
             "ticks": ""
            },
            "colorscale": [
             [
              0,
              "#0d0887"
             ],
             [
              0.1111111111111111,
              "#46039f"
             ],
             [
              0.2222222222222222,
              "#7201a8"
             ],
             [
              0.3333333333333333,
              "#9c179e"
             ],
             [
              0.4444444444444444,
              "#bd3786"
             ],
             [
              0.5555555555555556,
              "#d8576b"
             ],
             [
              0.6666666666666666,
              "#ed7953"
             ],
             [
              0.7777777777777778,
              "#fb9f3a"
             ],
             [
              0.8888888888888888,
              "#fdca26"
             ],
             [
              1,
              "#f0f921"
             ]
            ],
            "type": "contour"
           }
          ],
          "contourcarpet": [
           {
            "colorbar": {
             "outlinewidth": 0,
             "ticks": ""
            },
            "type": "contourcarpet"
           }
          ],
          "heatmap": [
           {
            "colorbar": {
             "outlinewidth": 0,
             "ticks": ""
            },
            "colorscale": [
             [
              0,
              "#0d0887"
             ],
             [
              0.1111111111111111,
              "#46039f"
             ],
             [
              0.2222222222222222,
              "#7201a8"
             ],
             [
              0.3333333333333333,
              "#9c179e"
             ],
             [
              0.4444444444444444,
              "#bd3786"
             ],
             [
              0.5555555555555556,
              "#d8576b"
             ],
             [
              0.6666666666666666,
              "#ed7953"
             ],
             [
              0.7777777777777778,
              "#fb9f3a"
             ],
             [
              0.8888888888888888,
              "#fdca26"
             ],
             [
              1,
              "#f0f921"
             ]
            ],
            "type": "heatmap"
           }
          ],
          "heatmapgl": [
           {
            "colorbar": {
             "outlinewidth": 0,
             "ticks": ""
            },
            "colorscale": [
             [
              0,
              "#0d0887"
             ],
             [
              0.1111111111111111,
              "#46039f"
             ],
             [
              0.2222222222222222,
              "#7201a8"
             ],
             [
              0.3333333333333333,
              "#9c179e"
             ],
             [
              0.4444444444444444,
              "#bd3786"
             ],
             [
              0.5555555555555556,
              "#d8576b"
             ],
             [
              0.6666666666666666,
              "#ed7953"
             ],
             [
              0.7777777777777778,
              "#fb9f3a"
             ],
             [
              0.8888888888888888,
              "#fdca26"
             ],
             [
              1,
              "#f0f921"
             ]
            ],
            "type": "heatmapgl"
           }
          ],
          "histogram": [
           {
            "marker": {
             "pattern": {
              "fillmode": "overlay",
              "size": 10,
              "solidity": 0.2
             }
            },
            "type": "histogram"
           }
          ],
          "histogram2d": [
           {
            "colorbar": {
             "outlinewidth": 0,
             "ticks": ""
            },
            "colorscale": [
             [
              0,
              "#0d0887"
             ],
             [
              0.1111111111111111,
              "#46039f"
             ],
             [
              0.2222222222222222,
              "#7201a8"
             ],
             [
              0.3333333333333333,
              "#9c179e"
             ],
             [
              0.4444444444444444,
              "#bd3786"
             ],
             [
              0.5555555555555556,
              "#d8576b"
             ],
             [
              0.6666666666666666,
              "#ed7953"
             ],
             [
              0.7777777777777778,
              "#fb9f3a"
             ],
             [
              0.8888888888888888,
              "#fdca26"
             ],
             [
              1,
              "#f0f921"
             ]
            ],
            "type": "histogram2d"
           }
          ],
          "histogram2dcontour": [
           {
            "colorbar": {
             "outlinewidth": 0,
             "ticks": ""
            },
            "colorscale": [
             [
              0,
              "#0d0887"
             ],
             [
              0.1111111111111111,
              "#46039f"
             ],
             [
              0.2222222222222222,
              "#7201a8"
             ],
             [
              0.3333333333333333,
              "#9c179e"
             ],
             [
              0.4444444444444444,
              "#bd3786"
             ],
             [
              0.5555555555555556,
              "#d8576b"
             ],
             [
              0.6666666666666666,
              "#ed7953"
             ],
             [
              0.7777777777777778,
              "#fb9f3a"
             ],
             [
              0.8888888888888888,
              "#fdca26"
             ],
             [
              1,
              "#f0f921"
             ]
            ],
            "type": "histogram2dcontour"
           }
          ],
          "mesh3d": [
           {
            "colorbar": {
             "outlinewidth": 0,
             "ticks": ""
            },
            "type": "mesh3d"
           }
          ],
          "parcoords": [
           {
            "line": {
             "colorbar": {
              "outlinewidth": 0,
              "ticks": ""
             }
            },
            "type": "parcoords"
           }
          ],
          "pie": [
           {
            "automargin": true,
            "type": "pie"
           }
          ],
          "scatter": [
           {
            "marker": {
             "colorbar": {
              "outlinewidth": 0,
              "ticks": ""
             }
            },
            "type": "scatter"
           }
          ],
          "scatter3d": [
           {
            "line": {
             "colorbar": {
              "outlinewidth": 0,
              "ticks": ""
             }
            },
            "marker": {
             "colorbar": {
              "outlinewidth": 0,
              "ticks": ""
             }
            },
            "type": "scatter3d"
           }
          ],
          "scattercarpet": [
           {
            "marker": {
             "colorbar": {
              "outlinewidth": 0,
              "ticks": ""
             }
            },
            "type": "scattercarpet"
           }
          ],
          "scattergeo": [
           {
            "marker": {
             "colorbar": {
              "outlinewidth": 0,
              "ticks": ""
             }
            },
            "type": "scattergeo"
           }
          ],
          "scattergl": [
           {
            "marker": {
             "colorbar": {
              "outlinewidth": 0,
              "ticks": ""
             }
            },
            "type": "scattergl"
           }
          ],
          "scattermapbox": [
           {
            "marker": {
             "colorbar": {
              "outlinewidth": 0,
              "ticks": ""
             }
            },
            "type": "scattermapbox"
           }
          ],
          "scatterpolar": [
           {
            "marker": {
             "colorbar": {
              "outlinewidth": 0,
              "ticks": ""
             }
            },
            "type": "scatterpolar"
           }
          ],
          "scatterpolargl": [
           {
            "marker": {
             "colorbar": {
              "outlinewidth": 0,
              "ticks": ""
             }
            },
            "type": "scatterpolargl"
           }
          ],
          "scatterternary": [
           {
            "marker": {
             "colorbar": {
              "outlinewidth": 0,
              "ticks": ""
             }
            },
            "type": "scatterternary"
           }
          ],
          "surface": [
           {
            "colorbar": {
             "outlinewidth": 0,
             "ticks": ""
            },
            "colorscale": [
             [
              0,
              "#0d0887"
             ],
             [
              0.1111111111111111,
              "#46039f"
             ],
             [
              0.2222222222222222,
              "#7201a8"
             ],
             [
              0.3333333333333333,
              "#9c179e"
             ],
             [
              0.4444444444444444,
              "#bd3786"
             ],
             [
              0.5555555555555556,
              "#d8576b"
             ],
             [
              0.6666666666666666,
              "#ed7953"
             ],
             [
              0.7777777777777778,
              "#fb9f3a"
             ],
             [
              0.8888888888888888,
              "#fdca26"
             ],
             [
              1,
              "#f0f921"
             ]
            ],
            "type": "surface"
           }
          ],
          "table": [
           {
            "cells": {
             "fill": {
              "color": "#EBF0F8"
             },
             "line": {
              "color": "white"
             }
            },
            "header": {
             "fill": {
              "color": "#C8D4E3"
             },
             "line": {
              "color": "white"
             }
            },
            "type": "table"
           }
          ]
         },
         "layout": {
          "annotationdefaults": {
           "arrowcolor": "#2a3f5f",
           "arrowhead": 0,
           "arrowwidth": 1
          },
          "autotypenumbers": "strict",
          "coloraxis": {
           "colorbar": {
            "outlinewidth": 0,
            "ticks": ""
           }
          },
          "colorscale": {
           "diverging": [
            [
             0,
             "#8e0152"
            ],
            [
             0.1,
             "#c51b7d"
            ],
            [
             0.2,
             "#de77ae"
            ],
            [
             0.3,
             "#f1b6da"
            ],
            [
             0.4,
             "#fde0ef"
            ],
            [
             0.5,
             "#f7f7f7"
            ],
            [
             0.6,
             "#e6f5d0"
            ],
            [
             0.7,
             "#b8e186"
            ],
            [
             0.8,
             "#7fbc41"
            ],
            [
             0.9,
             "#4d9221"
            ],
            [
             1,
             "#276419"
            ]
           ],
           "sequential": [
            [
             0,
             "#0d0887"
            ],
            [
             0.1111111111111111,
             "#46039f"
            ],
            [
             0.2222222222222222,
             "#7201a8"
            ],
            [
             0.3333333333333333,
             "#9c179e"
            ],
            [
             0.4444444444444444,
             "#bd3786"
            ],
            [
             0.5555555555555556,
             "#d8576b"
            ],
            [
             0.6666666666666666,
             "#ed7953"
            ],
            [
             0.7777777777777778,
             "#fb9f3a"
            ],
            [
             0.8888888888888888,
             "#fdca26"
            ],
            [
             1,
             "#f0f921"
            ]
           ],
           "sequentialminus": [
            [
             0,
             "#0d0887"
            ],
            [
             0.1111111111111111,
             "#46039f"
            ],
            [
             0.2222222222222222,
             "#7201a8"
            ],
            [
             0.3333333333333333,
             "#9c179e"
            ],
            [
             0.4444444444444444,
             "#bd3786"
            ],
            [
             0.5555555555555556,
             "#d8576b"
            ],
            [
             0.6666666666666666,
             "#ed7953"
            ],
            [
             0.7777777777777778,
             "#fb9f3a"
            ],
            [
             0.8888888888888888,
             "#fdca26"
            ],
            [
             1,
             "#f0f921"
            ]
           ]
          },
          "colorway": [
           "#636efa",
           "#EF553B",
           "#00cc96",
           "#ab63fa",
           "#FFA15A",
           "#19d3f3",
           "#FF6692",
           "#B6E880",
           "#FF97FF",
           "#FECB52"
          ],
          "font": {
           "color": "#2a3f5f"
          },
          "geo": {
           "bgcolor": "white",
           "lakecolor": "white",
           "landcolor": "#E5ECF6",
           "showlakes": true,
           "showland": true,
           "subunitcolor": "white"
          },
          "hoverlabel": {
           "align": "left"
          },
          "hovermode": "closest",
          "mapbox": {
           "style": "light"
          },
          "paper_bgcolor": "white",
          "plot_bgcolor": "#E5ECF6",
          "polar": {
           "angularaxis": {
            "gridcolor": "white",
            "linecolor": "white",
            "ticks": ""
           },
           "bgcolor": "#E5ECF6",
           "radialaxis": {
            "gridcolor": "white",
            "linecolor": "white",
            "ticks": ""
           }
          },
          "scene": {
           "xaxis": {
            "backgroundcolor": "#E5ECF6",
            "gridcolor": "white",
            "gridwidth": 2,
            "linecolor": "white",
            "showbackground": true,
            "ticks": "",
            "zerolinecolor": "white"
           },
           "yaxis": {
            "backgroundcolor": "#E5ECF6",
            "gridcolor": "white",
            "gridwidth": 2,
            "linecolor": "white",
            "showbackground": true,
            "ticks": "",
            "zerolinecolor": "white"
           },
           "zaxis": {
            "backgroundcolor": "#E5ECF6",
            "gridcolor": "white",
            "gridwidth": 2,
            "linecolor": "white",
            "showbackground": true,
            "ticks": "",
            "zerolinecolor": "white"
           }
          },
          "shapedefaults": {
           "line": {
            "color": "#2a3f5f"
           }
          },
          "ternary": {
           "aaxis": {
            "gridcolor": "white",
            "linecolor": "white",
            "ticks": ""
           },
           "baxis": {
            "gridcolor": "white",
            "linecolor": "white",
            "ticks": ""
           },
           "bgcolor": "#E5ECF6",
           "caxis": {
            "gridcolor": "white",
            "linecolor": "white",
            "ticks": ""
           }
          },
          "title": {
           "x": 0.05
          },
          "xaxis": {
           "automargin": true,
           "gridcolor": "white",
           "linecolor": "white",
           "ticks": "",
           "title": {
            "standoff": 15
           },
           "zerolinecolor": "white",
           "zerolinewidth": 2
          },
          "yaxis": {
           "automargin": true,
           "gridcolor": "white",
           "linecolor": "white",
           "ticks": "",
           "title": {
            "standoff": 15
           },
           "zerolinecolor": "white",
           "zerolinewidth": 2
          }
         }
        },
        "width": 800,
        "xaxis": {
         "anchor": "y",
         "domain": [
          0,
          1
         ],
         "title": {
          "text": "voten"
         }
        },
        "yaxis": {
         "anchor": "x",
         "domain": [
          0,
          1
         ],
         "title": {
          "text": "erstunterzeichner"
         }
        }
       }
      }
     },
     "metadata": {},
     "output_type": "display_data"
    }
   ],
   "source": [
    "# Group Geschaeft\n",
    "df_geschaeft = df_geschaeft_raw.groupby('_name').agg(\n",
    "    erstunterzeichner = ('titel', 'count'),\n",
    "    partei = ('erstunterzeichnerpartei', 'first'),\n",
    "    letztes_geschaeft = ('eingereicht', 'last')\n",
    ")\n",
    "\n",
    "# Drop Präsident in Votum\n",
    "df_votum = df_votum_raw[df_votum_raw.funktion.isna()]\n",
    "df_votum = df_votum.groupby('_name').agg(\n",
    "    voten = ('session', 'count'),\n",
    "    letztes_votum = ('sitzung_date', 'last')\n",
    ")\n",
    "\n",
    "# Join!\n",
    "df = df_votum.join(df_geschaeft)\n",
    "\n",
    "#Fillna\n",
    "df = df.fillna(0)\n",
    "\n",
    "# Calc Abweichung\n",
    "df['factor'] = 0\n",
    "\n",
    "df.loc[df.erstunterzeichner > 0, 'factor'] = round(df['erstunterzeichner'] / df['voten'], 3)\n",
    "df = df.sort_values('factor')\n",
    "\n",
    "#df = df.reset_index()\n",
    "df.reset_index().plot.scatter(x = 'voten', y = 'erstunterzeichner', hover_data = ['_name', 'partei'], trendline=\"ols\", width = 800, height = 800)\n"
   ]
  },
  {
   "cell_type": "code",
   "execution_count": null,
   "metadata": {},
   "outputs": [],
   "source": []
  }
 ],
 "metadata": {
  "interpreter": {
   "hash": "0d89f51c21e61334fa582c5b112d16d67677dd53345d4e7223b029a81b433160"
  },
  "kernelspec": {
   "display_name": "Python 3.9.0 64-bit ('env': venv)",
   "language": "python",
   "name": "python3"
  },
  "language_info": {
   "codemirror_mode": {
    "name": "ipython",
    "version": 3
   },
   "file_extension": ".py",
   "mimetype": "text/x-python",
   "name": "python",
   "nbconvert_exporter": "python",
   "pygments_lexer": "ipython3",
   "version": "3.9.6"
  },
  "orig_nbformat": 4
 },
 "nbformat": 4,
 "nbformat_minor": 2
}
