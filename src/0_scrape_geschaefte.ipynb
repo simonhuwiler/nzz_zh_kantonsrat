{
 "cells": [
  {
   "cell_type": "markdown",
   "metadata": {},
   "source": [
    "# Scrape Geschäfte"
   ]
  },
  {
   "cell_type": "code",
   "execution_count": 1,
   "metadata": {},
   "outputs": [],
   "source": [
    "import urllib\n",
    "import calendar\n",
    "import requests\n",
    "from pathlib import Path\n",
    "import glob, os\n",
    "import xml.etree.ElementTree as ET\n",
    "import pandas as pd\n",
    "import json\n",
    "import utils\n",
    "from dateutil import parser"
   ]
  },
  {
   "cell_type": "markdown",
   "metadata": {},
   "source": [
    "## 1. Load all Geschäfte"
   ]
  },
  {
   "cell_type": "code",
   "execution_count": 2,
   "metadata": {},
   "outputs": [
    {
     "name": "stdout",
     "output_type": "stream",
     "text": [
      "Years: 2001 - 2022\n"
     ]
    }
   ],
   "source": [
    "url = 'https://parlzhcdws.cmicloud.ch/parlzh5/cdws/Index/GESCHAEFT/searchdetails?q=%s&l=de-CH'\n",
    "\n",
    "year_from = 2001\n",
    "year_to = 2022\n",
    "print(\"Years: %s - %s\" % (year_from, year_to))\n",
    "for year in range(year_from, year_to):\n",
    "    for i in range(0, 3):\n",
    "        #print(\"%s %s\" % (year, i))\n",
    "\n",
    "        # First day\n",
    "        d_start = '%s-%02d-01 00:00:00' % (year, i * 4 + 1)\n",
    "\n",
    "        # Last day\n",
    "        l = calendar.monthrange(year, (i + 1) * 4)[-1]\n",
    "        d_end = '%s-%02d-%s 23:59:00' % (year, (i + 1) * 4, l)\n",
    "\n",
    "        q = 'beginn_start >= \"%s\" and beginn_end <= \"%s\" sortBy beginn_start/sort.descending krnr/sort.descending' % (d_start, d_end)\n",
    "\n",
    "        r = requests.get(url % urllib.parse.quote(q))\n",
    "        with open(Path('../export/GESCHAEFT/%s_%s.xml' % (year, i)), 'wb') as f:\n",
    "            f.write(r.content)\n"
   ]
  },
  {
   "cell_type": "markdown",
   "metadata": {},
   "source": [
    "## 2. Create DataFrame from XML"
   ]
  },
  {
   "cell_type": "code",
   "execution_count": 2,
   "metadata": {},
   "outputs": [],
   "source": [
    "# Parse all XML and create Dataframe\n",
    "ns = {\n",
    "    'g': 'http://www.cmiag.ch/cdws/Geschaeft'\n",
    "    }\n",
    "\n",
    "records = []\n",
    "\n",
    "# Open all xml-files\n",
    "for f in glob.glob(str(Path('../export/GESCHAEFT/*.xml'))):\n",
    "    tree = ET.parse(f)\n",
    "    root = tree.getroot()\n",
    "\n",
    "    try:\n",
    "\n",
    "        for g in root.findall('.//g:Geschaeft', ns):\n",
    "\n",
    "            if g.find('g:PendentBeiNeu/g:Organisationseinheit/g:Name', ns) == None:\n",
    "                continue\n",
    "\n",
    "            # Find Erstunterzeichner:in\n",
    "            erstunterzeichner = {'name': '', 'vorname': '', 'istkantonsrat': False, 'partei': ''}\n",
    "            for beteiligung in g.findall('g:Beteiligungen/g:Beteiligung', ns):\n",
    "                if (beteiligung.find('g:Rolle', ns).text != None) and ('erstunterzeichner' in beteiligung.find('g:Rolle', ns).text.lower()):\n",
    "                    erstunterzeichner['vorname'] = beteiligung.find('g:Vorname', ns).text\n",
    "                    erstunterzeichner['name'] = beteiligung.find('g:Name', ns).text\n",
    "                    erstunterzeichner['istkantonsrat'] = beteiligung.find('g:IstKantonsrat', ns).text\n",
    "                    erstunterzeichner['partei'] = beteiligung.find('g:ParteiKurzname', ns).text\n",
    "\n",
    "                    if type(erstunterzeichner['istkantonsrat']) == str:\n",
    "                      erstunterzeichner['istkantonsrat'] = True if erstunterzeichner['istkantonsrat'].lower() == 'true' else False\n",
    "                    break\n",
    "\n",
    "            # Find last Ablaufschritt\n",
    "            ablaufschritte = map(lambda x: {\n",
    "                'Start': parser.parse(x.find('g:Sitzungsdatum/g:Start', ns).text),\n",
    "                'AblaufschrittTyp': x.find('g:AblaufschrittTyp', ns).text,\n",
    "                'StatusText': x.find('g:StatusText', ns).text,\n",
    "                }, g.findall('g:Ablaufschritte/g:Ablaufschritt', ns))\n",
    "\n",
    "            ablaufschritte = sorted(ablaufschritte, key = lambda x: x['Start'], reverse = True)\n",
    "\n",
    "            # Add Record\n",
    "            records.append({\n",
    "                'krnr': g.find('g:KRNr', ns).text,\n",
    "                'vorlagenr': g.find('g:VorlageNr', ns).text,\n",
    "                'titel': g.find('g:Titel', ns).text,\n",
    "                'geschaeftsart': g.find('g:Geschaeftsart', ns).text,\n",
    "                'behandelndekommission': g.find('g:BehandelndeKommission', ns).text,\n",
    "                'behandelndekommissionkurzname': g.find('g:BehandelndeKommissionKurzname', ns).text,\n",
    "                'direktion': g.find('g:Direktion', ns).text,\n",
    "                'direktionKurzname': g.find('g:DirektionKurzname', ns).text,\n",
    "                'start': parser.parse(g.find('g:Beginn/g:Start', ns).text),\n",
    "                'end': parser.parse(g.find('g:Beginn/g:End', ns).text),\n",
    "                'zusammenfassung': g.find('g:Zusammenfassung', ns).text,\n",
    "                'status': g.find('g:PendentBeiNeu/g:Organisationseinheit/g:Name', ns).text,\n",
    "                'erstunterzeichnervorname': erstunterzeichner['vorname'],\n",
    "                'erstunterzeichnername': erstunterzeichner['name'],\n",
    "                'erstunterzeichneristkantonsrat': erstunterzeichner['istkantonsrat'],\n",
    "                'erstunterzeichnerpartei': erstunterzeichner['partei'],\n",
    "                'letzterschrittstart': ablaufschritte[0]['Start'],\n",
    "                'letzterschritttyp': ablaufschritte[0]['AblaufschrittTyp'],\n",
    "                'letzterschritttext': ablaufschritte[0]['StatusText'],\n",
    "            })\n",
    "\n",
    "    except:\n",
    "        print(f)\n",
    "        print(g.find('g:KRNr', ns).text)\n",
    "        raise\n",
    "\n",
    "df_raw = pd.DataFrame(records)\n",
    "df_raw = df_raw.sort_values('start')"
   ]
  },
  {
   "cell_type": "markdown",
   "metadata": {},
   "source": [
    "## Join with Member Data"
   ]
  },
  {
   "cell_type": "code",
   "execution_count": 3,
   "metadata": {},
   "outputs": [],
   "source": [
    "with open(Path('../export/mitglieder.json'), encoding='utf-8') as f:\n",
    "    mitglieder = json.load(f)\n",
    "\n",
    "df_mitglieder = pd.DataFrame(list(map(lambda m: {'name': m['name'], 'vorname': m['vorname'], 'geschlecht': m['geschlecht'], 'jahrgang': m['jahrgang']}, mitglieder)))"
   ]
  },
  {
   "cell_type": "code",
   "execution_count": 4,
   "metadata": {},
   "outputs": [],
   "source": [
    "df = df_raw.copy()\n",
    "df['_name'] = df.apply(lambda row: \"%s %s\" % (row['erstunterzeichnervorname'], row['erstunterzeichnername']), axis=1)\n",
    "\n",
    "# Replace some names with Aliases\n",
    "for i, row in df.iterrows():\n",
    "    for alias in utils.aliases:\n",
    "        if alias[0].lower() == row['_name'].lower():\n",
    "            df.loc[i, 'erstunterzeichnername'] = alias[2]\n",
    "            df.loc[i, 'erstunterzeichnervorname'] = alias[1]\n",
    "            break"
   ]
  },
  {
   "cell_type": "code",
   "execution_count": 5,
   "metadata": {},
   "outputs": [],
   "source": [
    "df = df.merge(df_mitglieder, left_on = ['erstunterzeichnervorname', 'erstunterzeichnername'], right_on = ['vorname', 'name'], how='left')\n",
    "df.drop(columns=['name', 'vorname', '_name'], inplace=True)\n",
    "\n",
    "df.to_csv(Path('../export/geschaefte.csv'), index=False)"
   ]
  },
  {
   "cell_type": "code",
   "execution_count": null,
   "metadata": {},
   "outputs": [],
   "source": []
  }
 ],
 "metadata": {
  "interpreter": {
   "hash": "0d89f51c21e61334fa582c5b112d16d67677dd53345d4e7223b029a81b433160"
  },
  "kernelspec": {
   "display_name": "Python 3.9.0 64-bit ('env': venv)",
   "language": "python",
   "name": "python3"
  },
  "language_info": {
   "codemirror_mode": {
    "name": "ipython",
    "version": 3
   },
   "file_extension": ".py",
   "mimetype": "text/x-python",
   "name": "python",
   "nbconvert_exporter": "python",
   "pygments_lexer": "ipython3",
   "version": "3.9.6"
  },
  "orig_nbformat": 4
 },
 "nbformat": 4,
 "nbformat_minor": 2
}
