{
 "cells": [
  {
   "cell_type": "markdown",
   "metadata": {},
   "source": [
    "# Clean extracted data\n",
    "To do:\n",
    "* Find Names\n",
    "* Create function getAllCandidats"
   ]
  },
  {
   "cell_type": "code",
   "execution_count": 8,
   "metadata": {},
   "outputs": [],
   "source": [
    "import json\n",
    "import pandas as pd\n",
    "from pathlib import Path\n",
    "import re\n",
    "import utils"
   ]
  },
  {
   "cell_type": "code",
   "execution_count": 9,
   "metadata": {},
   "outputs": [],
   "source": [
    "# Get all files\n",
    "df = pd.read_csv(Path('../export/dokumente.csv'))\n",
    "\n",
    "# Only \"Protokoll\"\n",
    "df = df[df.dokument_kategorie == 'Protokoll']\n",
    "\n",
    "df_raete = pd.read_csv(Path('../export/mitglieder.csv'))\n",
    "df_raete['_name'] = df_raete['vorname'] +' ' + df_raete['name']\n",
    "df_raete['_name'] = df_raete['_name'].str.lower()\n",
    "\n",
    "\n",
    "# Some names are written wrong. Some changed their name (marriage). Add\n",
    "# Aliases to the dataframe\n",
    "\n",
    "for a in utils.aliases:\n",
    "    df_raete = df_raete.append({\n",
    "        '_name': a[0].lower(),\n",
    "        'name': a[2],\n",
    "        'vorname': a[1]}, ignore_index=True)"
   ]
  },
  {
   "cell_type": "code",
   "execution_count": 10,
   "metadata": {},
   "outputs": [
    {
     "name": "stdout",
     "output_type": "stream",
     "text": [
      "finito\n"
     ]
    }
   ],
   "source": [
    "# Remove this\n",
    "remove = ['Ratsvizepräsidentin', 'Ratspräsidentin', 'Regierungsrätin',\n",
    "     'Ratspräsident', 'Regierungsrat', 'Ratsvizepräsident', \n",
    "    ', Niederhasli.', ', SVP, Zürich.', ', SVP, Dinhard.',\n",
    "    ', GLP, Dübendorf.', ', SVP, Volketswil.', ', GLP, Dübendorf.',\n",
    "    ', SVP, Uetikon am See.']\n",
    "\n",
    "records = []\n",
    "notfound = []\n",
    "\n",
    "# Loop file\n",
    "for i, row in df.iterrows():\n",
    "\n",
    "    # Create Name and load\n",
    "    f = Path('../export/extracts/%s' % row['_filename']).with_suffix('.json')\n",
    "    data = json.load(open(f))\n",
    "\n",
    "    filename = Path(f).stem\n",
    "\n",
    "    for msg in data:\n",
    "        #print(msg)\n",
    "\n",
    "        # Replace double space\n",
    "        msg = msg.replace('  ', ' ')\n",
    "\n",
    "        if msg.strip() == '':\n",
    "            continue\n",
    "\n",
    "        # Remove Strings\n",
    "        for r in remove:\n",
    "            msg = msg.replace(r, '')\n",
    "\n",
    "        msg = msg.strip()\n",
    "\n",
    "        # Extract Name\n",
    "        r1 = re.findall(r\"[^(:]*\", msg)\n",
    "        if len(r1) > 0:\n",
    "            name = r1[0].strip()\n",
    "            r = df_raete[df_raete['_name'] == name.lower()]\n",
    "            # If name not found, add it to a list for manual check\n",
    "            if len(r) == 0:\n",
    "                notfound.append({\n",
    "                    'name': name,\n",
    "                    'f': filename,\n",
    "                })\n",
    "                \n",
    "            else:\n",
    "                # Name found!\n",
    "\n",
    "                # Clean text\n",
    "                text = msg\n",
    "                text = text.replace('-\\n', '')\n",
    "                text = text.replace('\\n', ' ')\n",
    "                text = text.replace('  ', ' ')\n",
    "                text = text.strip()\n",
    "\n",
    "                text = re.findall(r\".*:(.*)\", text)\n",
    "                if len(text) > 0:\n",
    "                    text = text[0].strip()\n",
    "\n",
    "                    records.append({\n",
    "                        'name': r.iloc[0]['name'],\n",
    "                        'vorname': r.iloc[0]['vorname'],\n",
    "                        'text': text,\n",
    "                        'f': filename\n",
    "                    })\n",
    "        else:\n",
    "            # No Name found\n",
    "            print('!! No Name found in:\\n%s' % msg)\n",
    "\n",
    "print(\"finito\")"
   ]
  },
  {
   "cell_type": "markdown",
   "metadata": {},
   "source": [
    "## Join with dataframe and save"
   ]
  },
  {
   "cell_type": "code",
   "execution_count": 11,
   "metadata": {},
   "outputs": [],
   "source": [
    "df_votum = pd.DataFrame(records)\n",
    "df_votum.to_csv(Path('../export/df_votum.csv'), index=False)"
   ]
  },
  {
   "cell_type": "code",
   "execution_count": null,
   "metadata": {},
   "outputs": [],
   "source": []
  }
 ],
 "metadata": {
  "interpreter": {
   "hash": "69dc94fc393d943518fcde1eb0a856b515bbecd136e3dea5800bae48efbead23"
  },
  "kernelspec": {
   "display_name": "Python 3.9.6 64-bit ('env': venv)",
   "name": "python3"
  },
  "language_info": {
   "codemirror_mode": {
    "name": "ipython",
    "version": 3
   },
   "file_extension": ".py",
   "mimetype": "text/x-python",
   "name": "python",
   "nbconvert_exporter": "python",
   "pygments_lexer": "ipython3",
   "version": "3.9.6"
  },
  "orig_nbformat": 4
 },
 "nbformat": 4,
 "nbformat_minor": 2
}
