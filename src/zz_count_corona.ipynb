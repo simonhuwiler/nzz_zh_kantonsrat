{
 "cells": [
  {
   "cell_type": "markdown",
   "metadata": {},
   "source": [
    "# Count Corona occurency\n",
    "For another Story"
   ]
  },
  {
   "cell_type": "code",
   "execution_count": 43,
   "metadata": {},
   "outputs": [],
   "source": [
    "import pandas as pd\n",
    "import json\n",
    "from pathlib import Path\n",
    "import utils\n",
    "import requests"
   ]
  },
  {
   "cell_type": "code",
   "execution_count": 36,
   "metadata": {},
   "outputs": [],
   "source": [
    "df_votum_raw = pd.concat([\n",
    "    pd.read_csv(Path('../export/votum/votum_0.csv')),\n",
    "    pd.read_csv(Path('../export/votum/votum_1.csv'))\n",
    "])\n",
    "\n",
    "# Remove non members (mostly former members who are now in the Regierungsrat)\n",
    "#df_votum_raw = df_votum_raw[df_votum_raw.ismember == True]\n",
    "\n",
    "# Typecast\n",
    "df_votum_raw['sitzung_date'] = pd.to_datetime(df_votum_raw['sitzung_date'])\n",
    "\n",
    "# Remove empty texts\n",
    "df_votum_raw = df_votum_raw[df_votum_raw.text.notna()]\n",
    "\n",
    "# Calculate Amtsjahr (Amtsjahr 2020 = 1.5.2020 - 30.4.2021)\n",
    "df_votum_raw['year'] = df_votum_raw['sitzung_date'].dt.year\n",
    "df_votum_raw['month'] = df_votum_raw['sitzung_date'].dt.month\n",
    "df_votum_raw['session'] = df_votum_raw.apply(lambda row: row['year'] if row['month'] > 5 else row['year'] - 1, axis=1)\n",
    "\n",
    "with open(Path('../export/mitglieder.json'), encoding='utf-8') as f:\n",
    "    kantonsrat = json.load(f)\n",
    "\n",
    "# Typecast\n",
    "utils.kantonsrat_to_datetime(kantonsrat)"
   ]
  },
  {
   "cell_type": "code",
   "execution_count": 38,
   "metadata": {},
   "outputs": [
    {
     "name": "stdout",
     "output_type": "stream",
     "text": [
      "Anzahl Sitzungen mit Corona-Themen: 108\n",
      "Anzahl 'Corona' oder 'Covid': 2231\n",
      "Stand: 2022-02-07 00:00:00\n"
     ]
    }
   ],
   "source": [
    "df = df_votum_raw[df_votum_raw.sitzung_date >= '2019-01-01'].copy()\n",
    "\n",
    "# Lowercase\n",
    "df['text'] = df['text'].str.lower()\n",
    "\n",
    "df['containscorona'] = df['text'].apply(lambda x: ('corona' in x) or ('covid' in x))\n",
    "\n",
    "# How many days with corona?\n",
    "df_grouped = df[df.containscorona == True].groupby('sitzung_name').agg(count = ('name', 'count'))\n",
    "print(\"Anzahl Sitzungen mit Corona-Themen: %s\" % len(df_grouped))\n",
    "\n",
    "# Count Corona\n",
    "df['count_corona'] = df['text'].apply(lambda x: x.count('corona'))\n",
    "df['count_covid'] = df['text'].apply(lambda x: x.count('covid'))\n",
    "df['count_sum'] = df['count_corona'] + df['count_covid']\n",
    "\n",
    "print(\"Anzahl 'Corona' oder 'Covid': %s\" % df['count_sum'].sum())\n",
    "print(\"Stand: %s\" % df['sitzung_date'].max())"
   ]
  }
 ],
 "metadata": {
  "interpreter": {
   "hash": "37f0ca31d41186abe10772da2ac64da7601e3a80a4b6b1bf647ed16bff654d0c"
  },
  "kernelspec": {
   "display_name": "Python 3.9.6 64-bit ('env': venv)",
   "language": "python",
   "name": "python3"
  },
  "language_info": {
   "codemirror_mode": {
    "name": "ipython",
    "version": 3
   },
   "file_extension": ".py",
   "mimetype": "text/x-python",
   "name": "python",
   "nbconvert_exporter": "python",
   "pygments_lexer": "ipython3",
   "version": "3.9.6"
  },
  "orig_nbformat": 4
 },
 "nbformat": 4,
 "nbformat_minor": 2
}
