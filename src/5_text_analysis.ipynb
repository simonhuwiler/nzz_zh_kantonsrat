{
 "cells": [
  {
   "cell_type": "markdown",
   "metadata": {},
   "source": [
    "# Und das Wort ist Fleisch geworden\n",
    "* https://textmining.wp.hs-hannover.de/Preprocessing.html\n",
    "* Tagset: https://homepage.ruhr-uni-bochum.de/stephen.berman/Korpuslinguistik/Tagsets-STTS.html"
   ]
  },
  {
   "cell_type": "code",
   "execution_count": 1,
   "metadata": {},
   "outputs": [],
   "source": [
    "import pandas as pd\n",
    "import nltk\n",
    "import json\n",
    "from pathlib import Path\n",
    "from HanTa import HanoverTagger as ht\n",
    "import glob\n",
    "import math\n",
    "import pickle\n",
    "import utils\n",
    "\n",
    "# Do once\n",
    "#nltk.download('punkt')"
   ]
  },
  {
   "cell_type": "code",
   "execution_count": 2,
   "metadata": {},
   "outputs": [],
   "source": [
    "csv_path = Path('../export/csv_for_infographics')"
   ]
  },
  {
   "cell_type": "markdown",
   "metadata": {},
   "source": [
    "## Lemmatize / Tag and store as CSV (only once, then goto: next chapter)\n",
    "Store lemmatized and tagged data as json because of performance issues. Loading a csv with (many!) dicts is very slow and like flying from BER...  \n",
    "Split it up to store it on github (max filesize = 100mb)"
   ]
  },
  {
   "cell_type": "code",
   "execution_count": null,
   "metadata": {},
   "outputs": [],
   "source": [
    "tagger = ht.HanoverTagger('morphmodel_ger.pgz')"
   ]
  },
  {
   "cell_type": "code",
   "execution_count": null,
   "metadata": {},
   "outputs": [],
   "source": [
    "df_votum_raw = pd.concat([\n",
    "    pd.read_csv(Path('../export/votum/votum_0.csv')),\n",
    "    pd.read_csv(Path('../export/votum/votum_1.csv'))\n",
    "])\n",
    "\n",
    "# Remove empty texts\n",
    "df_votum_raw = df_votum_raw[df_votum_raw.text.notna()]"
   ]
  },
  {
   "cell_type": "code",
   "execution_count": null,
   "metadata": {},
   "outputs": [],
   "source": [
    "# Start tagging\n",
    "records = []\n",
    "for i, row in df_votum_raw.iterrows():\n",
    "    lemm = nltk.tokenize.word_tokenize(row['text'], language='german')\n",
    "\n",
    "    records.append({\n",
    "        'sitzung_date': row['sitzung_date'],\n",
    "        'dokument_titel': row['dokument_titel'],\n",
    "        'name': row['name'],\n",
    "        'vorname': row['vorname'],\n",
    "        'partei': row['partei'],\n",
    "        'jahrgang': row['jahrgang'],\n",
    "        'geschlecht': row['geschlecht'],\n",
    "        'funktion': row['funktion'],\n",
    "        'ismember': row['ismember'],\n",
    "        'tags': tagger.tag_sent(lemm, taglevel=1),\n",
    "    })"
   ]
  },
  {
   "cell_type": "code",
   "execution_count": null,
   "metadata": {},
   "outputs": [],
   "source": [
    "# Split\n",
    "chunks = 7\n",
    "bucketsize = math.ceil(len(records) / chunks)\n",
    "for i in range(0, chunks):\n",
    "    subrecords = []\n",
    "    for j in range(bucketsize * i, bucketsize * ( i + 1 )):\n",
    "        if j < len(records):\n",
    "            subrecords.append(records[j])\n",
    "\n",
    "    # Store\n",
    "    with open(Path('../export/tags/tag_%s.json' % i), 'w', encoding='utf-8') as f:\n",
    "        f.write(json.dumps(subrecords, ensure_ascii=False))\n",
    "\n",
    "print(\"finito\")"
   ]
  },
  {
   "cell_type": "code",
   "execution_count": null,
   "metadata": {},
   "outputs": [],
   "source": [
    "# Save them as compressed pickle as well\n",
    "import bz2\n",
    "with bz2.BZ2File(Path('../export/tags/tags.pickle.bz2'), 'w') as f:\n",
    "    pickle.dump(records, f)\n",
    "\n",
    "# Load\n",
    "\"\"\"\n",
    "with bz2.open(Path('../export/tags/tags.pickle.bz2'), 'rb') as f:\n",
    "    xxx = pickle.load(f)\n",
    "\"\"\""
   ]
  },
  {
   "cell_type": "markdown",
   "metadata": {},
   "source": [
    "## Load stemmatized Data"
   ]
  },
  {
   "cell_type": "code",
   "execution_count": 12,
   "metadata": {},
   "outputs": [
    {
     "name": "stdout",
     "output_type": "stream",
     "text": [
      "80292\n"
     ]
    }
   ],
   "source": [
    "records = []\n",
    "for f in glob.glob(str(Path('../export/tags/*.json'))):\n",
    "    records = records + json.load(open(f, 'r', encoding='utf-8'))\n",
    "\n",
    "print(len(records))"
   ]
  },
  {
   "cell_type": "code",
   "execution_count": null,
   "metadata": {},
   "outputs": [],
   "source": [
    "# Members only, no Presidents\n",
    "r_members = list(filter(lambda x: x['ismember'] == True, records))\n",
    "r_members = list(filter(lambda x: x['funktion'] not in ['Präsidium', '2. Vizepräsidium', '1. Vizepräsidium'], r_members))\n",
    "print(len(r_members))"
   ]
  },
  {
   "cell_type": "markdown",
   "metadata": {},
   "source": [
    "## Analyse who said what"
   ]
  },
  {
   "cell_type": "markdown",
   "metadata": {},
   "source": [
    "### Export Nouns for each gender (already done)\n",
    "!! Takes ages. Skip this and load files from disk"
   ]
  },
  {
   "cell_type": "code",
   "execution_count": null,
   "metadata": {},
   "outputs": [],
   "source": [
    "# Select only Nouns\n",
    "list_m = []\n",
    "list_w = []\n",
    "for r in r_members:\n",
    "    tags = [lemma for (word,lemma,pos) in r['tags'] if pos == \"NN\" or pos == \"NE\"]\n",
    "    if r['geschlecht'] == 'm': list_m = list_m + tags\n",
    "    elif r['geschlecht'] == 'w': list_w = list_w + tags\n",
    "\n",
    "# Store files\n",
    "with open(Path('../export/nouns/nouns_m.txt'), 'wb') as f:\n",
    "    pickle.dump(list_m, f)\n",
    "\n",
    "with open(Path('../export/nouns/nouns_w.txt'), 'wb') as f:\n",
    "    pickle.dump(list_w, f)"
   ]
  },
  {
   "cell_type": "markdown",
   "metadata": {},
   "source": [
    "### Load Noun files from Disk"
   ]
  },
  {
   "cell_type": "code",
   "execution_count": 3,
   "metadata": {},
   "outputs": [],
   "source": [
    "with open(Path('../export/nouns/nouns_m.txt'), 'rb') as fp:\n",
    "    list_m = pickle.load(fp)\n",
    "\n",
    "with open(Path('../export/nouns/nouns_w.txt'), 'rb') as fp:\n",
    "    list_w = pickle.load(fp)"
   ]
  },
  {
   "cell_type": "markdown",
   "metadata": {},
   "source": [
    "### Top m/w topics and how the differ to the other sex"
   ]
  },
  {
   "cell_type": "code",
   "execution_count": 4,
   "metadata": {},
   "outputs": [],
   "source": [
    "def get_freqdist_df(l):\n",
    "    fdist = nltk.FreqDist(l)\n",
    "    fdist = fdist.most_common(100)\n",
    "    df_dist = pd.DataFrame(fdist, columns=['w', 'count'])\n",
    "    df_dist.reset_index(drop=False, inplace=True)\n",
    "    return df_dist\n",
    "\n",
    "def remove_stopwords(l):\n",
    "    new_l = []\n",
    "    for word in l:\n",
    "        if not(word.lower() in utils.stopwords_lower):\n",
    "            new_l.append(word)\n",
    "\n",
    "    return new_l\n",
    "\n",
    "# Remove council characteristic stopwords\n",
    "\n",
    "list_m = remove_stopwords(list_m)\n",
    "list_w = remove_stopwords(list_w)\n",
    "\n",
    "df_m = get_freqdist_df(list_m)\n",
    "df_m['geschlecht'] = 'm'\n",
    "\n",
    "df_w = get_freqdist_df(list_w)\n",
    "df_w['geschlecht'] = 'w'\n",
    "\n",
    "df_concat = pd.concat([df_w, df_m])\n",
    "\n",
    "# Rename w, ambiguouse\n",
    "df_concat.rename(columns={'w': 'noun'}, inplace=True)"
   ]
  },
  {
   "cell_type": "code",
   "execution_count": 6,
   "metadata": {},
   "outputs": [
    {
     "data": {
      "text/html": [
       "<div>\n",
       "<style scoped>\n",
       "    .dataframe tbody tr th:only-of-type {\n",
       "        vertical-align: middle;\n",
       "    }\n",
       "\n",
       "    .dataframe tbody tr th {\n",
       "        vertical-align: top;\n",
       "    }\n",
       "\n",
       "    .dataframe thead th {\n",
       "        text-align: right;\n",
       "    }\n",
       "</style>\n",
       "<table border=\"1\" class=\"dataframe\">\n",
       "  <thead>\n",
       "    <tr style=\"text-align: right;\">\n",
       "      <th>geschlecht</th>\n",
       "      <th>m</th>\n",
       "      <th>w</th>\n",
       "      <th>m_index</th>\n",
       "      <th>w_index</th>\n",
       "      <th>diff</th>\n",
       "      <th>diffabs</th>\n",
       "    </tr>\n",
       "    <tr>\n",
       "      <th>noun</th>\n",
       "      <th></th>\n",
       "      <th></th>\n",
       "      <th></th>\n",
       "      <th></th>\n",
       "      <th></th>\n",
       "      <th></th>\n",
       "    </tr>\n",
       "  </thead>\n",
       "  <tbody>\n",
       "    <tr>\n",
       "      <th>Franken</th>\n",
       "      <td>17585.0</td>\n",
       "      <td>6539.0</td>\n",
       "      <td>100.0</td>\n",
       "      <td>100.0</td>\n",
       "      <td>0.0</td>\n",
       "      <td>0.0</td>\n",
       "    </tr>\n",
       "    <tr>\n",
       "      <th>Kind</th>\n",
       "      <td>5333.0</td>\n",
       "      <td>5695.0</td>\n",
       "      <td>30.3</td>\n",
       "      <td>87.1</td>\n",
       "      <td>-56.8</td>\n",
       "      <td>56.8</td>\n",
       "    </tr>\n",
       "    <tr>\n",
       "      <th>Million</th>\n",
       "      <td>13785.0</td>\n",
       "      <td>4863.0</td>\n",
       "      <td>78.4</td>\n",
       "      <td>74.4</td>\n",
       "      <td>4.0</td>\n",
       "      <td>4.0</td>\n",
       "    </tr>\n",
       "    <tr>\n",
       "      <th>Grund</th>\n",
       "      <td>10033.0</td>\n",
       "      <td>4200.0</td>\n",
       "      <td>57.1</td>\n",
       "      <td>64.2</td>\n",
       "      <td>-7.1</td>\n",
       "      <td>7.1</td>\n",
       "    </tr>\n",
       "    <tr>\n",
       "      <th>Regierung</th>\n",
       "      <td>13654.0</td>\n",
       "      <td>4151.0</td>\n",
       "      <td>77.6</td>\n",
       "      <td>63.5</td>\n",
       "      <td>14.1</td>\n",
       "      <td>14.1</td>\n",
       "    </tr>\n",
       "    <tr>\n",
       "      <th>Fdp</th>\n",
       "      <td>6663.0</td>\n",
       "      <td>4100.0</td>\n",
       "      <td>37.9</td>\n",
       "      <td>62.7</td>\n",
       "      <td>-24.8</td>\n",
       "      <td>24.8</td>\n",
       "    </tr>\n",
       "    <tr>\n",
       "      <th>Fall</th>\n",
       "      <td>9236.0</td>\n",
       "      <td>3789.0</td>\n",
       "      <td>52.5</td>\n",
       "      <td>57.9</td>\n",
       "      <td>-5.4</td>\n",
       "      <td>5.4</td>\n",
       "    </tr>\n",
       "    <tr>\n",
       "      <th>Bereich</th>\n",
       "      <td>7253.0</td>\n",
       "      <td>3745.0</td>\n",
       "      <td>41.2</td>\n",
       "      <td>57.3</td>\n",
       "      <td>-16.1</td>\n",
       "      <td>16.1</td>\n",
       "    </tr>\n",
       "    <tr>\n",
       "      <th>Sinn</th>\n",
       "      <td>9681.0</td>\n",
       "      <td>3701.0</td>\n",
       "      <td>55.1</td>\n",
       "      <td>56.6</td>\n",
       "      <td>-1.5</td>\n",
       "      <td>1.5</td>\n",
       "    </tr>\n",
       "    <tr>\n",
       "      <th>Mensch</th>\n",
       "      <td>4580.0</td>\n",
       "      <td>3570.0</td>\n",
       "      <td>26.0</td>\n",
       "      <td>54.6</td>\n",
       "      <td>-28.6</td>\n",
       "      <td>28.6</td>\n",
       "    </tr>\n",
       "    <tr>\n",
       "      <th>Sp</th>\n",
       "      <td>4543.0</td>\n",
       "      <td>3505.0</td>\n",
       "      <td>25.8</td>\n",
       "      <td>53.6</td>\n",
       "      <td>-27.8</td>\n",
       "      <td>27.8</td>\n",
       "    </tr>\n",
       "    <tr>\n",
       "      <th>Zeit</th>\n",
       "      <td>7471.0</td>\n",
       "      <td>3502.0</td>\n",
       "      <td>42.5</td>\n",
       "      <td>53.6</td>\n",
       "      <td>-11.1</td>\n",
       "      <td>11.1</td>\n",
       "    </tr>\n",
       "    <tr>\n",
       "      <th>Person</th>\n",
       "      <td>6076.0</td>\n",
       "      <td>3237.0</td>\n",
       "      <td>34.6</td>\n",
       "      <td>49.5</td>\n",
       "      <td>-14.9</td>\n",
       "      <td>14.9</td>\n",
       "    </tr>\n",
       "    <tr>\n",
       "      <th>Initiative</th>\n",
       "      <td>8484.0</td>\n",
       "      <td>3130.0</td>\n",
       "      <td>48.2</td>\n",
       "      <td>47.9</td>\n",
       "      <td>0.3</td>\n",
       "      <td>0.3</td>\n",
       "    </tr>\n",
       "    <tr>\n",
       "      <th>Minderheitsantrag</th>\n",
       "      <td>7376.0</td>\n",
       "      <td>3111.0</td>\n",
       "      <td>41.9</td>\n",
       "      <td>47.6</td>\n",
       "      <td>-5.7</td>\n",
       "      <td>5.7</td>\n",
       "    </tr>\n",
       "    <tr>\n",
       "      <th>Grüne</th>\n",
       "      <td>4221.0</td>\n",
       "      <td>3098.0</td>\n",
       "      <td>24.0</td>\n",
       "      <td>47.4</td>\n",
       "      <td>-23.4</td>\n",
       "      <td>23.4</td>\n",
       "    </tr>\n",
       "    <tr>\n",
       "      <th>Stadt</th>\n",
       "      <td>8352.0</td>\n",
       "      <td>3085.0</td>\n",
       "      <td>47.5</td>\n",
       "      <td>47.2</td>\n",
       "      <td>0.3</td>\n",
       "      <td>0.3</td>\n",
       "    </tr>\n",
       "    <tr>\n",
       "      <th>Schule</th>\n",
       "      <td>3734.0</td>\n",
       "      <td>3060.0</td>\n",
       "      <td>21.2</td>\n",
       "      <td>46.8</td>\n",
       "      <td>-25.6</td>\n",
       "      <td>25.6</td>\n",
       "    </tr>\n",
       "    <tr>\n",
       "      <th>Meinung</th>\n",
       "      <td>7047.0</td>\n",
       "      <td>2966.0</td>\n",
       "      <td>40.1</td>\n",
       "      <td>45.4</td>\n",
       "      <td>-5.3</td>\n",
       "      <td>5.3</td>\n",
       "    </tr>\n",
       "    <tr>\n",
       "      <th>Sv</th>\n",
       "      <td>8982.0</td>\n",
       "      <td>2944.0</td>\n",
       "      <td>51.1</td>\n",
       "      <td>45.0</td>\n",
       "      <td>6.1</td>\n",
       "      <td>6.1</td>\n",
       "    </tr>\n",
       "  </tbody>\n",
       "</table>\n",
       "</div>"
      ],
      "text/plain": [
       "geschlecht               m       w  m_index  w_index  diff  diffabs\n",
       "noun                                                               \n",
       "Franken            17585.0  6539.0    100.0    100.0   0.0      0.0\n",
       "Kind                5333.0  5695.0     30.3     87.1 -56.8     56.8\n",
       "Million            13785.0  4863.0     78.4     74.4   4.0      4.0\n",
       "Grund              10033.0  4200.0     57.1     64.2  -7.1      7.1\n",
       "Regierung          13654.0  4151.0     77.6     63.5  14.1     14.1\n",
       "Fdp                 6663.0  4100.0     37.9     62.7 -24.8     24.8\n",
       "Fall                9236.0  3789.0     52.5     57.9  -5.4      5.4\n",
       "Bereich             7253.0  3745.0     41.2     57.3 -16.1     16.1\n",
       "Sinn                9681.0  3701.0     55.1     56.6  -1.5      1.5\n",
       "Mensch              4580.0  3570.0     26.0     54.6 -28.6     28.6\n",
       "Sp                  4543.0  3505.0     25.8     53.6 -27.8     27.8\n",
       "Zeit                7471.0  3502.0     42.5     53.6 -11.1     11.1\n",
       "Person              6076.0  3237.0     34.6     49.5 -14.9     14.9\n",
       "Initiative          8484.0  3130.0     48.2     47.9   0.3      0.3\n",
       "Minderheitsantrag   7376.0  3111.0     41.9     47.6  -5.7      5.7\n",
       "Grüne               4221.0  3098.0     24.0     47.4 -23.4     23.4\n",
       "Stadt               8352.0  3085.0     47.5     47.2   0.3      0.3\n",
       "Schule              3734.0  3060.0     21.2     46.8 -25.6     25.6\n",
       "Meinung             7047.0  2966.0     40.1     45.4  -5.3      5.3\n",
       "Sv                  8982.0  2944.0     51.1     45.0   6.1      6.1"
      ]
     },
     "execution_count": 6,
     "metadata": {},
     "output_type": "execute_result"
    }
   ],
   "source": [
    "df_pivot = pd.pivot_table(df_concat, index='noun', columns='geschlecht', values='count')\n",
    "\n",
    "# Indexieren (max = 100)\n",
    "df_pivot['m_index'] = round(100 / df_pivot['m'].max() * df_pivot['m'], 1)\n",
    "df_pivot['w_index'] = round(100 / df_pivot['w'].max() * df_pivot['w'], 1)\n",
    "df_pivot['diff'] = (df_pivot['m_index'] - df_pivot['w_index'])\n",
    "df_pivot['diffabs'] = abs(df_pivot['m_index'] - df_pivot['w_index'])\n",
    "\n",
    "df_pivot.sort_values('w', ascending=False).head(20)"
   ]
  },
  {
   "cell_type": "code",
   "execution_count": null,
   "metadata": {},
   "outputs": [],
   "source": []
  },
  {
   "cell_type": "code",
   "execution_count": 7,
   "metadata": {},
   "outputs": [
    {
     "data": {
      "text/plain": [
       "<AxesSubplot:title={'center':'Nomen mit grösstem Geschlechterunterschied'}, ylabel='noun'>"
      ]
     },
     "execution_count": 7,
     "metadata": {},
     "output_type": "execute_result"
    },
    {
     "data": {
      "image/png": "[encoded data removed]",
      "text/plain": [
       "<Figure size 360x576 with 1 Axes>"
      ]
     },
     "metadata": {
      "needs_background": "light"
     },
     "output_type": "display_data"
    }
   ],
   "source": [
    "# Show topic with max difference\n",
    "df_diff = df_pivot.sort_values('diffabs', ascending=False).head(20)\n",
    "df_diff.to_csv(csv_path / 'nouns_spokben_differ_most_between_gender.csv')\n",
    "df_diff[['diff']].plot.barh(figsize=(5, 8), title='Nomen mit grösstem Geschlechterunterschied')"
   ]
  },
  {
   "cell_type": "code",
   "execution_count": null,
   "metadata": {},
   "outputs": [],
   "source": [
    "df_diff"
   ]
  },
  {
   "cell_type": "markdown",
   "metadata": {},
   "source": [
    "[csv Daten Nomen mit grössten relativem Unterschied herunterladen](../export/csv_for_infographics/nouns_spoken_differ_most_between_gender.csv)"
   ]
  },
  {
   "cell_type": "markdown",
   "metadata": {},
   "source": [
    "### Find topic that differ most (in this case: Remove duplicate topics, see, whats remains)"
   ]
  },
  {
   "cell_type": "code",
   "execution_count": 8,
   "metadata": {},
   "outputs": [],
   "source": [
    "# Remove duplicates\n",
    "df_concat = df_concat.drop_duplicates(subset=['noun'], keep = False)"
   ]
  },
  {
   "cell_type": "code",
   "execution_count": 9,
   "metadata": {},
   "outputs": [
    {
     "data": {
      "text/html": [
       "<div>\n",
       "<style scoped>\n",
       "    .dataframe tbody tr th:only-of-type {\n",
       "        vertical-align: middle;\n",
       "    }\n",
       "\n",
       "    .dataframe tbody tr th {\n",
       "        vertical-align: top;\n",
       "    }\n",
       "\n",
       "    .dataframe thead th {\n",
       "        text-align: right;\n",
       "    }\n",
       "</style>\n",
       "<table border=\"1\" class=\"dataframe\">\n",
       "  <thead>\n",
       "    <tr style=\"text-align: right;\">\n",
       "      <th></th>\n",
       "      <th>index</th>\n",
       "      <th>noun</th>\n",
       "      <th>count</th>\n",
       "      <th>geschlecht</th>\n",
       "    </tr>\n",
       "  </thead>\n",
       "  <tbody>\n",
       "    <tr>\n",
       "      <th>41</th>\n",
       "      <td>41</td>\n",
       "      <td>Familie</td>\n",
       "      <td>2087</td>\n",
       "      <td>w</td>\n",
       "    </tr>\n",
       "    <tr>\n",
       "      <th>44</th>\n",
       "      <td>44</td>\n",
       "      <td>Jugendliche</td>\n",
       "      <td>2038</td>\n",
       "      <td>w</td>\n",
       "    </tr>\n",
       "    <tr>\n",
       "      <th>50</th>\n",
       "      <td>50</td>\n",
       "      <td>Angebot</td>\n",
       "      <td>1926</td>\n",
       "      <td>w</td>\n",
       "    </tr>\n",
       "    <tr>\n",
       "      <th>66</th>\n",
       "      <td>66</td>\n",
       "      <td>Eltern</td>\n",
       "      <td>1678</td>\n",
       "      <td>w</td>\n",
       "    </tr>\n",
       "    <tr>\n",
       "      <th>71</th>\n",
       "      <td>71</td>\n",
       "      <td>Umsetzung</td>\n",
       "      <td>1575</td>\n",
       "      <td>w</td>\n",
       "    </tr>\n",
       "  </tbody>\n",
       "</table>\n",
       "</div>"
      ],
      "text/plain": [
       "    index         noun  count geschlecht\n",
       "41     41      Familie   2087          w\n",
       "44     44  Jugendliche   2038          w\n",
       "50     50      Angebot   1926          w\n",
       "66     66       Eltern   1678          w\n",
       "71     71    Umsetzung   1575          w"
      ]
     },
     "execution_count": 9,
     "metadata": {},
     "output_type": "execute_result"
    }
   ],
   "source": [
    "df_concat.head()"
   ]
  },
  {
   "cell_type": "code",
   "execution_count": 10,
   "metadata": {},
   "outputs": [
    {
     "data": {
      "text/plain": [
       "['Familie',\n",
       " 'Jugendliche',\n",
       " 'Angebot',\n",
       " 'Eltern',\n",
       " 'Umsetzung',\n",
       " 'Schüler',\n",
       " 'Bildung',\n",
       " 'Grundlage',\n",
       " 'Personal',\n",
       " 'Lehrpersonen',\n",
       " 'Gesellschaft',\n",
       " 'Zusammenarbeit',\n",
       " 'Qualität',\n",
       " 'Schülerin',\n",
       " 'Wirtschaft',\n",
       " 'Absatz',\n",
       " 'Patient']"
      ]
     },
     "execution_count": 10,
     "metadata": {},
     "output_type": "execute_result"
    }
   ],
   "source": [
    "list(df_concat[df_concat.geschlecht == 'w']['noun'])"
   ]
  },
  {
   "cell_type": "code",
   "execution_count": 11,
   "metadata": {},
   "outputs": [
    {
     "data": {
      "text/plain": [
       "['Vorstoss',\n",
       " 'Parlament',\n",
       " 'Winterthur',\n",
       " 'Schluß',\n",
       " 'Geschäft',\n",
       " 'Politik',\n",
       " 'Flughafen',\n",
       " 'Evp',\n",
       " 'Name',\n",
       " 'Votum',\n",
       " 'Argument',\n",
       " 'Steuer',\n",
       " 'Debatte',\n",
       " 'Gegenvorschlag',\n",
       " 'Tag',\n",
       " 'Mitglied',\n",
       " 'Kollege']"
      ]
     },
     "execution_count": 11,
     "metadata": {},
     "output_type": "execute_result"
    }
   ],
   "source": [
    "list(df_concat[df_concat.geschlecht == 'm']['noun'])"
   ]
  },
  {
   "cell_type": "code",
   "execution_count": null,
   "metadata": {},
   "outputs": [],
   "source": []
  }
 ],
 "metadata": {
  "interpreter": {
   "hash": "0d89f51c21e61334fa582c5b112d16d67677dd53345d4e7223b029a81b433160"
  },
  "kernelspec": {
   "display_name": "Python 3.9.0 64-bit ('env': venv)",
   "language": "python",
   "name": "python3"
  },
  "language_info": {
   "codemirror_mode": {
    "name": "ipython",
    "version": 3
   },
   "file_extension": ".py",
   "mimetype": "text/x-python",
   "name": "python",
   "nbconvert_exporter": "python",
   "pygments_lexer": "ipython3",
   "version": "3.9.6"
  },
  "orig_nbformat": 4
 },
 "nbformat": 4,
 "nbformat_minor": 2
}
