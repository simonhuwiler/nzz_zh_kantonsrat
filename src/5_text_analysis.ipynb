{
 "cells": [
  {
   "cell_type": "markdown",
   "metadata": {},
   "source": [
    "# Und das Wort ist Fleisch geworden\n",
    "* https://textmining.wp.hs-hannover.de/Preprocessing.html\n",
    "* Tagset: https://homepage.ruhr-uni-bochum.de/stephen.berman/Korpuslinguistik/Tagsets-STTS.html"
   ]
  },
  {
   "cell_type": "code",
   "execution_count": 1,
   "metadata": {},
   "outputs": [],
   "source": [
    "import pandas as pd\n",
    "import nltk\n",
    "import json\n",
    "from pathlib import Path\n",
    "from HanTa import HanoverTagger as ht\n",
    "import glob\n",
    "import math\n",
    "\n",
    "# Do once\n",
    "#nltk.download('punkt')"
   ]
  },
  {
   "cell_type": "markdown",
   "metadata": {},
   "source": [
    "## Lemmatize / Tag and store as CSV (only once, then goto: next cell)\n",
    "Store lemmatized and tagged data as json because of performance issues. Loading a csv with (many!) dicts is very slow and like flying from BER...  \n",
    "Split it up to store it on github (max filesize = 100mb)"
   ]
  },
  {
   "cell_type": "code",
   "execution_count": 2,
   "metadata": {},
   "outputs": [],
   "source": [
    "tagger = ht.HanoverTagger('morphmodel_ger.pgz')"
   ]
  },
  {
   "cell_type": "code",
   "execution_count": null,
   "metadata": {},
   "outputs": [],
   "source": [
    "df_votum_raw = pd.read_csv(Path('../export/votum.csv'))\n",
    "\n",
    "# Remove empty texts\n",
    "df_votum_raw = df_votum_raw[df_votum_raw.text.notna()]"
   ]
  },
  {
   "cell_type": "code",
   "execution_count": 24,
   "metadata": {},
   "outputs": [],
   "source": [
    "# Start tagging\n",
    "records = []\n",
    "for i, row in df_votum_raw.iterrows():\n",
    "    lemm = nltk.tokenize.word_tokenize(row['text'], language='german')\n",
    "\n",
    "    records.append({\n",
    "        'name': row['name'],\n",
    "        'vorname': row['vorname'],\n",
    "        'partei': row['partei'],\n",
    "        'jahrgang': row['jahrgang'],\n",
    "        'geschlecht': row['geschlecht'],\n",
    "        'funktion': row['funktion'],\n",
    "        'ismember': row['ismember'],\n",
    "        'tags': tagger.tag_sent(lemm, taglevel=1),\n",
    "    })"
   ]
  },
  {
   "cell_type": "code",
   "execution_count": 58,
   "metadata": {},
   "outputs": [
    {
     "name": "stdout",
     "output_type": "stream",
     "text": [
      "finito\n"
     ]
    }
   ],
   "source": [
    "\n",
    "# Split\n",
    "chunks = 5\n",
    "bucketsize = math.ceil(len(records) / chunks)\n",
    "for i in range(0, chunks):\n",
    "    subrecords = []\n",
    "    for j in range(bucketsize * i, bucketsize * ( i + 1 )):\n",
    "        if j < len(records):\n",
    "            subrecords.append(records[j])\n",
    "\n",
    "    # Store\n",
    "    with open(Path('../export/tags/tag_%s.json' % i), 'w', encoding='utf-8') as f:\n",
    "        f.write(json.dumps(subrecords, ensure_ascii=False))\n",
    "\n",
    "print(\"finito\")"
   ]
  },
  {
   "cell_type": "markdown",
   "metadata": {},
   "source": [
    "## Load stemmatized Data"
   ]
  },
  {
   "cell_type": "code",
   "execution_count": 2,
   "metadata": {},
   "outputs": [
    {
     "name": "stdout",
     "output_type": "stream",
     "text": [
      "46521\n"
     ]
    }
   ],
   "source": [
    "records = []\n",
    "for f in glob.glob(str(Path('../export/tags/*.json'))):\n",
    "    records = records + json.load(open(f, 'r', encoding='utf-8'))\n",
    "\n",
    "print(len(records))"
   ]
  },
  {
   "cell_type": "code",
   "execution_count": 3,
   "metadata": {},
   "outputs": [
    {
     "name": "stdout",
     "output_type": "stream",
     "text": [
      "34497\n"
     ]
    }
   ],
   "source": [
    "# Members only, no Presidents\n",
    "r_members = list(filter(lambda x: x['ismember'] == True, records))\n",
    "r_members = list(filter(lambda x: x['funktion'] not in ['Präsidium', '2. Vizepräsidium', '1. Vizepräsidium'], r_members))\n",
    "print(len(r_members))"
   ]
  },
  {
   "cell_type": "markdown",
   "metadata": {},
   "source": [
    "## Analyse"
   ]
  },
  {
   "cell_type": "code",
   "execution_count": 4,
   "metadata": {},
   "outputs": [],
   "source": [
    "# Select only Nouns\n",
    "list_m = []\n",
    "list_w = []\n",
    "for r in r_members:\n",
    "    tags = [lemma for (word,lemma,pos) in r['tags'] if pos == \"NN\" or pos == \"NE\"]\n",
    "    if r['geschlecht'] == 'm': list_m = list_m + tags\n",
    "    elif r['geschlecht'] == 'w': list_w = list_w + tags"
   ]
  },
  {
   "cell_type": "code",
   "execution_count": 5,
   "metadata": {},
   "outputs": [
    {
     "data": {
      "text/html": [
       "<div>\n",
       "<style scoped>\n",
       "    .dataframe tbody tr th:only-of-type {\n",
       "        vertical-align: middle;\n",
       "    }\n",
       "\n",
       "    .dataframe tbody tr th {\n",
       "        vertical-align: top;\n",
       "    }\n",
       "\n",
       "    .dataframe thead th {\n",
       "        text-align: right;\n",
       "    }\n",
       "</style>\n",
       "<table border=\"1\" class=\"dataframe\">\n",
       "  <thead>\n",
       "    <tr style=\"text-align: right;\">\n",
       "      <th></th>\n",
       "      <th>index</th>\n",
       "      <th>w</th>\n",
       "      <th>count</th>\n",
       "      <th>geschlecht</th>\n",
       "    </tr>\n",
       "  </thead>\n",
       "  <tbody>\n",
       "    <tr>\n",
       "      <th>62</th>\n",
       "      <td>62</td>\n",
       "      <td>Angebot</td>\n",
       "      <td>1092</td>\n",
       "      <td>w</td>\n",
       "    </tr>\n",
       "    <tr>\n",
       "      <th>69</th>\n",
       "      <td>69</td>\n",
       "      <td>Umsetzung</td>\n",
       "      <td>1010</td>\n",
       "      <td>w</td>\n",
       "    </tr>\n",
       "    <tr>\n",
       "      <th>76</th>\n",
       "      <td>76</td>\n",
       "      <td>Jugendliche</td>\n",
       "      <td>968</td>\n",
       "      <td>w</td>\n",
       "    </tr>\n",
       "    <tr>\n",
       "      <th>79</th>\n",
       "      <td>79</td>\n",
       "      <td>Liste</td>\n",
       "      <td>942</td>\n",
       "      <td>w</td>\n",
       "    </tr>\n",
       "    <tr>\n",
       "      <th>81</th>\n",
       "      <td>81</td>\n",
       "      <td>Lehrpersonen</td>\n",
       "      <td>918</td>\n",
       "      <td>w</td>\n",
       "    </tr>\n",
       "    <tr>\n",
       "      <th>85</th>\n",
       "      <td>85</td>\n",
       "      <td>Eltern</td>\n",
       "      <td>898</td>\n",
       "      <td>w</td>\n",
       "    </tr>\n",
       "    <tr>\n",
       "      <th>86</th>\n",
       "      <td>86</td>\n",
       "      <td>Kef-erklärung</td>\n",
       "      <td>895</td>\n",
       "      <td>w</td>\n",
       "    </tr>\n",
       "    <tr>\n",
       "      <th>88</th>\n",
       "      <td>88</td>\n",
       "      <td>Forderung</td>\n",
       "      <td>890</td>\n",
       "      <td>w</td>\n",
       "    </tr>\n",
       "    <tr>\n",
       "      <th>91</th>\n",
       "      <td>91</td>\n",
       "      <td>Familie</td>\n",
       "      <td>849</td>\n",
       "      <td>w</td>\n",
       "    </tr>\n",
       "    <tr>\n",
       "      <th>94</th>\n",
       "      <td>94</td>\n",
       "      <td>Schüler</td>\n",
       "      <td>819</td>\n",
       "      <td>w</td>\n",
       "    </tr>\n",
       "    <tr>\n",
       "      <th>95</th>\n",
       "      <td>95</td>\n",
       "      <td>Absatz</td>\n",
       "      <td>807</td>\n",
       "      <td>w</td>\n",
       "    </tr>\n",
       "    <tr>\n",
       "      <th>96</th>\n",
       "      <td>96</td>\n",
       "      <td>Usz</td>\n",
       "      <td>801</td>\n",
       "      <td>w</td>\n",
       "    </tr>\n",
       "    <tr>\n",
       "      <th>97</th>\n",
       "      <td>97</td>\n",
       "      <td>Bildung</td>\n",
       "      <td>786</td>\n",
       "      <td>w</td>\n",
       "    </tr>\n",
       "    <tr>\n",
       "      <th>98</th>\n",
       "      <td>98</td>\n",
       "      <td>Patient</td>\n",
       "      <td>773</td>\n",
       "      <td>w</td>\n",
       "    </tr>\n",
       "    <tr>\n",
       "      <th>99</th>\n",
       "      <td>99</td>\n",
       "      <td>Grundlage</td>\n",
       "      <td>765</td>\n",
       "      <td>w</td>\n",
       "    </tr>\n",
       "    <tr>\n",
       "      <th>53</th>\n",
       "      <td>53</td>\n",
       "      <td>Staat</td>\n",
       "      <td>2957</td>\n",
       "      <td>m</td>\n",
       "    </tr>\n",
       "    <tr>\n",
       "      <th>66</th>\n",
       "      <td>66</td>\n",
       "      <td>Sache</td>\n",
       "      <td>2453</td>\n",
       "      <td>m</td>\n",
       "    </tr>\n",
       "    <tr>\n",
       "      <th>70</th>\n",
       "      <td>70</td>\n",
       "      <td>Verkehr</td>\n",
       "      <td>2404</td>\n",
       "      <td>m</td>\n",
       "    </tr>\n",
       "    <tr>\n",
       "      <th>76</th>\n",
       "      <td>76</td>\n",
       "      <td>Weiss</td>\n",
       "      <td>2309</td>\n",
       "      <td>m</td>\n",
       "    </tr>\n",
       "    <tr>\n",
       "      <th>81</th>\n",
       "      <td>81</td>\n",
       "      <td>Wort</td>\n",
       "      <td>2176</td>\n",
       "      <td>m</td>\n",
       "    </tr>\n",
       "    <tr>\n",
       "      <th>82</th>\n",
       "      <td>82</td>\n",
       "      <td>Winterthur</td>\n",
       "      <td>2163</td>\n",
       "      <td>m</td>\n",
       "    </tr>\n",
       "    <tr>\n",
       "      <th>86</th>\n",
       "      <td>86</td>\n",
       "      <td>Regierungsrat</td>\n",
       "      <td>2128</td>\n",
       "      <td>m</td>\n",
       "    </tr>\n",
       "    <tr>\n",
       "      <th>91</th>\n",
       "      <td>91</td>\n",
       "      <td>Schluß</td>\n",
       "      <td>2072</td>\n",
       "      <td>m</td>\n",
       "    </tr>\n",
       "    <tr>\n",
       "      <th>92</th>\n",
       "      <td>92</td>\n",
       "      <td>Evp</td>\n",
       "      <td>2062</td>\n",
       "      <td>m</td>\n",
       "    </tr>\n",
       "    <tr>\n",
       "      <th>93</th>\n",
       "      <td>93</td>\n",
       "      <td>Geschäft</td>\n",
       "      <td>2018</td>\n",
       "      <td>m</td>\n",
       "    </tr>\n",
       "    <tr>\n",
       "      <th>95</th>\n",
       "      <td>95</td>\n",
       "      <td>Parlament</td>\n",
       "      <td>1936</td>\n",
       "      <td>m</td>\n",
       "    </tr>\n",
       "    <tr>\n",
       "      <th>96</th>\n",
       "      <td>96</td>\n",
       "      <td>Kollege</td>\n",
       "      <td>1933</td>\n",
       "      <td>m</td>\n",
       "    </tr>\n",
       "    <tr>\n",
       "      <th>97</th>\n",
       "      <td>97</td>\n",
       "      <td>Name</td>\n",
       "      <td>1928</td>\n",
       "      <td>m</td>\n",
       "    </tr>\n",
       "    <tr>\n",
       "      <th>98</th>\n",
       "      <td>98</td>\n",
       "      <td>Votum</td>\n",
       "      <td>1903</td>\n",
       "      <td>m</td>\n",
       "    </tr>\n",
       "    <tr>\n",
       "      <th>99</th>\n",
       "      <td>99</td>\n",
       "      <td>Debatte</td>\n",
       "      <td>1888</td>\n",
       "      <td>m</td>\n",
       "    </tr>\n",
       "  </tbody>\n",
       "</table>\n",
       "</div>"
      ],
      "text/plain": [
       "    index              w  count geschlecht\n",
       "62     62        Angebot   1092          w\n",
       "69     69      Umsetzung   1010          w\n",
       "76     76    Jugendliche    968          w\n",
       "79     79          Liste    942          w\n",
       "81     81   Lehrpersonen    918          w\n",
       "85     85         Eltern    898          w\n",
       "86     86  Kef-erklärung    895          w\n",
       "88     88      Forderung    890          w\n",
       "91     91        Familie    849          w\n",
       "94     94        Schüler    819          w\n",
       "95     95         Absatz    807          w\n",
       "96     96            Usz    801          w\n",
       "97     97        Bildung    786          w\n",
       "98     98        Patient    773          w\n",
       "99     99      Grundlage    765          w\n",
       "53     53          Staat   2957          m\n",
       "66     66          Sache   2453          m\n",
       "70     70        Verkehr   2404          m\n",
       "76     76          Weiss   2309          m\n",
       "81     81           Wort   2176          m\n",
       "82     82     Winterthur   2163          m\n",
       "86     86  Regierungsrat   2128          m\n",
       "91     91         Schluß   2072          m\n",
       "92     92            Evp   2062          m\n",
       "93     93       Geschäft   2018          m\n",
       "95     95      Parlament   1936          m\n",
       "96     96        Kollege   1933          m\n",
       "97     97           Name   1928          m\n",
       "98     98          Votum   1903          m\n",
       "99     99        Debatte   1888          m"
      ]
     },
     "execution_count": 5,
     "metadata": {},
     "output_type": "execute_result"
    }
   ],
   "source": [
    "def get_freqdist_df(l):\n",
    "    fdist = nltk.FreqDist(l)\n",
    "    fdist = fdist.most_common(100)\n",
    "    df_dist = pd.DataFrame(fdist, columns=['w', 'count'])\n",
    "    df_dist.reset_index(drop=False, inplace=True)\n",
    "    return df_dist\n",
    "\n",
    "df_m = get_freqdist_df(list_m)\n",
    "df_m['geschlecht'] = 'm'\n",
    "\n",
    "df_w = get_freqdist_df(list_w)\n",
    "df_w['geschlecht'] = 'w'\n",
    "\n",
    "df_concat = pd.concat([df_w, df_m])\n",
    "\n",
    "# Remove duplicates\n",
    "df_concat = df_concat.drop_duplicates(subset=['w'], keep = False)\n",
    "\n",
    "df_concat"
   ]
  },
  {
   "cell_type": "code",
   "execution_count": 6,
   "metadata": {},
   "outputs": [
    {
     "data": {
      "text/plain": [
       "['Angebot',\n",
       " 'Umsetzung',\n",
       " 'Jugendliche',\n",
       " 'Liste',\n",
       " 'Lehrpersonen',\n",
       " 'Eltern',\n",
       " 'Kef-erklärung',\n",
       " 'Forderung',\n",
       " 'Familie',\n",
       " 'Schüler',\n",
       " 'Absatz',\n",
       " 'Usz',\n",
       " 'Bildung',\n",
       " 'Patient',\n",
       " 'Grundlage']"
      ]
     },
     "execution_count": 6,
     "metadata": {},
     "output_type": "execute_result"
    }
   ],
   "source": [
    "list(df_concat[df_concat.geschlecht == 'w']['w'])"
   ]
  },
  {
   "cell_type": "code",
   "execution_count": 7,
   "metadata": {},
   "outputs": [
    {
     "data": {
      "text/plain": [
       "['Staat',\n",
       " 'Sache',\n",
       " 'Verkehr',\n",
       " 'Weiss',\n",
       " 'Wort',\n",
       " 'Winterthur',\n",
       " 'Regierungsrat',\n",
       " 'Schluß',\n",
       " 'Evp',\n",
       " 'Geschäft',\n",
       " 'Parlament',\n",
       " 'Kollege',\n",
       " 'Name',\n",
       " 'Votum',\n",
       " 'Debatte']"
      ]
     },
     "execution_count": 7,
     "metadata": {},
     "output_type": "execute_result"
    }
   ],
   "source": [
    "list(df_concat[df_concat.geschlecht == 'm']['w'])"
   ]
  },
  {
   "cell_type": "code",
   "execution_count": null,
   "metadata": {},
   "outputs": [],
   "source": []
  }
 ],
 "metadata": {
  "interpreter": {
   "hash": "0d89f51c21e61334fa582c5b112d16d67677dd53345d4e7223b029a81b433160"
  },
  "kernelspec": {
   "display_name": "Python 3.9.0 64-bit ('env': venv)",
   "language": "python",
   "name": "python3"
  },
  "language_info": {
   "codemirror_mode": {
    "name": "ipython",
    "version": 3
   },
   "file_extension": ".py",
   "mimetype": "text/x-python",
   "name": "python",
   "nbconvert_exporter": "python",
   "pygments_lexer": "ipython3",
   "version": "3.9.6"
  },
  "orig_nbformat": 4
 },
 "nbformat": 4,
 "nbformat_minor": 2
}
