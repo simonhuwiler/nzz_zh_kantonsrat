{
 "cells": [
  {
   "cell_type": "markdown",
   "metadata": {},
   "source": [
    "# Und das Wort ist Fleisch geworden\n",
    "* https://textmining.wp.hs-hannover.de/Preprocessing.html\n",
    "* Tagset: https://homepage.ruhr-uni-bochum.de/stephen.berman/Korpuslinguistik/Tagsets-STTS.html"
   ]
  },
  {
   "cell_type": "code",
   "execution_count": 1,
   "metadata": {},
   "outputs": [],
   "source": [
    "import pandas as pd\n",
    "import nltk\n",
    "import json\n",
    "from pathlib import Path\n",
    "from HanTa import HanoverTagger as ht\n",
    "import glob\n",
    "import math\n",
    "import pickle\n",
    "\n",
    "# Do once\n",
    "#nltk.download('punkt')"
   ]
  },
  {
   "cell_type": "code",
   "execution_count": 2,
   "metadata": {},
   "outputs": [],
   "source": [
    "csv_path = Path('../export/csv_for_infographics')"
   ]
  },
  {
   "cell_type": "markdown",
   "metadata": {},
   "source": [
    "## Lemmatize / Tag and store as CSV (only once, then goto: next chapter)\n",
    "Store lemmatized and tagged data as json because of performance issues. Loading a csv with (many!) dicts is very slow and like flying from BER...  \n",
    "Split it up to store it on github (max filesize = 100mb)"
   ]
  },
  {
   "cell_type": "code",
   "execution_count": 3,
   "metadata": {},
   "outputs": [],
   "source": [
    "tagger = ht.HanoverTagger('morphmodel_ger.pgz')"
   ]
  },
  {
   "cell_type": "code",
   "execution_count": 4,
   "metadata": {},
   "outputs": [],
   "source": [
    "df_votum_raw = pd.concat([\n",
    "    pd.read_csv(Path('../export/votum/votum_0.csv')),\n",
    "    pd.read_csv(Path('../export/votum/votum_1.csv'))\n",
    "])\n",
    "\n",
    "# Remove empty texts\n",
    "df_votum_raw = df_votum_raw[df_votum_raw.text.notna()]"
   ]
  },
  {
   "cell_type": "code",
   "execution_count": 5,
   "metadata": {},
   "outputs": [],
   "source": [
    "# Start tagging\n",
    "records = []\n",
    "for i, row in df_votum_raw.iterrows():\n",
    "    lemm = nltk.tokenize.word_tokenize(row['text'], language='german')\n",
    "\n",
    "    records.append({\n",
    "        'sitzung_date': row['sitzung_date'],\n",
    "        'dokument_titel': row['dokument_titel'],\n",
    "        'name': row['name'],\n",
    "        'vorname': row['vorname'],\n",
    "        'partei': row['partei'],\n",
    "        'jahrgang': row['jahrgang'],\n",
    "        'geschlecht': row['geschlecht'],\n",
    "        'funktion': row['funktion'],\n",
    "        'ismember': row['ismember'],\n",
    "        'tags': tagger.tag_sent(lemm, taglevel=1),\n",
    "    })"
   ]
  },
  {
   "cell_type": "code",
   "execution_count": null,
   "metadata": {},
   "outputs": [
    {
     "name": "stdout",
     "output_type": "stream",
     "text": [
      "finito\n"
     ]
    }
   ],
   "source": [
    "# Split\n",
    "chunks = 7\n",
    "bucketsize = math.ceil(len(records) / chunks)\n",
    "for i in range(0, chunks):\n",
    "    subrecords = []\n",
    "    for j in range(bucketsize * i, bucketsize * ( i + 1 )):\n",
    "        if j < len(records):\n",
    "            subrecords.append(records[j])\n",
    "\n",
    "    # Store\n",
    "    with open(Path('../export/tags/tag_%s.json' % i), 'w', encoding='utf-8') as f:\n",
    "        f.write(json.dumps(subrecords, ensure_ascii=False))\n",
    "\n",
    "print(\"finito\")"
   ]
  },
  {
   "cell_type": "markdown",
   "metadata": {},
   "source": [
    "## Load stemmatized Data"
   ]
  },
  {
   "cell_type": "code",
   "execution_count": 9,
   "metadata": {},
   "outputs": [
    {
     "name": "stdout",
     "output_type": "stream",
     "text": [
      "77114\n"
     ]
    }
   ],
   "source": [
    "records = []\n",
    "for f in glob.glob(str(Path('../export/tags/*.json'))):\n",
    "    records = records + json.load(open(f, 'r', encoding='utf-8'))\n",
    "\n",
    "print(len(records))"
   ]
  },
  {
   "cell_type": "code",
   "execution_count": 10,
   "metadata": {},
   "outputs": [
    {
     "name": "stdout",
     "output_type": "stream",
     "text": [
      "56928\n"
     ]
    }
   ],
   "source": [
    "# Members only, no Presidents\n",
    "r_members = list(filter(lambda x: x['ismember'] == True, records))\n",
    "r_members = list(filter(lambda x: x['funktion'] not in ['Präsidium', '2. Vizepräsidium', '1. Vizepräsidium'], r_members))\n",
    "print(len(r_members))"
   ]
  },
  {
   "cell_type": "markdown",
   "metadata": {},
   "source": [
    "## Analyse who said what"
   ]
  },
  {
   "cell_type": "markdown",
   "metadata": {},
   "source": [
    "### Export Nouns for each gender (already done)\n",
    "!! Takes ages. Skip this and load files from disk"
   ]
  },
  {
   "cell_type": "code",
   "execution_count": 11,
   "metadata": {},
   "outputs": [],
   "source": [
    "# Select only Nouns\n",
    "list_m = []\n",
    "list_w = []\n",
    "for r in r_members:\n",
    "    tags = [lemma for (word,lemma,pos) in r['tags'] if pos == \"NN\" or pos == \"NE\"]\n",
    "    if r['geschlecht'] == 'm': list_m = list_m + tags\n",
    "    elif r['geschlecht'] == 'w': list_w = list_w + tags\n",
    "\n",
    "# Store files\n",
    "with open(Path('../export/nouns/nouns_m.txt'), 'wb') as f:\n",
    "    pickle.dump(list_m, f)\n",
    "\n",
    "with open(Path('../export/nouns/nouns_w.txt'), 'wb') as f:\n",
    "    pickle.dump(list_w, f)"
   ]
  },
  {
   "cell_type": "markdown",
   "metadata": {},
   "source": [
    "### Load Noun files from Disk"
   ]
  },
  {
   "cell_type": "code",
   "execution_count": 12,
   "metadata": {},
   "outputs": [],
   "source": [
    "with open(Path('../export/nouns/nouns_m.txt'), 'rb') as fp:\n",
    "    list_m = pickle.load(fp)\n",
    "\n",
    "with open(Path('../export/nouns/nouns_w.txt'), 'rb') as fp:\n",
    "    list_w = pickle.load(fp)"
   ]
  },
  {
   "cell_type": "markdown",
   "metadata": {},
   "source": [
    "### Top m/w topics and how the differ to the other sex"
   ]
  },
  {
   "cell_type": "code",
   "execution_count": 12,
   "metadata": {},
   "outputs": [],
   "source": [
    "def get_freqdist_df(l):\n",
    "    fdist = nltk.FreqDist(l)\n",
    "    fdist = fdist.most_common(100)\n",
    "    df_dist = pd.DataFrame(fdist, columns=['w', 'count'])\n",
    "    df_dist.reset_index(drop=False, inplace=True)\n",
    "    return df_dist\n",
    "\n",
    "df_m = get_freqdist_df(list_m)\n",
    "df_m['geschlecht'] = 'm'\n",
    "\n",
    "df_w = get_freqdist_df(list_w)\n",
    "df_w['geschlecht'] = 'w'\n",
    "\n",
    "df_concat = pd.concat([df_w, df_m])\n",
    "\n",
    "# Rename w, ambiguouse\n",
    "df_concat.rename(columns={'w': 'noun'}, inplace=True)"
   ]
  },
  {
   "cell_type": "code",
   "execution_count": 13,
   "metadata": {},
   "outputs": [
    {
     "data": {
      "text/html": [
       "<div>\n",
       "<style scoped>\n",
       "    .dataframe tbody tr th:only-of-type {\n",
       "        vertical-align: middle;\n",
       "    }\n",
       "\n",
       "    .dataframe tbody tr th {\n",
       "        vertical-align: top;\n",
       "    }\n",
       "\n",
       "    .dataframe thead th {\n",
       "        text-align: right;\n",
       "    }\n",
       "</style>\n",
       "<table border=\"1\" class=\"dataframe\">\n",
       "  <thead>\n",
       "    <tr style=\"text-align: right;\">\n",
       "      <th>geschlecht</th>\n",
       "      <th>m</th>\n",
       "      <th>w</th>\n",
       "      <th>m_index</th>\n",
       "      <th>w_index</th>\n",
       "      <th>diff</th>\n",
       "      <th>diffabs</th>\n",
       "    </tr>\n",
       "    <tr>\n",
       "      <th>noun</th>\n",
       "      <th></th>\n",
       "      <th></th>\n",
       "      <th></th>\n",
       "      <th></th>\n",
       "      <th></th>\n",
       "      <th></th>\n",
       "    </tr>\n",
       "  </thead>\n",
       "  <tbody>\n",
       "    <tr>\n",
       "      <th>Kanton</th>\n",
       "      <td>39885.0</td>\n",
       "      <td>16883.0</td>\n",
       "      <td>100.0</td>\n",
       "      <td>100.0</td>\n",
       "      <td>0.0</td>\n",
       "      <td>0.0</td>\n",
       "    </tr>\n",
       "    <tr>\n",
       "      <th>Jahr</th>\n",
       "      <td>29943.0</td>\n",
       "      <td>12353.0</td>\n",
       "      <td>75.1</td>\n",
       "      <td>73.2</td>\n",
       "      <td>1.9</td>\n",
       "      <td>1.9</td>\n",
       "    </tr>\n",
       "    <tr>\n",
       "      <th>Zürich</th>\n",
       "      <td>28554.0</td>\n",
       "      <td>11967.0</td>\n",
       "      <td>71.6</td>\n",
       "      <td>70.9</td>\n",
       "      <td>0.7</td>\n",
       "      <td>0.7</td>\n",
       "    </tr>\n",
       "    <tr>\n",
       "      <th>Postulat</th>\n",
       "      <td>16917.0</td>\n",
       "      <td>7582.0</td>\n",
       "      <td>42.4</td>\n",
       "      <td>44.9</td>\n",
       "      <td>-2.5</td>\n",
       "      <td>2.5</td>\n",
       "    </tr>\n",
       "    <tr>\n",
       "      <th>Gemeinde</th>\n",
       "      <td>16496.0</td>\n",
       "      <td>7380.0</td>\n",
       "      <td>41.4</td>\n",
       "      <td>43.7</td>\n",
       "      <td>-2.3</td>\n",
       "      <td>2.3</td>\n",
       "    </tr>\n",
       "    <tr>\n",
       "      <th>Franken</th>\n",
       "      <td>16773.0</td>\n",
       "      <td>6124.0</td>\n",
       "      <td>42.1</td>\n",
       "      <td>36.3</td>\n",
       "      <td>5.8</td>\n",
       "      <td>5.8</td>\n",
       "    </tr>\n",
       "    <tr>\n",
       "      <th>Antrag</th>\n",
       "      <td>15097.0</td>\n",
       "      <td>5733.0</td>\n",
       "      <td>37.9</td>\n",
       "      <td>34.0</td>\n",
       "      <td>3.9</td>\n",
       "      <td>3.9</td>\n",
       "    </tr>\n",
       "    <tr>\n",
       "      <th>Prozent</th>\n",
       "      <td>12470.0</td>\n",
       "      <td>5208.0</td>\n",
       "      <td>31.3</td>\n",
       "      <td>30.8</td>\n",
       "      <td>0.5</td>\n",
       "      <td>0.5</td>\n",
       "    </tr>\n",
       "    <tr>\n",
       "      <th>Kind</th>\n",
       "      <td>5078.0</td>\n",
       "      <td>5170.0</td>\n",
       "      <td>12.7</td>\n",
       "      <td>30.6</td>\n",
       "      <td>-17.9</td>\n",
       "      <td>17.9</td>\n",
       "    </tr>\n",
       "    <tr>\n",
       "      <th>Million</th>\n",
       "      <td>13283.0</td>\n",
       "      <td>4600.0</td>\n",
       "      <td>33.3</td>\n",
       "      <td>27.2</td>\n",
       "      <td>6.1</td>\n",
       "      <td>6.1</td>\n",
       "    </tr>\n",
       "    <tr>\n",
       "      <th>Beispiel</th>\n",
       "      <td>8899.0</td>\n",
       "      <td>4596.0</td>\n",
       "      <td>22.3</td>\n",
       "      <td>27.2</td>\n",
       "      <td>-4.9</td>\n",
       "      <td>4.9</td>\n",
       "    </tr>\n",
       "    <tr>\n",
       "      <th>Gesetz</th>\n",
       "      <td>9866.0</td>\n",
       "      <td>4153.0</td>\n",
       "      <td>24.7</td>\n",
       "      <td>24.6</td>\n",
       "      <td>0.1</td>\n",
       "      <td>0.1</td>\n",
       "    </tr>\n",
       "    <tr>\n",
       "      <th>Fdp</th>\n",
       "      <td>6317.0</td>\n",
       "      <td>3998.0</td>\n",
       "      <td>15.8</td>\n",
       "      <td>23.7</td>\n",
       "      <td>-7.9</td>\n",
       "      <td>7.9</td>\n",
       "    </tr>\n",
       "    <tr>\n",
       "      <th>Grund</th>\n",
       "      <td>9429.0</td>\n",
       "      <td>3979.0</td>\n",
       "      <td>23.6</td>\n",
       "      <td>23.6</td>\n",
       "      <td>0.0</td>\n",
       "      <td>0.0</td>\n",
       "    </tr>\n",
       "    <tr>\n",
       "      <th>Regierung</th>\n",
       "      <td>12901.0</td>\n",
       "      <td>3909.0</td>\n",
       "      <td>32.3</td>\n",
       "      <td>23.2</td>\n",
       "      <td>9.1</td>\n",
       "      <td>9.1</td>\n",
       "    </tr>\n",
       "    <tr>\n",
       "      <th>Frage</th>\n",
       "      <td>10623.0</td>\n",
       "      <td>3741.0</td>\n",
       "      <td>26.6</td>\n",
       "      <td>22.2</td>\n",
       "      <td>4.4</td>\n",
       "      <td>4.4</td>\n",
       "    </tr>\n",
       "    <tr>\n",
       "      <th>Vorlage</th>\n",
       "      <td>10392.0</td>\n",
       "      <td>3737.0</td>\n",
       "      <td>26.1</td>\n",
       "      <td>22.1</td>\n",
       "      <td>4.0</td>\n",
       "      <td>4.0</td>\n",
       "    </tr>\n",
       "    <tr>\n",
       "      <th>Fall</th>\n",
       "      <td>8873.0</td>\n",
       "      <td>3610.0</td>\n",
       "      <td>22.2</td>\n",
       "      <td>21.4</td>\n",
       "      <td>0.8</td>\n",
       "      <td>0.8</td>\n",
       "    </tr>\n",
       "    <tr>\n",
       "      <th>Bereich</th>\n",
       "      <td>6911.0</td>\n",
       "      <td>3598.0</td>\n",
       "      <td>17.3</td>\n",
       "      <td>21.3</td>\n",
       "      <td>-4.0</td>\n",
       "      <td>4.0</td>\n",
       "    </tr>\n",
       "    <tr>\n",
       "      <th>Sinn</th>\n",
       "      <td>9133.0</td>\n",
       "      <td>3548.0</td>\n",
       "      <td>22.9</td>\n",
       "      <td>21.0</td>\n",
       "      <td>1.9</td>\n",
       "      <td>1.9</td>\n",
       "    </tr>\n",
       "  </tbody>\n",
       "</table>\n",
       "</div>"
      ],
      "text/plain": [
       "geschlecht        m        w  m_index  w_index  diff  diffabs\n",
       "noun                                                         \n",
       "Kanton      39885.0  16883.0    100.0    100.0   0.0      0.0\n",
       "Jahr        29943.0  12353.0     75.1     73.2   1.9      1.9\n",
       "Zürich      28554.0  11967.0     71.6     70.9   0.7      0.7\n",
       "Postulat    16917.0   7582.0     42.4     44.9  -2.5      2.5\n",
       "Gemeinde    16496.0   7380.0     41.4     43.7  -2.3      2.3\n",
       "Franken     16773.0   6124.0     42.1     36.3   5.8      5.8\n",
       "Antrag      15097.0   5733.0     37.9     34.0   3.9      3.9\n",
       "Prozent     12470.0   5208.0     31.3     30.8   0.5      0.5\n",
       "Kind         5078.0   5170.0     12.7     30.6 -17.9     17.9\n",
       "Million     13283.0   4600.0     33.3     27.2   6.1      6.1\n",
       "Beispiel     8899.0   4596.0     22.3     27.2  -4.9      4.9\n",
       "Gesetz       9866.0   4153.0     24.7     24.6   0.1      0.1\n",
       "Fdp          6317.0   3998.0     15.8     23.7  -7.9      7.9\n",
       "Grund        9429.0   3979.0     23.6     23.6   0.0      0.0\n",
       "Regierung   12901.0   3909.0     32.3     23.2   9.1      9.1\n",
       "Frage       10623.0   3741.0     26.6     22.2   4.4      4.4\n",
       "Vorlage     10392.0   3737.0     26.1     22.1   4.0      4.0\n",
       "Fall         8873.0   3610.0     22.2     21.4   0.8      0.8\n",
       "Bereich      6911.0   3598.0     17.3     21.3  -4.0      4.0\n",
       "Sinn         9133.0   3548.0     22.9     21.0   1.9      1.9"
      ]
     },
     "execution_count": 13,
     "metadata": {},
     "output_type": "execute_result"
    }
   ],
   "source": [
    "df_pivot = pd.pivot_table(df_concat, index='noun', columns='geschlecht', values='count')\n",
    "\n",
    "# Indexieren (max = 100)\n",
    "df_pivot['m_index'] = round(100 / df_pivot['m'].max() * df_pivot['m'], 1)\n",
    "df_pivot['w_index'] = round(100 / df_pivot['w'].max() * df_pivot['w'], 1)\n",
    "df_pivot['diff'] = (df_pivot['m_index'] - df_pivot['w_index'])\n",
    "df_pivot['diffabs'] = abs(df_pivot['m_index'] - df_pivot['w_index'])\n",
    "\n",
    "df_pivot.sort_values('w', ascending=False).head(20)"
   ]
  },
  {
   "cell_type": "code",
   "execution_count": 14,
   "metadata": {},
   "outputs": [
    {
     "data": {
      "text/plain": [
       "<AxesSubplot:title={'center':'Nomen mit grösstem Geschlechterunterschied'}, ylabel='noun'>"
      ]
     },
     "execution_count": 14,
     "metadata": {},
     "output_type": "execute_result"
    },
    {
     "data": {
      "image/png": "[encoded data removed]",
      "text/plain": [
       "<Figure size 360x576 with 1 Axes>"
      ]
     },
     "metadata": {
      "needs_background": "light"
     },
     "output_type": "display_data"
    }
   ],
   "source": [
    "# Show topic with max difference\n",
    "df_diff = df_pivot.sort_values('diffabs', ascending=False).head(20)\n",
    "df_diff.to_csv(csv_path / 'nouns_spokben_differ_most_between_gender.csv')\n",
    "df_diff[['diff']].plot.barh(figsize=(5, 8), title='Nomen mit grösstem Geschlechterunterschied')"
   ]
  },
  {
   "cell_type": "code",
   "execution_count": 15,
   "metadata": {},
   "outputs": [
    {
     "data": {
      "text/html": [
       "<div>\n",
       "<style scoped>\n",
       "    .dataframe tbody tr th:only-of-type {\n",
       "        vertical-align: middle;\n",
       "    }\n",
       "\n",
       "    .dataframe tbody tr th {\n",
       "        vertical-align: top;\n",
       "    }\n",
       "\n",
       "    .dataframe thead th {\n",
       "        text-align: right;\n",
       "    }\n",
       "</style>\n",
       "<table border=\"1\" class=\"dataframe\">\n",
       "  <thead>\n",
       "    <tr style=\"text-align: right;\">\n",
       "      <th>geschlecht</th>\n",
       "      <th>m</th>\n",
       "      <th>w</th>\n",
       "      <th>m_index</th>\n",
       "      <th>w_index</th>\n",
       "      <th>diff</th>\n",
       "      <th>diffabs</th>\n",
       "    </tr>\n",
       "    <tr>\n",
       "      <th>noun</th>\n",
       "      <th></th>\n",
       "      <th></th>\n",
       "      <th></th>\n",
       "      <th></th>\n",
       "      <th></th>\n",
       "      <th></th>\n",
       "    </tr>\n",
       "  </thead>\n",
       "  <tbody>\n",
       "    <tr>\n",
       "      <th>Kind</th>\n",
       "      <td>5078.0</td>\n",
       "      <td>5170.0</td>\n",
       "      <td>12.7</td>\n",
       "      <td>30.6</td>\n",
       "      <td>-17.9</td>\n",
       "      <td>17.9</td>\n",
       "    </tr>\n",
       "    <tr>\n",
       "      <th>Mensch</th>\n",
       "      <td>4354.0</td>\n",
       "      <td>3390.0</td>\n",
       "      <td>10.9</td>\n",
       "      <td>20.1</td>\n",
       "      <td>-9.2</td>\n",
       "      <td>9.2</td>\n",
       "    </tr>\n",
       "    <tr>\n",
       "      <th>Regierung</th>\n",
       "      <td>12901.0</td>\n",
       "      <td>3909.0</td>\n",
       "      <td>32.3</td>\n",
       "      <td>23.2</td>\n",
       "      <td>9.1</td>\n",
       "      <td>9.1</td>\n",
       "    </tr>\n",
       "    <tr>\n",
       "      <th>Sp</th>\n",
       "      <td>4389.0</td>\n",
       "      <td>3254.0</td>\n",
       "      <td>11.0</td>\n",
       "      <td>19.3</td>\n",
       "      <td>-8.3</td>\n",
       "      <td>8.3</td>\n",
       "    </tr>\n",
       "    <tr>\n",
       "      <th>Schule</th>\n",
       "      <td>3587.0</td>\n",
       "      <td>2868.0</td>\n",
       "      <td>9.0</td>\n",
       "      <td>17.0</td>\n",
       "      <td>-8.0</td>\n",
       "      <td>8.0</td>\n",
       "    </tr>\n",
       "    <tr>\n",
       "      <th>Fdp</th>\n",
       "      <td>6317.0</td>\n",
       "      <td>3998.0</td>\n",
       "      <td>15.8</td>\n",
       "      <td>23.7</td>\n",
       "      <td>-7.9</td>\n",
       "      <td>7.9</td>\n",
       "    </tr>\n",
       "    <tr>\n",
       "      <th>Grüne</th>\n",
       "      <td>4054.0</td>\n",
       "      <td>2949.0</td>\n",
       "      <td>10.2</td>\n",
       "      <td>17.5</td>\n",
       "      <td>-7.3</td>\n",
       "      <td>7.3</td>\n",
       "    </tr>\n",
       "    <tr>\n",
       "      <th>Frau</th>\n",
       "      <td>3402.0</td>\n",
       "      <td>2600.0</td>\n",
       "      <td>8.5</td>\n",
       "      <td>15.4</td>\n",
       "      <td>-6.9</td>\n",
       "      <td>6.9</td>\n",
       "    </tr>\n",
       "    <tr>\n",
       "      <th>Million</th>\n",
       "      <td>13283.0</td>\n",
       "      <td>4600.0</td>\n",
       "      <td>33.3</td>\n",
       "      <td>27.2</td>\n",
       "      <td>6.1</td>\n",
       "      <td>6.1</td>\n",
       "    </tr>\n",
       "    <tr>\n",
       "      <th>Franken</th>\n",
       "      <td>16773.0</td>\n",
       "      <td>6124.0</td>\n",
       "      <td>42.1</td>\n",
       "      <td>36.3</td>\n",
       "      <td>5.8</td>\n",
       "      <td>5.8</td>\n",
       "    </tr>\n",
       "    <tr>\n",
       "      <th>Problem</th>\n",
       "      <td>8555.0</td>\n",
       "      <td>2710.0</td>\n",
       "      <td>21.4</td>\n",
       "      <td>16.1</td>\n",
       "      <td>5.3</td>\n",
       "      <td>5.3</td>\n",
       "    </tr>\n",
       "    <tr>\n",
       "      <th>Sv</th>\n",
       "      <td>8594.0</td>\n",
       "      <td>2805.0</td>\n",
       "      <td>21.5</td>\n",
       "      <td>16.6</td>\n",
       "      <td>4.9</td>\n",
       "      <td>4.9</td>\n",
       "    </tr>\n",
       "    <tr>\n",
       "      <th>Beispiel</th>\n",
       "      <td>8899.0</td>\n",
       "      <td>4596.0</td>\n",
       "      <td>22.3</td>\n",
       "      <td>27.2</td>\n",
       "      <td>-4.9</td>\n",
       "      <td>4.9</td>\n",
       "    </tr>\n",
       "    <tr>\n",
       "      <th>Kommission</th>\n",
       "      <td>10031.0</td>\n",
       "      <td>3467.0</td>\n",
       "      <td>25.1</td>\n",
       "      <td>20.5</td>\n",
       "      <td>4.6</td>\n",
       "      <td>4.6</td>\n",
       "    </tr>\n",
       "    <tr>\n",
       "      <th>Frage</th>\n",
       "      <td>10623.0</td>\n",
       "      <td>3741.0</td>\n",
       "      <td>26.6</td>\n",
       "      <td>22.2</td>\n",
       "      <td>4.4</td>\n",
       "      <td>4.4</td>\n",
       "    </tr>\n",
       "    <tr>\n",
       "      <th>Staat</th>\n",
       "      <td>5913.0</td>\n",
       "      <td>1752.0</td>\n",
       "      <td>14.8</td>\n",
       "      <td>10.4</td>\n",
       "      <td>4.4</td>\n",
       "      <td>4.4</td>\n",
       "    </tr>\n",
       "    <tr>\n",
       "      <th>Arbeit</th>\n",
       "      <td>4542.0</td>\n",
       "      <td>2657.0</td>\n",
       "      <td>11.4</td>\n",
       "      <td>15.7</td>\n",
       "      <td>-4.3</td>\n",
       "      <td>4.3</td>\n",
       "    </tr>\n",
       "    <tr>\n",
       "      <th>Kantonsrat</th>\n",
       "      <td>9283.0</td>\n",
       "      <td>3220.0</td>\n",
       "      <td>23.3</td>\n",
       "      <td>19.1</td>\n",
       "      <td>4.2</td>\n",
       "      <td>4.2</td>\n",
       "    </tr>\n",
       "    <tr>\n",
       "      <th>Vorlage</th>\n",
       "      <td>10392.0</td>\n",
       "      <td>3737.0</td>\n",
       "      <td>26.1</td>\n",
       "      <td>22.1</td>\n",
       "      <td>4.0</td>\n",
       "      <td>4.0</td>\n",
       "    </tr>\n",
       "    <tr>\n",
       "      <th>Bereich</th>\n",
       "      <td>6911.0</td>\n",
       "      <td>3598.0</td>\n",
       "      <td>17.3</td>\n",
       "      <td>21.3</td>\n",
       "      <td>-4.0</td>\n",
       "      <td>4.0</td>\n",
       "    </tr>\n",
       "  </tbody>\n",
       "</table>\n",
       "</div>"
      ],
      "text/plain": [
       "geschlecht        m       w  m_index  w_index  diff  diffabs\n",
       "noun                                                        \n",
       "Kind         5078.0  5170.0     12.7     30.6 -17.9     17.9\n",
       "Mensch       4354.0  3390.0     10.9     20.1  -9.2      9.2\n",
       "Regierung   12901.0  3909.0     32.3     23.2   9.1      9.1\n",
       "Sp           4389.0  3254.0     11.0     19.3  -8.3      8.3\n",
       "Schule       3587.0  2868.0      9.0     17.0  -8.0      8.0\n",
       "Fdp          6317.0  3998.0     15.8     23.7  -7.9      7.9\n",
       "Grüne        4054.0  2949.0     10.2     17.5  -7.3      7.3\n",
       "Frau         3402.0  2600.0      8.5     15.4  -6.9      6.9\n",
       "Million     13283.0  4600.0     33.3     27.2   6.1      6.1\n",
       "Franken     16773.0  6124.0     42.1     36.3   5.8      5.8\n",
       "Problem      8555.0  2710.0     21.4     16.1   5.3      5.3\n",
       "Sv           8594.0  2805.0     21.5     16.6   4.9      4.9\n",
       "Beispiel     8899.0  4596.0     22.3     27.2  -4.9      4.9\n",
       "Kommission  10031.0  3467.0     25.1     20.5   4.6      4.6\n",
       "Frage       10623.0  3741.0     26.6     22.2   4.4      4.4\n",
       "Staat        5913.0  1752.0     14.8     10.4   4.4      4.4\n",
       "Arbeit       4542.0  2657.0     11.4     15.7  -4.3      4.3\n",
       "Kantonsrat   9283.0  3220.0     23.3     19.1   4.2      4.2\n",
       "Vorlage     10392.0  3737.0     26.1     22.1   4.0      4.0\n",
       "Bereich      6911.0  3598.0     17.3     21.3  -4.0      4.0"
      ]
     },
     "execution_count": 15,
     "metadata": {},
     "output_type": "execute_result"
    }
   ],
   "source": [
    "df_diff"
   ]
  },
  {
   "cell_type": "markdown",
   "metadata": {},
   "source": [
    "[csv Daten Nomen mit grössten relativem Unterschied herunterladen](../export/csv_for_infographics/nouns_spoken_differ_most_between_gender.csv)"
   ]
  },
  {
   "cell_type": "markdown",
   "metadata": {},
   "source": [
    "### Find topic that differ most (in this case: Remove duplicate topics, see, whats remains)"
   ]
  },
  {
   "cell_type": "code",
   "execution_count": 16,
   "metadata": {},
   "outputs": [],
   "source": [
    "# Remove duplicates\n",
    "df_concat = df_concat.drop_duplicates(subset=['noun'], keep = False)"
   ]
  },
  {
   "cell_type": "code",
   "execution_count": 17,
   "metadata": {},
   "outputs": [
    {
     "data": {
      "text/plain": [
       "['Jugendliche',\n",
       " 'Familie',\n",
       " 'Angebot',\n",
       " 'Eltern',\n",
       " 'Umsetzung',\n",
       " 'Universität',\n",
       " 'Schüler',\n",
       " 'Bildung',\n",
       " 'Personal',\n",
       " 'Grundlage',\n",
       " 'Folge']"
      ]
     },
     "execution_count": 17,
     "metadata": {},
     "output_type": "execute_result"
    }
   ],
   "source": [
    "list(df_concat[df_concat.geschlecht == 'w']['noun'])"
   ]
  },
  {
   "cell_type": "code",
   "execution_count": 18,
   "metadata": {},
   "outputs": [
    {
     "data": {
      "text/plain": [
       "['Herr',\n",
       " 'Sache',\n",
       " 'Wort',\n",
       " 'Vorstoss',\n",
       " 'Regierungsrat',\n",
       " 'Winterthur',\n",
       " 'Schluß',\n",
       " 'Parlament',\n",
       " 'Geschäft',\n",
       " 'Politik',\n",
       " 'Evp']"
      ]
     },
     "execution_count": 18,
     "metadata": {},
     "output_type": "execute_result"
    }
   ],
   "source": [
    "list(df_concat[df_concat.geschlecht == 'm']['noun'])"
   ]
  },
  {
   "cell_type": "code",
   "execution_count": null,
   "metadata": {},
   "outputs": [],
   "source": []
  }
 ],
 "metadata": {
  "interpreter": {
   "hash": "0d89f51c21e61334fa582c5b112d16d67677dd53345d4e7223b029a81b433160"
  },
  "kernelspec": {
   "display_name": "Python 3.9.0 64-bit ('env': venv)",
   "language": "python",
   "name": "python3"
  },
  "language_info": {
   "codemirror_mode": {
    "name": "ipython",
    "version": 3
   },
   "file_extension": ".py",
   "mimetype": "text/x-python",
   "name": "python",
   "nbconvert_exporter": "python",
   "pygments_lexer": "ipython3",
   "version": "3.9.6"
  },
  "orig_nbformat": 4
 },
 "nbformat": 4,
 "nbformat_minor": 2
}
