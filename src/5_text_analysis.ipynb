{
 "cells": [
  {
   "cell_type": "markdown",
   "metadata": {},
   "source": [
    "# Und das Wort ist Fleisch geworden\n",
    "* https://textmining.wp.hs-hannover.de/Preprocessing.html\n",
    "* Tagset: https://homepage.ruhr-uni-bochum.de/stephen.berman/Korpuslinguistik/Tagsets-STTS.html"
   ]
  },
  {
   "cell_type": "code",
   "execution_count": 1,
   "metadata": {},
   "outputs": [],
   "source": [
    "import pandas as pd\n",
    "import nltk\n",
    "import json\n",
    "from pathlib import Path\n",
    "from HanTa import HanoverTagger as ht\n",
    "import glob\n",
    "import math\n",
    "import pickle\n",
    "\n",
    "# Do once\n",
    "#nltk.download('punkt')"
   ]
  },
  {
   "cell_type": "code",
   "execution_count": 2,
   "metadata": {},
   "outputs": [],
   "source": [
    "csv_path = Path('../export/csv_for_infographics')"
   ]
  },
  {
   "cell_type": "markdown",
   "metadata": {},
   "source": [
    "## Lemmatize / Tag and store as CSV (only once, then goto: next chapter)\n",
    "Store lemmatized and tagged data as json because of performance issues. Loading a csv with (many!) dicts is very slow and like flying from BER...  \n",
    "Split it up to store it on github (max filesize = 100mb)"
   ]
  },
  {
   "cell_type": "code",
   "execution_count": 3,
   "metadata": {},
   "outputs": [],
   "source": [
    "tagger = ht.HanoverTagger('morphmodel_ger.pgz')"
   ]
  },
  {
   "cell_type": "code",
   "execution_count": 4,
   "metadata": {},
   "outputs": [],
   "source": [
    "df_votum_raw = pd.concat([\n",
    "    pd.read_csv(Path('../export/votum/votum_0.csv')),\n",
    "    pd.read_csv(Path('../export/votum/votum_1.csv'))\n",
    "])\n",
    "\n",
    "# Remove empty texts\n",
    "df_votum_raw = df_votum_raw[df_votum_raw.text.notna()]"
   ]
  },
  {
   "cell_type": "code",
   "execution_count": 5,
   "metadata": {},
   "outputs": [],
   "source": [
    "# Start tagging\n",
    "records = []\n",
    "for i, row in df_votum_raw.iterrows():\n",
    "    lemm = nltk.tokenize.word_tokenize(row['text'], language='german')\n",
    "\n",
    "    records.append({\n",
    "        'sitzung_date': row['sitzung_date'],\n",
    "        'dokument_titel': row['dokument_titel'],\n",
    "        'name': row['name'],\n",
    "        'vorname': row['vorname'],\n",
    "        'partei': row['partei'],\n",
    "        'jahrgang': row['jahrgang'],\n",
    "        'geschlecht': row['geschlecht'],\n",
    "        'funktion': row['funktion'],\n",
    "        'ismember': row['ismember'],\n",
    "        'tags': tagger.tag_sent(lemm, taglevel=1),\n",
    "    })"
   ]
  },
  {
   "cell_type": "code",
   "execution_count": 6,
   "metadata": {},
   "outputs": [
    {
     "name": "stdout",
     "output_type": "stream",
     "text": [
      "finito\n"
     ]
    }
   ],
   "source": [
    "# Split\n",
    "chunks = 7\n",
    "bucketsize = math.ceil(len(records) / chunks)\n",
    "for i in range(0, chunks):\n",
    "    subrecords = []\n",
    "    for j in range(bucketsize * i, bucketsize * ( i + 1 )):\n",
    "        if j < len(records):\n",
    "            subrecords.append(records[j])\n",
    "\n",
    "    # Store\n",
    "    with open(Path('../export/tags/tag_%s.json' % i), 'w', encoding='utf-8') as f:\n",
    "        f.write(json.dumps(subrecords, ensure_ascii=False))\n",
    "\n",
    "print(\"finito\")"
   ]
  },
  {
   "cell_type": "markdown",
   "metadata": {},
   "source": [
    "## Load stemmatized Data"
   ]
  },
  {
   "cell_type": "code",
   "execution_count": 9,
   "metadata": {},
   "outputs": [
    {
     "name": "stdout",
     "output_type": "stream",
     "text": [
      "80292\n"
     ]
    }
   ],
   "source": [
    "records = []\n",
    "for f in glob.glob(str(Path('../export/tags/*.json'))):\n",
    "    records = records + json.load(open(f, 'r', encoding='utf-8'))\n",
    "\n",
    "print(len(records))"
   ]
  },
  {
   "cell_type": "code",
   "execution_count": 10,
   "metadata": {},
   "outputs": [
    {
     "name": "stdout",
     "output_type": "stream",
     "text": [
      "59496\n"
     ]
    }
   ],
   "source": [
    "# Members only, no Presidents\n",
    "r_members = list(filter(lambda x: x['ismember'] == True, records))\n",
    "r_members = list(filter(lambda x: x['funktion'] not in ['Präsidium', '2. Vizepräsidium', '1. Vizepräsidium'], r_members))\n",
    "print(len(r_members))"
   ]
  },
  {
   "cell_type": "markdown",
   "metadata": {},
   "source": [
    "## Analyse who said what"
   ]
  },
  {
   "cell_type": "markdown",
   "metadata": {},
   "source": [
    "### Export Nouns for each gender (already done)\n",
    "!! Takes ages. Skip this and load files from disk"
   ]
  },
  {
   "cell_type": "code",
   "execution_count": 11,
   "metadata": {},
   "outputs": [],
   "source": [
    "# Select only Nouns\n",
    "list_m = []\n",
    "list_w = []\n",
    "for r in r_members:\n",
    "    tags = [lemma for (word,lemma,pos) in r['tags'] if pos == \"NN\" or pos == \"NE\"]\n",
    "    if r['geschlecht'] == 'm': list_m = list_m + tags\n",
    "    elif r['geschlecht'] == 'w': list_w = list_w + tags\n",
    "\n",
    "# Store files\n",
    "with open(Path('../export/nouns/nouns_m.txt'), 'wb') as f:\n",
    "    pickle.dump(list_m, f)\n",
    "\n",
    "with open(Path('../export/nouns/nouns_w.txt'), 'wb') as f:\n",
    "    pickle.dump(list_w, f)"
   ]
  },
  {
   "cell_type": "markdown",
   "metadata": {},
   "source": [
    "### Load Noun files from Disk"
   ]
  },
  {
   "cell_type": "code",
   "execution_count": 12,
   "metadata": {},
   "outputs": [],
   "source": [
    "with open(Path('../export/nouns/nouns_m.txt'), 'rb') as fp:\n",
    "    list_m = pickle.load(fp)\n",
    "\n",
    "with open(Path('../export/nouns/nouns_w.txt'), 'rb') as fp:\n",
    "    list_w = pickle.load(fp)"
   ]
  },
  {
   "cell_type": "markdown",
   "metadata": {},
   "source": [
    "### Top m/w topics and how the differ to the other sex"
   ]
  },
  {
   "cell_type": "code",
   "execution_count": 13,
   "metadata": {},
   "outputs": [],
   "source": [
    "def get_freqdist_df(l):\n",
    "    fdist = nltk.FreqDist(l)\n",
    "    fdist = fdist.most_common(100)\n",
    "    df_dist = pd.DataFrame(fdist, columns=['w', 'count'])\n",
    "    df_dist.reset_index(drop=False, inplace=True)\n",
    "    return df_dist\n",
    "\n",
    "df_m = get_freqdist_df(list_m)\n",
    "df_m['geschlecht'] = 'm'\n",
    "\n",
    "df_w = get_freqdist_df(list_w)\n",
    "df_w['geschlecht'] = 'w'\n",
    "\n",
    "df_concat = pd.concat([df_w, df_m])\n",
    "\n",
    "# Rename w, ambiguouse\n",
    "df_concat.rename(columns={'w': 'noun'}, inplace=True)"
   ]
  },
  {
   "cell_type": "code",
   "execution_count": 14,
   "metadata": {},
   "outputs": [
    {
     "data": {
      "text/html": [
       "<div>\n",
       "<style scoped>\n",
       "    .dataframe tbody tr th:only-of-type {\n",
       "        vertical-align: middle;\n",
       "    }\n",
       "\n",
       "    .dataframe tbody tr th {\n",
       "        vertical-align: top;\n",
       "    }\n",
       "\n",
       "    .dataframe thead th {\n",
       "        text-align: right;\n",
       "    }\n",
       "</style>\n",
       "<table border=\"1\" class=\"dataframe\">\n",
       "  <thead>\n",
       "    <tr style=\"text-align: right;\">\n",
       "      <th>geschlecht</th>\n",
       "      <th>m</th>\n",
       "      <th>w</th>\n",
       "      <th>m_index</th>\n",
       "      <th>w_index</th>\n",
       "      <th>diff</th>\n",
       "      <th>diffabs</th>\n",
       "    </tr>\n",
       "    <tr>\n",
       "      <th>noun</th>\n",
       "      <th></th>\n",
       "      <th></th>\n",
       "      <th></th>\n",
       "      <th></th>\n",
       "      <th></th>\n",
       "      <th></th>\n",
       "    </tr>\n",
       "  </thead>\n",
       "  <tbody>\n",
       "    <tr>\n",
       "      <th>Kanton</th>\n",
       "      <td>41604.0</td>\n",
       "      <td>17663.0</td>\n",
       "      <td>100.0</td>\n",
       "      <td>100.0</td>\n",
       "      <td>0.0</td>\n",
       "      <td>0.0</td>\n",
       "    </tr>\n",
       "    <tr>\n",
       "      <th>Jahr</th>\n",
       "      <td>31047.0</td>\n",
       "      <td>12839.0</td>\n",
       "      <td>74.6</td>\n",
       "      <td>72.7</td>\n",
       "      <td>1.9</td>\n",
       "      <td>1.9</td>\n",
       "    </tr>\n",
       "    <tr>\n",
       "      <th>Zürich</th>\n",
       "      <td>30067.0</td>\n",
       "      <td>12479.0</td>\n",
       "      <td>72.3</td>\n",
       "      <td>70.7</td>\n",
       "      <td>1.6</td>\n",
       "      <td>1.6</td>\n",
       "    </tr>\n",
       "    <tr>\n",
       "      <th>Postulat</th>\n",
       "      <td>17620.0</td>\n",
       "      <td>7930.0</td>\n",
       "      <td>42.4</td>\n",
       "      <td>44.9</td>\n",
       "      <td>-2.5</td>\n",
       "      <td>2.5</td>\n",
       "    </tr>\n",
       "    <tr>\n",
       "      <th>Gemeinde</th>\n",
       "      <td>17434.0</td>\n",
       "      <td>7866.0</td>\n",
       "      <td>41.9</td>\n",
       "      <td>44.5</td>\n",
       "      <td>-2.6</td>\n",
       "      <td>2.6</td>\n",
       "    </tr>\n",
       "    <tr>\n",
       "      <th>Franken</th>\n",
       "      <td>17585.0</td>\n",
       "      <td>6539.0</td>\n",
       "      <td>42.3</td>\n",
       "      <td>37.0</td>\n",
       "      <td>5.3</td>\n",
       "      <td>5.3</td>\n",
       "    </tr>\n",
       "    <tr>\n",
       "      <th>Antrag</th>\n",
       "      <td>15646.0</td>\n",
       "      <td>6045.0</td>\n",
       "      <td>37.6</td>\n",
       "      <td>34.2</td>\n",
       "      <td>3.4</td>\n",
       "      <td>3.4</td>\n",
       "    </tr>\n",
       "    <tr>\n",
       "      <th>Kind</th>\n",
       "      <td>5333.0</td>\n",
       "      <td>5695.0</td>\n",
       "      <td>12.8</td>\n",
       "      <td>32.2</td>\n",
       "      <td>-19.4</td>\n",
       "      <td>19.4</td>\n",
       "    </tr>\n",
       "    <tr>\n",
       "      <th>Prozent</th>\n",
       "      <td>12915.0</td>\n",
       "      <td>5411.0</td>\n",
       "      <td>31.0</td>\n",
       "      <td>30.6</td>\n",
       "      <td>0.4</td>\n",
       "      <td>0.4</td>\n",
       "    </tr>\n",
       "    <tr>\n",
       "      <th>Million</th>\n",
       "      <td>13785.0</td>\n",
       "      <td>4863.0</td>\n",
       "      <td>33.1</td>\n",
       "      <td>27.5</td>\n",
       "      <td>5.6</td>\n",
       "      <td>5.6</td>\n",
       "    </tr>\n",
       "    <tr>\n",
       "      <th>Beispiel</th>\n",
       "      <td>9266.0</td>\n",
       "      <td>4800.0</td>\n",
       "      <td>22.3</td>\n",
       "      <td>27.2</td>\n",
       "      <td>-4.9</td>\n",
       "      <td>4.9</td>\n",
       "    </tr>\n",
       "    <tr>\n",
       "      <th>Gesetz</th>\n",
       "      <td>10261.0</td>\n",
       "      <td>4466.0</td>\n",
       "      <td>24.7</td>\n",
       "      <td>25.3</td>\n",
       "      <td>-0.6</td>\n",
       "      <td>0.6</td>\n",
       "    </tr>\n",
       "    <tr>\n",
       "      <th>Grund</th>\n",
       "      <td>10033.0</td>\n",
       "      <td>4200.0</td>\n",
       "      <td>24.1</td>\n",
       "      <td>23.8</td>\n",
       "      <td>0.3</td>\n",
       "      <td>0.3</td>\n",
       "    </tr>\n",
       "    <tr>\n",
       "      <th>Regierung</th>\n",
       "      <td>13654.0</td>\n",
       "      <td>4151.0</td>\n",
       "      <td>32.8</td>\n",
       "      <td>23.5</td>\n",
       "      <td>9.3</td>\n",
       "      <td>9.3</td>\n",
       "    </tr>\n",
       "    <tr>\n",
       "      <th>Fdp</th>\n",
       "      <td>6663.0</td>\n",
       "      <td>4100.0</td>\n",
       "      <td>16.0</td>\n",
       "      <td>23.2</td>\n",
       "      <td>-7.2</td>\n",
       "      <td>7.2</td>\n",
       "    </tr>\n",
       "    <tr>\n",
       "      <th>Vorlage</th>\n",
       "      <td>11076.0</td>\n",
       "      <td>4023.0</td>\n",
       "      <td>26.6</td>\n",
       "      <td>22.8</td>\n",
       "      <td>3.8</td>\n",
       "      <td>3.8</td>\n",
       "    </tr>\n",
       "    <tr>\n",
       "      <th>Frage</th>\n",
       "      <td>11174.0</td>\n",
       "      <td>4017.0</td>\n",
       "      <td>26.9</td>\n",
       "      <td>22.7</td>\n",
       "      <td>4.2</td>\n",
       "      <td>4.2</td>\n",
       "    </tr>\n",
       "    <tr>\n",
       "      <th>Fall</th>\n",
       "      <td>9236.0</td>\n",
       "      <td>3789.0</td>\n",
       "      <td>22.2</td>\n",
       "      <td>21.5</td>\n",
       "      <td>0.7</td>\n",
       "      <td>0.7</td>\n",
       "    </tr>\n",
       "    <tr>\n",
       "      <th>Kommission</th>\n",
       "      <td>10730.0</td>\n",
       "      <td>3753.0</td>\n",
       "      <td>25.8</td>\n",
       "      <td>21.2</td>\n",
       "      <td>4.6</td>\n",
       "      <td>4.6</td>\n",
       "    </tr>\n",
       "    <tr>\n",
       "      <th>Bereich</th>\n",
       "      <td>7253.0</td>\n",
       "      <td>3745.0</td>\n",
       "      <td>17.4</td>\n",
       "      <td>21.2</td>\n",
       "      <td>-3.8</td>\n",
       "      <td>3.8</td>\n",
       "    </tr>\n",
       "  </tbody>\n",
       "</table>\n",
       "</div>"
      ],
      "text/plain": [
       "geschlecht        m        w  m_index  w_index  diff  diffabs\n",
       "noun                                                         \n",
       "Kanton      41604.0  17663.0    100.0    100.0   0.0      0.0\n",
       "Jahr        31047.0  12839.0     74.6     72.7   1.9      1.9\n",
       "Zürich      30067.0  12479.0     72.3     70.7   1.6      1.6\n",
       "Postulat    17620.0   7930.0     42.4     44.9  -2.5      2.5\n",
       "Gemeinde    17434.0   7866.0     41.9     44.5  -2.6      2.6\n",
       "Franken     17585.0   6539.0     42.3     37.0   5.3      5.3\n",
       "Antrag      15646.0   6045.0     37.6     34.2   3.4      3.4\n",
       "Kind         5333.0   5695.0     12.8     32.2 -19.4     19.4\n",
       "Prozent     12915.0   5411.0     31.0     30.6   0.4      0.4\n",
       "Million     13785.0   4863.0     33.1     27.5   5.6      5.6\n",
       "Beispiel     9266.0   4800.0     22.3     27.2  -4.9      4.9\n",
       "Gesetz      10261.0   4466.0     24.7     25.3  -0.6      0.6\n",
       "Grund       10033.0   4200.0     24.1     23.8   0.3      0.3\n",
       "Regierung   13654.0   4151.0     32.8     23.5   9.3      9.3\n",
       "Fdp          6663.0   4100.0     16.0     23.2  -7.2      7.2\n",
       "Vorlage     11076.0   4023.0     26.6     22.8   3.8      3.8\n",
       "Frage       11174.0   4017.0     26.9     22.7   4.2      4.2\n",
       "Fall         9236.0   3789.0     22.2     21.5   0.7      0.7\n",
       "Kommission  10730.0   3753.0     25.8     21.2   4.6      4.6\n",
       "Bereich      7253.0   3745.0     17.4     21.2  -3.8      3.8"
      ]
     },
     "execution_count": 14,
     "metadata": {},
     "output_type": "execute_result"
    }
   ],
   "source": [
    "df_pivot = pd.pivot_table(df_concat, index='noun', columns='geschlecht', values='count')\n",
    "\n",
    "# Indexieren (max = 100)\n",
    "df_pivot['m_index'] = round(100 / df_pivot['m'].max() * df_pivot['m'], 1)\n",
    "df_pivot['w_index'] = round(100 / df_pivot['w'].max() * df_pivot['w'], 1)\n",
    "df_pivot['diff'] = (df_pivot['m_index'] - df_pivot['w_index'])\n",
    "df_pivot['diffabs'] = abs(df_pivot['m_index'] - df_pivot['w_index'])\n",
    "\n",
    "df_pivot.sort_values('w', ascending=False).head(20)"
   ]
  },
  {
   "cell_type": "code",
   "execution_count": 15,
   "metadata": {},
   "outputs": [
    {
     "data": {
      "text/plain": [
       "<AxesSubplot:title={'center':'Nomen mit grösstem Geschlechterunterschied'}, ylabel='noun'>"
      ]
     },
     "execution_count": 15,
     "metadata": {},
     "output_type": "execute_result"
    },
    {
     "data": {
      "image/png": "[encoded data removed]",
      "text/plain": [
       "<Figure size 360x576 with 1 Axes>"
      ]
     },
     "metadata": {
      "needs_background": "light"
     },
     "output_type": "display_data"
    }
   ],
   "source": [
    "# Show topic with max difference\n",
    "df_diff = df_pivot.sort_values('diffabs', ascending=False).head(20)\n",
    "df_diff.to_csv(csv_path / 'nouns_spokben_differ_most_between_gender.csv')\n",
    "df_diff[['diff']].plot.barh(figsize=(5, 8), title='Nomen mit grösstem Geschlechterunterschied')"
   ]
  },
  {
   "cell_type": "code",
   "execution_count": 16,
   "metadata": {},
   "outputs": [
    {
     "data": {
      "text/html": [
       "<div>\n",
       "<style scoped>\n",
       "    .dataframe tbody tr th:only-of-type {\n",
       "        vertical-align: middle;\n",
       "    }\n",
       "\n",
       "    .dataframe tbody tr th {\n",
       "        vertical-align: top;\n",
       "    }\n",
       "\n",
       "    .dataframe thead th {\n",
       "        text-align: right;\n",
       "    }\n",
       "</style>\n",
       "<table border=\"1\" class=\"dataframe\">\n",
       "  <thead>\n",
       "    <tr style=\"text-align: right;\">\n",
       "      <th>geschlecht</th>\n",
       "      <th>m</th>\n",
       "      <th>w</th>\n",
       "      <th>m_index</th>\n",
       "      <th>w_index</th>\n",
       "      <th>diff</th>\n",
       "      <th>diffabs</th>\n",
       "    </tr>\n",
       "    <tr>\n",
       "      <th>noun</th>\n",
       "      <th></th>\n",
       "      <th></th>\n",
       "      <th></th>\n",
       "      <th></th>\n",
       "      <th></th>\n",
       "      <th></th>\n",
       "    </tr>\n",
       "  </thead>\n",
       "  <tbody>\n",
       "    <tr>\n",
       "      <th>Kind</th>\n",
       "      <td>5333.0</td>\n",
       "      <td>5695.0</td>\n",
       "      <td>12.8</td>\n",
       "      <td>32.2</td>\n",
       "      <td>-19.4</td>\n",
       "      <td>19.4</td>\n",
       "    </tr>\n",
       "    <tr>\n",
       "      <th>Regierung</th>\n",
       "      <td>13654.0</td>\n",
       "      <td>4151.0</td>\n",
       "      <td>32.8</td>\n",
       "      <td>23.5</td>\n",
       "      <td>9.3</td>\n",
       "      <td>9.3</td>\n",
       "    </tr>\n",
       "    <tr>\n",
       "      <th>Mensch</th>\n",
       "      <td>4580.0</td>\n",
       "      <td>3570.0</td>\n",
       "      <td>11.0</td>\n",
       "      <td>20.2</td>\n",
       "      <td>-9.2</td>\n",
       "      <td>9.2</td>\n",
       "    </tr>\n",
       "    <tr>\n",
       "      <th>Sp</th>\n",
       "      <td>4543.0</td>\n",
       "      <td>3505.0</td>\n",
       "      <td>10.9</td>\n",
       "      <td>19.8</td>\n",
       "      <td>-8.9</td>\n",
       "      <td>8.9</td>\n",
       "    </tr>\n",
       "    <tr>\n",
       "      <th>Schule</th>\n",
       "      <td>3734.0</td>\n",
       "      <td>3060.0</td>\n",
       "      <td>9.0</td>\n",
       "      <td>17.3</td>\n",
       "      <td>-8.3</td>\n",
       "      <td>8.3</td>\n",
       "    </tr>\n",
       "    <tr>\n",
       "      <th>Grüne</th>\n",
       "      <td>4221.0</td>\n",
       "      <td>3098.0</td>\n",
       "      <td>10.1</td>\n",
       "      <td>17.5</td>\n",
       "      <td>-7.4</td>\n",
       "      <td>7.4</td>\n",
       "    </tr>\n",
       "    <tr>\n",
       "      <th>Fdp</th>\n",
       "      <td>6663.0</td>\n",
       "      <td>4100.0</td>\n",
       "      <td>16.0</td>\n",
       "      <td>23.2</td>\n",
       "      <td>-7.2</td>\n",
       "      <td>7.2</td>\n",
       "    </tr>\n",
       "    <tr>\n",
       "      <th>Frau</th>\n",
       "      <td>3474.0</td>\n",
       "      <td>2722.0</td>\n",
       "      <td>8.4</td>\n",
       "      <td>15.4</td>\n",
       "      <td>-7.0</td>\n",
       "      <td>7.0</td>\n",
       "    </tr>\n",
       "    <tr>\n",
       "      <th>Million</th>\n",
       "      <td>13785.0</td>\n",
       "      <td>4863.0</td>\n",
       "      <td>33.1</td>\n",
       "      <td>27.5</td>\n",
       "      <td>5.6</td>\n",
       "      <td>5.6</td>\n",
       "    </tr>\n",
       "    <tr>\n",
       "      <th>Problem</th>\n",
       "      <td>9022.0</td>\n",
       "      <td>2899.0</td>\n",
       "      <td>21.7</td>\n",
       "      <td>16.4</td>\n",
       "      <td>5.3</td>\n",
       "      <td>5.3</td>\n",
       "    </tr>\n",
       "    <tr>\n",
       "      <th>Franken</th>\n",
       "      <td>17585.0</td>\n",
       "      <td>6539.0</td>\n",
       "      <td>42.3</td>\n",
       "      <td>37.0</td>\n",
       "      <td>5.3</td>\n",
       "      <td>5.3</td>\n",
       "    </tr>\n",
       "    <tr>\n",
       "      <th>Sv</th>\n",
       "      <td>8982.0</td>\n",
       "      <td>2944.0</td>\n",
       "      <td>21.6</td>\n",
       "      <td>16.7</td>\n",
       "      <td>4.9</td>\n",
       "      <td>4.9</td>\n",
       "    </tr>\n",
       "    <tr>\n",
       "      <th>Beispiel</th>\n",
       "      <td>9266.0</td>\n",
       "      <td>4800.0</td>\n",
       "      <td>22.3</td>\n",
       "      <td>27.2</td>\n",
       "      <td>-4.9</td>\n",
       "      <td>4.9</td>\n",
       "    </tr>\n",
       "    <tr>\n",
       "      <th>Kommission</th>\n",
       "      <td>10730.0</td>\n",
       "      <td>3753.0</td>\n",
       "      <td>25.8</td>\n",
       "      <td>21.2</td>\n",
       "      <td>4.6</td>\n",
       "      <td>4.6</td>\n",
       "    </tr>\n",
       "    <tr>\n",
       "      <th>Arbeit</th>\n",
       "      <td>4782.0</td>\n",
       "      <td>2809.0</td>\n",
       "      <td>11.5</td>\n",
       "      <td>15.9</td>\n",
       "      <td>-4.4</td>\n",
       "      <td>4.4</td>\n",
       "    </tr>\n",
       "    <tr>\n",
       "      <th>Staat</th>\n",
       "      <td>6226.0</td>\n",
       "      <td>1888.0</td>\n",
       "      <td>15.0</td>\n",
       "      <td>10.7</td>\n",
       "      <td>4.3</td>\n",
       "      <td>4.3</td>\n",
       "    </tr>\n",
       "    <tr>\n",
       "      <th>Frage</th>\n",
       "      <td>11174.0</td>\n",
       "      <td>4017.0</td>\n",
       "      <td>26.9</td>\n",
       "      <td>22.7</td>\n",
       "      <td>4.2</td>\n",
       "      <td>4.2</td>\n",
       "    </tr>\n",
       "    <tr>\n",
       "      <th>Kantonsrat</th>\n",
       "      <td>9739.0</td>\n",
       "      <td>3402.0</td>\n",
       "      <td>23.4</td>\n",
       "      <td>19.3</td>\n",
       "      <td>4.1</td>\n",
       "      <td>4.1</td>\n",
       "    </tr>\n",
       "    <tr>\n",
       "      <th>Massnahmen</th>\n",
       "      <td>6554.0</td>\n",
       "      <td>3454.0</td>\n",
       "      <td>15.8</td>\n",
       "      <td>19.6</td>\n",
       "      <td>-3.8</td>\n",
       "      <td>3.8</td>\n",
       "    </tr>\n",
       "    <tr>\n",
       "      <th>Bereich</th>\n",
       "      <td>7253.0</td>\n",
       "      <td>3745.0</td>\n",
       "      <td>17.4</td>\n",
       "      <td>21.2</td>\n",
       "      <td>-3.8</td>\n",
       "      <td>3.8</td>\n",
       "    </tr>\n",
       "  </tbody>\n",
       "</table>\n",
       "</div>"
      ],
      "text/plain": [
       "geschlecht        m       w  m_index  w_index  diff  diffabs\n",
       "noun                                                        \n",
       "Kind         5333.0  5695.0     12.8     32.2 -19.4     19.4\n",
       "Regierung   13654.0  4151.0     32.8     23.5   9.3      9.3\n",
       "Mensch       4580.0  3570.0     11.0     20.2  -9.2      9.2\n",
       "Sp           4543.0  3505.0     10.9     19.8  -8.9      8.9\n",
       "Schule       3734.0  3060.0      9.0     17.3  -8.3      8.3\n",
       "Grüne        4221.0  3098.0     10.1     17.5  -7.4      7.4\n",
       "Fdp          6663.0  4100.0     16.0     23.2  -7.2      7.2\n",
       "Frau         3474.0  2722.0      8.4     15.4  -7.0      7.0\n",
       "Million     13785.0  4863.0     33.1     27.5   5.6      5.6\n",
       "Problem      9022.0  2899.0     21.7     16.4   5.3      5.3\n",
       "Franken     17585.0  6539.0     42.3     37.0   5.3      5.3\n",
       "Sv           8982.0  2944.0     21.6     16.7   4.9      4.9\n",
       "Beispiel     9266.0  4800.0     22.3     27.2  -4.9      4.9\n",
       "Kommission  10730.0  3753.0     25.8     21.2   4.6      4.6\n",
       "Arbeit       4782.0  2809.0     11.5     15.9  -4.4      4.4\n",
       "Staat        6226.0  1888.0     15.0     10.7   4.3      4.3\n",
       "Frage       11174.0  4017.0     26.9     22.7   4.2      4.2\n",
       "Kantonsrat   9739.0  3402.0     23.4     19.3   4.1      4.1\n",
       "Massnahmen   6554.0  3454.0     15.8     19.6  -3.8      3.8\n",
       "Bereich      7253.0  3745.0     17.4     21.2  -3.8      3.8"
      ]
     },
     "execution_count": 16,
     "metadata": {},
     "output_type": "execute_result"
    }
   ],
   "source": [
    "df_diff"
   ]
  },
  {
   "cell_type": "markdown",
   "metadata": {},
   "source": [
    "[csv Daten Nomen mit grössten relativem Unterschied herunterladen](../export/csv_for_infographics/nouns_spoken_differ_most_between_gender.csv)"
   ]
  },
  {
   "cell_type": "markdown",
   "metadata": {},
   "source": [
    "### Find topic that differ most (in this case: Remove duplicate topics, see, whats remains)"
   ]
  },
  {
   "cell_type": "code",
   "execution_count": 17,
   "metadata": {},
   "outputs": [],
   "source": [
    "# Remove duplicates\n",
    "df_concat = df_concat.drop_duplicates(subset=['noun'], keep = False)"
   ]
  },
  {
   "cell_type": "code",
   "execution_count": 18,
   "metadata": {},
   "outputs": [
    {
     "data": {
      "text/plain": [
       "['Familie',\n",
       " 'Jugendliche',\n",
       " 'Angebot',\n",
       " 'Eltern',\n",
       " 'Umsetzung',\n",
       " 'Universität',\n",
       " 'Schüler',\n",
       " 'Bildung',\n",
       " 'Grundlage',\n",
       " 'Folge',\n",
       " 'Personal']"
      ]
     },
     "execution_count": 18,
     "metadata": {},
     "output_type": "execute_result"
    }
   ],
   "source": [
    "list(df_concat[df_concat.geschlecht == 'w']['noun'])"
   ]
  },
  {
   "cell_type": "code",
   "execution_count": 19,
   "metadata": {},
   "outputs": [
    {
     "data": {
      "text/plain": [
       "['Herr',\n",
       " 'Sache',\n",
       " 'Wort',\n",
       " 'Vorstoss',\n",
       " 'Regierungsrat',\n",
       " 'Parlament',\n",
       " 'Winterthur',\n",
       " 'Schluß',\n",
       " 'Geschäft',\n",
       " 'Politik',\n",
       " 'Flughafen']"
      ]
     },
     "execution_count": 19,
     "metadata": {},
     "output_type": "execute_result"
    }
   ],
   "source": [
    "list(df_concat[df_concat.geschlecht == 'm']['noun'])"
   ]
  },
  {
   "cell_type": "code",
   "execution_count": null,
   "metadata": {},
   "outputs": [],
   "source": []
  }
 ],
 "metadata": {
  "interpreter": {
   "hash": "0d89f51c21e61334fa582c5b112d16d67677dd53345d4e7223b029a81b433160"
  },
  "kernelspec": {
   "display_name": "Python 3.9.0 64-bit ('env': venv)",
   "language": "python",
   "name": "python3"
  },
  "language_info": {
   "codemirror_mode": {
    "name": "ipython",
    "version": 3
   },
   "file_extension": ".py",
   "mimetype": "text/x-python",
   "name": "python",
   "nbconvert_exporter": "python",
   "pygments_lexer": "ipython3",
   "version": "3.9.6"
  },
  "orig_nbformat": 4
 },
 "nbformat": 4,
 "nbformat_minor": 2
}
