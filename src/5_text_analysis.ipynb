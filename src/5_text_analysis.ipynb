{
 "cells": [
  {
   "cell_type": "markdown",
   "metadata": {},
   "source": [
    "# Und das Wort ist Fleisch geworden\n",
    "* https://textmining.wp.hs-hannover.de/Preprocessing.html\n",
    "* Tagset: https://homepage.ruhr-uni-bochum.de/stephen.berman/Korpuslinguistik/Tagsets-STTS.html"
   ]
  },
  {
   "cell_type": "code",
   "execution_count": 2,
   "metadata": {},
   "outputs": [],
   "source": [
    "import pandas as pd\n",
    "import nltk\n",
    "import json\n",
    "from pathlib import Path\n",
    "from HanTa import HanoverTagger as ht\n",
    "import glob\n",
    "import math\n",
    "\n",
    "# Do once\n",
    "#nltk.download('punkt')"
   ]
  },
  {
   "cell_type": "markdown",
   "metadata": {},
   "source": [
    "## Lemmatize / Tag and store as CSV (only once, then goto: next cell)\n",
    "Store lemmatized and tagged data as json because of performance issues. Loading a csv with (many!) dicts is very slow and like flying from BER...  \n",
    "Split it up to store it on github (max filesize = 100mb)"
   ]
  },
  {
   "cell_type": "code",
   "execution_count": 3,
   "metadata": {},
   "outputs": [],
   "source": [
    "tagger = ht.HanoverTagger('morphmodel_ger.pgz')"
   ]
  },
  {
   "cell_type": "code",
   "execution_count": 4,
   "metadata": {},
   "outputs": [],
   "source": [
    "df_votum_raw = pd.concat([\n",
    "    pd.read_csv(Path('../export/votum/votum_0.csv')),\n",
    "    pd.read_csv(Path('../export/votum/votum_1.csv'))\n",
    "])\n",
    "\n",
    "# Remove empty texts\n",
    "df_votum_raw = df_votum_raw[df_votum_raw.text.notna()]"
   ]
  },
  {
   "cell_type": "code",
   "execution_count": 5,
   "metadata": {},
   "outputs": [],
   "source": [
    "# Start tagging\n",
    "records = []\n",
    "for i, row in df_votum_raw.iterrows():\n",
    "    lemm = nltk.tokenize.word_tokenize(row['text'], language='german')\n",
    "\n",
    "    records.append({\n",
    "        'sitzung_date': row['sitzung_date'],\n",
    "        'dokument_titel': row['dokument_titel'],\n",
    "        'name': row['name'],\n",
    "        'vorname': row['vorname'],\n",
    "        'partei': row['partei'],\n",
    "        'jahrgang': row['jahrgang'],\n",
    "        'geschlecht': row['geschlecht'],\n",
    "        'funktion': row['funktion'],\n",
    "        'ismember': row['ismember'],\n",
    "        'tags': tagger.tag_sent(lemm, taglevel=1),\n",
    "    })"
   ]
  },
  {
   "cell_type": "code",
   "execution_count": null,
   "metadata": {},
   "outputs": [],
   "source": [
    "# Split\n",
    "chunks = 7\n",
    "bucketsize = math.ceil(len(records) / chunks)\n",
    "for i in range(0, chunks):\n",
    "    subrecords = []\n",
    "    for j in range(bucketsize * i, bucketsize * ( i + 1 )):\n",
    "        if j < len(records):\n",
    "            subrecords.append(records[j])\n",
    "\n",
    "    # Store\n",
    "    with open(Path('../export/tags/tag_%s.json' % i), 'w', encoding='utf-8') as f:\n",
    "        f.write(json.dumps(subrecords, ensure_ascii=False))\n",
    "\n",
    "print(\"finito\")"
   ]
  },
  {
   "cell_type": "markdown",
   "metadata": {},
   "source": [
    "## Load stemmatized Data"
   ]
  },
  {
   "cell_type": "code",
   "execution_count": null,
   "metadata": {},
   "outputs": [
    {
     "name": "stdout",
     "output_type": "stream",
     "text": [
      "75264\n"
     ]
    }
   ],
   "source": [
    "records = []\n",
    "for f in glob.glob(str(Path('../export/tags/*.json'))):\n",
    "    records = records + json.load(open(f, 'r', encoding='utf-8'))\n",
    "\n",
    "print(len(records))"
   ]
  },
  {
   "cell_type": "code",
   "execution_count": null,
   "metadata": {},
   "outputs": [
    {
     "name": "stdout",
     "output_type": "stream",
     "text": [
      "55623\n"
     ]
    }
   ],
   "source": [
    "# Members only, no Presidents\n",
    "r_members = list(filter(lambda x: x['ismember'] == True, records))\n",
    "r_members = list(filter(lambda x: x['funktion'] not in ['Präsidium', '2. Vizepräsidium', '1. Vizepräsidium'], r_members))\n",
    "print(len(r_members))"
   ]
  },
  {
   "cell_type": "markdown",
   "metadata": {},
   "source": [
    "## Analyse"
   ]
  },
  {
   "cell_type": "code",
   "execution_count": null,
   "metadata": {},
   "outputs": [],
   "source": [
    "# Select only Nouns\n",
    "list_m = []\n",
    "list_w = []\n",
    "for r in r_members:\n",
    "    tags = [lemma for (word,lemma,pos) in r['tags'] if pos == \"NN\" or pos == \"NE\"]\n",
    "    if r['geschlecht'] == 'm': list_m = list_m + tags\n",
    "    elif r['geschlecht'] == 'w': list_w = list_w + tags"
   ]
  },
  {
   "cell_type": "code",
   "execution_count": null,
   "metadata": {},
   "outputs": [
    {
     "data": {
      "text/html": [
       "<div>\n",
       "<style scoped>\n",
       "    .dataframe tbody tr th:only-of-type {\n",
       "        vertical-align: middle;\n",
       "    }\n",
       "\n",
       "    .dataframe tbody tr th {\n",
       "        vertical-align: top;\n",
       "    }\n",
       "\n",
       "    .dataframe thead th {\n",
       "        text-align: right;\n",
       "    }\n",
       "</style>\n",
       "<table border=\"1\" class=\"dataframe\">\n",
       "  <thead>\n",
       "    <tr style=\"text-align: right;\">\n",
       "      <th></th>\n",
       "      <th>index</th>\n",
       "      <th>w</th>\n",
       "      <th>count</th>\n",
       "      <th>geschlecht</th>\n",
       "    </tr>\n",
       "  </thead>\n",
       "  <tbody>\n",
       "    <tr>\n",
       "      <th>57</th>\n",
       "      <td>57</td>\n",
       "      <td>Jugendliche</td>\n",
       "      <td>1902</td>\n",
       "      <td>w</td>\n",
       "    </tr>\n",
       "    <tr>\n",
       "      <th>60</th>\n",
       "      <td>60</td>\n",
       "      <td>Familie</td>\n",
       "      <td>1820</td>\n",
       "      <td>w</td>\n",
       "    </tr>\n",
       "    <tr>\n",
       "      <th>65</th>\n",
       "      <td>65</td>\n",
       "      <td>Angebot</td>\n",
       "      <td>1768</td>\n",
       "      <td>w</td>\n",
       "    </tr>\n",
       "    <tr>\n",
       "      <th>85</th>\n",
       "      <td>85</td>\n",
       "      <td>Eltern</td>\n",
       "      <td>1487</td>\n",
       "      <td>w</td>\n",
       "    </tr>\n",
       "    <tr>\n",
       "      <th>87</th>\n",
       "      <td>87</td>\n",
       "      <td>Umsetzung</td>\n",
       "      <td>1467</td>\n",
       "      <td>w</td>\n",
       "    </tr>\n",
       "    <tr>\n",
       "      <th>88</th>\n",
       "      <td>88</td>\n",
       "      <td>Universität</td>\n",
       "      <td>1461</td>\n",
       "      <td>w</td>\n",
       "    </tr>\n",
       "    <tr>\n",
       "      <th>91</th>\n",
       "      <td>91</td>\n",
       "      <td>Schüler</td>\n",
       "      <td>1369</td>\n",
       "      <td>w</td>\n",
       "    </tr>\n",
       "    <tr>\n",
       "      <th>93</th>\n",
       "      <td>93</td>\n",
       "      <td>Bildung</td>\n",
       "      <td>1314</td>\n",
       "      <td>w</td>\n",
       "    </tr>\n",
       "    <tr>\n",
       "      <th>94</th>\n",
       "      <td>94</td>\n",
       "      <td>Personal</td>\n",
       "      <td>1302</td>\n",
       "      <td>w</td>\n",
       "    </tr>\n",
       "    <tr>\n",
       "      <th>95</th>\n",
       "      <td>95</td>\n",
       "      <td>Grundlage</td>\n",
       "      <td>1279</td>\n",
       "      <td>w</td>\n",
       "    </tr>\n",
       "    <tr>\n",
       "      <th>97</th>\n",
       "      <td>97</td>\n",
       "      <td>Folge</td>\n",
       "      <td>1264</td>\n",
       "      <td>w</td>\n",
       "    </tr>\n",
       "    <tr>\n",
       "      <th>46</th>\n",
       "      <td>46</td>\n",
       "      <td>Herr</td>\n",
       "      <td>5185</td>\n",
       "      <td>m</td>\n",
       "    </tr>\n",
       "    <tr>\n",
       "      <th>66</th>\n",
       "      <td>66</td>\n",
       "      <td>Sache</td>\n",
       "      <td>4152</td>\n",
       "      <td>m</td>\n",
       "    </tr>\n",
       "    <tr>\n",
       "      <th>77</th>\n",
       "      <td>77</td>\n",
       "      <td>Wort</td>\n",
       "      <td>3692</td>\n",
       "      <td>m</td>\n",
       "    </tr>\n",
       "    <tr>\n",
       "      <th>80</th>\n",
       "      <td>80</td>\n",
       "      <td>Vorstoss</td>\n",
       "      <td>3523</td>\n",
       "      <td>m</td>\n",
       "    </tr>\n",
       "    <tr>\n",
       "      <th>86</th>\n",
       "      <td>86</td>\n",
       "      <td>Regierungsrat</td>\n",
       "      <td>3354</td>\n",
       "      <td>m</td>\n",
       "    </tr>\n",
       "    <tr>\n",
       "      <th>88</th>\n",
       "      <td>88</td>\n",
       "      <td>Winterthur</td>\n",
       "      <td>3297</td>\n",
       "      <td>m</td>\n",
       "    </tr>\n",
       "    <tr>\n",
       "      <th>89</th>\n",
       "      <td>89</td>\n",
       "      <td>Parlament</td>\n",
       "      <td>3295</td>\n",
       "      <td>m</td>\n",
       "    </tr>\n",
       "    <tr>\n",
       "      <th>90</th>\n",
       "      <td>90</td>\n",
       "      <td>Schluß</td>\n",
       "      <td>3259</td>\n",
       "      <td>m</td>\n",
       "    </tr>\n",
       "    <tr>\n",
       "      <th>94</th>\n",
       "      <td>94</td>\n",
       "      <td>Geschäft</td>\n",
       "      <td>3105</td>\n",
       "      <td>m</td>\n",
       "    </tr>\n",
       "    <tr>\n",
       "      <th>96</th>\n",
       "      <td>96</td>\n",
       "      <td>Politik</td>\n",
       "      <td>3082</td>\n",
       "      <td>m</td>\n",
       "    </tr>\n",
       "    <tr>\n",
       "      <th>98</th>\n",
       "      <td>98</td>\n",
       "      <td>Evp</td>\n",
       "      <td>3028</td>\n",
       "      <td>m</td>\n",
       "    </tr>\n",
       "  </tbody>\n",
       "</table>\n",
       "</div>"
      ],
      "text/plain": [
       "    index              w  count geschlecht\n",
       "57     57    Jugendliche   1902          w\n",
       "60     60        Familie   1820          w\n",
       "65     65        Angebot   1768          w\n",
       "85     85         Eltern   1487          w\n",
       "87     87      Umsetzung   1467          w\n",
       "88     88    Universität   1461          w\n",
       "91     91        Schüler   1369          w\n",
       "93     93        Bildung   1314          w\n",
       "94     94       Personal   1302          w\n",
       "95     95      Grundlage   1279          w\n",
       "97     97          Folge   1264          w\n",
       "46     46           Herr   5185          m\n",
       "66     66          Sache   4152          m\n",
       "77     77           Wort   3692          m\n",
       "80     80       Vorstoss   3523          m\n",
       "86     86  Regierungsrat   3354          m\n",
       "88     88     Winterthur   3297          m\n",
       "89     89      Parlament   3295          m\n",
       "90     90         Schluß   3259          m\n",
       "94     94       Geschäft   3105          m\n",
       "96     96        Politik   3082          m\n",
       "98     98            Evp   3028          m"
      ]
     },
     "execution_count": 9,
     "metadata": {},
     "output_type": "execute_result"
    }
   ],
   "source": [
    "def get_freqdist_df(l):\n",
    "    fdist = nltk.FreqDist(l)\n",
    "    fdist = fdist.most_common(100)\n",
    "    df_dist = pd.DataFrame(fdist, columns=['w', 'count'])\n",
    "    df_dist.reset_index(drop=False, inplace=True)\n",
    "    return df_dist\n",
    "\n",
    "df_m = get_freqdist_df(list_m)\n",
    "df_m['geschlecht'] = 'm'\n",
    "\n",
    "df_w = get_freqdist_df(list_w)\n",
    "df_w['geschlecht'] = 'w'\n",
    "\n",
    "df_concat = pd.concat([df_w, df_m])\n",
    "\n",
    "# Remove duplicates\n",
    "df_concat = df_concat.drop_duplicates(subset=['w'], keep = False)\n",
    "\n",
    "df_concat"
   ]
  },
  {
   "cell_type": "code",
   "execution_count": null,
   "metadata": {},
   "outputs": [
    {
     "data": {
      "text/plain": [
       "['Jugendliche',\n",
       " 'Familie',\n",
       " 'Angebot',\n",
       " 'Eltern',\n",
       " 'Umsetzung',\n",
       " 'Universität',\n",
       " 'Schüler',\n",
       " 'Bildung',\n",
       " 'Personal',\n",
       " 'Grundlage',\n",
       " 'Folge']"
      ]
     },
     "execution_count": 10,
     "metadata": {},
     "output_type": "execute_result"
    }
   ],
   "source": [
    "list(df_concat[df_concat.geschlecht == 'w']['w'])"
   ]
  },
  {
   "cell_type": "code",
   "execution_count": null,
   "metadata": {},
   "outputs": [
    {
     "data": {
      "text/plain": [
       "['Herr',\n",
       " 'Sache',\n",
       " 'Wort',\n",
       " 'Vorstoss',\n",
       " 'Regierungsrat',\n",
       " 'Winterthur',\n",
       " 'Parlament',\n",
       " 'Schluß',\n",
       " 'Geschäft',\n",
       " 'Politik',\n",
       " 'Evp']"
      ]
     },
     "execution_count": 11,
     "metadata": {},
     "output_type": "execute_result"
    }
   ],
   "source": [
    "list(df_concat[df_concat.geschlecht == 'm']['w'])"
   ]
  },
  {
   "cell_type": "code",
   "execution_count": null,
   "metadata": {},
   "outputs": [],
   "source": []
  }
 ],
 "metadata": {
  "interpreter": {
   "hash": "0d89f51c21e61334fa582c5b112d16d67677dd53345d4e7223b029a81b433160"
  },
  "kernelspec": {
   "display_name": "Python 3.9.0 64-bit ('env': venv)",
   "language": "python",
   "name": "python3"
  },
  "language_info": {
   "codemirror_mode": {
    "name": "ipython",
    "version": 3
   },
   "file_extension": ".py",
   "mimetype": "text/x-python",
   "name": "python",
   "nbconvert_exporter": "python",
   "pygments_lexer": "ipython3",
   "version": "3.9.6"
  },
  "orig_nbformat": 4
 },
 "nbformat": 4,
 "nbformat_minor": 2
}
