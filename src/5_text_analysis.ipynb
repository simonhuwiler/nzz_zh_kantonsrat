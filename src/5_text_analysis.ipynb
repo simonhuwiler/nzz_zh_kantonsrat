{
 "cells": [
  {
   "cell_type": "markdown",
   "metadata": {},
   "source": [
    "# Und das Wort ist Fleisch geworden\n",
    "* https://textmining.wp.hs-hannover.de/Preprocessing.html\n",
    "* Tagset: https://homepage.ruhr-uni-bochum.de/stephen.berman/Korpuslinguistik/Tagsets-STTS.html"
   ]
  },
  {
   "cell_type": "code",
   "execution_count": 1,
   "metadata": {},
   "outputs": [],
   "source": [
    "import pandas as pd\n",
    "import nltk\n",
    "import json\n",
    "from pathlib import Path\n",
    "from HanTa import HanoverTagger as ht\n",
    "import glob\n",
    "import math\n",
    "import pickle\n",
    "\n",
    "# Do once\n",
    "#nltk.download('punkt')"
   ]
  },
  {
   "cell_type": "code",
   "execution_count": 2,
   "metadata": {},
   "outputs": [],
   "source": [
    "csv_path = Path('../export/csv_for_infographics')"
   ]
  },
  {
   "cell_type": "markdown",
   "metadata": {},
   "source": [
    "## Lemmatize / Tag and store as CSV (only once, then goto: next cell)\n",
    "Store lemmatized and tagged data as json because of performance issues. Loading a csv with (many!) dicts is very slow and like flying from BER...  \n",
    "Split it up to store it on github (max filesize = 100mb)"
   ]
  },
  {
   "cell_type": "code",
   "execution_count": 3,
   "metadata": {},
   "outputs": [],
   "source": [
    "tagger = ht.HanoverTagger('morphmodel_ger.pgz')"
   ]
  },
  {
   "cell_type": "code",
   "execution_count": 4,
   "metadata": {},
   "outputs": [],
   "source": [
    "df_votum_raw = pd.concat([\n",
    "    pd.read_csv(Path('../export/votum/votum_0.csv')),\n",
    "    pd.read_csv(Path('../export/votum/votum_1.csv'))\n",
    "])\n",
    "\n",
    "# Remove empty texts\n",
    "df_votum_raw = df_votum_raw[df_votum_raw.text.notna()]"
   ]
  },
  {
   "cell_type": "code",
   "execution_count": 5,
   "metadata": {},
   "outputs": [],
   "source": [
    "# Start tagging\n",
    "records = []\n",
    "for i, row in df_votum_raw.iterrows():\n",
    "    lemm = nltk.tokenize.word_tokenize(row['text'], language='german')\n",
    "\n",
    "    records.append({\n",
    "        'sitzung_date': row['sitzung_date'],\n",
    "        'dokument_titel': row['dokument_titel'],\n",
    "        'name': row['name'],\n",
    "        'vorname': row['vorname'],\n",
    "        'partei': row['partei'],\n",
    "        'jahrgang': row['jahrgang'],\n",
    "        'geschlecht': row['geschlecht'],\n",
    "        'funktion': row['funktion'],\n",
    "        'ismember': row['ismember'],\n",
    "        'tags': tagger.tag_sent(lemm, taglevel=1),\n",
    "    })"
   ]
  },
  {
   "cell_type": "code",
   "execution_count": 6,
   "metadata": {},
   "outputs": [
    {
     "name": "stdout",
     "output_type": "stream",
     "text": [
      "finito\n"
     ]
    }
   ],
   "source": [
    "# Split\n",
    "chunks = 7\n",
    "bucketsize = math.ceil(len(records) / chunks)\n",
    "for i in range(0, chunks):\n",
    "    subrecords = []\n",
    "    for j in range(bucketsize * i, bucketsize * ( i + 1 )):\n",
    "        if j < len(records):\n",
    "            subrecords.append(records[j])\n",
    "\n",
    "    # Store\n",
    "    with open(Path('../export/tags/tag_%s.json' % i), 'w', encoding='utf-8') as f:\n",
    "        f.write(json.dumps(subrecords, ensure_ascii=False))\n",
    "\n",
    "print(\"finito\")"
   ]
  },
  {
   "cell_type": "markdown",
   "metadata": {},
   "source": [
    "## Load stemmatized Data"
   ]
  },
  {
   "cell_type": "code",
   "execution_count": 9,
   "metadata": {},
   "outputs": [
    {
     "name": "stdout",
     "output_type": "stream",
     "text": [
      "77013\n"
     ]
    }
   ],
   "source": [
    "records = []\n",
    "for f in glob.glob(str(Path('../export/tags/*.json'))):\n",
    "    records = records + json.load(open(f, 'r', encoding='utf-8'))\n",
    "\n",
    "print(len(records))"
   ]
  },
  {
   "cell_type": "code",
   "execution_count": 10,
   "metadata": {},
   "outputs": [
    {
     "name": "stdout",
     "output_type": "stream",
     "text": [
      "56856\n"
     ]
    }
   ],
   "source": [
    "# Members only, no Presidents\n",
    "r_members = list(filter(lambda x: x['ismember'] == True, records))\n",
    "r_members = list(filter(lambda x: x['funktion'] not in ['Präsidium', '2. Vizepräsidium', '1. Vizepräsidium'], r_members))\n",
    "print(len(r_members))"
   ]
  },
  {
   "cell_type": "markdown",
   "metadata": {},
   "source": [
    "## Analyse who said what"
   ]
  },
  {
   "cell_type": "markdown",
   "metadata": {},
   "source": [
    "### Export Nouns for each gender (already done)\n",
    "!! Takes ages. Skip this and load files from disk"
   ]
  },
  {
   "cell_type": "code",
   "execution_count": 11,
   "metadata": {},
   "outputs": [],
   "source": [
    "# Select only Nouns\n",
    "list_m = []\n",
    "list_w = []\n",
    "for r in r_members:\n",
    "    tags = [lemma for (word,lemma,pos) in r['tags'] if pos == \"NN\" or pos == \"NE\"]\n",
    "    if r['geschlecht'] == 'm': list_m = list_m + tags\n",
    "    elif r['geschlecht'] == 'w': list_w = list_w + tags\n",
    "\n",
    "# Store files\n",
    "with open(Path('../export/nouns/nouns_m.txt'), 'wb') as f:\n",
    "    pickle.dump(list_m, f)\n",
    "\n",
    "with open(Path('../export/nouns/nouns_w.txt'), 'wb') as f:\n",
    "    pickle.dump(list_w, f)"
   ]
  },
  {
   "cell_type": "markdown",
   "metadata": {},
   "source": [
    "### Load Noun files from Disk"
   ]
  },
  {
   "cell_type": "code",
   "execution_count": 12,
   "metadata": {},
   "outputs": [],
   "source": [
    "with open(Path('../export/nouns/nouns_m.txt'), 'rb') as fp:\n",
    "    list_m = pickle.load(fp)\n",
    "\n",
    "with open(Path('../export/nouns/nouns_w.txt'), 'rb') as fp:\n",
    "    list_w = pickle.load(fp)"
   ]
  },
  {
   "cell_type": "markdown",
   "metadata": {},
   "source": [
    "### Top m/w topics and how the differ to the other sex"
   ]
  },
  {
   "cell_type": "code",
   "execution_count": null,
   "metadata": {},
   "outputs": [],
   "source": [
    "def get_freqdist_df(l):\n",
    "    fdist = nltk.FreqDist(l)\n",
    "    fdist = fdist.most_common(100)\n",
    "    df_dist = pd.DataFrame(fdist, columns=['w', 'count'])\n",
    "    df_dist.reset_index(drop=False, inplace=True)\n",
    "    return df_dist\n",
    "\n",
    "df_m = get_freqdist_df(list_m)\n",
    "df_m['geschlecht'] = 'm'\n",
    "\n",
    "df_w = get_freqdist_df(list_w)\n",
    "df_w['geschlecht'] = 'w'\n",
    "\n",
    "df_concat = pd.concat([df_w, df_m])\n",
    "\n",
    "# Rename w, ambiguouse\n",
    "df_concat.rename(columns={'w': 'noun'}, inplace=True)"
   ]
  },
  {
   "cell_type": "code",
   "execution_count": null,
   "metadata": {},
   "outputs": [
    {
     "data": {
      "text/html": [
       "<div>\n",
       "<style scoped>\n",
       "    .dataframe tbody tr th:only-of-type {\n",
       "        vertical-align: middle;\n",
       "    }\n",
       "\n",
       "    .dataframe tbody tr th {\n",
       "        vertical-align: top;\n",
       "    }\n",
       "\n",
       "    .dataframe thead th {\n",
       "        text-align: right;\n",
       "    }\n",
       "</style>\n",
       "<table border=\"1\" class=\"dataframe\">\n",
       "  <thead>\n",
       "    <tr style=\"text-align: right;\">\n",
       "      <th>geschlecht</th>\n",
       "      <th>m</th>\n",
       "      <th>w</th>\n",
       "      <th>m_index</th>\n",
       "      <th>w_index</th>\n",
       "      <th>diff</th>\n",
       "      <th>diffabs</th>\n",
       "    </tr>\n",
       "    <tr>\n",
       "      <th>noun</th>\n",
       "      <th></th>\n",
       "      <th></th>\n",
       "      <th></th>\n",
       "      <th></th>\n",
       "      <th></th>\n",
       "      <th></th>\n",
       "    </tr>\n",
       "  </thead>\n",
       "  <tbody>\n",
       "    <tr>\n",
       "      <th>Kanton</th>\n",
       "      <td>39099.0</td>\n",
       "      <td>16428.0</td>\n",
       "      <td>100.0</td>\n",
       "      <td>100.0</td>\n",
       "      <td>0.0</td>\n",
       "      <td>0.0</td>\n",
       "    </tr>\n",
       "    <tr>\n",
       "      <th>Jahr</th>\n",
       "      <td>29397.0</td>\n",
       "      <td>11995.0</td>\n",
       "      <td>75.2</td>\n",
       "      <td>73.0</td>\n",
       "      <td>2.2</td>\n",
       "      <td>2.2</td>\n",
       "    </tr>\n",
       "    <tr>\n",
       "      <th>Zürich</th>\n",
       "      <td>28059.0</td>\n",
       "      <td>11648.0</td>\n",
       "      <td>71.8</td>\n",
       "      <td>70.9</td>\n",
       "      <td>0.9</td>\n",
       "      <td>0.9</td>\n",
       "    </tr>\n",
       "    <tr>\n",
       "      <th>Postulat</th>\n",
       "      <td>16618.0</td>\n",
       "      <td>7425.0</td>\n",
       "      <td>42.5</td>\n",
       "      <td>45.2</td>\n",
       "      <td>-2.7</td>\n",
       "      <td>2.7</td>\n",
       "    </tr>\n",
       "    <tr>\n",
       "      <th>Gemeinde</th>\n",
       "      <td>16186.0</td>\n",
       "      <td>7196.0</td>\n",
       "      <td>41.4</td>\n",
       "      <td>43.8</td>\n",
       "      <td>-2.4</td>\n",
       "      <td>2.4</td>\n",
       "    </tr>\n",
       "    <tr>\n",
       "      <th>Franken</th>\n",
       "      <td>16471.0</td>\n",
       "      <td>5990.0</td>\n",
       "      <td>42.1</td>\n",
       "      <td>36.5</td>\n",
       "      <td>5.6</td>\n",
       "      <td>5.6</td>\n",
       "    </tr>\n",
       "    <tr>\n",
       "      <th>Antrag</th>\n",
       "      <td>14940.0</td>\n",
       "      <td>5640.0</td>\n",
       "      <td>38.2</td>\n",
       "      <td>34.3</td>\n",
       "      <td>3.9</td>\n",
       "      <td>3.9</td>\n",
       "    </tr>\n",
       "    <tr>\n",
       "      <th>Kind</th>\n",
       "      <td>5033.0</td>\n",
       "      <td>5094.0</td>\n",
       "      <td>12.9</td>\n",
       "      <td>31.0</td>\n",
       "      <td>-18.1</td>\n",
       "      <td>18.1</td>\n",
       "    </tr>\n",
       "    <tr>\n",
       "      <th>Prozent</th>\n",
       "      <td>12297.0</td>\n",
       "      <td>5088.0</td>\n",
       "      <td>31.5</td>\n",
       "      <td>31.0</td>\n",
       "      <td>0.5</td>\n",
       "      <td>0.5</td>\n",
       "    </tr>\n",
       "    <tr>\n",
       "      <th>Million</th>\n",
       "      <td>13058.0</td>\n",
       "      <td>4503.0</td>\n",
       "      <td>33.4</td>\n",
       "      <td>27.4</td>\n",
       "      <td>6.0</td>\n",
       "      <td>6.0</td>\n",
       "    </tr>\n",
       "    <tr>\n",
       "      <th>Beispiel</th>\n",
       "      <td>8773.0</td>\n",
       "      <td>4496.0</td>\n",
       "      <td>22.4</td>\n",
       "      <td>27.4</td>\n",
       "      <td>-5.0</td>\n",
       "      <td>5.0</td>\n",
       "    </tr>\n",
       "    <tr>\n",
       "      <th>Gesetz</th>\n",
       "      <td>9723.0</td>\n",
       "      <td>4077.0</td>\n",
       "      <td>24.9</td>\n",
       "      <td>24.8</td>\n",
       "      <td>0.1</td>\n",
       "      <td>0.1</td>\n",
       "    </tr>\n",
       "    <tr>\n",
       "      <th>Grund</th>\n",
       "      <td>9345.0</td>\n",
       "      <td>3914.0</td>\n",
       "      <td>23.9</td>\n",
       "      <td>23.8</td>\n",
       "      <td>0.1</td>\n",
       "      <td>0.1</td>\n",
       "    </tr>\n",
       "    <tr>\n",
       "      <th>Fdp</th>\n",
       "      <td>6201.0</td>\n",
       "      <td>3905.0</td>\n",
       "      <td>15.9</td>\n",
       "      <td>23.8</td>\n",
       "      <td>-7.9</td>\n",
       "      <td>7.9</td>\n",
       "    </tr>\n",
       "    <tr>\n",
       "      <th>Regierung</th>\n",
       "      <td>12769.0</td>\n",
       "      <td>3838.0</td>\n",
       "      <td>32.7</td>\n",
       "      <td>23.4</td>\n",
       "      <td>9.3</td>\n",
       "      <td>9.3</td>\n",
       "    </tr>\n",
       "    <tr>\n",
       "      <th>Vorlage</th>\n",
       "      <td>10277.0</td>\n",
       "      <td>3671.0</td>\n",
       "      <td>26.3</td>\n",
       "      <td>22.3</td>\n",
       "      <td>4.0</td>\n",
       "      <td>4.0</td>\n",
       "    </tr>\n",
       "    <tr>\n",
       "      <th>Frage</th>\n",
       "      <td>10479.0</td>\n",
       "      <td>3657.0</td>\n",
       "      <td>26.8</td>\n",
       "      <td>22.3</td>\n",
       "      <td>4.5</td>\n",
       "      <td>4.5</td>\n",
       "    </tr>\n",
       "    <tr>\n",
       "      <th>Fall</th>\n",
       "      <td>8769.0</td>\n",
       "      <td>3549.0</td>\n",
       "      <td>22.4</td>\n",
       "      <td>21.6</td>\n",
       "      <td>0.8</td>\n",
       "      <td>0.8</td>\n",
       "    </tr>\n",
       "    <tr>\n",
       "      <th>Bereich</th>\n",
       "      <td>6809.0</td>\n",
       "      <td>3527.0</td>\n",
       "      <td>17.4</td>\n",
       "      <td>21.5</td>\n",
       "      <td>-4.1</td>\n",
       "      <td>4.1</td>\n",
       "    </tr>\n",
       "    <tr>\n",
       "      <th>Sinn</th>\n",
       "      <td>9000.0</td>\n",
       "      <td>3480.0</td>\n",
       "      <td>23.0</td>\n",
       "      <td>21.2</td>\n",
       "      <td>1.8</td>\n",
       "      <td>1.8</td>\n",
       "    </tr>\n",
       "  </tbody>\n",
       "</table>\n",
       "</div>"
      ],
      "text/plain": [
       "geschlecht        m        w  m_index  w_index  diff  diffabs\n",
       "noun                                                         \n",
       "Kanton      39099.0  16428.0    100.0    100.0   0.0      0.0\n",
       "Jahr        29397.0  11995.0     75.2     73.0   2.2      2.2\n",
       "Zürich      28059.0  11648.0     71.8     70.9   0.9      0.9\n",
       "Postulat    16618.0   7425.0     42.5     45.2  -2.7      2.7\n",
       "Gemeinde    16186.0   7196.0     41.4     43.8  -2.4      2.4\n",
       "Franken     16471.0   5990.0     42.1     36.5   5.6      5.6\n",
       "Antrag      14940.0   5640.0     38.2     34.3   3.9      3.9\n",
       "Kind         5033.0   5094.0     12.9     31.0 -18.1     18.1\n",
       "Prozent     12297.0   5088.0     31.5     31.0   0.5      0.5\n",
       "Million     13058.0   4503.0     33.4     27.4   6.0      6.0\n",
       "Beispiel     8773.0   4496.0     22.4     27.4  -5.0      5.0\n",
       "Gesetz       9723.0   4077.0     24.9     24.8   0.1      0.1\n",
       "Grund        9345.0   3914.0     23.9     23.8   0.1      0.1\n",
       "Fdp          6201.0   3905.0     15.9     23.8  -7.9      7.9\n",
       "Regierung   12769.0   3838.0     32.7     23.4   9.3      9.3\n",
       "Vorlage     10277.0   3671.0     26.3     22.3   4.0      4.0\n",
       "Frage       10479.0   3657.0     26.8     22.3   4.5      4.5\n",
       "Fall         8769.0   3549.0     22.4     21.6   0.8      0.8\n",
       "Bereich      6809.0   3527.0     17.4     21.5  -4.1      4.1\n",
       "Sinn         9000.0   3480.0     23.0     21.2   1.8      1.8"
      ]
     },
     "execution_count": 46,
     "metadata": {},
     "output_type": "execute_result"
    }
   ],
   "source": [
    "df_pivot = pd.pivot_table(df_concat, index='noun', columns='geschlecht', values='count')\n",
    "\n",
    "# Indexieren (max = 100)\n",
    "df_pivot['m_index'] = round(100 / df_pivot['m'].max() * df_pivot['m'], 1)\n",
    "df_pivot['w_index'] = round(100 / df_pivot['w'].max() * df_pivot['w'], 1)\n",
    "df_pivot['diff'] = (df_pivot['m_index'] - df_pivot['w_index'])\n",
    "df_pivot['diffabs'] = abs(df_pivot['m_index'] - df_pivot['w_index'])\n",
    "\n",
    "df_pivot.sort_values('w', ascending=False).head(20)"
   ]
  },
  {
   "cell_type": "code",
   "execution_count": null,
   "metadata": {},
   "outputs": [
    {
     "data": {
      "text/plain": [
       "<AxesSubplot:title={'center':'Nomen mit grösstem Geschlechterunterschied'}, ylabel='noun'>"
      ]
     },
     "execution_count": 63,
     "metadata": {},
     "output_type": "execute_result"
    },
    {
     "data": {
      "image/png": "[encoded data removed]",
      "text/plain": [
       "<Figure size 360x576 with 1 Axes>"
      ]
     },
     "metadata": {
      "needs_background": "light"
     },
     "output_type": "display_data"
    }
   ],
   "source": [
    "# Show topic with max difference\n",
    "df_diff = df_pivot.sort_values('diffabs', ascending=False).head(20)\n",
    "df_diff.to_csv(csv_path / 'nouns_spokben_differ_most_between_gender.csv')\n",
    "df_diff[['diff']].plot.barh(figsize=(5, 8), title='Nomen mit grösstem Geschlechterunterschied')"
   ]
  },
  {
   "cell_type": "code",
   "execution_count": null,
   "metadata": {},
   "outputs": [
    {
     "data": {
      "text/html": [
       "<div>\n",
       "<style scoped>\n",
       "    .dataframe tbody tr th:only-of-type {\n",
       "        vertical-align: middle;\n",
       "    }\n",
       "\n",
       "    .dataframe tbody tr th {\n",
       "        vertical-align: top;\n",
       "    }\n",
       "\n",
       "    .dataframe thead th {\n",
       "        text-align: right;\n",
       "    }\n",
       "</style>\n",
       "<table border=\"1\" class=\"dataframe\">\n",
       "  <thead>\n",
       "    <tr style=\"text-align: right;\">\n",
       "      <th>geschlecht</th>\n",
       "      <th>m</th>\n",
       "      <th>w</th>\n",
       "      <th>m_index</th>\n",
       "      <th>w_index</th>\n",
       "      <th>diff</th>\n",
       "      <th>diffabs</th>\n",
       "    </tr>\n",
       "    <tr>\n",
       "      <th>noun</th>\n",
       "      <th></th>\n",
       "      <th></th>\n",
       "      <th></th>\n",
       "      <th></th>\n",
       "      <th></th>\n",
       "      <th></th>\n",
       "    </tr>\n",
       "  </thead>\n",
       "  <tbody>\n",
       "    <tr>\n",
       "      <th>Kind</th>\n",
       "      <td>5033.0</td>\n",
       "      <td>5094.0</td>\n",
       "      <td>12.9</td>\n",
       "      <td>31.0</td>\n",
       "      <td>-18.1</td>\n",
       "      <td>18.1</td>\n",
       "    </tr>\n",
       "    <tr>\n",
       "      <th>Regierung</th>\n",
       "      <td>12769.0</td>\n",
       "      <td>3838.0</td>\n",
       "      <td>32.7</td>\n",
       "      <td>23.4</td>\n",
       "      <td>9.3</td>\n",
       "      <td>9.3</td>\n",
       "    </tr>\n",
       "    <tr>\n",
       "      <th>Mensch</th>\n",
       "      <td>4243.0</td>\n",
       "      <td>3284.0</td>\n",
       "      <td>10.9</td>\n",
       "      <td>20.0</td>\n",
       "      <td>-9.1</td>\n",
       "      <td>9.1</td>\n",
       "    </tr>\n",
       "    <tr>\n",
       "      <th>Schule</th>\n",
       "      <td>3532.0</td>\n",
       "      <td>2802.0</td>\n",
       "      <td>9.0</td>\n",
       "      <td>17.1</td>\n",
       "      <td>-8.1</td>\n",
       "      <td>8.1</td>\n",
       "    </tr>\n",
       "    <tr>\n",
       "      <th>Sp</th>\n",
       "      <td>4315.0</td>\n",
       "      <td>3132.0</td>\n",
       "      <td>11.0</td>\n",
       "      <td>19.1</td>\n",
       "      <td>-8.1</td>\n",
       "      <td>8.1</td>\n",
       "    </tr>\n",
       "    <tr>\n",
       "      <th>Fdp</th>\n",
       "      <td>6201.0</td>\n",
       "      <td>3905.0</td>\n",
       "      <td>15.9</td>\n",
       "      <td>23.8</td>\n",
       "      <td>-7.9</td>\n",
       "      <td>7.9</td>\n",
       "    </tr>\n",
       "    <tr>\n",
       "      <th>Grüne</th>\n",
       "      <td>3950.0</td>\n",
       "      <td>2837.0</td>\n",
       "      <td>10.1</td>\n",
       "      <td>17.3</td>\n",
       "      <td>-7.2</td>\n",
       "      <td>7.2</td>\n",
       "    </tr>\n",
       "    <tr>\n",
       "      <th>Frau</th>\n",
       "      <td>3339.0</td>\n",
       "      <td>2583.0</td>\n",
       "      <td>8.5</td>\n",
       "      <td>15.7</td>\n",
       "      <td>-7.2</td>\n",
       "      <td>7.2</td>\n",
       "    </tr>\n",
       "    <tr>\n",
       "      <th>Million</th>\n",
       "      <td>13058.0</td>\n",
       "      <td>4503.0</td>\n",
       "      <td>33.4</td>\n",
       "      <td>27.4</td>\n",
       "      <td>6.0</td>\n",
       "      <td>6.0</td>\n",
       "    </tr>\n",
       "    <tr>\n",
       "      <th>Franken</th>\n",
       "      <td>16471.0</td>\n",
       "      <td>5990.0</td>\n",
       "      <td>42.1</td>\n",
       "      <td>36.5</td>\n",
       "      <td>5.6</td>\n",
       "      <td>5.6</td>\n",
       "    </tr>\n",
       "    <tr>\n",
       "      <th>Problem</th>\n",
       "      <td>8431.0</td>\n",
       "      <td>2654.0</td>\n",
       "      <td>21.6</td>\n",
       "      <td>16.2</td>\n",
       "      <td>5.4</td>\n",
       "      <td>5.4</td>\n",
       "    </tr>\n",
       "    <tr>\n",
       "      <th>Sv</th>\n",
       "      <td>8469.0</td>\n",
       "      <td>2717.0</td>\n",
       "      <td>21.7</td>\n",
       "      <td>16.5</td>\n",
       "      <td>5.2</td>\n",
       "      <td>5.2</td>\n",
       "    </tr>\n",
       "    <tr>\n",
       "      <th>Beispiel</th>\n",
       "      <td>8773.0</td>\n",
       "      <td>4496.0</td>\n",
       "      <td>22.4</td>\n",
       "      <td>27.4</td>\n",
       "      <td>-5.0</td>\n",
       "      <td>5.0</td>\n",
       "    </tr>\n",
       "    <tr>\n",
       "      <th>Frage</th>\n",
       "      <td>10479.0</td>\n",
       "      <td>3657.0</td>\n",
       "      <td>26.8</td>\n",
       "      <td>22.3</td>\n",
       "      <td>4.5</td>\n",
       "      <td>4.5</td>\n",
       "    </tr>\n",
       "    <tr>\n",
       "      <th>Kommission</th>\n",
       "      <td>9830.0</td>\n",
       "      <td>3395.0</td>\n",
       "      <td>25.1</td>\n",
       "      <td>20.7</td>\n",
       "      <td>4.4</td>\n",
       "      <td>4.4</td>\n",
       "    </tr>\n",
       "    <tr>\n",
       "      <th>Arbeit</th>\n",
       "      <td>4464.0</td>\n",
       "      <td>2592.0</td>\n",
       "      <td>11.4</td>\n",
       "      <td>15.8</td>\n",
       "      <td>-4.4</td>\n",
       "      <td>4.4</td>\n",
       "    </tr>\n",
       "    <tr>\n",
       "      <th>Staat</th>\n",
       "      <td>5797.0</td>\n",
       "      <td>1718.0</td>\n",
       "      <td>14.8</td>\n",
       "      <td>10.5</td>\n",
       "      <td>4.3</td>\n",
       "      <td>4.3</td>\n",
       "    </tr>\n",
       "    <tr>\n",
       "      <th>Kantonsrat</th>\n",
       "      <td>9151.0</td>\n",
       "      <td>3157.0</td>\n",
       "      <td>23.4</td>\n",
       "      <td>19.2</td>\n",
       "      <td>4.2</td>\n",
       "      <td>4.2</td>\n",
       "    </tr>\n",
       "    <tr>\n",
       "      <th>Bereich</th>\n",
       "      <td>6809.0</td>\n",
       "      <td>3527.0</td>\n",
       "      <td>17.4</td>\n",
       "      <td>21.5</td>\n",
       "      <td>-4.1</td>\n",
       "      <td>4.1</td>\n",
       "    </tr>\n",
       "    <tr>\n",
       "      <th>Vorlage</th>\n",
       "      <td>10277.0</td>\n",
       "      <td>3671.0</td>\n",
       "      <td>26.3</td>\n",
       "      <td>22.3</td>\n",
       "      <td>4.0</td>\n",
       "      <td>4.0</td>\n",
       "    </tr>\n",
       "  </tbody>\n",
       "</table>\n",
       "</div>"
      ],
      "text/plain": [
       "geschlecht        m       w  m_index  w_index  diff  diffabs\n",
       "noun                                                        \n",
       "Kind         5033.0  5094.0     12.9     31.0 -18.1     18.1\n",
       "Regierung   12769.0  3838.0     32.7     23.4   9.3      9.3\n",
       "Mensch       4243.0  3284.0     10.9     20.0  -9.1      9.1\n",
       "Schule       3532.0  2802.0      9.0     17.1  -8.1      8.1\n",
       "Sp           4315.0  3132.0     11.0     19.1  -8.1      8.1\n",
       "Fdp          6201.0  3905.0     15.9     23.8  -7.9      7.9\n",
       "Grüne        3950.0  2837.0     10.1     17.3  -7.2      7.2\n",
       "Frau         3339.0  2583.0      8.5     15.7  -7.2      7.2\n",
       "Million     13058.0  4503.0     33.4     27.4   6.0      6.0\n",
       "Franken     16471.0  5990.0     42.1     36.5   5.6      5.6\n",
       "Problem      8431.0  2654.0     21.6     16.2   5.4      5.4\n",
       "Sv           8469.0  2717.0     21.7     16.5   5.2      5.2\n",
       "Beispiel     8773.0  4496.0     22.4     27.4  -5.0      5.0\n",
       "Frage       10479.0  3657.0     26.8     22.3   4.5      4.5\n",
       "Kommission   9830.0  3395.0     25.1     20.7   4.4      4.4\n",
       "Arbeit       4464.0  2592.0     11.4     15.8  -4.4      4.4\n",
       "Staat        5797.0  1718.0     14.8     10.5   4.3      4.3\n",
       "Kantonsrat   9151.0  3157.0     23.4     19.2   4.2      4.2\n",
       "Bereich      6809.0  3527.0     17.4     21.5  -4.1      4.1\n",
       "Vorlage     10277.0  3671.0     26.3     22.3   4.0      4.0"
      ]
     },
     "execution_count": 64,
     "metadata": {},
     "output_type": "execute_result"
    }
   ],
   "source": [
    "df_diff"
   ]
  },
  {
   "cell_type": "markdown",
   "metadata": {},
   "source": [
    "[csv Daten Nomen mit grössten relativem Unterschied herunterladen](../export/csv_for_infographics/nouns_spoken_differ_most_between_gender.csv)"
   ]
  },
  {
   "cell_type": "markdown",
   "metadata": {},
   "source": [
    "### Find topic that differ most (in this case: Remove duplicate topics, see, whats remains)"
   ]
  },
  {
   "cell_type": "code",
   "execution_count": null,
   "metadata": {},
   "outputs": [],
   "source": [
    "# Remove duplicates\n",
    "df_concat = df_concat.drop_duplicates(subset=['noun'], keep = False)"
   ]
  },
  {
   "cell_type": "code",
   "execution_count": null,
   "metadata": {},
   "outputs": [
    {
     "data": {
      "text/plain": [
       "['Jugendliche',\n",
       " 'Familie',\n",
       " 'Angebot',\n",
       " 'Eltern',\n",
       " 'Universität',\n",
       " 'Umsetzung',\n",
       " 'Schüler',\n",
       " 'Bildung',\n",
       " 'Personal',\n",
       " 'Grundlage',\n",
       " 'Folge']"
      ]
     },
     "execution_count": 40,
     "metadata": {},
     "output_type": "execute_result"
    }
   ],
   "source": [
    "list(df_concat[df_concat.geschlecht == 'w']['noun'])"
   ]
  },
  {
   "cell_type": "code",
   "execution_count": null,
   "metadata": {},
   "outputs": [
    {
     "data": {
      "text/plain": [
       "['Herr',\n",
       " 'Sache',\n",
       " 'Wort',\n",
       " 'Vorstoss',\n",
       " 'Regierungsrat',\n",
       " 'Winterthur',\n",
       " 'Parlament',\n",
       " 'Schluß',\n",
       " 'Geschäft',\n",
       " 'Politik',\n",
       " 'Evp']"
      ]
     },
     "execution_count": 41,
     "metadata": {},
     "output_type": "execute_result"
    }
   ],
   "source": [
    "list(df_concat[df_concat.geschlecht == 'm']['noun'])"
   ]
  },
  {
   "cell_type": "code",
   "execution_count": null,
   "metadata": {},
   "outputs": [],
   "source": []
  }
 ],
 "metadata": {
  "interpreter": {
   "hash": "0d89f51c21e61334fa582c5b112d16d67677dd53345d4e7223b029a81b433160"
  },
  "kernelspec": {
   "display_name": "Python 3.9.0 64-bit ('env': venv)",
   "language": "python",
   "name": "python3"
  },
  "language_info": {
   "codemirror_mode": {
    "name": "ipython",
    "version": 3
   },
   "file_extension": ".py",
   "mimetype": "text/x-python",
   "name": "python",
   "nbconvert_exporter": "python",
   "pygments_lexer": "ipython3",
   "version": "3.9.6"
  },
  "orig_nbformat": 4
 },
 "nbformat": 4,
 "nbformat_minor": 2
}
