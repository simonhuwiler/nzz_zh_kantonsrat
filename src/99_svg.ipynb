{
 "cells": [
  {
   "cell_type": "markdown",
   "metadata": {},
   "source": [
    "## Create SVG"
   ]
  },
  {
   "cell_type": "code",
   "execution_count": 87,
   "metadata": {},
   "outputs": [],
   "source": [
    "import pandas as pd\n",
    "from pathlib import Path\n",
    "import svgwrite\n",
    "from svgwrite.container import Group\n",
    "from svgwrite.shapes import Rect, Circle\n",
    "import math\n",
    "import functools"
   ]
  },
  {
   "cell_type": "code",
   "execution_count": 9,
   "metadata": {},
   "outputs": [],
   "source": [
    "df = pd.read_excel(Path('../data/sitzung_aufteilung.xlsx'))"
   ]
  },
  {
   "cell_type": "markdown",
   "metadata": {},
   "source": [
    "## Tests"
   ]
  },
  {
   "cell_type": "code",
   "execution_count": 11,
   "metadata": {},
   "outputs": [
    {
     "data": {
      "text/html": [
       "<div>\n",
       "<style scoped>\n",
       "    .dataframe tbody tr th:only-of-type {\n",
       "        vertical-align: middle;\n",
       "    }\n",
       "\n",
       "    .dataframe tbody tr th {\n",
       "        vertical-align: top;\n",
       "    }\n",
       "\n",
       "    .dataframe thead th {\n",
       "        text-align: right;\n",
       "    }\n",
       "</style>\n",
       "<table border=\"1\" class=\"dataframe\">\n",
       "  <thead>\n",
       "    <tr style=\"text-align: right;\">\n",
       "      <th></th>\n",
       "      <th>ratio</th>\n",
       "    </tr>\n",
       "    <tr>\n",
       "      <th>page</th>\n",
       "      <th></th>\n",
       "    </tr>\n",
       "  </thead>\n",
       "  <tbody>\n",
       "  </tbody>\n",
       "</table>\n",
       "</div>"
      ],
      "text/plain": [
       "Empty DataFrame\n",
       "Columns: [ratio]\n",
       "Index: []"
      ]
     },
     "execution_count": 11,
     "metadata": {},
     "output_type": "execute_result"
    }
   ],
   "source": [
    "# Check Ratio sum = 1\n",
    "df_test = df.groupby('page').agg({'ratio': 'sum'})\n",
    "df_test[df_test.ratio != 1]"
   ]
  },
  {
   "cell_type": "code",
   "execution_count": 12,
   "metadata": {},
   "outputs": [
    {
     "data": {
      "text/plain": [
       "array([0, 'p', 'm', 'w'], dtype=object)"
      ]
     },
     "execution_count": 12,
     "metadata": {},
     "output_type": "execute_result"
    }
   ],
   "source": [
    "df['gender'].unique()"
   ]
  },
  {
   "cell_type": "markdown",
   "metadata": {},
   "source": [
    "## Draw"
   ]
  },
  {
   "cell_type": "code",
   "execution_count": 66,
   "metadata": {},
   "outputs": [],
   "source": [
    "colors = {\n",
    "    'm': '#24B39C',\n",
    "    'w': '#6C43C0',\n",
    "    'p': '#7dd1c3',\n",
    "    0: '#cdcdd1'\n",
    "}"
   ]
  },
  {
   "cell_type": "code",
   "execution_count": 97,
   "metadata": {},
   "outputs": [],
   "source": [
    "# Precalculate Rect Position\n",
    "for i in range(df['page'].min(), df['page'].max() + 1):\n",
    "    df_sub = df[df.page == i]\n",
    "    previousRatio = 0\n",
    "    for j, row in df_sub.iterrows():\n",
    "        df.loc[j, 'pos'] = previousRatio\n",
    "        previousRatio += row['ratio']"
   ]
  },
  {
   "cell_type": "code",
   "execution_count": 128,
   "metadata": {},
   "outputs": [],
   "source": [
    "size_desktop = {\n",
    "    'cols': 14,\n",
    "    'rows': 5,\n",
    "    'name': 'd'\n",
    "}\n",
    "\n",
    "size_mobile = {\n",
    "    'cols': 7,\n",
    "    'rows': 10,\n",
    "    'name': 'm'\n",
    "}"
   ]
  },
  {
   "cell_type": "code",
   "execution_count": 129,
   "metadata": {},
   "outputs": [],
   "source": [
    "platform = size_mobile\n",
    "\n",
    "cols = platform['cols']\n",
    "rows = platform['rows']\n",
    "width = 70 \n",
    "height = 100\n",
    "padding = 10\n",
    "\n",
    "svg = svgwrite.Drawing(\n",
    "    Path('../export/csv_for_infographics/sitzung_130_%s.svg' % platform['name']),\n",
    "    profile='tiny',\n",
    "    size = (cols * (width + padding) + 1, rows * (height + padding) + 1)\n",
    ")\n",
    "\n",
    "for page in range(0, df['page'].max()):\n",
    "    row = math.floor(page / cols)\n",
    "    col = page % cols\n",
    "\n",
    "    g = svg.add(Group(\n",
    "        id='%s-%s' % (row, col),\n",
    "        transform=\"translate(%s, %s)\" % (col * (width + padding) + 1, row * (height + padding) + 1)\n",
    "        # transform=\"translate(%s, %s)\" % (col * (width + padding), row * (height + padding))\n",
    "    ))\n",
    "    \n",
    "    g.add(Rect(\n",
    "        insert=(0, 0),\n",
    "        size=(width, height),\n",
    "        stroke='#000000',\n",
    "        stroke_width = 1,\n",
    "        fill='none'\n",
    "    ))\n",
    "\n",
    "    for i, df_row in df[df.page == (page + 1)].iterrows():\n",
    "        g.add(Rect(\n",
    "            insert=(0, height * df_row['pos']),\n",
    "            size=(width, height * df_row['ratio']),\n",
    "            stroke_width = 0,\n",
    "            fill=colors[df_row['gender']]\n",
    "            ))    \n",
    "\n",
    "svg.save()"
   ]
  },
  {
   "cell_type": "markdown",
   "metadata": {},
   "source": [
    "## Bubble Chart"
   ]
  },
  {
   "cell_type": "code",
   "execution_count": 101,
   "metadata": {},
   "outputs": [],
   "source": [
    "clusters = [{\n",
    "        'point_count': 3047,\n",
    "        'fill': colors['w']\n",
    "    },\n",
    "    {\n",
    "        'point_count': 8476,\n",
    "        'fill': colors['m']\n",
    "    }\n",
    "]\n",
    "\n",
    "# clusters = [{\n",
    "#         'point_count': 17422,\n",
    "#         'fill': colors['w']\n",
    "#     },\n",
    "#     {\n",
    "#         'point_count': 43343,\n",
    "#         'fill': colors['m']\n",
    "#     }\n",
    "# ]"
   ]
  },
  {
   "cell_type": "code",
   "execution_count": 102,
   "metadata": {},
   "outputs": [],
   "source": [
    "point_radius = 10\n",
    "\n",
    "svg = svgwrite.Drawing(\n",
    "    Path('../export/csv_for_infographics/cloud.svg'),\n",
    "    profile='tiny',\n",
    ")\n",
    "\n",
    "def draw_cluster(cluster):\n",
    "    r = 0\n",
    "    counter = 0\n",
    "    group = 0\n",
    "\n",
    "    clusterGroup = Group()\n",
    "\n",
    "    while counter < cluster['point_count']:\n",
    "        r = point_radius * (group + 0) * 2\n",
    "        if group == 0:\n",
    "            # Center Circle\n",
    "            count = 1\n",
    "        else:\n",
    "            U = 2 * r * (group + 0) * math.pi\n",
    "            count = math.floor(math.floor(U) / r)\n",
    "\n",
    "        g = clusterGroup.add(Group(id = group))\n",
    "\n",
    "        # Now loop count\n",
    "        for j in range(0, count):\n",
    "            alpha = 360 / count * j\n",
    "            x = r * math.sin(math.pi * 2 * alpha / 360)\n",
    "            y = r * math.cos(math.pi * 2 * alpha / 360)\n",
    "\n",
    "            g.add(Circle((x, y), point_radius,\n",
    "            fill=cluster['fill'],\n",
    "            stroke='none',\n",
    "            stroke_width = 0,\n",
    "            ))\n",
    "\n",
    "            counter += 1\n",
    "            if counter >= cluster['point_count']:\n",
    "                break\n",
    "        \n",
    "        group += 1\n",
    "\n",
    "    viewbox = group * point_radius * 2\n",
    "    return clusterGroup, viewbox\n",
    "\n",
    "# Create Clusters\n",
    "groups = []\n",
    "for cluster in clusters:\n",
    "    g, viewbox = draw_cluster(cluster)\n",
    "    groups.append({'g': g, 'viewbox': viewbox})\n",
    "\n",
    "# Add to SVG\n",
    "for i, c in enumerate(groups):\n",
    "    \n",
    "    c['g'].translate(c['viewbox'] * (-1 if i % 2 == 0 else 1), 0)\n",
    "    svg.add(c['g'])\n",
    "\n",
    "# Set ViewBox\n",
    "width = functools.reduce(lambda x, y: {'viewbox': x['viewbox'] + y['viewbox']}, groups)['viewbox']\n",
    "svg.viewbox(groups[0]['viewbox'] * -2, groups[0]['viewbox'] * -2, width * 2, width * 2)\n",
    "\n",
    "svg.save()"
   ]
  },
  {
   "cell_type": "markdown",
   "metadata": {},
   "source": [
    "## Grid"
   ]
  },
  {
   "cell_type": "code",
   "execution_count": 110,
   "metadata": {},
   "outputs": [
    {
     "data": {
      "text/plain": [
       "76821"
      ]
     },
     "execution_count": 110,
     "metadata": {},
     "output_type": "execute_result"
    }
   ],
   "source": [
    "# Load Sitzungen\n",
    "df_votum_raw = pd.concat([\n",
    "    pd.read_csv(Path('../export/votum/votum_0.csv')),\n",
    "    pd.read_csv(Path('../export/votum/votum_1.csv'))\n",
    "])\n",
    "\n",
    "# Remove non members (mostly former members who are now in the Regierungsrat)\n",
    "df_votum_raw = df_votum_raw[df_votum_raw.ismember == True]\n",
    "\n",
    "# Typecast\n",
    "df_votum_raw['sitzung_date'] = pd.to_datetime(df_votum_raw['sitzung_date'])\n",
    "\n",
    "# Remove empty texts\n",
    "df_votum_raw = df_votum_raw[df_votum_raw.text.notna()]\n",
    "\n",
    "# Replace CVP with Die Mitte\n",
    "df_votum_raw.loc[df_votum_raw.partei.str.lower() == 'cvp', 'partei'] = \"Die Mitte\"\n",
    "\n",
    "df_votum_raw['g'] = df_votum_raw['geschlecht']\n",
    "df_votum_raw.loc[df_votum_raw.funktion.notna(), 'g'] = 'p'\n",
    "df_votum_raw.loc[df_votum_raw.ismember == False, 'g'] = 'nomember'\n",
    "\n",
    "len(df_votum_raw)"
   ]
  },
  {
   "cell_type": "code",
   "execution_count": 134,
   "metadata": {},
   "outputs": [],
   "source": [
    "df = df_votum_raw[df_votum_raw.sitzung_date >= '2019-05-01'].reset_index()\n",
    "\n",
    "cols = 100\n",
    "size = {\n",
    "    'width': 20,\n",
    "    'height': 30,\n",
    "    'padding': 1\n",
    "}\n",
    "\n",
    "svg = svgwrite.Drawing(\n",
    "    Path('../export/csv_for_infographics/grid.svg'),\n",
    "    profile='tiny',\n",
    "    # viewBox=(10, 10, 10, 10)\n",
    "    size = (\n",
    "        cols * (size['width'] + size['padding']),\n",
    "        math.ceil(len(df) / cols) * (size['height'] + size['padding'])\n",
    "    )\n",
    ")\n",
    "\n",
    "for i, row in df.iterrows():\n",
    "    gridrow = math.floor(i / cols)\n",
    "    gridcol = i % cols\n",
    "\n",
    "    svg.add(Rect(\n",
    "        insert=(\n",
    "            gridcol * (size['width'] + size['padding']),\n",
    "            gridrow * (size['height'] + size['padding']),\n",
    "        ),\n",
    "        size=(size['width'], size['height']),\n",
    "        stroke='#000',\n",
    "        stroke_width = 1,\n",
    "        fill=colors[row['g']]\n",
    "    ))\n",
    "\n",
    "svg.save()"
   ]
  },
  {
   "cell_type": "code",
   "execution_count": null,
   "metadata": {},
   "outputs": [],
   "source": []
  }
 ],
 "metadata": {
  "interpreter": {
   "hash": "37f0ca31d41186abe10772da2ac64da7601e3a80a4b6b1bf647ed16bff654d0c"
  },
  "kernelspec": {
   "display_name": "Python 3.9.6 ('env': venv)",
   "language": "python",
   "name": "python3"
  },
  "language_info": {
   "codemirror_mode": {
    "name": "ipython",
    "version": 3
   },
   "file_extension": ".py",
   "mimetype": "text/x-python",
   "name": "python",
   "nbconvert_exporter": "python",
   "pygments_lexer": "ipython3",
   "version": "3.9.6"
  },
  "orig_nbformat": 4
 },
 "nbformat": 4,
 "nbformat_minor": 2
}
