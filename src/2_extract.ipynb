{
 "cells": [
  {
   "cell_type": "markdown",
   "source": [
    "# Extract Protokolle"
   ],
   "metadata": {}
  }
 ],
 "metadata": {
  "orig_nbformat": 4,
  "language_info": {
   "name": "python"
  }
 },
 "nbformat": 4,
 "nbformat_minor": 2
}