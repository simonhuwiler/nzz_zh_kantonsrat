{
 "cells": [
  {
   "cell_type": "markdown",
   "source": [
    "# Extract Protokolle"
   ],
   "metadata": {}
  },
  {
   "cell_type": "code",
   "execution_count": 2,
   "source": [
    "from docx import *"
   ],
   "outputs": [],
   "metadata": {}
  },
  {
   "cell_type": "code",
   "execution_count": 3,
   "source": [
    "document = Document('../export/Files/2021-09-27-17fa216f98fd4d38afd5afb53743ec65-332.docx')"
   ],
   "outputs": [],
   "metadata": {}
  },
  {
   "cell_type": "code",
   "execution_count": 12,
   "source": [
    "for para in document.paragraphs:\n",
    "    for run in para.runs:\n",
    "        if run.italic :\n",
    "            index = para.text.index(run.text)\n",
    "            #print(index)\n",
    "            if index != 0:\n",
    "                print(\"xx[%s]xx (%s)\" % (run.text, index))\n",
    "\n",
    "\n",
    "            #print(para.text)\n",
    "\n",
    "            break"
   ],
   "outputs": [
    {
     "output_type": "stream",
     "name": "stdout",
     "text": [
      "xx[Benno Scherrer (GLP, Uster)]xx (9)\n",
      "xx[(schriftliches Verfahren)]xx (13)\n",
      "xx[Ratspräsident Benno Scherrer:]xx (35)\n",
      "xx[(Die Anwesenden erhe]xx (447)\n",
      "xx[Claudia Frei-Wyssen (GLP, Uster), Beatrix Frey (FDP, Meilen) ]xx (1)\n",
      "xx[Tobias Weidmann (SVP, Hettlingen), Marcel Suter (SVP, Thalwil), ]xx (61)\n",
      "xx[Maria Rita Marty (SVP, Volketswil) ]xx (42)\n",
      "xx[Hans-Peter Amrein (SVP, Küsnacht; fraktionslos) ]xx (1)\n",
      "xx[Ratspräsident Benno Scherrer:]xx (239)\n",
      "xx[Ratspräsident Benno Scherrer:]xx (189)\n",
      "xx[Ratspräsident Benno Scherrer:]xx (315)\n",
      "xx[Ratspräsident Benno Scherrer:]xx (314)\n",
      "xx[Ratspräsident Benno Scherrer:]xx (215)\n",
      "xx[Ratspräsident Benno Scherrer:]xx (294)\n",
      "xx[Ratspräsident Benno Scherrer:]xx (338)\n",
      "xx[Ratspräsident Benno Scherrer:]xx (224)\n",
      "xx[Ratspräsident Benno Scherrer:]xx (197)\n",
      "xx[Ratspräsident Benno Scherrer:]xx (265)\n",
      "xx[Ratspräsident Benno Scherrer:]xx (232)\n",
      "xx[Ratspräsident Benno Scherrer:]xx (280)\n",
      "xx[Ratspräsident Benno Scherrer:]xx (241)\n",
      "xx[Ratspräsident Benno Scherrer:]xx (280)\n",
      "xx[Ratspräsident Benno Scherrer:]xx (382)\n",
      "xx[Ratspräsident Benno Scherrer:]xx (242)\n",
      "xx[Ratspräsident Benno Scherrer:]xx (423)\n",
      "xx[Markus Bischoff (AL, Zürich), Präsident der Interfraktionellen Konfe]xx (158)\n",
      "xx[(schriftliches Verfahren) ]xx (278)\n",
      "xx[Ratspräsident Benno Scherrer:]xx (220)\n",
      "xx[(Gesetz über Controlling und Rechnungslegung) ]xx (70)\n",
      "xx[Selma L'Orange Seigo (Grüne, Zürich):]xx (129)\n",
      "xx[Lorenz Schmid (Die Mitte, Männedorf): ]xx (1507)\n",
      "xx[Ratspräsident Benno Scherrer: ]xx (262)\n",
      "xx[(USZ)]xx (121)\n",
      "xx[(UZH) ]xx (1461)\n",
      "xx[(Gewinn vor Zinsen, Steuern, Abschreibungen ]xx (390)\n",
      "xx[Arianne Moser (FDP, Bonstetten): ]xx (202)\n",
      "xx[Janine Vannaz (Die Mitte, Aesch): ]xx (197)\n",
      "xx[… (Die Redezeit ist abgelaufen.) ]xx (605)\n",
      "xx[Melanie Berner (AL, Zürich): ]xx (202)\n",
      "xx[(Zürcher Kantonalbank)]xx (1812)\n",
      "xx[(Krankenversicherungsgesetz)]xx (1158)\n",
      "xx[(KAZ)]xx (785)\n",
      "xx[(Geschäftsprüfungskommission)]xx (87)\n",
      "xx[Ratspräsident Benno Scherrer:]xx (277)\n",
      "xx[Daniela Rinderknecht (SVP, Wallisellen):]xx (268)\n",
      "xx[(UZH) ]xx (120)\n",
      "xx[Melanie Berner (AL, Zürich): ]xx (274)\n",
      "xx[Ratspräsident Benno Scherrer:]xx (273)\n",
      "xx[Brigitte Röösli (SP, Illnau-Effretikon): ]xx (544)\n",
      "xx[Nathalie Aeschbacher (GLP, Zürich): ]xx (866)\n",
      "xx[Mark Anthony Wisskirchen (EVP, Kloten): ]xx (594)\n",
      "xx[Ratspräsident Benno Scherrer:]xx (292)\n",
      "xx[Brigitte Röösli (SP, Illnau-Effretikon):]xx (442)\n",
      "xx[(Gesundheitsdirektion)]xx (226)\n"
     ]
    }
   ],
   "metadata": {}
  },
  {
   "cell_type": "code",
   "execution_count": null,
   "source": [],
   "outputs": [],
   "metadata": {}
  }
 ],
 "metadata": {
  "orig_nbformat": 4,
  "language_info": {
   "name": "python",
   "version": "3.9.6",
   "mimetype": "text/x-python",
   "codemirror_mode": {
    "name": "ipython",
    "version": 3
   },
   "pygments_lexer": "ipython3",
   "nbconvert_exporter": "python",
   "file_extension": ".py"
  },
  "kernelspec": {
   "name": "python3",
   "display_name": "Python 3.9.6 64-bit ('env': venv)"
  },
  "interpreter": {
   "hash": "69dc94fc393d943518fcde1eb0a856b515bbecd136e3dea5800bae48efbead23"
  }
 },
 "nbformat": 4,
 "nbformat_minor": 2
}