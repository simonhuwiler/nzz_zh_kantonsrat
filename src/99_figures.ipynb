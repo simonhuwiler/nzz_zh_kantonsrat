{
 "cells": [
  {
   "cell_type": "markdown",
   "metadata": {},
   "source": [
    "# Some numbers"
   ]
  },
  {
   "cell_type": "code",
   "execution_count": 1,
   "metadata": {},
   "outputs": [],
   "source": [
    "import pandas as pd\n",
    "from pathlib import Path\n",
    "import glob\n",
    "from pdfminer.pdfparser import PDFParser\n",
    "from pdfminer.pdfdocument import PDFDocument\n",
    "from pdfminer.pdfinterp import resolve1"
   ]
  },
  {
   "cell_type": "markdown",
   "metadata": {},
   "source": [
    "## Count Protokolle and Pages"
   ]
  },
  {
   "cell_type": "code",
   "execution_count": 20,
   "metadata": {},
   "outputs": [
    {
     "name": "stdout",
     "output_type": "stream",
     "text": [
      "Dokumente: 1135\n",
      "Seiten: 78433\n"
     ]
    }
   ],
   "source": [
    "docs = 0\n",
    "pages = 0\n",
    "\n",
    "for f in glob.glob(str(Path('./../export/Files/*.pdf'))):\n",
    "\n",
    "    parser = PDFParser(open(f, 'rb'))\n",
    "    document = PDFDocument(parser)\n",
    "    docs += 1\n",
    "    pages += resolve1(document.catalog['Pages'])['Count']\n",
    "\n",
    "print(\"Dokumente: %s\" % docs)\n",
    "print(\"Seiten: %s\" % pages)"
   ]
  },
  {
   "cell_type": "code",
   "execution_count": 33,
   "metadata": {},
   "outputs": [
    {
     "name": "stdout",
     "output_type": "stream",
     "text": [
      "Voten: 80306\n",
      "First: 2001-01-08\n",
      "Last: 2022-03-28\n"
     ]
    }
   ],
   "source": [
    "df = pd.concat([\n",
    "    pd.read_csv(Path('../export/votum/votum_0.csv')),\n",
    "    pd.read_csv(Path('../export/votum/votum_1.csv'))\n",
    "])\n",
    "\n",
    "print(\"Voten: %s\" % len(df))\n",
    "print(\"First: %s\" % df['sitzung_date'].min())\n",
    "print(\"Last: %s\" % df['sitzung_date'].max())"
   ]
  },
  {
   "cell_type": "markdown",
   "metadata": {},
   "source": [
    "## Count Geschäfte"
   ]
  },
  {
   "cell_type": "code",
   "execution_count": 30,
   "metadata": {},
   "outputs": [
    {
     "name": "stdout",
     "output_type": "stream",
     "text": [
      "Geschäfte: 10614\n",
      "First: 2001-01-01\n",
      "Last: 2022-04-14\n"
     ]
    }
   ],
   "source": [
    "df = pd.read_csv(Path('../export/geschaefte.csv'), encoding='UTF-8')\n",
    "\n",
    "print(\"Geschäfte: %s\" % len(df))\n",
    "print(\"First: %s\" % df['start'].min())\n",
    "print(\"Last: %s\" % df['start'].max())"
   ]
  },
  {
   "cell_type": "markdown",
   "metadata": {},
   "source": [
    "## Alle Sitzungen"
   ]
  },
  {
   "cell_type": "code",
   "execution_count": 2,
   "metadata": {},
   "outputs": [
    {
     "data": {
      "text/plain": [
       "76821"
      ]
     },
     "execution_count": 2,
     "metadata": {},
     "output_type": "execute_result"
    }
   ],
   "source": [
    "df_votum_raw = pd.concat([\n",
    "    pd.read_csv(Path('../export/votum/votum_0.csv')),\n",
    "    pd.read_csv(Path('../export/votum/votum_1.csv'))\n",
    "])\n",
    "\n",
    "# Remove non members (mostly former members who are now in the Regierungsrat)\n",
    "df_votum_raw = df_votum_raw[df_votum_raw.ismember == True]\n",
    "\n",
    "# Typecast\n",
    "df_votum_raw['sitzung_date'] = pd.to_datetime(df_votum_raw['sitzung_date'])\n",
    "\n",
    "# Remove empty texts\n",
    "df_votum_raw = df_votum_raw[df_votum_raw.text.notna()]\n",
    "\n",
    "# Replace CVP with Die Mitte\n",
    "df_votum_raw.loc[df_votum_raw.partei.str.lower() == 'cvp', 'partei'] = \"Die Mitte\"\n",
    "\n",
    "df_votum_raw['g'] = df_votum_raw['geschlecht']\n",
    "df_votum_raw.loc[df_votum_raw.funktion.notna(), 'g'] = 'präsidium'\n",
    "df_votum_raw.loc[df_votum_raw.ismember == False, 'g'] = 'nomember'\n",
    "\n",
    "len(df_votum_raw)"
   ]
  },
  {
   "cell_type": "code",
   "execution_count": 3,
   "metadata": {},
   "outputs": [
    {
     "data": {
      "text/html": [
       "<div>\n",
       "<style scoped>\n",
       "    .dataframe tbody tr th:only-of-type {\n",
       "        vertical-align: middle;\n",
       "    }\n",
       "\n",
       "    .dataframe tbody tr th {\n",
       "        vertical-align: top;\n",
       "    }\n",
       "\n",
       "    .dataframe thead th {\n",
       "        text-align: right;\n",
       "    }\n",
       "</style>\n",
       "<table border=\"1\" class=\"dataframe\">\n",
       "  <thead>\n",
       "    <tr style=\"text-align: right;\">\n",
       "      <th></th>\n",
       "      <th>name</th>\n",
       "      <th>vorname</th>\n",
       "      <th>text</th>\n",
       "      <th>page</th>\n",
       "      <th>f</th>\n",
       "      <th>sitzung_name</th>\n",
       "      <th>sitzung_date</th>\n",
       "      <th>sitzung_start</th>\n",
       "      <th>sitzung_gremium</th>\n",
       "      <th>dokument_titel</th>\n",
       "      <th>partei</th>\n",
       "      <th>geschlecht</th>\n",
       "      <th>jahrgang</th>\n",
       "      <th>funktion</th>\n",
       "      <th>ismember</th>\n",
       "      <th>%</th>\n",
       "    </tr>\n",
       "    <tr>\n",
       "      <th>g</th>\n",
       "      <th></th>\n",
       "      <th></th>\n",
       "      <th></th>\n",
       "      <th></th>\n",
       "      <th></th>\n",
       "      <th></th>\n",
       "      <th></th>\n",
       "      <th></th>\n",
       "      <th></th>\n",
       "      <th></th>\n",
       "      <th></th>\n",
       "      <th></th>\n",
       "      <th></th>\n",
       "      <th></th>\n",
       "      <th></th>\n",
       "      <th></th>\n",
       "    </tr>\n",
       "  </thead>\n",
       "  <tbody>\n",
       "    <tr>\n",
       "      <th>m</th>\n",
       "      <td>43343</td>\n",
       "      <td>43343</td>\n",
       "      <td>43343</td>\n",
       "      <td>43343</td>\n",
       "      <td>43343</td>\n",
       "      <td>43343</td>\n",
       "      <td>43343</td>\n",
       "      <td>19272</td>\n",
       "      <td>43343</td>\n",
       "      <td>43343</td>\n",
       "      <td>43343</td>\n",
       "      <td>43343</td>\n",
       "      <td>43343</td>\n",
       "      <td>0</td>\n",
       "      <td>43343</td>\n",
       "      <td>71.32889</td>\n",
       "    </tr>\n",
       "    <tr>\n",
       "      <th>w</th>\n",
       "      <td>17422</td>\n",
       "      <td>17422</td>\n",
       "      <td>17422</td>\n",
       "      <td>17422</td>\n",
       "      <td>17422</td>\n",
       "      <td>17422</td>\n",
       "      <td>17422</td>\n",
       "      <td>8491</td>\n",
       "      <td>17422</td>\n",
       "      <td>17422</td>\n",
       "      <td>17422</td>\n",
       "      <td>17422</td>\n",
       "      <td>17422</td>\n",
       "      <td>0</td>\n",
       "      <td>17422</td>\n",
       "      <td>28.67111</td>\n",
       "    </tr>\n",
       "  </tbody>\n",
       "</table>\n",
       "</div>"
      ],
      "text/plain": [
       "    name  vorname   text   page      f  sitzung_name  sitzung_date  \\\n",
       "g                                                                    \n",
       "m  43343    43343  43343  43343  43343         43343         43343   \n",
       "w  17422    17422  17422  17422  17422         17422         17422   \n",
       "\n",
       "   sitzung_start  sitzung_gremium  dokument_titel  partei  geschlecht  \\\n",
       "g                                                                       \n",
       "m          19272            43343           43343   43343       43343   \n",
       "w           8491            17422           17422   17422       17422   \n",
       "\n",
       "   jahrgang  funktion  ismember         %  \n",
       "g                                          \n",
       "m     43343         0     43343  71.32889  \n",
       "w     17422         0     17422  28.67111  "
      ]
     },
     "execution_count": 3,
     "metadata": {},
     "output_type": "execute_result"
    }
   ],
   "source": [
    "df = df_votum_raw\n",
    "df = df[df.funktion.isna()]\n",
    "df = df.groupby('g').count()\n",
    "df['%'] = 100 / df['name'].sum() * df['name']\n",
    "\n",
    "df"
   ]
  },
  {
   "cell_type": "markdown",
   "metadata": {},
   "source": [
    "## Sitzung 2021-08-23"
   ]
  },
  {
   "cell_type": "code",
   "execution_count": 10,
   "metadata": {},
   "outputs": [
    {
     "data": {
      "text/html": [
       "<div>\n",
       "<style scoped>\n",
       "    .dataframe tbody tr th:only-of-type {\n",
       "        vertical-align: middle;\n",
       "    }\n",
       "\n",
       "    .dataframe tbody tr th {\n",
       "        vertical-align: top;\n",
       "    }\n",
       "\n",
       "    .dataframe thead th {\n",
       "        text-align: right;\n",
       "    }\n",
       "</style>\n",
       "<table border=\"1\" class=\"dataframe\">\n",
       "  <thead>\n",
       "    <tr style=\"text-align: right;\">\n",
       "      <th></th>\n",
       "      <th>name</th>\n",
       "      <th>vorname</th>\n",
       "      <th>text</th>\n",
       "      <th>page</th>\n",
       "      <th>f</th>\n",
       "      <th>sitzung_name</th>\n",
       "      <th>sitzung_date</th>\n",
       "      <th>sitzung_start</th>\n",
       "      <th>sitzung_gremium</th>\n",
       "      <th>dokument_titel</th>\n",
       "      <th>partei</th>\n",
       "      <th>geschlecht</th>\n",
       "      <th>jahrgang</th>\n",
       "      <th>funktion</th>\n",
       "      <th>ismember</th>\n",
       "    </tr>\n",
       "    <tr>\n",
       "      <th>g</th>\n",
       "      <th></th>\n",
       "      <th></th>\n",
       "      <th></th>\n",
       "      <th></th>\n",
       "      <th></th>\n",
       "      <th></th>\n",
       "      <th></th>\n",
       "      <th></th>\n",
       "      <th></th>\n",
       "      <th></th>\n",
       "      <th></th>\n",
       "      <th></th>\n",
       "      <th></th>\n",
       "      <th></th>\n",
       "      <th></th>\n",
       "    </tr>\n",
       "  </thead>\n",
       "  <tbody>\n",
       "    <tr>\n",
       "      <th>m</th>\n",
       "      <td>41</td>\n",
       "      <td>41</td>\n",
       "      <td>41</td>\n",
       "      <td>41</td>\n",
       "      <td>41</td>\n",
       "      <td>41</td>\n",
       "      <td>41</td>\n",
       "      <td>41</td>\n",
       "      <td>41</td>\n",
       "      <td>41</td>\n",
       "      <td>41</td>\n",
       "      <td>41</td>\n",
       "      <td>41</td>\n",
       "      <td>0</td>\n",
       "      <td>41</td>\n",
       "    </tr>\n",
       "    <tr>\n",
       "      <th>w</th>\n",
       "      <td>14</td>\n",
       "      <td>14</td>\n",
       "      <td>14</td>\n",
       "      <td>14</td>\n",
       "      <td>14</td>\n",
       "      <td>14</td>\n",
       "      <td>14</td>\n",
       "      <td>14</td>\n",
       "      <td>14</td>\n",
       "      <td>14</td>\n",
       "      <td>14</td>\n",
       "      <td>14</td>\n",
       "      <td>14</td>\n",
       "      <td>0</td>\n",
       "      <td>14</td>\n",
       "    </tr>\n",
       "  </tbody>\n",
       "</table>\n",
       "</div>"
      ],
      "text/plain": [
       "   name  vorname  text  page   f  sitzung_name  sitzung_date  sitzung_start  \\\n",
       "g                                                                             \n",
       "m    41       41    41    41  41            41            41             41   \n",
       "w    14       14    14    14  14            14            14             14   \n",
       "\n",
       "   sitzung_gremium  dokument_titel  partei  geschlecht  jahrgang  funktion  \\\n",
       "g                                                                            \n",
       "m               41              41      41          41        41         0   \n",
       "w               14              14      14          14        14         0   \n",
       "\n",
       "   ismember  \n",
       "g            \n",
       "m        41  \n",
       "w        14  "
      ]
     },
     "execution_count": 10,
     "metadata": {},
     "output_type": "execute_result"
    }
   ],
   "source": [
    "df = df_votum_raw[df_votum_raw.sitzung_date == '2021-08-23'].copy()\n",
    "\n",
    "df = df[df.funktion.isna()]\n",
    "\n",
    "df.groupby('g').count()"
   ]
  },
  {
   "cell_type": "code",
   "execution_count": 6,
   "metadata": {},
   "outputs": [
    {
     "data": {
      "text/plain": [
       "74.54545454545455"
      ]
     },
     "execution_count": 6,
     "metadata": {},
     "output_type": "execute_result"
    }
   ],
   "source": [
    "100 / (41+14) * 41"
   ]
  },
  {
   "cell_type": "code",
   "execution_count": 11,
   "metadata": {},
   "outputs": [
    {
     "data": {
      "text/html": [
       "<div>\n",
       "<style scoped>\n",
       "    .dataframe tbody tr th:only-of-type {\n",
       "        vertical-align: middle;\n",
       "    }\n",
       "\n",
       "    .dataframe tbody tr th {\n",
       "        vertical-align: top;\n",
       "    }\n",
       "\n",
       "    .dataframe thead th {\n",
       "        text-align: right;\n",
       "    }\n",
       "</style>\n",
       "<table border=\"1\" class=\"dataframe\">\n",
       "  <thead>\n",
       "    <tr style=\"text-align: right;\">\n",
       "      <th></th>\n",
       "      <th>name</th>\n",
       "      <th>vorname</th>\n",
       "      <th>text</th>\n",
       "      <th>page</th>\n",
       "      <th>f</th>\n",
       "      <th>sitzung_name</th>\n",
       "      <th>sitzung_date</th>\n",
       "      <th>sitzung_start</th>\n",
       "      <th>sitzung_gremium</th>\n",
       "      <th>dokument_titel</th>\n",
       "      <th>partei</th>\n",
       "      <th>jahrgang</th>\n",
       "      <th>funktion</th>\n",
       "      <th>ismember</th>\n",
       "      <th>g</th>\n",
       "    </tr>\n",
       "    <tr>\n",
       "      <th>geschlecht</th>\n",
       "      <th></th>\n",
       "      <th></th>\n",
       "      <th></th>\n",
       "      <th></th>\n",
       "      <th></th>\n",
       "      <th></th>\n",
       "      <th></th>\n",
       "      <th></th>\n",
       "      <th></th>\n",
       "      <th></th>\n",
       "      <th></th>\n",
       "      <th></th>\n",
       "      <th></th>\n",
       "      <th></th>\n",
       "      <th></th>\n",
       "    </tr>\n",
       "  </thead>\n",
       "  <tbody>\n",
       "    <tr>\n",
       "      <th>m</th>\n",
       "      <td>4</td>\n",
       "      <td>4</td>\n",
       "      <td>4</td>\n",
       "      <td>4</td>\n",
       "      <td>4</td>\n",
       "      <td>4</td>\n",
       "      <td>4</td>\n",
       "      <td>4</td>\n",
       "      <td>4</td>\n",
       "      <td>4</td>\n",
       "      <td>4</td>\n",
       "      <td>4</td>\n",
       "      <td>0</td>\n",
       "      <td>4</td>\n",
       "      <td>4</td>\n",
       "    </tr>\n",
       "    <tr>\n",
       "      <th>w</th>\n",
       "      <td>5</td>\n",
       "      <td>5</td>\n",
       "      <td>5</td>\n",
       "      <td>5</td>\n",
       "      <td>5</td>\n",
       "      <td>5</td>\n",
       "      <td>5</td>\n",
       "      <td>5</td>\n",
       "      <td>5</td>\n",
       "      <td>5</td>\n",
       "      <td>5</td>\n",
       "      <td>5</td>\n",
       "      <td>0</td>\n",
       "      <td>5</td>\n",
       "      <td>5</td>\n",
       "    </tr>\n",
       "  </tbody>\n",
       "</table>\n",
       "</div>"
      ],
      "text/plain": [
       "            name  vorname  text  page  f  sitzung_name  sitzung_date  \\\n",
       "geschlecht                                                             \n",
       "m              4        4     4     4  4             4             4   \n",
       "w              5        5     5     5  5             5             5   \n",
       "\n",
       "            sitzung_start  sitzung_gremium  dokument_titel  partei  jahrgang  \\\n",
       "geschlecht                                                                     \n",
       "m                       4                4               4       4         4   \n",
       "w                       5                5               5       5         5   \n",
       "\n",
       "            funktion  ismember  g  \n",
       "geschlecht                         \n",
       "m                  0         4  4  \n",
       "w                  0         5  5  "
      ]
     },
     "execution_count": 11,
     "metadata": {},
     "output_type": "execute_result"
    }
   ],
   "source": [
    "df[(df.page >= 49) & (df.page <= 65)].groupby('geschlecht').count()"
   ]
  },
  {
   "cell_type": "code",
   "execution_count": null,
   "metadata": {},
   "outputs": [],
   "source": []
  }
 ],
 "metadata": {
  "interpreter": {
   "hash": "37f0ca31d41186abe10772da2ac64da7601e3a80a4b6b1bf647ed16bff654d0c"
  },
  "kernelspec": {
   "display_name": "Python 3.9.6 ('env': venv)",
   "language": "python",
   "name": "python3"
  },
  "language_info": {
   "codemirror_mode": {
    "name": "ipython",
    "version": 3
   },
   "file_extension": ".py",
   "mimetype": "text/x-python",
   "name": "python",
   "nbconvert_exporter": "python",
   "pygments_lexer": "ipython3",
   "version": "3.9.6"
  },
  "orig_nbformat": 4
 },
 "nbformat": 4,
 "nbformat_minor": 2
}
