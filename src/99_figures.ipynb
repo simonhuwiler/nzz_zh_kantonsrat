{
 "cells": [
  {
   "cell_type": "markdown",
   "metadata": {},
   "source": [
    "# Some numbers"
   ]
  },
  {
   "cell_type": "code",
   "execution_count": 31,
   "metadata": {},
   "outputs": [],
   "source": [
    "import pandas as pd\n",
    "from pathlib import Path\n",
    "import glob\n",
    "from pdfminer.pdfparser import PDFParser\n",
    "from pdfminer.pdfdocument import PDFDocument\n",
    "from pdfminer.pdfinterp import resolve1"
   ]
  },
  {
   "cell_type": "markdown",
   "metadata": {},
   "source": [
    "## Count Protokolle and Pages"
   ]
  },
  {
   "cell_type": "code",
   "execution_count": 32,
   "metadata": {},
   "outputs": [
    {
     "name": "stdout",
     "output_type": "stream",
     "text": [
      "Dokumente: 1135\n",
      "Seiten: 78433\n"
     ]
    }
   ],
   "source": [
    "docs = 0\n",
    "pages = 0\n",
    "\n",
    "for f in glob.glob(str(Path('./../export/Files/*.pdf'))):\n",
    "\n",
    "    parser = PDFParser(open(f, 'rb'))\n",
    "    document = PDFDocument(parser)\n",
    "    docs += 1\n",
    "    pages += resolve1(document.catalog['Pages'])['Count']\n",
    "\n",
    "print(\"Dokumente: %s\" % docs)\n",
    "print(\"Seiten: %s\" % pages)"
   ]
  },
  {
   "cell_type": "code",
   "execution_count": 33,
   "metadata": {},
   "outputs": [
    {
     "name": "stdout",
     "output_type": "stream",
     "text": [
      "Voten: 80306\n",
      "First: 2001-01-08\n",
      "Last: 2022-03-28\n"
     ]
    }
   ],
   "source": [
    "df = pd.concat([\n",
    "    pd.read_csv(Path('../export/votum/votum_0.csv')),\n",
    "    pd.read_csv(Path('../export/votum/votum_1.csv'))\n",
    "])\n",
    "\n",
    "print(\"Voten: %s\" % len(df))\n",
    "print(\"First: %s\" % df['sitzung_date'].min())\n",
    "print(\"Last: %s\" % df['sitzung_date'].max())"
   ]
  },
  {
   "cell_type": "markdown",
   "metadata": {},
   "source": [
    "## Count Geschäfte"
   ]
  },
  {
   "cell_type": "code",
   "execution_count": 30,
   "metadata": {},
   "outputs": [
    {
     "name": "stdout",
     "output_type": "stream",
     "text": [
      "Geschäfte: 10614\n",
      "First: 2001-01-01\n",
      "Last: 2022-04-14\n"
     ]
    }
   ],
   "source": [
    "df = pd.read_csv(Path('../export/geschaefte.csv'), encoding='UTF-8')\n",
    "\n",
    "\n",
    "print(\"Geschäfte: %s\" % len(df))\n",
    "print(\"First: %s\" % df['start'].min())\n",
    "print(\"Last: %s\" % df['start'].max())"
   ]
  },
  {
   "cell_type": "code",
   "execution_count": 29,
   "metadata": {},
   "outputs": [
    {
     "data": {
      "text/html": [
       "<div>\n",
       "<style scoped>\n",
       "    .dataframe tbody tr th:only-of-type {\n",
       "        vertical-align: middle;\n",
       "    }\n",
       "\n",
       "    .dataframe tbody tr th {\n",
       "        vertical-align: top;\n",
       "    }\n",
       "\n",
       "    .dataframe thead th {\n",
       "        text-align: right;\n",
       "    }\n",
       "</style>\n",
       "<table border=\"1\" class=\"dataframe\">\n",
       "  <thead>\n",
       "    <tr style=\"text-align: right;\">\n",
       "      <th></th>\n",
       "      <th>krnr</th>\n",
       "      <th>vorlagenr</th>\n",
       "      <th>titel</th>\n",
       "      <th>geschaeftsart</th>\n",
       "      <th>behandelndekommission</th>\n",
       "      <th>behandelndekommissionkurzname</th>\n",
       "      <th>direktion</th>\n",
       "      <th>direktionKurzname</th>\n",
       "      <th>start</th>\n",
       "      <th>end</th>\n",
       "      <th>...</th>\n",
       "      <th>status</th>\n",
       "      <th>erstunterzeichnervorname</th>\n",
       "      <th>erstunterzeichnername</th>\n",
       "      <th>erstunterzeichneristkantonsrat</th>\n",
       "      <th>erstunterzeichnerpartei</th>\n",
       "      <th>letzterschrittstart</th>\n",
       "      <th>letzterschritttyp</th>\n",
       "      <th>letzterschritttext</th>\n",
       "      <th>geschlecht</th>\n",
       "      <th>jahrgang</th>\n",
       "    </tr>\n",
       "  </thead>\n",
       "  <tbody>\n",
       "    <tr>\n",
       "      <th>0</th>\n",
       "      <td>334/2001</td>\n",
       "      <td>NaN</td>\n",
       "      <td>Fakultatives Referendum (Flughafenfondsgesetz;...</td>\n",
       "      <td>Diverses</td>\n",
       "      <td>NaN</td>\n",
       "      <td>NaN</td>\n",
       "      <td>NaN</td>\n",
       "      <td>NaN</td>\n",
       "      <td>2001-01-01</td>\n",
       "      <td>2001-01-02</td>\n",
       "      <td>...</td>\n",
       "      <td>Erledigt</td>\n",
       "      <td>NaN</td>\n",
       "      <td>Kantonsrat Zürich, Kommission</td>\n",
       "      <td>False</td>\n",
       "      <td>NaN</td>\n",
       "      <td>2001-11-19</td>\n",
       "      <td>Zustimmung</td>\n",
       "      <td>Zustimmung</td>\n",
       "      <td>NaN</td>\n",
       "      <td>NaN</td>\n",
       "    </tr>\n",
       "    <tr>\n",
       "      <th>1</th>\n",
       "      <td>34/2001</td>\n",
       "      <td>NaN</td>\n",
       "      <td>Erlass eines Taxigesetzes</td>\n",
       "      <td>Einzelinitiative</td>\n",
       "      <td>NaN</td>\n",
       "      <td>NaN</td>\n",
       "      <td>NaN</td>\n",
       "      <td>NaN</td>\n",
       "      <td>2001-01-01</td>\n",
       "      <td>2001-01-02</td>\n",
       "      <td>...</td>\n",
       "      <td>Erledigt</td>\n",
       "      <td>Peter</td>\n",
       "      <td>Vögeli</td>\n",
       "      <td>False</td>\n",
       "      <td>NaN</td>\n",
       "      <td>2001-06-11</td>\n",
       "      <td>Ablehnung - Nicht vorläufig unterstützt</td>\n",
       "      <td>Nicht vorläufig unterstützt (11 Stimmen)</td>\n",
       "      <td>NaN</td>\n",
       "      <td>NaN</td>\n",
       "    </tr>\n",
       "    <tr>\n",
       "      <th>2</th>\n",
       "      <td>339/2001</td>\n",
       "      <td>NaN</td>\n",
       "      <td>Fachhochschule für die Berufe des Gesundheitsw...</td>\n",
       "      <td>Anfrage</td>\n",
       "      <td>NaN</td>\n",
       "      <td>NaN</td>\n",
       "      <td>NaN</td>\n",
       "      <td>NaN</td>\n",
       "      <td>2001-01-01</td>\n",
       "      <td>2001-01-02</td>\n",
       "      <td>...</td>\n",
       "      <td>Erledigt</td>\n",
       "      <td>Erika</td>\n",
       "      <td>Ziltener</td>\n",
       "      <td>True</td>\n",
       "      <td>SP</td>\n",
       "      <td>2002-01-23</td>\n",
       "      <td>Antwort Regierungsrat</td>\n",
       "      <td>Antwort RR</td>\n",
       "      <td>w</td>\n",
       "      <td>1955.0</td>\n",
       "    </tr>\n",
       "    <tr>\n",
       "      <th>3</th>\n",
       "      <td>338/2001</td>\n",
       "      <td>NaN</td>\n",
       "      <td>Umsetzung des Punktspielautomatenverbots</td>\n",
       "      <td>Anfrage</td>\n",
       "      <td>NaN</td>\n",
       "      <td>NaN</td>\n",
       "      <td>NaN</td>\n",
       "      <td>NaN</td>\n",
       "      <td>2001-01-01</td>\n",
       "      <td>2001-01-02</td>\n",
       "      <td>...</td>\n",
       "      <td>Erledigt</td>\n",
       "      <td>Hanspeter</td>\n",
       "      <td>Amstutz</td>\n",
       "      <td>True</td>\n",
       "      <td>EVP</td>\n",
       "      <td>2002-01-23</td>\n",
       "      <td>Antwort Regierungsrat</td>\n",
       "      <td>Antwort RR</td>\n",
       "      <td>m</td>\n",
       "      <td>1947.0</td>\n",
       "    </tr>\n",
       "    <tr>\n",
       "      <th>4</th>\n",
       "      <td>337/2001</td>\n",
       "      <td>NaN</td>\n",
       "      <td>Veranwortlichkeitsklage gegen die zuständigen ...</td>\n",
       "      <td>Dringliche Anfrage</td>\n",
       "      <td>NaN</td>\n",
       "      <td>NaN</td>\n",
       "      <td>NaN</td>\n",
       "      <td>NaN</td>\n",
       "      <td>2001-01-01</td>\n",
       "      <td>2001-01-02</td>\n",
       "      <td>...</td>\n",
       "      <td>Erledigt</td>\n",
       "      <td>Anna Maria</td>\n",
       "      <td>Riedi</td>\n",
       "      <td>True</td>\n",
       "      <td>SP</td>\n",
       "      <td>2001-11-21</td>\n",
       "      <td>Antwort Regierungsrat</td>\n",
       "      <td>Antwort RR</td>\n",
       "      <td>w</td>\n",
       "      <td>1962.0</td>\n",
       "    </tr>\n",
       "  </tbody>\n",
       "</table>\n",
       "<p>5 rows × 22 columns</p>\n",
       "</div>"
      ],
      "text/plain": [
       "       krnr  vorlagenr                                              titel  \\\n",
       "0  334/2001        NaN  Fakultatives Referendum (Flughafenfondsgesetz;...   \n",
       "1   34/2001        NaN                          Erlass eines Taxigesetzes   \n",
       "2  339/2001        NaN  Fachhochschule für die Berufe des Gesundheitsw...   \n",
       "3  338/2001        NaN           Umsetzung des Punktspielautomatenverbots   \n",
       "4  337/2001        NaN  Veranwortlichkeitsklage gegen die zuständigen ...   \n",
       "\n",
       "        geschaeftsart behandelndekommission behandelndekommissionkurzname  \\\n",
       "0            Diverses                   NaN                           NaN   \n",
       "1    Einzelinitiative                   NaN                           NaN   \n",
       "2             Anfrage                   NaN                           NaN   \n",
       "3             Anfrage                   NaN                           NaN   \n",
       "4  Dringliche Anfrage                   NaN                           NaN   \n",
       "\n",
       "  direktion direktionKurzname       start         end  ...    status  \\\n",
       "0       NaN               NaN  2001-01-01  2001-01-02  ...  Erledigt   \n",
       "1       NaN               NaN  2001-01-01  2001-01-02  ...  Erledigt   \n",
       "2       NaN               NaN  2001-01-01  2001-01-02  ...  Erledigt   \n",
       "3       NaN               NaN  2001-01-01  2001-01-02  ...  Erledigt   \n",
       "4       NaN               NaN  2001-01-01  2001-01-02  ...  Erledigt   \n",
       "\n",
       "   erstunterzeichnervorname          erstunterzeichnername  \\\n",
       "0                       NaN  Kantonsrat Zürich, Kommission   \n",
       "1                     Peter                         Vögeli   \n",
       "2                     Erika                       Ziltener   \n",
       "3                 Hanspeter                        Amstutz   \n",
       "4                Anna Maria                          Riedi   \n",
       "\n",
       "  erstunterzeichneristkantonsrat erstunterzeichnerpartei  letzterschrittstart  \\\n",
       "0                          False                     NaN           2001-11-19   \n",
       "1                          False                     NaN           2001-06-11   \n",
       "2                           True                      SP           2002-01-23   \n",
       "3                           True                     EVP           2002-01-23   \n",
       "4                           True                      SP           2001-11-21   \n",
       "\n",
       "                         letzterschritttyp  \\\n",
       "0                               Zustimmung   \n",
       "1  Ablehnung - Nicht vorläufig unterstützt   \n",
       "2                    Antwort Regierungsrat   \n",
       "3                    Antwort Regierungsrat   \n",
       "4                    Antwort Regierungsrat   \n",
       "\n",
       "                         letzterschritttext geschlecht jahrgang  \n",
       "0                                Zustimmung        NaN      NaN  \n",
       "1  Nicht vorläufig unterstützt (11 Stimmen)        NaN      NaN  \n",
       "2                                Antwort RR          w   1955.0  \n",
       "3                                Antwort RR          m   1947.0  \n",
       "4                                Antwort RR          w   1962.0  \n",
       "\n",
       "[5 rows x 22 columns]"
      ]
     },
     "execution_count": 29,
     "metadata": {},
     "output_type": "execute_result"
    }
   ],
   "source": [
    "df.head()"
   ]
  },
  {
   "cell_type": "code",
   "execution_count": null,
   "metadata": {},
   "outputs": [],
   "source": []
  }
 ],
 "metadata": {
  "interpreter": {
   "hash": "37f0ca31d41186abe10772da2ac64da7601e3a80a4b6b1bf647ed16bff654d0c"
  },
  "kernelspec": {
   "display_name": "Python 3.9.6 ('env': venv)",
   "language": "python",
   "name": "python3"
  },
  "language_info": {
   "codemirror_mode": {
    "name": "ipython",
    "version": 3
   },
   "file_extension": ".py",
   "mimetype": "text/x-python",
   "name": "python",
   "nbconvert_exporter": "python",
   "pygments_lexer": "ipython3",
   "version": "3.9.6"
  },
  "orig_nbformat": 4
 },
 "nbformat": 4,
 "nbformat_minor": 2
}
