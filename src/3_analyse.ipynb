{
 "cells": [
  {
   "cell_type": "markdown",
   "metadata": {},
   "source": [
    "# Analyse data"
   ]
  },
  {
   "cell_type": "code",
   "execution_count": 36,
   "metadata": {},
   "outputs": [],
   "source": [
    "import pandas as pd\n",
    "import json\n",
    "from pathlib import Path\n",
    "import utils\n",
    "import datetime"
   ]
  },
  {
   "cell_type": "code",
   "execution_count": 37,
   "metadata": {},
   "outputs": [],
   "source": [
    "df_votum_raw = pd.read_csv(Path('../export/votum.csv'))\n",
    "df_votum_raw['sitzung_date'] = pd.to_datetime(df_votum_raw['sitzung_date'])\n",
    "\n",
    "with open(Path('../export/mitglieder.json'), encoding='utf-8') as f:\n",
    "    kantonsrat = json.load(f)\n",
    "\n",
    "# Typecast\n",
    "utils.kantonsrat_to_datetime(kantonsrat)"
   ]
  },
  {
   "cell_type": "markdown",
   "metadata": {},
   "source": [
    "## How many times did m/w talk?"
   ]
  },
  {
   "cell_type": "code",
   "execution_count": 38,
   "metadata": {},
   "outputs": [],
   "source": [
    "df_votum = df_votum_raw.copy()\n",
    "\n",
    "# Remove all Statements from President, 1. & 2. Vizepresidents\n",
    "df_votum = df_votum[~df_votum.funktion.isin(['Präsidium', '2. Vizepräsidium', '1. Vizepräsidium'])]\n",
    "\n",
    "# Calculate Amtsjahr (Amtsjahr 2020 = 1.5.2020 - 30.4.2021)\n",
    "df_votum['year'] = df_votum['sitzung_date'].dt.year\n",
    "df_votum['month'] = df_votum['sitzung_date'].dt.month\n",
    "df_votum['session'] = df_votum.apply(lambda row: row['year'] if row['month'] > 5 else row['year'] - 1, axis=1)"
   ]
  },
  {
   "cell_type": "code",
   "execution_count": 42,
   "metadata": {},
   "outputs": [],
   "source": [
    "# Calculate m/w percentage of Kantonsrat\n",
    "year = 2020\n",
    "dt = datetime.datetime(year, 11, 11)\n",
    "#len(list(filter(lambda e: (e['start'] <= dt) and (e['end'] >= dt), x))) > 0\n",
    "kant2020 = filter(lambda x: len(list(filter(lambda e: (e['start'] <= dt) and (e['end'] >= dt), x['einsitz']))) > 0, kantonsrat)\n",
    "\n",
    "records = []\n",
    "for r in list(kant2020):\n",
    "    records.append({'name': r['name'], 'vorname': r['vorname'], 'start': r['einsitz'][0]['start'], 'end': r['einsitz'][0]['end']})\n",
    "\n",
    "df = pd.DataFrame(records)"
   ]
  },
  {
   "cell_type": "code",
   "execution_count": 43,
   "metadata": {},
   "outputs": [],
   "source": [
    "df.to_clipboard()"
   ]
  },
  {
   "cell_type": "code",
   "execution_count": 44,
   "metadata": {},
   "outputs": [
    {
     "data": {
      "text/plain": [
       "180"
      ]
     },
     "execution_count": 44,
     "metadata": {},
     "output_type": "execute_result"
    }
   ],
   "source": [
    "len(df)"
   ]
  },
  {
   "cell_type": "code",
   "execution_count": 25,
   "metadata": {},
   "outputs": [
    {
     "data": {
      "text/html": [
       "<div>\n",
       "<style scoped>\n",
       "    .dataframe tbody tr th:only-of-type {\n",
       "        vertical-align: middle;\n",
       "    }\n",
       "\n",
       "    .dataframe tbody tr th {\n",
       "        vertical-align: top;\n",
       "    }\n",
       "\n",
       "    .dataframe thead th {\n",
       "        text-align: right;\n",
       "    }\n",
       "</style>\n",
       "<table border=\"1\" class=\"dataframe\">\n",
       "  <thead>\n",
       "    <tr style=\"text-align: right;\">\n",
       "      <th>geschlecht</th>\n",
       "      <th>m</th>\n",
       "      <th>w</th>\n",
       "    </tr>\n",
       "    <tr>\n",
       "      <th>session</th>\n",
       "      <th></th>\n",
       "      <th></th>\n",
       "    </tr>\n",
       "  </thead>\n",
       "  <tbody>\n",
       "    <tr>\n",
       "      <th>2012</th>\n",
       "      <td>848</td>\n",
       "      <td>324</td>\n",
       "    </tr>\n",
       "    <tr>\n",
       "      <th>2013</th>\n",
       "      <td>2933</td>\n",
       "      <td>1089</td>\n",
       "    </tr>\n",
       "    <tr>\n",
       "      <th>2014</th>\n",
       "      <td>2382</td>\n",
       "      <td>794</td>\n",
       "    </tr>\n",
       "    <tr>\n",
       "      <th>2015</th>\n",
       "      <td>2265</td>\n",
       "      <td>911</td>\n",
       "    </tr>\n",
       "    <tr>\n",
       "      <th>2016</th>\n",
       "      <td>2214</td>\n",
       "      <td>905</td>\n",
       "    </tr>\n",
       "    <tr>\n",
       "      <th>2017</th>\n",
       "      <td>2139</td>\n",
       "      <td>903</td>\n",
       "    </tr>\n",
       "    <tr>\n",
       "      <th>2018</th>\n",
       "      <td>2460</td>\n",
       "      <td>986</td>\n",
       "    </tr>\n",
       "    <tr>\n",
       "      <th>2019</th>\n",
       "      <td>1967</td>\n",
       "      <td>1001</td>\n",
       "    </tr>\n",
       "    <tr>\n",
       "      <th>2020</th>\n",
       "      <td>2332</td>\n",
       "      <td>1189</td>\n",
       "    </tr>\n",
       "    <tr>\n",
       "      <th>2021</th>\n",
       "      <td>824</td>\n",
       "      <td>303</td>\n",
       "    </tr>\n",
       "  </tbody>\n",
       "</table>\n",
       "</div>"
      ],
      "text/plain": [
       "geschlecht     m     w\n",
       "session               \n",
       "2012         848   324\n",
       "2013        2933  1089\n",
       "2014        2382   794\n",
       "2015        2265   911\n",
       "2016        2214   905\n",
       "2017        2139   903\n",
       "2018        2460   986\n",
       "2019        1967  1001\n",
       "2020        2332  1189\n",
       "2021         824   303"
      ]
     },
     "execution_count": 25,
     "metadata": {},
     "output_type": "execute_result"
    }
   ],
   "source": [
    "pd.pivot_table(df_votum, index='session', columns='geschlecht', values='name', aggfunc='count')"
   ]
  },
  {
   "cell_type": "code",
   "execution_count": 23,
   "metadata": {},
   "outputs": [
    {
     "data": {
      "text/plain": [
       "array(['Mitglied', nan], dtype=object)"
      ]
     },
     "execution_count": 23,
     "metadata": {},
     "output_type": "execute_result"
    }
   ],
   "source": [
    "df_votum.funktion.unique()"
   ]
  },
  {
   "cell_type": "code",
   "execution_count": 20,
   "metadata": {},
   "outputs": [
    {
     "data": {
      "text/html": [
       "<div>\n",
       "<style scoped>\n",
       "    .dataframe tbody tr th:only-of-type {\n",
       "        vertical-align: middle;\n",
       "    }\n",
       "\n",
       "    .dataframe tbody tr th {\n",
       "        vertical-align: top;\n",
       "    }\n",
       "\n",
       "    .dataframe thead th {\n",
       "        text-align: right;\n",
       "    }\n",
       "</style>\n",
       "<table border=\"1\" class=\"dataframe\">\n",
       "  <thead>\n",
       "    <tr style=\"text-align: right;\">\n",
       "      <th></th>\n",
       "      <th>name</th>\n",
       "      <th>vorname</th>\n",
       "      <th>text</th>\n",
       "      <th>f</th>\n",
       "      <th>sitzung_name</th>\n",
       "      <th>sitzung_date</th>\n",
       "      <th>sitzung_gremium</th>\n",
       "      <th>partei</th>\n",
       "      <th>geschlecht</th>\n",
       "      <th>jahrgang</th>\n",
       "      <th>funktion</th>\n",
       "      <th>year</th>\n",
       "      <th>month</th>\n",
       "      <th>session</th>\n",
       "    </tr>\n",
       "  </thead>\n",
       "  <tbody>\n",
       "    <tr>\n",
       "      <th>0</th>\n",
       "      <td>Egg</td>\n",
       "      <td>Bernhard</td>\n",
       "      <td>Zuerst wünsche ich Ihnen allen, auch wenn scho...</td>\n",
       "      <td>2013-01-14-d47a280e1e704445ba0db16a80b53ce6-332</td>\n",
       "      <td>88. KR Sitzung</td>\n",
       "      <td>2013-01-14</td>\n",
       "      <td>KR</td>\n",
       "      <td>SP</td>\n",
       "      <td>m</td>\n",
       "      <td>1959.0</td>\n",
       "      <td>Präsidium</td>\n",
       "      <td>2013</td>\n",
       "      <td>1</td>\n",
       "      <td>2012</td>\n",
       "    </tr>\n",
       "    <tr>\n",
       "      <th>1</th>\n",
       "      <td>Egg</td>\n",
       "      <td>Bernhard</td>\n",
       "      <td>Dann hat mir Toni Schaller (Altkantonsrat Anto...</td>\n",
       "      <td>2013-01-14-d47a280e1e704445ba0db16a80b53ce6-332</td>\n",
       "      <td>88. KR Sitzung</td>\n",
       "      <td>2013-01-14</td>\n",
       "      <td>KR</td>\n",
       "      <td>SP</td>\n",
       "      <td>m</td>\n",
       "      <td>1959.0</td>\n",
       "      <td>Präsidium</td>\n",
       "      <td>2013</td>\n",
       "      <td>1</td>\n",
       "      <td>2012</td>\n",
       "    </tr>\n",
       "    <tr>\n",
       "      <th>2</th>\n",
       "      <td>Egg</td>\n",
       "      <td>Bernhard</td>\n",
       "      <td>Wir dürfen für den aus dem Kantonsrat zurückge...</td>\n",
       "      <td>2013-01-14-d47a280e1e704445ba0db16a80b53ce6-332</td>\n",
       "      <td>88. KR Sitzung</td>\n",
       "      <td>2013-01-14</td>\n",
       "      <td>KR</td>\n",
       "      <td>SP</td>\n",
       "      <td>m</td>\n",
       "      <td>1959.0</td>\n",
       "      <td>Präsidium</td>\n",
       "      <td>2013</td>\n",
       "      <td>1</td>\n",
       "      <td>2012</td>\n",
       "    </tr>\n",
       "    <tr>\n",
       "      <th>3</th>\n",
       "      <td>Egg</td>\n",
       "      <td>Bernhard</td>\n",
       "      <td>Ich bitte, den Gewählten eintreten zu lassen. ...</td>\n",
       "      <td>2013-01-14-d47a280e1e704445ba0db16a80b53ce6-332</td>\n",
       "      <td>88. KR Sitzung</td>\n",
       "      <td>2013-01-14</td>\n",
       "      <td>KR</td>\n",
       "      <td>SP</td>\n",
       "      <td>m</td>\n",
       "      <td>1959.0</td>\n",
       "      <td>Präsidium</td>\n",
       "      <td>2013</td>\n",
       "      <td>1</td>\n",
       "      <td>2012</td>\n",
       "    </tr>\n",
       "    <tr>\n",
       "      <th>4</th>\n",
       "      <td>Egg</td>\n",
       "      <td>Bernhard</td>\n",
       "      <td>«Ich gelobe es.»</td>\n",
       "      <td>2013-01-14-d47a280e1e704445ba0db16a80b53ce6-332</td>\n",
       "      <td>88. KR Sitzung</td>\n",
       "      <td>2013-01-14</td>\n",
       "      <td>KR</td>\n",
       "      <td>SP</td>\n",
       "      <td>m</td>\n",
       "      <td>1959.0</td>\n",
       "      <td>Präsidium</td>\n",
       "      <td>2013</td>\n",
       "      <td>1</td>\n",
       "      <td>2012</td>\n",
       "    </tr>\n",
       "  </tbody>\n",
       "</table>\n",
       "</div>"
      ],
      "text/plain": [
       "  name   vorname                                               text  \\\n",
       "0  Egg  Bernhard  Zuerst wünsche ich Ihnen allen, auch wenn scho...   \n",
       "1  Egg  Bernhard  Dann hat mir Toni Schaller (Altkantonsrat Anto...   \n",
       "2  Egg  Bernhard  Wir dürfen für den aus dem Kantonsrat zurückge...   \n",
       "3  Egg  Bernhard  Ich bitte, den Gewählten eintreten zu lassen. ...   \n",
       "4  Egg  Bernhard                                   «Ich gelobe es.»   \n",
       "\n",
       "                                                 f    sitzung_name  \\\n",
       "0  2013-01-14-d47a280e1e704445ba0db16a80b53ce6-332  88. KR Sitzung   \n",
       "1  2013-01-14-d47a280e1e704445ba0db16a80b53ce6-332  88. KR Sitzung   \n",
       "2  2013-01-14-d47a280e1e704445ba0db16a80b53ce6-332  88. KR Sitzung   \n",
       "3  2013-01-14-d47a280e1e704445ba0db16a80b53ce6-332  88. KR Sitzung   \n",
       "4  2013-01-14-d47a280e1e704445ba0db16a80b53ce6-332  88. KR Sitzung   \n",
       "\n",
       "  sitzung_date sitzung_gremium partei geschlecht  jahrgang   funktion  year  \\\n",
       "0   2013-01-14              KR     SP          m    1959.0  Präsidium  2013   \n",
       "1   2013-01-14              KR     SP          m    1959.0  Präsidium  2013   \n",
       "2   2013-01-14              KR     SP          m    1959.0  Präsidium  2013   \n",
       "3   2013-01-14              KR     SP          m    1959.0  Präsidium  2013   \n",
       "4   2013-01-14              KR     SP          m    1959.0  Präsidium  2013   \n",
       "\n",
       "   month  session  \n",
       "0      1     2012  \n",
       "1      1     2012  \n",
       "2      1     2012  \n",
       "3      1     2012  \n",
       "4      1     2012  "
      ]
     },
     "execution_count": 20,
     "metadata": {},
     "output_type": "execute_result"
    }
   ],
   "source": [
    "df_votum.head()"
   ]
  },
  {
   "cell_type": "code",
   "execution_count": null,
   "metadata": {},
   "outputs": [],
   "source": []
  }
 ],
 "metadata": {
  "interpreter": {
   "hash": "0d89f51c21e61334fa582c5b112d16d67677dd53345d4e7223b029a81b433160"
  },
  "kernelspec": {
   "display_name": "Python 3.9.0 64-bit ('env': venv)",
   "language": "python",
   "name": "python3"
  },
  "language_info": {
   "codemirror_mode": {
    "name": "ipython",
    "version": 3
   },
   "file_extension": ".py",
   "mimetype": "text/x-python",
   "name": "python",
   "nbconvert_exporter": "python",
   "pygments_lexer": "ipython3",
   "version": "3.9.0"
  },
  "orig_nbformat": 4
 },
 "nbformat": 4,
 "nbformat_minor": 2
}
