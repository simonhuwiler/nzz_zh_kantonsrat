{
 "cells": [
  {
   "cell_type": "markdown",
   "metadata": {},
   "source": [
    "# Analyse data"
   ]
  },
  {
   "cell_type": "code",
   "execution_count": 153,
   "metadata": {},
   "outputs": [],
   "source": [
    "import pandas as pd\n",
    "import json\n",
    "from pathlib import Path\n",
    "import utils\n",
    "import datetime\n",
    "import numpy as np\n",
    "import matplotlib "
   ]
  },
  {
   "cell_type": "code",
   "execution_count": 166,
   "metadata": {},
   "outputs": [],
   "source": [
    "df_votum_raw = pd.read_csv(Path('../export/votum.csv'))\n",
    "\n",
    "# Remove non members (mostly former members who are now in the Regierungsrat)\n",
    "df_votum_raw = df_votum_raw[df_votum_raw.ismember == True]\n",
    "\n",
    "# Typecast\n",
    "df_votum_raw['sitzung_date'] = pd.to_datetime(df_votum_raw['sitzung_date'])\n",
    "\n",
    "# Remove empty texts\n",
    "df_votum_raw = df_votum_raw[df_votum_raw.text.notna()]\n",
    "\n",
    "# Calculate Amtsjahr (Amtsjahr 2020 = 1.5.2020 - 30.4.2021)\n",
    "df_votum_raw['year'] = df_votum_raw['sitzung_date'].dt.year\n",
    "df_votum_raw['month'] = df_votum_raw['sitzung_date'].dt.month\n",
    "df_votum_raw['session'] = df_votum_raw.apply(lambda row: row['year'] if row['month'] > 5 else row['year'] - 1, axis=1)\n",
    "\n",
    "with open(Path('../export/mitglieder.json'), encoding='utf-8') as f:\n",
    "    kantonsrat = json.load(f)\n",
    "\n",
    "# Typecast\n",
    "utils.kantonsrat_to_datetime(kantonsrat)"
   ]
  },
  {
   "cell_type": "markdown",
   "metadata": {},
   "source": [
    "## How many times did m/w talk?"
   ]
  },
  {
   "cell_type": "code",
   "execution_count": 167,
   "metadata": {},
   "outputs": [],
   "source": [
    "df_votum = df_votum_raw.copy()\n",
    "\n",
    "# Remove all Statements from President, 1. & 2. Vizepresidents\n",
    "df_votum = df_votum[~df_votum.funktion.isin(['Präsidium', '2. Vizepräsidium', '1. Vizepräsidium'])]\n",
    "\n",
    "df_votum_pivot = pd.pivot_table(df_votum, index='session', columns='geschlecht', values='name', aggfunc='count').reset_index()"
   ]
  },
  {
   "cell_type": "code",
   "execution_count": 169,
   "metadata": {},
   "outputs": [
    {
     "data": {
      "text/plain": [
       "<AxesSubplot:xlabel='session'>"
      ]
     },
     "execution_count": 169,
     "metadata": {},
     "output_type": "execute_result"
    },
    {
     "data": {
      "image/png": "[encoded data removed]",
      "text/plain": [
       "<Figure size 432x288 with 1 Axes>"
      ]
     },
     "metadata": {
      "needs_background": "light"
     },
     "output_type": "display_data"
    }
   ],
   "source": [
    "# Calculate, how many m and w where in Kantonsrat at that time. Reference day: 1. 7. 20XX\n",
    "dtx = []\n",
    "for year in range(df_votum['sitzung_date'].min().year, df_votum['sitzung_date'].max().year + 1):\n",
    "\n",
    "    dt = datetime.datetime(year, 7, 1)\n",
    "    df = utils.kantonsrat_as_dataframe(kantonsrat, dt)\n",
    "    df['year'] = year\n",
    "    dtx.append(df)\n",
    "\n",
    "df = pd.concat(dtx)\n",
    "\n",
    "# Remove Präsidents\n",
    "df = df[df.funktion.isna()]\n",
    "\n",
    "df_rat = pd.pivot_table(df, index='year', columns='geschlecht', values='name', aggfunc='count').reset_index()\n",
    "\n",
    "# Concat\n",
    "df_res = df_votum_pivot.merge(df_rat, left_on = 'session', right_on = 'year', suffixes=('_v', '_r'))\n",
    "\n",
    "# Votes per w/m\n",
    "df_res['votes_per_m'] = round(df_res['m_v'] / df_res['m_r'], 1)\n",
    "df_res['votes_per_w'] = round(df_res['w_v'] / df_res['w_r'], 1)\n",
    "\n",
    "df_res.set_index('session', inplace=True)\n",
    "\n",
    "df_res.drop(columns=['year'], inplace=True)\n",
    "\n",
    "df_res[['votes_per_m', 'votes_per_w']].plot.bar()"
   ]
  },
  {
   "cell_type": "markdown",
   "metadata": {},
   "source": [
    "## Unterschiedliche Textlänge?\n",
    "Erkenntnis: Frauen und Männer reden gleich lange. Wohl wegen beschränkter Redezeit?"
   ]
  },
  {
   "cell_type": "code",
   "execution_count": 170,
   "metadata": {},
   "outputs": [
    {
     "data": {
      "text/html": [
       "<div>\n",
       "<style scoped>\n",
       "    .dataframe tbody tr th:only-of-type {\n",
       "        vertical-align: middle;\n",
       "    }\n",
       "\n",
       "    .dataframe tbody tr th {\n",
       "        vertical-align: top;\n",
       "    }\n",
       "\n",
       "    .dataframe thead th {\n",
       "        text-align: right;\n",
       "    }\n",
       "</style>\n",
       "<table border=\"1\" class=\"dataframe\">\n",
       "  <thead>\n",
       "    <tr style=\"text-align: right;\">\n",
       "      <th></th>\n",
       "      <th>wordcount</th>\n",
       "      <th>name</th>\n",
       "      <th>l</th>\n",
       "    </tr>\n",
       "    <tr>\n",
       "      <th>geschlecht</th>\n",
       "      <th></th>\n",
       "      <th></th>\n",
       "      <th></th>\n",
       "    </tr>\n",
       "  </thead>\n",
       "  <tbody>\n",
       "    <tr>\n",
       "      <th>m</th>\n",
       "      <td>37385292</td>\n",
       "      <td>19651</td>\n",
       "      <td>1902.0</td>\n",
       "    </tr>\n",
       "    <tr>\n",
       "      <th>w</th>\n",
       "      <td>14783401</td>\n",
       "      <td>7725</td>\n",
       "      <td>1914.0</td>\n",
       "    </tr>\n",
       "  </tbody>\n",
       "</table>\n",
       "</div>"
      ],
      "text/plain": [
       "            wordcount   name       l\n",
       "geschlecht                          \n",
       "m            37385292  19651  1902.0\n",
       "w            14783401   7725  1914.0"
      ]
     },
     "execution_count": 170,
     "metadata": {},
     "output_type": "execute_result"
    }
   ],
   "source": [
    "df_votum = df_votum_raw.copy()\n",
    "\n",
    "# Remove all Statements from President, 1. & 2. Vizepresidents\n",
    "df_votum = df_votum[~df_votum.funktion.isin(['Präsidium', '2. Vizepräsidium', '1. Vizepräsidium'])]\n",
    "\n",
    "df_votum = df_votum.reset_index(drop=True)\n",
    "\n",
    "# Count words\n",
    "#df_votum['wordcount'] = df_votum['text'].apply(lambda x: len(x.split()))\n",
    "df_votum['wordcount'] = df_votum['text'].apply(lambda x: len(x))\n",
    "\n",
    "df_votum = df_votum.groupby('geschlecht').agg({\n",
    "    'wordcount': 'sum',\n",
    "    'name': 'count'\n",
    "})\n",
    "\n",
    "df_votum['l'] = round(df_votum['wordcount'] / df_votum['name'])\n",
    "\n",
    "df_votum"
   ]
  },
  {
   "cell_type": "markdown",
   "metadata": {},
   "source": [
    "## The Speakers..."
   ]
  },
  {
   "cell_type": "code",
   "execution_count": 171,
   "metadata": {},
   "outputs": [
    {
     "data": {
      "text/plain": [
       "<AxesSubplot:ylabel='name'>"
      ]
     },
     "execution_count": 171,
     "metadata": {},
     "output_type": "execute_result"
    },
    {
     "data": {
      "image/png": "[encoded data removed]",
      "text/plain": [
       "<Figure size 360x576 with 1 Axes>"
      ]
     },
     "metadata": {
      "needs_background": "light"
     },
     "output_type": "display_data"
    }
   ],
   "source": [
    "df_votum = df_votum_raw.copy()\n",
    "\n",
    "df_votum = df_votum[df_votum.session == 2021]\n",
    "\n",
    "# Remove all Statements from President, 1. & 2. Vizepresidents\n",
    "df_votum = df_votum[~df_votum.funktion.isin(['Präsidium', '2. Vizepräsidium', '1. Vizepräsidium'])]\n",
    "\n",
    "df_votum = df_votum.groupby(['name', 'vorname', 'geschlecht']).agg({'text': 'count'}).reset_index().sort_values('text', ascending=False)\n",
    "\n",
    "df_votum = df_votum.head(10)\n",
    "\n",
    "c = list(df_votum['geschlecht'].apply(lambda x: 'red' if x == 'm' else 'green'))\n",
    "df_votum.plot(kind='barh', x='name', y='text', color=c, figsize=(5, 8))\n",
    "\n",
    "#df_votum.head()"
   ]
  },
  {
   "cell_type": "markdown",
   "metadata": {},
   "source": [
    "## Talking parties..."
   ]
  },
  {
   "cell_type": "code",
   "execution_count": 183,
   "metadata": {},
   "outputs": [
    {
     "data": {
      "text/plain": [
       "<AxesSubplot:xlabel='partei'>"
      ]
     },
     "execution_count": 183,
     "metadata": {},
     "output_type": "execute_result"
    },
    {
     "data": {
      "image/png": "[encoded data removed]",
      "text/plain": [
       "<Figure size 432x288 with 1 Axes>"
      ]
     },
     "metadata": {
      "needs_background": "light"
     },
     "output_type": "display_data"
    }
   ],
   "source": [
    "# Absolut\n",
    "df_votum = df_votum_raw.copy()\n",
    "\n",
    "# Remove all Statements from President, 1. & 2. Vizepresidents\n",
    "df_votum = df_votum[~df_votum.funktion.isin(['Präsidium', '2. Vizepräsidium', '1. Vizepräsidium'])]\n",
    "\n",
    "df_votum = df_votum.groupby('partei').agg({'name': 'count'}).sort_values('name')\n",
    "df_votum.plot.bar()"
   ]
  },
  {
   "cell_type": "code",
   "execution_count": 220,
   "metadata": {},
   "outputs": [
    {
     "data": {
      "text/plain": [
       "<AxesSubplot:>"
      ]
     },
     "execution_count": 220,
     "metadata": {},
     "output_type": "execute_result"
    },
    {
     "data": {
      "image/png": "[encoded data removed]",
      "text/plain": [
       "<Figure size 432x288 with 1 Axes>"
      ]
     },
     "metadata": {
      "needs_background": "light"
     },
     "output_type": "display_data"
    }
   ],
   "source": [
    "# Relative per strength\n",
    "df_votum = df_votum_raw.copy()\n",
    "\n",
    "# Remove all Statements from President, 1. & 2. Vizepresidents\n",
    "df_votum = df_votum[~df_votum.funktion.isin(['Präsidium', '2. Vizepräsidium', '1. Vizepräsidium'])]\n",
    "\n",
    "dtx = []\n",
    "for year in range(df_votum['sitzung_date'].min().year, df_votum['sitzung_date'].max().year + 1):\n",
    "\n",
    "    dt = datetime.datetime(year, 7, 1)\n",
    "    df = utils.kantonsrat_as_dataframe(kantonsrat, dt)\n",
    "    df['year'] = year\n",
    "    dtx.append(df)\n",
    "\n",
    "df = pd.concat(dtx)\n",
    "\n",
    "# Remove Präsidents\n",
    "df = df[df.funktion.isna()]\n",
    "\n",
    "df = pd.pivot_table(df, columns='party', values='name', aggfunc='count').reset_index(drop=True)\n",
    "df.loc[0, 'name'] = 'members'\n",
    "\n",
    "df_votum = df_votum.groupby('partei').agg({'name': 'count'}).T.reset_index(drop=True)\n",
    "df_votum.loc[0, 'name'] = 'votes'\n",
    "\n",
    "# Combine both datasets, set index and transform\n",
    "df = pd.concat([df, df_votum])\n",
    "df = df.set_index('name').T\n",
    "df = df.fillna(0)\n",
    "\n",
    "# Calculate Vote per Member\n",
    "df['per_member'] = round(df['votes'] / df['members'], 1)\n",
    "\n",
    "df.sort_values('per_member', ascending=False)['per_member'].plot.bar()"
   ]
  },
  {
   "cell_type": "code",
   "execution_count": 221,
   "metadata": {},
   "outputs": [
    {
     "data": {
      "text/html": [
       "<div>\n",
       "<style scoped>\n",
       "    .dataframe tbody tr th:only-of-type {\n",
       "        vertical-align: middle;\n",
       "    }\n",
       "\n",
       "    .dataframe tbody tr th {\n",
       "        vertical-align: top;\n",
       "    }\n",
       "\n",
       "    .dataframe thead th {\n",
       "        text-align: right;\n",
       "    }\n",
       "</style>\n",
       "<table border=\"1\" class=\"dataframe\">\n",
       "  <thead>\n",
       "    <tr style=\"text-align: right;\">\n",
       "      <th>name</th>\n",
       "      <th>members</th>\n",
       "      <th>votes</th>\n",
       "      <th>per_member</th>\n",
       "    </tr>\n",
       "  </thead>\n",
       "  <tbody>\n",
       "    <tr>\n",
       "      <th>AL</th>\n",
       "      <td>44.0</td>\n",
       "      <td>1651.0</td>\n",
       "      <td>37.5</td>\n",
       "    </tr>\n",
       "    <tr>\n",
       "      <th>BDP</th>\n",
       "      <td>32.0</td>\n",
       "      <td>938.0</td>\n",
       "      <td>29.3</td>\n",
       "    </tr>\n",
       "    <tr>\n",
       "      <th>CVP</th>\n",
       "      <td>73.0</td>\n",
       "      <td>2022.0</td>\n",
       "      <td>27.7</td>\n",
       "    </tr>\n",
       "    <tr>\n",
       "      <th>EVP</th>\n",
       "      <td>69.0</td>\n",
       "      <td>1657.0</td>\n",
       "      <td>24.0</td>\n",
       "    </tr>\n",
       "    <tr>\n",
       "      <th>CSP</th>\n",
       "      <td>9.0</td>\n",
       "      <td>215.0</td>\n",
       "      <td>23.9</td>\n",
       "    </tr>\n",
       "    <tr>\n",
       "      <th>Grüne</th>\n",
       "      <td>146.0</td>\n",
       "      <td>3487.0</td>\n",
       "      <td>23.9</td>\n",
       "    </tr>\n",
       "    <tr>\n",
       "      <th>EDU</th>\n",
       "      <td>39.0</td>\n",
       "      <td>778.0</td>\n",
       "      <td>19.9</td>\n",
       "    </tr>\n",
       "    <tr>\n",
       "      <th>GLP</th>\n",
       "      <td>161.0</td>\n",
       "      <td>2718.0</td>\n",
       "      <td>16.9</td>\n",
       "    </tr>\n",
       "    <tr>\n",
       "      <th>parteilos</th>\n",
       "      <td>2.0</td>\n",
       "      <td>28.0</td>\n",
       "      <td>14.0</td>\n",
       "    </tr>\n",
       "    <tr>\n",
       "      <th>SP</th>\n",
       "      <td>316.0</td>\n",
       "      <td>4380.0</td>\n",
       "      <td>13.9</td>\n",
       "    </tr>\n",
       "    <tr>\n",
       "      <th>SVP</th>\n",
       "      <td>455.0</td>\n",
       "      <td>6274.0</td>\n",
       "      <td>13.8</td>\n",
       "    </tr>\n",
       "    <tr>\n",
       "      <th>FDP</th>\n",
       "      <td>252.0</td>\n",
       "      <td>3219.0</td>\n",
       "      <td>12.8</td>\n",
       "    </tr>\n",
       "    <tr>\n",
       "      <th></th>\n",
       "      <td>1.0</td>\n",
       "      <td>0.0</td>\n",
       "      <td>0.0</td>\n",
       "    </tr>\n",
       "  </tbody>\n",
       "</table>\n",
       "</div>"
      ],
      "text/plain": [
       "name       members   votes  per_member\n",
       "AL            44.0  1651.0        37.5\n",
       "BDP           32.0   938.0        29.3\n",
       "CVP           73.0  2022.0        27.7\n",
       "EVP           69.0  1657.0        24.0\n",
       "CSP            9.0   215.0        23.9\n",
       "Grüne        146.0  3487.0        23.9\n",
       "EDU           39.0   778.0        19.9\n",
       "GLP          161.0  2718.0        16.9\n",
       "parteilos      2.0    28.0        14.0\n",
       "SP           316.0  4380.0        13.9\n",
       "SVP          455.0  6274.0        13.8\n",
       "FDP          252.0  3219.0        12.8\n",
       "               1.0     0.0         0.0"
      ]
     },
     "execution_count": 221,
     "metadata": {},
     "output_type": "execute_result"
    }
   ],
   "source": [
    "df.sort_values('per_member', ascending=False)"
   ]
  }
 ],
 "metadata": {
  "interpreter": {
   "hash": "0d89f51c21e61334fa582c5b112d16d67677dd53345d4e7223b029a81b433160"
  },
  "kernelspec": {
   "display_name": "Python 3.9.0 64-bit ('env': venv)",
   "language": "python",
   "name": "python3"
  },
  "language_info": {
   "codemirror_mode": {
    "name": "ipython",
    "version": 3
   },
   "file_extension": ".py",
   "mimetype": "text/x-python",
   "name": "python",
   "nbconvert_exporter": "python",
   "pygments_lexer": "ipython3",
   "version": "3.9.0"
  },
  "orig_nbformat": 4
 },
 "nbformat": 4,
 "nbformat_minor": 2
}
