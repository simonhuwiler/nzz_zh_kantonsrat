{
 "cells": [
  {
   "cell_type": "markdown",
   "metadata": {},
   "source": [
    "# Load List of Kings and Queens\n",
    "This Scripts generates a list with all members of the Kantonsrat back to the age of the dinosaurs. It stores as well who was when president of the Kantonsrat.  \n",
    "\n",
    "Load from xlsx because:\n",
    "* CSVs are corrupt\n",
    "* API from Parlamentsdienste is a pain  \n",
    "\n",
    "Download at the bottom: https://www.zh.ch/de/politik-staat/wahlen-abstimmungen/kantons-regierungsratswahlen/mitglieder-kantonsrats-ab-1803.html#-373901206"
   ]
  },
  {
   "cell_type": "code",
   "execution_count": 1,
   "metadata": {},
   "outputs": [],
   "source": [
    "import pandas as pd\n",
    "from datetime import datetime\n",
    "from pathlib import Path\n",
    "import numpy as np\n",
    "import json"
   ]
  },
  {
   "cell_type": "code",
   "execution_count": 2,
   "metadata": {},
   "outputs": [],
   "source": [
    "df_person = pd.read_excel(Path('../data/kantonsrathistory.xlsx'), 'Personen')\n",
    "df_funktion = pd.read_excel(Path('../data/kantonsrathistory.xlsx'), 'Funktionen')\n",
    "df_partei = pd.read_excel(Path('../data/kantonsrathistory.xlsx'), 'Parteien')\n",
    "df_einsitz = pd.read_excel(Path('../data/kantonsrathistory.xlsx'), 'Einsitze')"
   ]
  },
  {
   "cell_type": "code",
   "execution_count": 3,
   "metadata": {},
   "outputs": [],
   "source": [
    "df_person = df_person[df_person.DATUM_GEBURT_JAHR.notna()]\n",
    "df_person = df_person[df_person.DATUM_GEBURT_JAHR> 1900]\n",
    "df_einsitz = df_einsitz[df_einsitz.DATUM_EINTRITT_JAHR.notna()]\n",
    "df_einsitz = df_einsitz[df_einsitz.RAT == 'Kantonsrat']\n",
    "df_funktion = df_funktion[df_funktion.DATUM_VON_JAHR.notna()]\n",
    "df_funktion = df_funktion[df_funktion.FUNKTIONSBEZEICHNUNG.notna()]\n",
    "df_partei = df_partei[df_partei.PARTEIBEZEICHNUNG.notna()]\n",
    "\n",
    "records = []\n",
    "\n",
    "for i, row in df_person.iterrows():\n",
    "\n",
    "    record = {\n",
    "        'id': row['ID_PERSON_NEW'],\n",
    "        'name': row['NACHNAME'].strip(),\n",
    "        'vorname': row['VORNAME'].strip(),\n",
    "        'geschlecht': row['GESCHLECHT'].strip(),\n",
    "        'jahrgang': row['DATUM_GEBURT_JAHR'],\n",
    "        'einsitz': [],\n",
    "        'partei': [],\n",
    "        'funktion': []\n",
    "    }\n",
    "\n",
    "    # Add Einsitz\n",
    "    df = df_einsitz[df_einsitz.ID_PERSON_NEW == row['ID_PERSON_NEW']]\n",
    "    for y, row2 in df.iterrows():\n",
    "\n",
    "        if np.isnan(row2['DATUM_AUSTRITT_JAHR']):\n",
    "            end = datetime(2100, 12, 31)\n",
    "        else:\n",
    "            end = datetime(int(row2['DATUM_AUSTRITT_JAHR']), int(row2['DATUM_AUSTRITT_MONAT']), int(row2['DATUM_AUSTRITT_TAG']))\n",
    "\n",
    "        record['einsitz'].append({\n",
    "            'start': datetime(int(row2['DATUM_EINTRITT_JAHR']), int(row2['DATUM_EINTRITT_MONAT']), int(row2['DATUM_EINTRITT_TAG'])),\n",
    "            'end': end\n",
    "        })\n",
    "\n",
    "    # Add Party\n",
    "    df = df_partei[df_partei.ID_PERSON_NEW == row['ID_PERSON_NEW']]\n",
    "    try:\n",
    "        for y, row2 in df.iterrows():\n",
    "            if not(np.isnan(row2['DATUM_BIS_MONAT'])) and not(np.isnan(row2['DATUM_BIS_JAHR'])):\n",
    "                end = datetime(int(row2['DATUM_BIS_JAHR']), int(row2['DATUM_BIS_MONAT']), int(row2['DATUM_BIS_TAG']))\n",
    "            else:\n",
    "                end = datetime(2100, 12, 31)\n",
    "\n",
    "            if np.isnan(row2['DATUM_VON_JAHR']):\n",
    "                start = record['einsitz'][0]['start']\n",
    "            else:\n",
    "                start = datetime(int(row2['DATUM_VON_JAHR']), int(row2['DATUM_VON_MONAT']), int(row2['DATUM_VON_TAG']))\n",
    "\n",
    "            record['partei'].append({\n",
    "                'bezeichnung': row2['PARTEIBEZEICHNUNG'],\n",
    "                'start': start,\n",
    "                'end': end\n",
    "            })\n",
    "        # Reorder\n",
    "        record['partei'] = sorted(record['partei'], key = lambda x: x['start'])\n",
    "    except:\n",
    "        print(row2)\n",
    "        raise\n",
    "        \n",
    "    # Add Funktion\n",
    "    df = df_funktion[df_funktion.ID_PERSON_NEW == row['ID_PERSON_NEW']]\n",
    "    try:\n",
    "        for y, row2 in df.iterrows():\n",
    "\n",
    "            # Skip if \"Mitglied\"\n",
    "            if row2['FUNKTIONSBEZEICHNUNG'].lower() == 'mitglied': continue\n",
    "\n",
    "            # Assume, that Amtsjahr starts at 1. Mai and ends at 30. April\n",
    "            if not np.isnan(row2['DATUM_VON_JAHR']):\n",
    "                day = 1 if np.isnan(row2['DATUM_VON_TAG']) else int(row2['DATUM_VON_TAG'])\n",
    "                month = 5 if np.isnan(row2['DATUM_VON_MONAT']) else int(row2['DATUM_VON_MONAT'])\n",
    "                start = datetime(int(row2['DATUM_VON_JAHR']), month, day)\n",
    "            else:\n",
    "                start = datetime(2100, 12, 31)\n",
    "                print(\"Hmmm\")\n",
    "\n",
    "\n",
    "            if np.isnan(row2['DATUM_BIS_JAHR']):\n",
    "                end = datetime(2100, 12, 31)\n",
    "            else:\n",
    "                day = 30 if np.isnan(row2['DATUM_BIS_TAG']) else int(row2['DATUM_BIS_TAG'])\n",
    "                month = 4 if np.isnan(row2['DATUM_BIS_MONAT']) else int(row2['DATUM_BIS_MONAT'])\n",
    "                end = datetime(int(row2['DATUM_BIS_JAHR']), month, day)                \n",
    "\n",
    "            record['funktion'].append({\n",
    "                'bezeichnung': row2['FUNKTIONSBEZEICHNUNG'],\n",
    "                'start': start,\n",
    "                'end': end\n",
    "            })\n",
    "\n",
    "    except:\n",
    "        print(row2)\n",
    "        raise\n",
    "    records.append(record)"
   ]
  },
  {
   "cell_type": "code",
   "execution_count": 4,
   "metadata": {},
   "outputs": [
    {
     "data": {
      "text/plain": [
       "\"\\nprint(len(records))\\nremove = None\\nfor r in records:\\n    if r['id'] == 21252:\\n        remove = r\\n        break\\n\\nif remove:\\n    records.remove(remove)\\n\\nprint(len(records))\\n\""
      ]
     },
     "execution_count": 4,
     "metadata": {},
     "output_type": "execute_result"
    }
   ],
   "source": [
    "# Drop by ID (duplicated entries)\n",
    "\n",
    "# Not needed in new file version\n",
    "\"\"\"\n",
    "print(len(records))\n",
    "remove = None\n",
    "for r in records:\n",
    "    if r['id'] == 21252:\n",
    "        remove = r\n",
    "        break\n",
    "\n",
    "if remove:\n",
    "    records.remove(remove)\n",
    "\n",
    "print(len(records))\n",
    "\"\"\""
   ]
  },
  {
   "cell_type": "code",
   "execution_count": 5,
   "metadata": {},
   "outputs": [],
   "source": [
    "# Fix Christoph Fischbach\n",
    "r = list(filter(lambda x: x['id'] == 21362, records))[0]\n",
    "r['einsitz'].append({\n",
    "    \"start\": \"2021-11-08 00:00:00\",\n",
    "    \"end\": \"2100-12-31 00:00:00\"\n",
    "})\n",
    "\n",
    "r['partei'].append({\n",
    "    \"bezeichnung\": \"SP\",\n",
    "    \"start\": \"2021-11-08 00:00:00\",\n",
    "    \"end\": \"2100-12-31 00:00:00\"\n",
    "})"
   ]
  },
  {
   "cell_type": "code",
   "execution_count": 6,
   "metadata": {},
   "outputs": [],
   "source": [
    "# Fix Cristina Cortellini\n",
    "r = list(filter(lambda x: x['id'] == 21445, records))[0]\n",
    "r['name'] = 'Wyss-Cortellini'"
   ]
  },
  {
   "cell_type": "code",
   "execution_count": 7,
   "metadata": {},
   "outputs": [
    {
     "data": {
      "text/plain": [
       "'\\nrecords.append({\\n    \"id\": 0,\\n    \"name\": \"Hoss-Blatter\",\\n    \"vorname\": \"Corinne\",\\n    \"geschlecht\": \"w\",\\n    \"jahrgang\": 1937.0,\\n    \"einsitz\": [{\"start\": \"2020-02-24 00:00:00\", \"end\": \"2100-12-31 00:00:00\"}],\\n    \"partei\": [{\"bezeichnung\": \"FDP\", \"start\": \"2020-02-24 00:00:00\", \"end\": \"2100-12-31 00:00:00\"}],\\n    \"funktion\": []})\\n'"
      ]
     },
     "execution_count": 7,
     "metadata": {},
     "output_type": "execute_result"
    }
   ],
   "source": [
    "# Add manually\n",
    "# Not needed anymore\n",
    "\"\"\"\n",
    "records.append({\n",
    "    \"id\": 0,\n",
    "    \"name\": \"Hoss-Blatter\",\n",
    "    \"vorname\": \"Corinne\",\n",
    "    \"geschlecht\": \"w\",\n",
    "    \"jahrgang\": 1937.0,\n",
    "    \"einsitz\": [{\"start\": \"2020-02-24 00:00:00\", \"end\": \"2100-12-31 00:00:00\"}],\n",
    "    \"partei\": [{\"bezeichnung\": \"FDP\", \"start\": \"2020-02-24 00:00:00\", \"end\": \"2100-12-31 00:00:00\"}],\n",
    "    \"funktion\": []})\n",
    "\"\"\""
   ]
  },
  {
   "cell_type": "code",
   "execution_count": 8,
   "metadata": {},
   "outputs": [],
   "source": [
    "with open(Path('../export/mitglieder.json'), 'w', encoding='utf-8') as f:\n",
    "    json.dump(records, f, default=str, ensure_ascii=False, indent=2)"
   ]
  },
  {
   "cell_type": "code",
   "execution_count": null,
   "metadata": {},
   "outputs": [],
   "source": []
  }
 ],
 "metadata": {
  "interpreter": {
   "hash": "37f0ca31d41186abe10772da2ac64da7601e3a80a4b6b1bf647ed16bff654d0c"
  },
  "kernelspec": {
   "display_name": "Python 3.9.6 64-bit ('env': venv)",
   "name": "python3"
  },
  "language_info": {
   "codemirror_mode": {
    "name": "ipython",
    "version": 3
   },
   "file_extension": ".py",
   "mimetype": "text/x-python",
   "name": "python",
   "nbconvert_exporter": "python",
   "pygments_lexer": "ipython3",
   "version": "3.9.6"
  },
  "orig_nbformat": 4
 },
 "nbformat": 4,
 "nbformat_minor": 2
}
