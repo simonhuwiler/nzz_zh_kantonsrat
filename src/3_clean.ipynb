{
 "cells": [
  {
   "cell_type": "markdown",
   "metadata": {},
   "source": [
    "# Clean extracted data\n",
    "Cleanup the data and add personal informations (who spoke, which party was the person, etc.). This takes a while..."
   ]
  },
  {
   "cell_type": "code",
   "execution_count": 1,
   "metadata": {},
   "outputs": [],
   "source": [
    "import json\n",
    "import pandas as pd\n",
    "from pathlib import Path\n",
    "import re\n",
    "import utils"
   ]
  },
  {
   "cell_type": "code",
   "execution_count": 2,
   "metadata": {},
   "outputs": [],
   "source": [
    "# Get all files\n",
    "df = pd.read_csv(Path('../export/dokumente.csv'))\n",
    "\n",
    "# Only \"Protokoll\"\n",
    "df = df[df.dokument_kategorie == 'Protokoll']\n",
    "\n",
    "with open(Path('../export/mitglieder.json'), encoding='utf-8') as f:\n",
    "    raete = json.load(f)\n",
    "\n",
    "# Precalculate Name\n",
    "for r in raete:\n",
    "    r['_name'] = r['vorname'].lower() +' ' + r['name'].lower()\n",
    "\n",
    "# Some names are written wrong. Some changed their name (marriage). Add\n",
    "# Aliases to the dataframe\n",
    "\n",
    "for a in utils.aliases:\n",
    "    raete.append({\n",
    "        '_name': a[0].lower(),\n",
    "        'name': a[2],\n",
    "        'vorname': a[1]})"
   ]
  },
  {
   "cell_type": "code",
   "execution_count": 3,
   "metadata": {},
   "outputs": [
    {
     "name": "stdout",
     "output_type": "stream",
     "text": [
      "finito\n"
     ]
    }
   ],
   "source": [
    "# Remove this\n",
    "remove = ['Ratsvizepräsidentin', 'Ratspräsidentin', 'Regierungsrätin',\n",
    "     'Ratspräsident', 'Regierungsrat', 'Ratsvizepräsident', 'Vizepräsidentin', 'Vizepräsident', \n",
    "    ', Niederhasli.', ', SVP, Zürich.', ', SVP, Dinhard.',\n",
    "    ', GLP, Dübendorf.', ', SVP, Volketswil.', ', GLP, Dübendorf.',\n",
    "    ', SVP, Uetikon am See.']\n",
    "\n",
    "records = []\n",
    "notfound = []\n",
    "\n",
    "# Loop file\n",
    "for i, row in df.iterrows():\n",
    "\n",
    "    # Create Name and load\n",
    "    f = Path('../export/extracts/%s' % row['_filename']).with_suffix('.json')\n",
    "    data = json.load(open(f, encoding='utf-8'))\n",
    "\n",
    "    filename = Path(f).stem\n",
    "\n",
    "    for msg in data:\n",
    "        #print(msg)\n",
    "\n",
    "        # Replace double space\n",
    "        msg = msg.replace('  ', ' ')\n",
    "\n",
    "        if msg.strip() == '':\n",
    "            continue\n",
    "\n",
    "        # Remove Strings\n",
    "        for r in remove:\n",
    "            msg = msg.replace(r, '')\n",
    "\n",
    "        msg = msg.strip()\n",
    "\n",
    "        # Extract Name\n",
    "        r1 = re.findall(r\"[^(:]*\", msg)\n",
    "        if len(r1) > 0:\n",
    "            name = r1[0].strip()\n",
    "            r = list(filter(lambda x: x['_name'] == name.lower(), raete))\n",
    "\n",
    "            # If name not found, add it to a list for manual check\n",
    "            if len(r) == 0:\n",
    "                notfound.append({\n",
    "                    'name': name,\n",
    "                    'f': filename,\n",
    "                })\n",
    "                \n",
    "            else:\n",
    "                # Name found!\n",
    "\n",
    "                # Clean text\n",
    "                text = msg\n",
    "                text = text.replace('-\\n', '')\n",
    "                text = text.replace('\\n', ' ')\n",
    "                text = text.replace('  ', ' ')\n",
    "                text = text.strip()\n",
    "\n",
    "                text = re.findall(r\".*?:(.*)\", text)\n",
    "                if len(text) > 0:\n",
    "                    text = text[0].strip()\n",
    "\n",
    "                    records.append({\n",
    "                        'name': r[0]['name'],\n",
    "                        'vorname': r[0]['vorname'],\n",
    "                        'text': text,\n",
    "                        'f': filename\n",
    "                    })\n",
    "        else:\n",
    "            # No Name found\n",
    "            print('!! No Name found in:\\n%s' % msg)\n",
    "\n",
    "print(\"finito\")"
   ]
  },
  {
   "cell_type": "markdown",
   "metadata": {},
   "source": [
    "### If you need to find missings, use this. When not, goto next block"
   ]
  },
  {
   "cell_type": "code",
   "execution_count": 4,
   "metadata": {},
   "outputs": [
    {
     "data": {
      "text/plain": [
       "24816"
      ]
     },
     "execution_count": 4,
     "metadata": {},
     "output_type": "execute_result"
    }
   ],
   "source": [
    "len(notfound)"
   ]
  },
  {
   "cell_type": "code",
   "execution_count": null,
   "metadata": {},
   "outputs": [],
   "source": [
    "x = pd.DataFrame(notfound)\n",
    "x.to_clipboard()"
   ]
  },
  {
   "cell_type": "code",
   "execution_count": null,
   "metadata": {},
   "outputs": [],
   "source": [
    "x = list(filter(lambda x: 'Läubli' in x['name'], raete))\n",
    "for j in x:\n",
    "    print(\"['', '%s', '%s'],\" % (j['vorname'], j['name']))"
   ]
  },
  {
   "cell_type": "code",
   "execution_count": null,
   "metadata": {},
   "outputs": [],
   "source": [
    "list(filter(lambda x: 'Walker' in x['vorname'], raete))"
   ]
  },
  {
   "cell_type": "markdown",
   "metadata": {},
   "source": [
    "## Join with personal information and save.\n",
    "This takes a while"
   ]
  },
  {
   "cell_type": "code",
   "execution_count": 5,
   "metadata": {},
   "outputs": [],
   "source": [
    "df_votum = pd.DataFrame(records)\n",
    "df_dokumente = pd.read_csv(Path('../export/dokumente.csv', encoding='utf-8'))\n",
    "df_dokumente['f'] = df_dokumente['_filename'].apply(lambda x: Path(x).stem)\n",
    "\n",
    "# Join Votum and Dokumente\n",
    "df_votum = df_votum.merge(df_dokumente[['f', 'sitzung_name', 'sitzung_date', 'sitzung_gremium', 'dokument_titel']], on = 'f')\n",
    "\n",
    "# Merge names\n",
    "df_votum['_join'] = df_votum.apply(lambda row: \"%s_%s\" % (row['name'], row['vorname']), axis=1)\n",
    "\n",
    "# Typecast\n",
    "df_votum['sitzung_date'] = pd.to_datetime(df_votum['sitzung_date'])"
   ]
  },
  {
   "cell_type": "code",
   "execution_count": 6,
   "metadata": {},
   "outputs": [],
   "source": [
    "with open(Path('../export/mitglieder.json'), encoding='utf-8') as f:\n",
    "    mitglieder = json.load(f)\n",
    "\n",
    "# Typecast\n",
    "utils.kantonsrat_to_datetime(mitglieder)\n",
    "\n",
    "# No join, because could be multiple Partys per name (if they switched). Loop and find party\n",
    "not_found = []\n",
    "\n",
    "for i, row in df_votum.iterrows():\n",
    "    record = None\n",
    "    for r in mitglieder:\n",
    "        if (\"%s_%s\" % (r['name'], r['vorname'])) == row['_join']:\n",
    "            record = r\n",
    "            break\n",
    "\n",
    "    if record == None:\n",
    "        not_found.append(row)\n",
    "        continue\n",
    "\n",
    "    # Find party\n",
    "    party = None\n",
    "    for l in record['partei']:\n",
    "        if (l['start'] <= row['sitzung_date']) and ((l['end'] >= row['sitzung_date'])):\n",
    "            party = l['bezeichnung']\n",
    "            break\n",
    "\n",
    "    # Is Kantonsrat (not former member and now Regierungsrat)\n",
    "    ismember = False\n",
    "    for l in record['einsitz']:\n",
    "        if (l['start'] <= row['sitzung_date']) and ((l['end'] >= row['sitzung_date'])):\n",
    "            ismember = True\n",
    "            break      \n",
    "\n",
    "    # Find Funktion\n",
    "    function = None\n",
    "    for l in record['funktion']:\n",
    "        if (l['start'] <= row['sitzung_date']) and ((l['end'] >= row['sitzung_date'])):\n",
    "            function = l['bezeichnung']\n",
    "            break\n",
    "\n",
    "    df_votum.loc[i, 'partei'] = party\n",
    "    df_votum.loc[i, 'geschlecht'] = record['geschlecht']\n",
    "    df_votum.loc[i, 'jahrgang'] = record['jahrgang']\n",
    "    df_votum.loc[i, 'funktion'] = function\n",
    "    df_votum.loc[i, 'ismember'] = ismember\n",
    "\n",
    "if len(not_found) > 0:\n",
    "    print(\"Could not match everything. Have a look at not_found\")"
   ]
  },
  {
   "cell_type": "markdown",
   "metadata": {},
   "source": [
    "## Split Dataframe (GitHub)"
   ]
  },
  {
   "cell_type": "code",
   "execution_count": 17,
   "metadata": {},
   "outputs": [
    {
     "ename": "KeyError",
     "evalue": "\"['_join'] not found in axis\"",
     "output_type": "error",
     "traceback": [
      "\u001b[0;31m---------------------------------------------------------------------------\u001b[0m",
      "\u001b[0;31mKeyError\u001b[0m                                  Traceback (most recent call last)",
      "\u001b[0;32m/var/folders/xv/8dpn0yrd2_sdyj5_kf48mxbh0000gn/T/ipykernel_49446/1238712307.py\u001b[0m in \u001b[0;36m<module>\u001b[0;34m\u001b[0m\n\u001b[1;32m      1\u001b[0m \u001b[0;31m# Store\u001b[0m\u001b[0;34m\u001b[0m\u001b[0;34m\u001b[0m\u001b[0;34m\u001b[0m\u001b[0m\n\u001b[0;32m----> 2\u001b[0;31m \u001b[0mdf_votum\u001b[0m \u001b[0;34m=\u001b[0m \u001b[0mdf_votum\u001b[0m\u001b[0;34m.\u001b[0m\u001b[0mdrop\u001b[0m\u001b[0;34m(\u001b[0m\u001b[0mcolumns\u001b[0m\u001b[0;34m=\u001b[0m\u001b[0;34m[\u001b[0m\u001b[0;34m'_join'\u001b[0m\u001b[0;34m]\u001b[0m\u001b[0;34m)\u001b[0m\u001b[0;34m\u001b[0m\u001b[0;34m\u001b[0m\u001b[0m\n\u001b[0m\u001b[1;32m      3\u001b[0m \u001b[0;31m#df_votum.to_csv(Path('../export/votum.csv'), index=False)\u001b[0m\u001b[0;34m\u001b[0m\u001b[0;34m\u001b[0m\u001b[0;34m\u001b[0m\u001b[0m\n\u001b[1;32m      4\u001b[0m \u001b[0mdf_votum\u001b[0m\u001b[0;34m.\u001b[0m\u001b[0miloc\u001b[0m\u001b[0;34m[\u001b[0m\u001b[0;36m0\u001b[0m\u001b[0;34m:\u001b[0m\u001b[0;36m30000\u001b[0m\u001b[0;34m]\u001b[0m\u001b[0;34m.\u001b[0m\u001b[0mto_csv\u001b[0m\u001b[0;34m(\u001b[0m\u001b[0mPath\u001b[0m\u001b[0;34m(\u001b[0m\u001b[0;34m'../export/votum/votum_0.csv'\u001b[0m\u001b[0;34m)\u001b[0m\u001b[0;34m,\u001b[0m \u001b[0mindex\u001b[0m\u001b[0;34m=\u001b[0m\u001b[0;32mFalse\u001b[0m\u001b[0;34m)\u001b[0m\u001b[0;34m\u001b[0m\u001b[0;34m\u001b[0m\u001b[0m\n\u001b[1;32m      5\u001b[0m \u001b[0mdf_votum\u001b[0m\u001b[0;34m.\u001b[0m\u001b[0miloc\u001b[0m\u001b[0;34m[\u001b[0m\u001b[0;36m30000\u001b[0m\u001b[0;34m:\u001b[0m\u001b[0;34m]\u001b[0m\u001b[0;34m.\u001b[0m\u001b[0mto_csv\u001b[0m\u001b[0;34m(\u001b[0m\u001b[0mPath\u001b[0m\u001b[0;34m(\u001b[0m\u001b[0;34m'../export/votum/votum_1.csv'\u001b[0m\u001b[0;34m)\u001b[0m\u001b[0;34m,\u001b[0m \u001b[0mindex\u001b[0m\u001b[0;34m=\u001b[0m\u001b[0;32mFalse\u001b[0m\u001b[0;34m)\u001b[0m\u001b[0;34m\u001b[0m\u001b[0;34m\u001b[0m\u001b[0m\n",
      "\u001b[0;32m~/Documents/projects/nzz_zh_kantonsrat_genderstudy/env/lib/python3.9/site-packages/pandas/util/_decorators.py\u001b[0m in \u001b[0;36mwrapper\u001b[0;34m(*args, **kwargs)\u001b[0m\n\u001b[1;32m    309\u001b[0m                     \u001b[0mstacklevel\u001b[0m\u001b[0;34m=\u001b[0m\u001b[0mstacklevel\u001b[0m\u001b[0;34m,\u001b[0m\u001b[0;34m\u001b[0m\u001b[0;34m\u001b[0m\u001b[0m\n\u001b[1;32m    310\u001b[0m                 )\n\u001b[0;32m--> 311\u001b[0;31m             \u001b[0;32mreturn\u001b[0m \u001b[0mfunc\u001b[0m\u001b[0;34m(\u001b[0m\u001b[0;34m*\u001b[0m\u001b[0margs\u001b[0m\u001b[0;34m,\u001b[0m \u001b[0;34m**\u001b[0m\u001b[0mkwargs\u001b[0m\u001b[0;34m)\u001b[0m\u001b[0;34m\u001b[0m\u001b[0;34m\u001b[0m\u001b[0m\n\u001b[0m\u001b[1;32m    312\u001b[0m \u001b[0;34m\u001b[0m\u001b[0m\n\u001b[1;32m    313\u001b[0m         \u001b[0;32mreturn\u001b[0m \u001b[0mwrapper\u001b[0m\u001b[0;34m\u001b[0m\u001b[0;34m\u001b[0m\u001b[0m\n",
      "\u001b[0;32m~/Documents/projects/nzz_zh_kantonsrat_genderstudy/env/lib/python3.9/site-packages/pandas/core/frame.py\u001b[0m in \u001b[0;36mdrop\u001b[0;34m(self, labels, axis, index, columns, level, inplace, errors)\u001b[0m\n\u001b[1;32m   4904\u001b[0m                 \u001b[0mweight\u001b[0m  \u001b[0;36m1.0\u001b[0m     \u001b[0;36m0.8\u001b[0m\u001b[0;34m\u001b[0m\u001b[0;34m\u001b[0m\u001b[0m\n\u001b[1;32m   4905\u001b[0m         \"\"\"\n\u001b[0;32m-> 4906\u001b[0;31m         return super().drop(\n\u001b[0m\u001b[1;32m   4907\u001b[0m             \u001b[0mlabels\u001b[0m\u001b[0;34m=\u001b[0m\u001b[0mlabels\u001b[0m\u001b[0;34m,\u001b[0m\u001b[0;34m\u001b[0m\u001b[0;34m\u001b[0m\u001b[0m\n\u001b[1;32m   4908\u001b[0m             \u001b[0maxis\u001b[0m\u001b[0;34m=\u001b[0m\u001b[0maxis\u001b[0m\u001b[0;34m,\u001b[0m\u001b[0;34m\u001b[0m\u001b[0;34m\u001b[0m\u001b[0m\n",
      "\u001b[0;32m~/Documents/projects/nzz_zh_kantonsrat_genderstudy/env/lib/python3.9/site-packages/pandas/core/generic.py\u001b[0m in \u001b[0;36mdrop\u001b[0;34m(self, labels, axis, index, columns, level, inplace, errors)\u001b[0m\n\u001b[1;32m   4148\u001b[0m         \u001b[0;32mfor\u001b[0m \u001b[0maxis\u001b[0m\u001b[0;34m,\u001b[0m \u001b[0mlabels\u001b[0m \u001b[0;32min\u001b[0m \u001b[0maxes\u001b[0m\u001b[0;34m.\u001b[0m\u001b[0mitems\u001b[0m\u001b[0;34m(\u001b[0m\u001b[0;34m)\u001b[0m\u001b[0;34m:\u001b[0m\u001b[0;34m\u001b[0m\u001b[0;34m\u001b[0m\u001b[0m\n\u001b[1;32m   4149\u001b[0m             \u001b[0;32mif\u001b[0m \u001b[0mlabels\u001b[0m \u001b[0;32mis\u001b[0m \u001b[0;32mnot\u001b[0m \u001b[0;32mNone\u001b[0m\u001b[0;34m:\u001b[0m\u001b[0;34m\u001b[0m\u001b[0;34m\u001b[0m\u001b[0m\n\u001b[0;32m-> 4150\u001b[0;31m                 \u001b[0mobj\u001b[0m \u001b[0;34m=\u001b[0m \u001b[0mobj\u001b[0m\u001b[0;34m.\u001b[0m\u001b[0m_drop_axis\u001b[0m\u001b[0;34m(\u001b[0m\u001b[0mlabels\u001b[0m\u001b[0;34m,\u001b[0m \u001b[0maxis\u001b[0m\u001b[0;34m,\u001b[0m \u001b[0mlevel\u001b[0m\u001b[0;34m=\u001b[0m\u001b[0mlevel\u001b[0m\u001b[0;34m,\u001b[0m \u001b[0merrors\u001b[0m\u001b[0;34m=\u001b[0m\u001b[0merrors\u001b[0m\u001b[0;34m)\u001b[0m\u001b[0;34m\u001b[0m\u001b[0;34m\u001b[0m\u001b[0m\n\u001b[0m\u001b[1;32m   4151\u001b[0m \u001b[0;34m\u001b[0m\u001b[0m\n\u001b[1;32m   4152\u001b[0m         \u001b[0;32mif\u001b[0m \u001b[0minplace\u001b[0m\u001b[0;34m:\u001b[0m\u001b[0;34m\u001b[0m\u001b[0;34m\u001b[0m\u001b[0m\n",
      "\u001b[0;32m~/Documents/projects/nzz_zh_kantonsrat_genderstudy/env/lib/python3.9/site-packages/pandas/core/generic.py\u001b[0m in \u001b[0;36m_drop_axis\u001b[0;34m(self, labels, axis, level, errors)\u001b[0m\n\u001b[1;32m   4183\u001b[0m                 \u001b[0mnew_axis\u001b[0m \u001b[0;34m=\u001b[0m \u001b[0maxis\u001b[0m\u001b[0;34m.\u001b[0m\u001b[0mdrop\u001b[0m\u001b[0;34m(\u001b[0m\u001b[0mlabels\u001b[0m\u001b[0;34m,\u001b[0m \u001b[0mlevel\u001b[0m\u001b[0;34m=\u001b[0m\u001b[0mlevel\u001b[0m\u001b[0;34m,\u001b[0m \u001b[0merrors\u001b[0m\u001b[0;34m=\u001b[0m\u001b[0merrors\u001b[0m\u001b[0;34m)\u001b[0m\u001b[0;34m\u001b[0m\u001b[0;34m\u001b[0m\u001b[0m\n\u001b[1;32m   4184\u001b[0m             \u001b[0;32melse\u001b[0m\u001b[0;34m:\u001b[0m\u001b[0;34m\u001b[0m\u001b[0;34m\u001b[0m\u001b[0m\n\u001b[0;32m-> 4185\u001b[0;31m                 \u001b[0mnew_axis\u001b[0m \u001b[0;34m=\u001b[0m \u001b[0maxis\u001b[0m\u001b[0;34m.\u001b[0m\u001b[0mdrop\u001b[0m\u001b[0;34m(\u001b[0m\u001b[0mlabels\u001b[0m\u001b[0;34m,\u001b[0m \u001b[0merrors\u001b[0m\u001b[0;34m=\u001b[0m\u001b[0merrors\u001b[0m\u001b[0;34m)\u001b[0m\u001b[0;34m\u001b[0m\u001b[0;34m\u001b[0m\u001b[0m\n\u001b[0m\u001b[1;32m   4186\u001b[0m             \u001b[0mresult\u001b[0m \u001b[0;34m=\u001b[0m \u001b[0mself\u001b[0m\u001b[0;34m.\u001b[0m\u001b[0mreindex\u001b[0m\u001b[0;34m(\u001b[0m\u001b[0;34m**\u001b[0m\u001b[0;34m{\u001b[0m\u001b[0maxis_name\u001b[0m\u001b[0;34m:\u001b[0m \u001b[0mnew_axis\u001b[0m\u001b[0;34m}\u001b[0m\u001b[0;34m)\u001b[0m\u001b[0;34m\u001b[0m\u001b[0;34m\u001b[0m\u001b[0m\n\u001b[1;32m   4187\u001b[0m \u001b[0;34m\u001b[0m\u001b[0m\n",
      "\u001b[0;32m~/Documents/projects/nzz_zh_kantonsrat_genderstudy/env/lib/python3.9/site-packages/pandas/core/indexes/base.py\u001b[0m in \u001b[0;36mdrop\u001b[0;34m(self, labels, errors)\u001b[0m\n\u001b[1;32m   6015\u001b[0m         \u001b[0;32mif\u001b[0m \u001b[0mmask\u001b[0m\u001b[0;34m.\u001b[0m\u001b[0many\u001b[0m\u001b[0;34m(\u001b[0m\u001b[0;34m)\u001b[0m\u001b[0;34m:\u001b[0m\u001b[0;34m\u001b[0m\u001b[0;34m\u001b[0m\u001b[0m\n\u001b[1;32m   6016\u001b[0m             \u001b[0;32mif\u001b[0m \u001b[0merrors\u001b[0m \u001b[0;34m!=\u001b[0m \u001b[0;34m\"ignore\"\u001b[0m\u001b[0;34m:\u001b[0m\u001b[0;34m\u001b[0m\u001b[0;34m\u001b[0m\u001b[0m\n\u001b[0;32m-> 6017\u001b[0;31m                 \u001b[0;32mraise\u001b[0m \u001b[0mKeyError\u001b[0m\u001b[0;34m(\u001b[0m\u001b[0;34mf\"{labels[mask]} not found in axis\"\u001b[0m\u001b[0;34m)\u001b[0m\u001b[0;34m\u001b[0m\u001b[0;34m\u001b[0m\u001b[0m\n\u001b[0m\u001b[1;32m   6018\u001b[0m             \u001b[0mindexer\u001b[0m \u001b[0;34m=\u001b[0m \u001b[0mindexer\u001b[0m\u001b[0;34m[\u001b[0m\u001b[0;34m~\u001b[0m\u001b[0mmask\u001b[0m\u001b[0;34m]\u001b[0m\u001b[0;34m\u001b[0m\u001b[0;34m\u001b[0m\u001b[0m\n\u001b[1;32m   6019\u001b[0m         \u001b[0;32mreturn\u001b[0m \u001b[0mself\u001b[0m\u001b[0;34m.\u001b[0m\u001b[0mdelete\u001b[0m\u001b[0;34m(\u001b[0m\u001b[0mindexer\u001b[0m\u001b[0;34m)\u001b[0m\u001b[0;34m\u001b[0m\u001b[0;34m\u001b[0m\u001b[0m\n",
      "\u001b[0;31mKeyError\u001b[0m: \"['_join'] not found in axis\""
     ]
    }
   ],
   "source": [
    "# Store\n",
    "df_votum = df_votum.drop(columns=['_join'])\n",
    "#df_votum.to_csv(Path('../export/votum.csv'), index=False)\n",
    "df_votum.iloc[0:30000].to_csv(Path('../export/votum/votum_0.csv'), index=False)\n",
    "df_votum.iloc[30000:].to_csv(Path('../export/votum/votum_1.csv'), index=False)"
   ]
  },
  {
   "cell_type": "code",
   "execution_count": 8,
   "metadata": {},
   "outputs": [
    {
     "data": {
      "text/plain": [
       "[]"
      ]
     },
     "execution_count": 8,
     "metadata": {},
     "output_type": "execute_result"
    }
   ],
   "source": [
    "not_found"
   ]
  },
  {
   "cell_type": "code",
   "execution_count": null,
   "metadata": {},
   "outputs": [],
   "source": []
  }
 ],
 "metadata": {
  "interpreter": {
   "hash": "37f0ca31d41186abe10772da2ac64da7601e3a80a4b6b1bf647ed16bff654d0c"
  },
  "kernelspec": {
   "display_name": "Python 3.9.6 64-bit ('env': venv)",
   "name": "python3"
  },
  "language_info": {
   "codemirror_mode": {
    "name": "ipython",
    "version": 3
   },
   "file_extension": ".py",
   "mimetype": "text/x-python",
   "name": "python",
   "nbconvert_exporter": "python",
   "pygments_lexer": "ipython3",
   "version": "3.9.6"
  },
  "orig_nbformat": 4
 },
 "nbformat": 4,
 "nbformat_minor": 2
}
