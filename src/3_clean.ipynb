{
 "cells": [
  {
   "cell_type": "markdown",
   "metadata": {},
   "source": [
    "# Clean extracted data\n",
    "Cleanup the data and add personal informations (who spoke, which party, etc.). This takes a while..."
   ]
  },
  {
   "cell_type": "code",
   "execution_count": 1,
   "metadata": {},
   "outputs": [],
   "source": [
    "import json\n",
    "import pandas as pd\n",
    "from pathlib import Path\n",
    "import re\n",
    "import utils"
   ]
  },
  {
   "cell_type": "code",
   "execution_count": 2,
   "metadata": {},
   "outputs": [],
   "source": [
    "# Get all files\n",
    "df = pd.read_csv(Path('../export/dokumente.csv'))\n",
    "\n",
    "# Only \"Protokoll\"\n",
    "df = df[df.dokument_kategorie == 'Protokoll']\n",
    "\n",
    "with open(Path('../export/mitglieder.json'), encoding='utf-8') as f:\n",
    "    raete = json.load(f)\n",
    "\n",
    "# Precalculate Name\n",
    "for r in raete:\n",
    "    r['_name'] = r['vorname'].lower() +' ' + r['name'].lower()\n",
    "\n",
    "# Some names are written wrong. Some changed their name (marriage). Add\n",
    "# Aliases to the dataframe\n",
    "\n",
    "for a in utils.aliases:\n",
    "    raete.append({\n",
    "        '_name': a[0].lower(),\n",
    "        'name': a[2],\n",
    "        'vorname': a[1]})"
   ]
  },
  {
   "cell_type": "code",
   "execution_count": 3,
   "metadata": {},
   "outputs": [
    {
     "name": "stdout",
     "output_type": "stream",
     "text": [
      "finito\n"
     ]
    }
   ],
   "source": [
    "# Remove this. Probably not needed anymore...\n",
    "remove = ['Ratsvizepräsidentin', 'Ratspräsidentin', 'Regierungsrätin',\n",
    "     'Ratspräsident', 'Regierungsrat', 'Ratsvizepräsident', 'Vizepräsidentin', 'Vizepräsident', \n",
    "    ', Niederhasli.', ', SVP, Zürich.', ', SVP, Dinhard.',\n",
    "    ', GLP, Dübendorf.', ', SVP, Volketswil.', ', GLP, Dübendorf.',\n",
    "    ', SVP, Uetikon am See.', 'Regierungspräsident']\n",
    "\n",
    "records = []\n",
    "notfound = []\n",
    "\n",
    "# Loop file\n",
    "for i, row in df.iterrows():\n",
    "\n",
    "    # Create Name and load\n",
    "    f = Path('../export/extracts/%s' % row['_filename']).with_suffix('.json')\n",
    "    data = json.load(open(f, encoding='utf-8'))\n",
    "\n",
    "    filename = Path(f).stem\n",
    "\n",
    "    for msg_record in data:\n",
    "\n",
    "        msg = msg_record['t']\n",
    "\n",
    "        # Replace double space\n",
    "        msg = msg.replace('  ', ' ')\n",
    "\n",
    "        if msg.strip() == '':\n",
    "            continue\n",
    "\n",
    "        # Remove Strings\n",
    "        for r in remove:\n",
    "            msg = msg.replace(r, '')\n",
    "\n",
    "        msg = msg.strip()\n",
    "\n",
    "        # Extract Name\n",
    "        r1 = re.findall(r\"[^(:]*\", msg)\n",
    "        if len(r1) > 0:\n",
    "            name = r1[0].strip()\n",
    "            r = list(filter(lambda x: x['_name'] == name.lower(), raete))\n",
    "\n",
    "            # If name not found, add it to a list for manual check\n",
    "            if len(r) == 0:\n",
    "                notfound.append({\n",
    "                    'name': name,\n",
    "                    'f': filename,\n",
    "                })\n",
    "                \n",
    "            else:\n",
    "                # Name found!\n",
    "\n",
    "                # Clean text\n",
    "                text = msg\n",
    "                text = text.replace('-\\n', '')\n",
    "                text = text.replace('\\n', ' ')\n",
    "                text = text.replace('  ', ' ')\n",
    "                text = text.strip()\n",
    "\n",
    "                text = re.findall(r\".*?:(.*)\", text)\n",
    "                if len(text) > 0:\n",
    "                    text = text[0].strip()\n",
    "\n",
    "                    records.append({\n",
    "                        'name': r[0]['name'],\n",
    "                        'vorname': r[0]['vorname'],\n",
    "                        'text': text,\n",
    "                        'page': msg_record['p'],\n",
    "                        'f': filename\n",
    "                    })\n",
    "        else:\n",
    "            # No Name found\n",
    "            print('!! No Name found in:\\n%s' % msg)\n",
    "\n",
    "print(\"finito\")"
   ]
  },
  {
   "cell_type": "markdown",
   "metadata": {},
   "source": [
    "### If you need to find missings, use this. When not, goto next block\n",
    "We copied all the missing text to a spread sheet and went through it by hand"
   ]
  },
  {
   "cell_type": "code",
   "execution_count": null,
   "metadata": {},
   "outputs": [],
   "source": [
    "len(notfound)"
   ]
  },
  {
   "cell_type": "code",
   "execution_count": null,
   "metadata": {},
   "outputs": [],
   "source": [
    "x = pd.DataFrame(notfound)\n",
    "x.to_clipboard()"
   ]
  },
  {
   "cell_type": "code",
   "execution_count": null,
   "metadata": {},
   "outputs": [],
   "source": [
    "# Clean notfounds\n",
    "x.head()\n",
    "x['keep'] = x['name'].apply(lambda x: ('.' in x) or (',' in x) or ('\\n' in x))\n",
    "x = x[x.keep == False]\n",
    "\n",
    "x['name'] = x['name'].str.strip()\n",
    "\n",
    "# At least one space\n",
    "x['space'] = x['name'].apply(lambda x: ' ' in x)\n",
    "x = x[x.space]\n",
    "\n",
    "x['len'] = x['name'].apply(len)\n",
    "x = x[x.len > 3]\n",
    "\n",
    "x.to_clipboard()\n",
    "x.head()"
   ]
  },
  {
   "cell_type": "code",
   "execution_count": null,
   "metadata": {},
   "outputs": [],
   "source": [
    "x = list(filter(lambda x: 'Scheffe' in x['name'], raete))\n",
    "for j in x:\n",
    "    print(\"['', '%s', '%s'],\" % (j['vorname'], j['name']))"
   ]
  },
  {
   "cell_type": "code",
   "execution_count": null,
   "metadata": {},
   "outputs": [],
   "source": [
    "x = list(filter(lambda x: 'Alfredx' in x['vorname'], raete))\n",
    "\n",
    "for j in x:\n",
    "    print(\"['', '%s', '%s'],\" % (j['vorname'], j['name']))"
   ]
  },
  {
   "cell_type": "markdown",
   "metadata": {},
   "source": [
    "## Join with personal information and save.\n",
    "This takes a while"
   ]
  },
  {
   "cell_type": "code",
   "execution_count": 4,
   "metadata": {},
   "outputs": [],
   "source": [
    "df_votum = pd.DataFrame(records)\n",
    "df_dokumente = pd.read_csv(Path('../export/dokumente.csv', encoding='utf-8'))\n",
    "df_dokumente['f'] = df_dokumente['_filename'].apply(lambda x: Path(x).stem)\n",
    "\n",
    "# Join Votum and Dokumente\n",
    "df_votum = df_votum.merge(df_dokumente[['f', 'sitzung_name', 'sitzung_date', 'sitzung_start', 'sitzung_gremium', 'dokument_titel']], on = 'f')\n",
    "\n",
    "# Merge names\n",
    "df_votum['_join'] = df_votum.apply(lambda row: \"%s_%s\" % (row['name'], row['vorname']), axis=1)\n",
    "\n",
    "# Typecast\n",
    "df_votum['sitzung_date'] = pd.to_datetime(df_votum['sitzung_date'])"
   ]
  },
  {
   "cell_type": "code",
   "execution_count": 5,
   "metadata": {},
   "outputs": [],
   "source": [
    "with open(Path('../export/mitglieder.json'), encoding='utf-8') as f:\n",
    "    mitglieder = json.load(f)\n",
    "\n",
    "# Typecast\n",
    "utils.kantonsrat_to_datetime(mitglieder)\n",
    "\n",
    "# No join, because could be multiple Partys per name (if they switched). Loop and find party\n",
    "not_found = []\n",
    "\n",
    "for i, row in df_votum.iterrows():\n",
    "    record = None\n",
    "\n",
    "    filterrecords = list(filter(lambda x: \"%s_%s\" % (x['name'], x['vorname']) == row['_join'], mitglieder))\n",
    "    if len(filterrecords) == 1:\n",
    "        record = filterrecords[0]\n",
    "    elif len(filterrecords) > 1:\n",
    "\n",
    "        # Multiple with same name. Find most accurate\n",
    "        for r in filterrecords:\n",
    "            records2 = list(filter(lambda x: (\n",
    "                (x['start'] <= row['sitzung_date']) and\n",
    "                (x['end'] >= row['sitzung_date'])\n",
    "            ), r['einsitz']))\n",
    "            if len(records2) > 0:\n",
    "                record = r\n",
    "                break\n",
    "\n",
    "    if record == None:\n",
    "        not_found.append(row)\n",
    "        continue\n",
    "\n",
    "    # Find party\n",
    "    party = None\n",
    "    for l in record['partei']:\n",
    "        if (l['start'] <= row['sitzung_date']) and ((l['end'] >= row['sitzung_date'])):\n",
    "            party = l['bezeichnung']\n",
    "            break\n",
    "\n",
    "    # Is Kantonsrat (not former member and now Regierungsrat)\n",
    "    ismember = False\n",
    "    for l in record['einsitz']:\n",
    "        if (l['start'] <= row['sitzung_date']) and ((l['end'] >= row['sitzung_date'])):\n",
    "            ismember = True\n",
    "            break      \n",
    "\n",
    "    # Find Funktion\n",
    "    function = None\n",
    "    for l in record['funktion']:\n",
    "        if (l['start'] <= row['sitzung_date']) and ((l['end'] >= row['sitzung_date'])):\n",
    "            function = l['bezeichnung']\n",
    "            break\n",
    "\n",
    "    df_votum.loc[i, 'partei'] = party\n",
    "    df_votum.loc[i, 'geschlecht'] = record['geschlecht']\n",
    "    df_votum.loc[i, 'jahrgang'] = record['jahrgang']\n",
    "    df_votum.loc[i, 'funktion'] = function\n",
    "    df_votum.loc[i, 'ismember'] = ismember\n",
    "\n",
    "if len(not_found) > 0:\n",
    "    print(\"Could not match everything. Have a look at not_found\")"
   ]
  },
  {
   "cell_type": "markdown",
   "metadata": {},
   "source": [
    "## Split Dataframe (for GitHub)"
   ]
  },
  {
   "cell_type": "code",
   "execution_count": 6,
   "metadata": {},
   "outputs": [],
   "source": [
    "# Store\n",
    "df_votum = df_votum.drop(columns=['_join'])\n",
    "df_votum.iloc[0:40000].to_csv(Path('../export/votum/votum_0.csv'), index=False)\n",
    "df_votum.iloc[40000:].to_csv(Path('../export/votum/votum_1.csv'), index=False)"
   ]
  },
  {
   "cell_type": "code",
   "execution_count": 7,
   "metadata": {},
   "outputs": [
    {
     "data": {
      "text/plain": [
       "[]"
      ]
     },
     "execution_count": 7,
     "metadata": {},
     "output_type": "execute_result"
    }
   ],
   "source": [
    "not_found"
   ]
  },
  {
   "cell_type": "code",
   "execution_count": null,
   "metadata": {},
   "outputs": [],
   "source": []
  }
 ],
 "metadata": {
  "interpreter": {
   "hash": "37f0ca31d41186abe10772da2ac64da7601e3a80a4b6b1bf647ed16bff654d0c"
  },
  "kernelspec": {
   "display_name": "Python 3.9.6 64-bit ('env': venv)",
   "name": "python3"
  },
  "language_info": {
   "codemirror_mode": {
    "name": "ipython",
    "version": 3
   },
   "file_extension": ".py",
   "mimetype": "text/x-python",
   "name": "python",
   "nbconvert_exporter": "python",
   "pygments_lexer": "ipython3",
   "version": "3.9.6"
  },
  "orig_nbformat": 4
 },
 "nbformat": 4,
 "nbformat_minor": 2
}
