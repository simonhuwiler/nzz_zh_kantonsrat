{
 "cells": [
  {
   "cell_type": "markdown",
   "metadata": {},
   "source": [
    "# Analyse Votums\n",
    "Do some data wrangling"
   ]
  },
  {
   "cell_type": "code",
   "execution_count": 1,
   "metadata": {},
   "outputs": [],
   "source": [
    "import pandas as pd\n",
    "import json\n",
    "from pathlib import Path\n",
    "import utils\n",
    "import datetime\n",
    "import matplotlib.pyplot as plt\n",
    "from matplotlib.dates import DateFormatter\n",
    "import matplotlib.dates as mdates"
   ]
  },
  {
   "cell_type": "markdown",
   "metadata": {},
   "source": [
    "## Load and Prepare data"
   ]
  },
  {
   "cell_type": "code",
   "execution_count": 2,
   "metadata": {},
   "outputs": [],
   "source": [
    "csv_path = Path('../export/csv_for_infographics')"
   ]
  },
  {
   "cell_type": "code",
   "execution_count": 3,
   "metadata": {},
   "outputs": [
    {
     "name": "stdout",
     "output_type": "stream",
     "text": [
      "Stand: 2022-03-28 00:00:00\n"
     ]
    }
   ],
   "source": [
    "df_votum_raw = pd.concat([\n",
    "    pd.read_csv(Path('../export/votum/votum_0.csv')),\n",
    "    pd.read_csv(Path('../export/votum/votum_1.csv'))\n",
    "])\n",
    "\n",
    "# Remove non members (mostly former members who are now in the Regierungsrat)\n",
    "df_votum_raw = df_votum_raw[df_votum_raw.ismember == True]\n",
    "\n",
    "# Typecast\n",
    "df_votum_raw['sitzung_date'] = pd.to_datetime(df_votum_raw['sitzung_date'])\n",
    "\n",
    "# Remove empty texts\n",
    "df_votum_raw = df_votum_raw[df_votum_raw.text.notna()]\n",
    "\n",
    "# Calculate Amtsjahr (Amtsjahr 2020 = 1.5.2020 - 30.4.2021)\n",
    "df_votum_raw['year'] = df_votum_raw['sitzung_date'].dt.year\n",
    "df_votum_raw['month'] = df_votum_raw['sitzung_date'].dt.month\n",
    "df_votum_raw['session'] = df_votum_raw.apply(lambda row: row['year'] if row['month'] > 5 else row['year'] - 1, axis=1)\n",
    "\n",
    "# Replace CVP with Die Mitte\n",
    "df_votum_raw.loc[df_votum_raw.partei.str.lower() == 'cvp', 'partei'] = \"Die Mitte\"\n",
    "\n",
    "with open(Path('../export/mitglieder.json'), encoding='utf-8') as f:\n",
    "    kantonsrat = json.load(f)\n",
    "\n",
    "# Typecast\n",
    "utils.kantonsrat_to_datetime(kantonsrat)\n",
    "\n",
    "print(\"Stand: %s\" % df_votum_raw['sitzung_date'].max())"
   ]
  },
  {
   "cell_type": "code",
   "execution_count": 45,
   "metadata": {},
   "outputs": [],
   "source": [
    "# Calculate, how many m and w where in Kantonsrat at that time. Reference day: 1. 7. 20XX\n",
    "dtx = []\n",
    "for year in range(df_votum_raw['sitzung_date'].min().year, df_votum_raw['sitzung_date'].max().year + 1):\n",
    "\n",
    "    dt = datetime.datetime(year, 7, 1)\n",
    "    df = utils.kantonsrat_as_dataframe(kantonsrat, dt)\n",
    "    df['year'] = year\n",
    "    dtx.append(df)\n",
    "\n",
    "df = pd.concat(dtx)\n",
    "\n",
    "# Remove Präsidents\n",
    "df = df[df.funktion.isna()]\n",
    "\n",
    "df_ratsmitglieder_per_year_party = pd.pivot_table(df, index=['party', 'year'], columns='geschlecht', values='name', aggfunc='count').reset_index()\n",
    "df_ratsmitglieder_per_year_party = df_ratsmitglieder_per_year_party.fillna(0)\n",
    "\n",
    "df_ratsmitglieder_per_year = df_ratsmitglieder_per_year_party.groupby('year').sum().reset_index()"
   ]
  },
  {
   "cell_type": "code",
   "execution_count": 67,
   "metadata": {},
   "outputs": [],
   "source": [
    "# This does the same as above, but calculates, how lang a Kantonsrat was in in office per year\n",
    "\n",
    "dtx = []\n",
    "for year in range(df_votum_raw['sitzung_date'].min().year, df_votum_raw['sitzung_date'].max().year + 1):\n",
    "    dt_start = datetime.datetime(year, 7, 1)\n",
    "    dt_end = datetime.datetime(year + 1, 7, 1)\n",
    "    df = utils.kantonsrat_as_dataframe_from_to(kantonsrat, dt_start, dt_end)\n",
    "\n",
    "    df['year'] = year\n",
    "    df['start'] = df['einsitzstart'].apply(lambda x: max(x, dt_start))\n",
    "    df['end'] = df['einsitzend'].apply(lambda x: min(x, dt_end))\n",
    "    df['days'] = df['end'] - df['start']\n",
    "    df['presentinyear'] = df['days'].apply(lambda x: round(1 / (dt_end - dt_start).days * x.days, 2))\n",
    "    dtx.append(df)\n",
    "\n",
    "df = pd.concat(dtx)\n",
    "\n",
    "# Remove Präsidents\n",
    "df = df[df.funktion.isna()]\n",
    "\n",
    "df_ratsmitglieder_per_year_party_present = pd.pivot_table(df, index=['party', 'year'], columns='geschlecht', values='presentinyear', aggfunc='sum').reset_index()\n",
    "df_ratsmitglieder_per_year_party_present = df_ratsmitglieder_per_year_party_present.fillna(0)\n"
   ]
  },
  {
   "cell_type": "markdown",
   "metadata": {},
   "source": [
    "## Overview m/w in Parties as of today"
   ]
  },
  {
   "cell_type": "code",
   "execution_count": 68,
   "metadata": {},
   "outputs": [
    {
     "data": {
      "text/plain": [
       "<AxesSubplot:xlabel='party'>"
      ]
     },
     "execution_count": 68,
     "metadata": {},
     "output_type": "execute_result"
    },
    {
     "data": {
      "image/png": "[encoded data removed]",
      "text/plain": [
       "<Figure size 432x288 with 1 Axes>"
      ]
     },
     "metadata": {
      "needs_background": "light"
     },
     "output_type": "display_data"
    }
   ],
   "source": [
    "df = utils.kantonsrat_as_dataframe(kantonsrat, datetime.datetime(2022, 1, 1))\n",
    "\n",
    "# Remove Presidents\n",
    "df = df[df.funktion.isna()]\n",
    "\n",
    "df = pd.pivot_table(df, index='party', columns='geschlecht', values='name', aggfunc='count')\n",
    "#df['w%'] = round(df['w'] / df.sum(axis=1) * 100, 1)\n",
    "#df['w%'].plot.bar()\n",
    "df.plot.bar()\n"
   ]
  },
  {
   "cell_type": "markdown",
   "metadata": {},
   "source": [
    "## How many times did m/w talk?"
   ]
  },
  {
   "cell_type": "code",
   "execution_count": 7,
   "metadata": {},
   "outputs": [],
   "source": [
    "df_votum = df_votum_raw.copy()\n",
    "\n",
    "# Remove all Statements from President, 1. & 2. Vizepresidents\n",
    "df_votum = df_votum[~df_votum.funktion.isin(['Präsidium', '2. Vizepräsidium', '1. Vizepräsidium'])]\n",
    "\n",
    "df_votum_pivot = pd.pivot_table(df_votum, index='session', columns='geschlecht', values='name', aggfunc='count').reset_index()"
   ]
  },
  {
   "cell_type": "code",
   "execution_count": 8,
   "metadata": {},
   "outputs": [
    {
     "data": {
      "image/png": "[encoded data removed]",
      "text/plain": [
       "<Figure size 576x360 with 1 Axes>"
      ]
     },
     "metadata": {
      "needs_background": "light"
     },
     "output_type": "display_data"
    }
   ],
   "source": [
    "# Do it absolut, plain, in your face way without thinking, but writing a very long comment. Actually this is just a test if someone reads my scripts. If so, write a hello at simon.huwiler@nzz.ch\n",
    "df_votum_pivot[['m', 'w', 'session']].set_index('session').plot.bar(figsize=(8, 5), title='Anzahl Voten von Frauen und Männern absolut')\n",
    "\n",
    "# Store as CSV\n",
    "df_votum_pivot[['m', 'w', 'session']].set_index('session').to_csv(csv_path / 'voten_m_w_absolut.csv')"
   ]
  },
  {
   "cell_type": "markdown",
   "metadata": {},
   "source": [
    "[csv Voten m/w absolut herunterladen](../export/csv_for_infographics/voten_m_w_absolut.csv)"
   ]
  },
  {
   "cell_type": "code",
   "execution_count": 9,
   "metadata": {},
   "outputs": [
    {
     "data": {
      "image/png": "[encoded data removed]",
      "text/plain": [
       "<Figure size 576x360 with 1 Axes>"
      ]
     },
     "metadata": {
      "needs_background": "light"
     },
     "output_type": "display_data"
    }
   ],
   "source": [
    "# Concat\n",
    "df_res = df_votum_pivot.merge(df_ratsmitglieder_per_year, left_on = 'session', right_on = 'year', suffixes=('_v', '_r'))\n",
    "\n",
    "# Votes per w/m\n",
    "df_res['votes_per_m'] = round(df_res['m_v'] / df_res['m_r'], 1)\n",
    "df_res['votes_per_w'] = round(df_res['w_v'] / df_res['w_r'], 1)\n",
    "\n",
    "df_res.set_index('session', inplace=True)\n",
    "\n",
    "df_res.drop(columns=['year'], inplace=True)\n",
    "\n",
    "df_res[['votes_per_m', 'votes_per_w']].plot.bar(figsize=(8, 5), title='Anzahl Voten pro männliches oder weibliches Mitglied')\n",
    "\n",
    "# Store as CSV\n",
    "df_res[['votes_per_m', 'votes_per_w']].to_csv(csv_path / 'voten_m_w_relative.csv')\n"
   ]
  },
  {
   "cell_type": "code",
   "execution_count": 9,
   "metadata": {},
   "outputs": [
    {
     "data": {
      "text/html": [
       "<div>\n",
       "<style scoped>\n",
       "    .dataframe tbody tr th:only-of-type {\n",
       "        vertical-align: middle;\n",
       "    }\n",
       "\n",
       "    .dataframe tbody tr th {\n",
       "        vertical-align: top;\n",
       "    }\n",
       "\n",
       "    .dataframe thead th {\n",
       "        text-align: right;\n",
       "    }\n",
       "</style>\n",
       "<table border=\"1\" class=\"dataframe\">\n",
       "  <thead>\n",
       "    <tr style=\"text-align: right;\">\n",
       "      <th>geschlecht</th>\n",
       "      <th>votes_per_m</th>\n",
       "      <th>votes_per_w</th>\n",
       "    </tr>\n",
       "    <tr>\n",
       "      <th>session</th>\n",
       "      <th></th>\n",
       "      <th></th>\n",
       "    </tr>\n",
       "  </thead>\n",
       "  <tbody>\n",
       "    <tr>\n",
       "      <th>2001</th>\n",
       "      <td>12.5</td>\n",
       "      <td>11.7</td>\n",
       "    </tr>\n",
       "    <tr>\n",
       "      <th>2002</th>\n",
       "      <td>16.2</td>\n",
       "      <td>15.0</td>\n",
       "    </tr>\n",
       "    <tr>\n",
       "      <th>2003</th>\n",
       "      <td>15.4</td>\n",
       "      <td>15.0</td>\n",
       "    </tr>\n",
       "    <tr>\n",
       "      <th>2004</th>\n",
       "      <td>12.7</td>\n",
       "      <td>13.0</td>\n",
       "    </tr>\n",
       "    <tr>\n",
       "      <th>2005</th>\n",
       "      <td>12.9</td>\n",
       "      <td>11.1</td>\n",
       "    </tr>\n",
       "    <tr>\n",
       "      <th>2006</th>\n",
       "      <td>16.5</td>\n",
       "      <td>14.7</td>\n",
       "    </tr>\n",
       "    <tr>\n",
       "      <th>2007</th>\n",
       "      <td>16.9</td>\n",
       "      <td>14.2</td>\n",
       "    </tr>\n",
       "    <tr>\n",
       "      <th>2008</th>\n",
       "      <td>16.8</td>\n",
       "      <td>15.0</td>\n",
       "    </tr>\n",
       "    <tr>\n",
       "      <th>2009</th>\n",
       "      <td>16.2</td>\n",
       "      <td>13.6</td>\n",
       "    </tr>\n",
       "    <tr>\n",
       "      <th>2010</th>\n",
       "      <td>14.5</td>\n",
       "      <td>12.9</td>\n",
       "    </tr>\n",
       "    <tr>\n",
       "      <th>2011</th>\n",
       "      <td>17.4</td>\n",
       "      <td>12.3</td>\n",
       "    </tr>\n",
       "    <tr>\n",
       "      <th>2012</th>\n",
       "      <td>17.3</td>\n",
       "      <td>12.8</td>\n",
       "    </tr>\n",
       "    <tr>\n",
       "      <th>2013</th>\n",
       "      <td>23.2</td>\n",
       "      <td>17.9</td>\n",
       "    </tr>\n",
       "    <tr>\n",
       "      <th>2014</th>\n",
       "      <td>18.5</td>\n",
       "      <td>13.2</td>\n",
       "    </tr>\n",
       "    <tr>\n",
       "      <th>2015</th>\n",
       "      <td>18.6</td>\n",
       "      <td>13.8</td>\n",
       "    </tr>\n",
       "    <tr>\n",
       "      <th>2016</th>\n",
       "      <td>17.5</td>\n",
       "      <td>14.8</td>\n",
       "    </tr>\n",
       "    <tr>\n",
       "      <th>2017</th>\n",
       "      <td>17.7</td>\n",
       "      <td>14.8</td>\n",
       "    </tr>\n",
       "    <tr>\n",
       "      <th>2018</th>\n",
       "      <td>20.6</td>\n",
       "      <td>15.2</td>\n",
       "    </tr>\n",
       "    <tr>\n",
       "      <th>2019</th>\n",
       "      <td>18.0</td>\n",
       "      <td>12.9</td>\n",
       "    </tr>\n",
       "    <tr>\n",
       "      <th>2020</th>\n",
       "      <td>20.6</td>\n",
       "      <td>15.9</td>\n",
       "    </tr>\n",
       "    <tr>\n",
       "      <th>2021</th>\n",
       "      <td>15.7</td>\n",
       "      <td>12.7</td>\n",
       "    </tr>\n",
       "  </tbody>\n",
       "</table>\n",
       "</div>"
      ],
      "text/plain": [
       "geschlecht  votes_per_m  votes_per_w\n",
       "session                             \n",
       "2001               12.5         11.7\n",
       "2002               16.2         15.0\n",
       "2003               15.4         15.0\n",
       "2004               12.7         13.0\n",
       "2005               12.9         11.1\n",
       "2006               16.5         14.7\n",
       "2007               16.9         14.2\n",
       "2008               16.8         15.0\n",
       "2009               16.2         13.6\n",
       "2010               14.5         12.9\n",
       "2011               17.4         12.3\n",
       "2012               17.3         12.8\n",
       "2013               23.2         17.9\n",
       "2014               18.5         13.2\n",
       "2015               18.6         13.8\n",
       "2016               17.5         14.8\n",
       "2017               17.7         14.8\n",
       "2018               20.6         15.2\n",
       "2019               18.0         12.9\n",
       "2020               20.6         15.9\n",
       "2021               15.7         12.7"
      ]
     },
     "execution_count": 9,
     "metadata": {},
     "output_type": "execute_result"
    }
   ],
   "source": [
    "df_res['abweichung'] = df_res['votes_per_m'] - df_res['votes_per_w']\n",
    "df_res[['votes_per_m', 'votes_per_w']]"
   ]
  },
  {
   "cell_type": "code",
   "execution_count": 10,
   "metadata": {},
   "outputs": [
    {
     "data": {
      "text/plain": [
       "<AxesSubplot:xlabel='session'>"
      ]
     },
     "execution_count": 10,
     "metadata": {},
     "output_type": "execute_result"
    },
    {
     "data": {
      "image/png": "[encoded data removed]",
      "text/plain": [
       "<Figure size 432x288 with 1 Axes>"
      ]
     },
     "metadata": {
      "needs_background": "light"
     },
     "output_type": "display_data"
    }
   ],
   "source": [
    "df_res['abweichung'].plot()"
   ]
  },
  {
   "cell_type": "markdown",
   "metadata": {},
   "source": [
    "[csv Voten m/w relativ herunterladen](../export/csv_for_infographics/voten_m_w_relative.csv)"
   ]
  },
  {
   "cell_type": "markdown",
   "metadata": {},
   "source": [
    "## m/w per Party"
   ]
  },
  {
   "cell_type": "code",
   "execution_count": 81,
   "metadata": {},
   "outputs": [],
   "source": [
    "# Remove Presidents\n",
    "df = df_votum_raw[df_votum_raw.funktion.isna()].copy()\n",
    "\n",
    "df = pd.pivot_table(df, index=['partei', 'session'], columns='geschlecht', values='name', aggfunc='count').reset_index()\n",
    "df.rename(columns={'w': 'votum_w', 'm': 'votum_m'}, inplace=True)\n",
    "\n",
    "# Add Mitglieder Count\n",
    "#df = df.merge(df_ratsmitglieder_per_year_party, how='left', left_on=['session', 'partei'], right_on=['year', 'party'])\n",
    "df = df.merge(df_ratsmitglieder_per_year_party_present, how='left', left_on=['session', 'partei'], right_on=['year', 'party'])\n",
    "\n",
    "df.rename(columns={'w': 'count_w', 'm': 'count_m'}, inplace=True)\n",
    "\n",
    "# Sum\n",
    "df['votum_sum'] = df['votum_m'] + df['votum_w']\n",
    "df['count_sum'] = df['count_m'] + df['count_w']\n",
    "\n",
    "df = df.fillna(0)\n",
    "\n",
    "# Drop count_sum 0: It is possible, that there are male or female votes but no male or female councilor in the dataset. How? How many councilor they where in the council\n",
    "# is determend at reference day. Its possible that was a shift in seats. Look at Andrea Widmer Graf. Her second period was from 11.2006 - 20.05.2007, she will not be counted as \n",
    "# a female member in year 2006 nor 2007\n",
    "df = df[df.count_sum > 0]\n",
    "\n",
    "# %\n",
    "df['m_capita'] = df['votum_m'] / df['count_m']\n",
    "df['w_capita'] = df['votum_w'] / df['count_w']\n",
    "df['diff%'] = df['m_capita'] / df['w_capita'] - 1\n",
    "df['diff'] = df['m_capita'] - df['w_capita']\n",
    "df = df.fillna(0)"
   ]
  },
  {
   "cell_type": "code",
   "execution_count": 82,
   "metadata": {},
   "outputs": [
    {
     "data": {
      "text/plain": [
       "Text(0.5, 1.02, 'Wortmeldungen, relative Unterschiede Frauen zu Männer pro Kopf und Partei')"
      ]
     },
     "execution_count": 82,
     "metadata": {},
     "output_type": "execute_result"
    },
    {
     "data": {
      "image/png": "[encoded data removed]",
      "text/plain": [
       "<Figure size 864x576 with 6 Axes>"
      ]
     },
     "metadata": {
      "needs_background": "light"
     },
     "output_type": "display_data"
    }
   ],
   "source": [
    "# Abweichung alle\n",
    "df2 = pd.pivot_table(df, index='session', columns='party', values='diff%')\n",
    "df2['baseline'] = 0\n",
    "\n",
    "df_list = []\n",
    "for partei in ['SVP', 'SP', 'FDP', 'Die Mitte', 'Grüne', 'GLP']:\n",
    "    df_list.append({'title': partei, 'df': df2[['baseline', partei]]})\n",
    "\n",
    "nrow=3\n",
    "ncol=2\n",
    "fig, axes = plt.subplots(nrow, ncol, figsize=(12,8))\n",
    "\n",
    "# plot counter\n",
    "count=0\n",
    "for r in range(nrow):\n",
    "    for c in range(ncol):\n",
    "        df_list[count]['df'].plot(ax=axes[r,c], title=df_list[count]['title'], legend=False, xticks=[], xlabel='', yticks=[-1, 0, 0, 1, 2])\n",
    "        #df_list[count]['df'].plot(ax=axes[r,c], title=df_list[count]['title'], legend=False, xticks=[], xlabel='', yticks=[-20, -10, 0, 10, 20])\n",
    "        count+=1\n",
    "\n",
    "\n",
    "# general title\n",
    "plt.suptitle(\"Wortmeldungen, relative Unterschiede Frauen zu Männer pro Kopf und Partei\", fontsize=13, fontweight=0, color='black', style='italic', y=1.02)"
   ]
  },
  {
   "cell_type": "code",
   "execution_count": 83,
   "metadata": {},
   "outputs": [],
   "source": [
    "df2[['SVP', 'SP', 'FDP', 'Die Mitte', 'Grüne', 'GLP']].to_csv(Path('../export/csv_for_infographics/wortmeldungen_pro_partei.csv'))"
   ]
  },
  {
   "cell_type": "markdown",
   "metadata": {},
   "source": [
    "## Seit 2019"
   ]
  },
  {
   "cell_type": "code",
   "execution_count": 85,
   "metadata": {},
   "outputs": [
    {
     "data": {
      "text/plain": [
       "<AxesSubplot:title={'center':'Voten per Geschlecht und Kopf seit 2019'}, xlabel='partei'>"
      ]
     },
     "execution_count": 85,
     "metadata": {},
     "output_type": "execute_result"
    },
    {
     "data": {
      "image/png": "[encoded data removed]",
      "text/plain": [
       "<Figure size 576x360 with 1 Axes>"
      ]
     },
     "metadata": {
      "needs_background": "light"
     },
     "output_type": "display_data"
    }
   ],
   "source": [
    "# Nur aktueller Kantonsrat (>=2019). Stichtag Zusammensetzung: 2021.07.01.\n",
    "df2 = df[df.session >= 2019].groupby('partei').agg({'votum_m': 'sum', 'votum_w': 'sum'})\n",
    "\n",
    "# Get Kantonsrat\n",
    "df_kantonsrat = utils.kantonsrat_as_dataframe(kantonsrat, datetime.datetime(2021, 7, 1))\n",
    "df_kantonsrat = pd.pivot_table(df_kantonsrat, index='party', columns='geschlecht', values='name', aggfunc='count')\n",
    "df_kantonsrat = df_kantonsrat.fillna(0)\n",
    "\n",
    "# Merge\n",
    "df2 = df2.reset_index().merge(df_kantonsrat.reset_index(), how='left', left_on = 'partei', right_on='party')\n",
    "\n",
    "# Calc per Capita\n",
    "df2['per_capita_m'] = round(df2['votum_m'] / df2['m'], 1)\n",
    "df2['per_capita_w'] = round(df2['votum_w'] / df2['w'], 1)\n",
    "df2['abweichung'] = df2['per_capita_m'] / df2['per_capita_w']\n",
    "\n",
    "df2 = df2[df2.w > 0]\n",
    "\n",
    "df2 = df2.set_index('partei')\n",
    "\n",
    "df2 = df2.sort_values('abweichung')\n",
    "\n",
    "df2[['per_capita_m', 'per_capita_w']].plot.bar(figsize=(8, 5), title='Voten per Geschlecht und Kopf seit 2019')"
   ]
  },
  {
   "cell_type": "code",
   "execution_count": 15,
   "metadata": {},
   "outputs": [],
   "source": [
    "df2.to_csv(csv_path / 'votes_per_partei_und_geschlecht.csv')"
   ]
  },
  {
   "cell_type": "code",
   "execution_count": 16,
   "metadata": {},
   "outputs": [
    {
     "data": {
      "text/html": [
       "<div>\n",
       "<style scoped>\n",
       "    .dataframe tbody tr th:only-of-type {\n",
       "        vertical-align: middle;\n",
       "    }\n",
       "\n",
       "    .dataframe tbody tr th {\n",
       "        vertical-align: top;\n",
       "    }\n",
       "\n",
       "    .dataframe thead th {\n",
       "        text-align: right;\n",
       "    }\n",
       "</style>\n",
       "<table border=\"1\" class=\"dataframe\">\n",
       "  <thead>\n",
       "    <tr style=\"text-align: right;\">\n",
       "      <th>geschlecht</th>\n",
       "      <th>votum_m</th>\n",
       "      <th>votum_w</th>\n",
       "      <th>party</th>\n",
       "      <th>m</th>\n",
       "      <th>w</th>\n",
       "      <th>per_capita_m</th>\n",
       "      <th>per_capita_w</th>\n",
       "      <th>abweichung</th>\n",
       "    </tr>\n",
       "    <tr>\n",
       "      <th>partei</th>\n",
       "      <th></th>\n",
       "      <th></th>\n",
       "      <th></th>\n",
       "      <th></th>\n",
       "      <th></th>\n",
       "      <th></th>\n",
       "      <th></th>\n",
       "      <th></th>\n",
       "    </tr>\n",
       "  </thead>\n",
       "  <tbody>\n",
       "    <tr>\n",
       "      <th>Grüne</th>\n",
       "      <td>540.0</td>\n",
       "      <td>555.0</td>\n",
       "      <td>Grüne</td>\n",
       "      <td>11.0</td>\n",
       "      <td>10.0</td>\n",
       "      <td>49.1</td>\n",
       "      <td>55.5</td>\n",
       "      <td>0.884685</td>\n",
       "    </tr>\n",
       "    <tr>\n",
       "      <th>FDP</th>\n",
       "      <td>749.0</td>\n",
       "      <td>500.0</td>\n",
       "      <td>FDP</td>\n",
       "      <td>17.0</td>\n",
       "      <td>12.0</td>\n",
       "      <td>44.1</td>\n",
       "      <td>41.7</td>\n",
       "      <td>1.057554</td>\n",
       "    </tr>\n",
       "    <tr>\n",
       "      <th>Die Mitte</th>\n",
       "      <td>383.0</td>\n",
       "      <td>164.0</td>\n",
       "      <td>Die Mitte</td>\n",
       "      <td>6.0</td>\n",
       "      <td>3.0</td>\n",
       "      <td>63.8</td>\n",
       "      <td>54.7</td>\n",
       "      <td>1.166362</td>\n",
       "    </tr>\n",
       "    <tr>\n",
       "      <th>GLP</th>\n",
       "      <td>466.0</td>\n",
       "      <td>541.0</td>\n",
       "      <td>GLP</td>\n",
       "      <td>10.0</td>\n",
       "      <td>14.0</td>\n",
       "      <td>46.6</td>\n",
       "      <td>38.6</td>\n",
       "      <td>1.207254</td>\n",
       "    </tr>\n",
       "    <tr>\n",
       "      <th>EVP</th>\n",
       "      <td>452.0</td>\n",
       "      <td>46.0</td>\n",
       "      <td>EVP</td>\n",
       "      <td>7.0</td>\n",
       "      <td>1.0</td>\n",
       "      <td>64.6</td>\n",
       "      <td>46.0</td>\n",
       "      <td>1.404348</td>\n",
       "    </tr>\n",
       "    <tr>\n",
       "      <th>AL</th>\n",
       "      <td>422.0</td>\n",
       "      <td>295.0</td>\n",
       "      <td>AL</td>\n",
       "      <td>3.0</td>\n",
       "      <td>3.0</td>\n",
       "      <td>140.7</td>\n",
       "      <td>98.3</td>\n",
       "      <td>1.431333</td>\n",
       "    </tr>\n",
       "    <tr>\n",
       "      <th>SP</th>\n",
       "      <td>672.0</td>\n",
       "      <td>611.0</td>\n",
       "      <td>SP</td>\n",
       "      <td>14.0</td>\n",
       "      <td>20.0</td>\n",
       "      <td>48.0</td>\n",
       "      <td>30.6</td>\n",
       "      <td>1.568627</td>\n",
       "    </tr>\n",
       "    <tr>\n",
       "      <th>SVP</th>\n",
       "      <td>1797.0</td>\n",
       "      <td>258.0</td>\n",
       "      <td>SVP</td>\n",
       "      <td>34.0</td>\n",
       "      <td>11.0</td>\n",
       "      <td>52.9</td>\n",
       "      <td>23.5</td>\n",
       "      <td>2.251064</td>\n",
       "    </tr>\n",
       "  </tbody>\n",
       "</table>\n",
       "</div>"
      ],
      "text/plain": [
       "geschlecht  votum_m  votum_w      party     m     w  per_capita_m  \\\n",
       "partei                                                              \n",
       "Grüne         540.0    555.0      Grüne  11.0  10.0          49.1   \n",
       "FDP           749.0    500.0        FDP  17.0  12.0          44.1   \n",
       "Die Mitte     383.0    164.0  Die Mitte   6.0   3.0          63.8   \n",
       "GLP           466.0    541.0        GLP  10.0  14.0          46.6   \n",
       "EVP           452.0     46.0        EVP   7.0   1.0          64.6   \n",
       "AL            422.0    295.0         AL   3.0   3.0         140.7   \n",
       "SP            672.0    611.0         SP  14.0  20.0          48.0   \n",
       "SVP          1797.0    258.0        SVP  34.0  11.0          52.9   \n",
       "\n",
       "geschlecht  per_capita_w  abweichung  \n",
       "partei                                \n",
       "Grüne               55.5    0.884685  \n",
       "FDP                 41.7    1.057554  \n",
       "Die Mitte           54.7    1.166362  \n",
       "GLP                 38.6    1.207254  \n",
       "EVP                 46.0    1.404348  \n",
       "AL                  98.3    1.431333  \n",
       "SP                  30.6    1.568627  \n",
       "SVP                 23.5    2.251064  "
      ]
     },
     "execution_count": 16,
     "metadata": {},
     "output_type": "execute_result"
    }
   ],
   "source": [
    "df2"
   ]
  },
  {
   "cell_type": "markdown",
   "metadata": {},
   "source": [
    "## Unterschiedliche Textlänge?\n",
    "Erkenntnis: Frauen und Männer reden gleich lange. Wohl wegen begrenzter Redezeit?"
   ]
  },
  {
   "cell_type": "code",
   "execution_count": null,
   "metadata": {},
   "outputs": [],
   "source": [
    "df_votum = df_votum_raw.copy()\n",
    "\n",
    "# Remove all Statements from President, 1. & 2. Vizepresidents\n",
    "df_votum = df_votum[~df_votum.funktion.isin(['Präsidium', '2. Vizepräsidium', '1. Vizepräsidium'])]\n",
    "\n",
    "df_votum = df_votum.reset_index(drop=True)\n",
    "\n",
    "# Count words\n",
    "#df_votum['wordcount'] = df_votum['text'].apply(lambda x: len(x.split()))\n",
    "df_votum['wordcount'] = df_votum['text'].apply(lambda x: len(x))\n",
    "\n",
    "df_votum = df_votum.groupby('geschlecht').agg({\n",
    "    'wordcount': 'sum',\n",
    "    'name': 'count'\n",
    "})\n",
    "\n",
    "df_votum['l'] = round(df_votum['wordcount'] / df_votum['name'])\n",
    "\n",
    "df_votum"
   ]
  },
  {
   "cell_type": "markdown",
   "metadata": {},
   "source": [
    "## The Speakers..."
   ]
  },
  {
   "cell_type": "code",
   "execution_count": null,
   "metadata": {},
   "outputs": [],
   "source": [
    "df_votum = df_votum_raw.copy()\n",
    "\n",
    "df_votum = df_votum[df_votum.session == 2021]\n",
    "\n",
    "# Remove all Statements from President, 1. & 2. Vizepresidents\n",
    "df_votum = df_votum[~df_votum.funktion.isin(['Präsidium', '2. Vizepräsidium', '1. Vizepräsidium'])]\n",
    "\n",
    "df_votum = df_votum.groupby(['name', 'vorname', 'geschlecht']).agg({'text': 'count'}).reset_index().sort_values('text', ascending=False)\n",
    "\n",
    "df_votum = pd.concat([df_votum.head(10), df_votum.tail(10)])\n",
    "\n",
    "c = list(df_votum['geschlecht'].apply(lambda x: 'red' if x == 'm' else 'green'))\n",
    "df_votum.plot(kind='barh', x='name', y='text', color=c, figsize=(5, 8), title='Am meisten und wenigsten Voten 2021')\n",
    "\n",
    "#df_votum.head()"
   ]
  },
  {
   "cell_type": "code",
   "execution_count": null,
   "metadata": {},
   "outputs": [],
   "source": [
    "df_votum.to_csv(csv_path / 'top_flop_speakers_2021.csv', index=False)\n",
    "df_votum"
   ]
  },
  {
   "cell_type": "markdown",
   "metadata": {},
   "source": [
    "[csv top/flop speakers herunterladen](../export/csv_for_infographics/top_flop_speakers_2021.csv)"
   ]
  },
  {
   "cell_type": "markdown",
   "metadata": {},
   "source": [
    "## Frauen im Durchschnitt"
   ]
  },
  {
   "cell_type": "code",
   "execution_count": null,
   "metadata": {},
   "outputs": [],
   "source": [
    "df_votum = df_votum_raw.copy()\n",
    "\n",
    "df_votum = df_votum[df_votum.session >= 2018]\n",
    "\n",
    "# Remove all Statements from President, 1. & 2. Vizepresidents\n",
    "df_votum = df_votum[~df_votum.funktion.isin(['Präsidium', '2. Vizepräsidium', '1. Vizepräsidium'])]\n",
    "\n",
    "# Nur Frauen\n",
    "df_votum = df_votum[df_votum.geschlecht == 'w']\n",
    "\n",
    "df_votum = df_votum.groupby(['name', 'vorname', 'geschlecht']).agg({'text': 'count'}).reset_index().sort_values('text', ascending=False)\n",
    "\n",
    "df_votum['_name'] = df_votum.apply(lambda row: \"%s %s\" % (row['vorname'], row['name']), axis=1)\n",
    "\n",
    "df_votum = df_votum[['_name', 'text']]\n",
    "\n",
    "df_votum.rename(columns={'text': 'Anzahl Voten'}, inplace=True)\n",
    "\n",
    "df_votum = df_votum.set_index('_name')\n",
    "\n",
    "median = df_votum['Anzahl Voten'].median()\n",
    "\n",
    "df_votum[df_votum['Anzahl Voten'].between(median - 2, median + 2)]"
   ]
  },
  {
   "cell_type": "code",
   "execution_count": null,
   "metadata": {},
   "outputs": [],
   "source": [
    "df_votum.plot.bar(figsize=(15, 8), title='Anzahl Voten')"
   ]
  },
  {
   "cell_type": "code",
   "execution_count": null,
   "metadata": {},
   "outputs": [],
   "source": [
    "print(\"Mean: %s\" % df_votum['Anzahl Voten'].mean())\n",
    "print(\"Median: %s\" % df_votum['Anzahl Voten'].median())"
   ]
  },
  {
   "cell_type": "markdown",
   "metadata": {},
   "source": [
    "## Talking Parties..."
   ]
  },
  {
   "cell_type": "code",
   "execution_count": null,
   "metadata": {},
   "outputs": [],
   "source": [
    "# Absolut\n",
    "df_votum = df_votum_raw.copy()\n",
    "\n",
    "# Remove all Statements from President, 1. & 2. Vizepresidents\n",
    "df_votum = df_votum[~df_votum.funktion.isin(['Präsidium', '2. Vizepräsidium', '1. Vizepräsidium'])]\n",
    "\n",
    "df_votum = df_votum.groupby('partei').agg({'name': 'count'}).sort_values('name')\n",
    "df_votum.plot.bar(title='Welche Partei spricht wie oft (absolut)?')"
   ]
  },
  {
   "cell_type": "code",
   "execution_count": null,
   "metadata": {},
   "outputs": [],
   "source": [
    "# Relative per strength\n",
    "df_votum = df_votum_raw.copy()\n",
    "\n",
    "# Remove all Statements from President, 1. & 2. Vizepresidents\n",
    "df_votum = df_votum[~df_votum.funktion.isin(['Präsidium', '2. Vizepräsidium', '1. Vizepräsidium'])]\n",
    "\n",
    "dtx = []\n",
    "for year in range(df_votum['sitzung_date'].min().year, df_votum['sitzung_date'].max().year + 1):\n",
    "\n",
    "    dt = datetime.datetime(year, 7, 1)\n",
    "    df = utils.kantonsrat_as_dataframe(kantonsrat, dt)\n",
    "    df['year'] = year\n",
    "    dtx.append(df)\n",
    "\n",
    "df = pd.concat(dtx)\n",
    "\n",
    "# Remove Präsidents\n",
    "df = df[df.funktion.isna()]\n",
    "\n",
    "df = pd.pivot_table(df, columns='party', values='name', aggfunc='count').reset_index(drop=True)\n",
    "df.loc[0, 'name'] = 'members'\n",
    "\n",
    "df_votum = df_votum.groupby('partei').agg({'name': 'count'}).T.reset_index(drop=True)\n",
    "df_votum.loc[0, 'name'] = 'votes'\n",
    "\n",
    "# Combine both datasets, set index and transform\n",
    "df = pd.concat([df, df_votum])\n",
    "df = df.set_index('name').T\n",
    "df = df.fillna(0)\n",
    "\n",
    "# Calculate Vote per Member\n",
    "df['per_member'] = round(df['votes'] / df['members'], 1)\n",
    "\n",
    "df.sort_values('per_member', ascending=False)['per_member'].plot.bar(title='Welche Partei wie oft spricht, nach Parteistärke')"
   ]
  },
  {
   "cell_type": "code",
   "execution_count": null,
   "metadata": {},
   "outputs": [],
   "source": [
    "df.sort_values('per_member', ascending=False)"
   ]
  },
  {
   "cell_type": "markdown",
   "metadata": {},
   "source": [
    "## Wie findet eine Debatte statt?"
   ]
  },
  {
   "cell_type": "code",
   "execution_count": null,
   "metadata": {},
   "outputs": [],
   "source": [
    "# fix Date: If \"Vormittag\" or \"Nachmittag\", add Time\n",
    "df_votum = df_votum_raw.copy()\n",
    "\n",
    "def add_date(row):\n",
    "    if 'Vormittag' in row['dokument_titel']:\n",
    "        return row['sitzung_date'].replace(hour=8)\n",
    "\n",
    "    if 'Nachmittag' in row['dokument_titel']:\n",
    "        return row['sitzung_date'].replace(hour=14)\n",
    "\n",
    "    if 'Abend' in row['dokument_titel']:\n",
    "        return row['sitzung_date'].replace(hour=19)\n",
    "\n",
    "    if 'Nacht' in row['dokument_titel']:\n",
    "        return row['sitzung_date'].replace(hour=23)\n",
    "\n",
    "    return row['sitzung_date']\n",
    "\n",
    "df_votum['sitzung_date2'] = df_votum.apply(add_date, axis=1)"
   ]
  },
  {
   "cell_type": "code",
   "execution_count": null,
   "metadata": {},
   "outputs": [],
   "source": [
    "records = []\n",
    "for date in df_votum['sitzung_date2'].unique():\n",
    "    df = df_votum[df_votum.sitzung_date2 == date].reset_index(drop=True)\n",
    "    for i, row in df.iterrows():\n",
    "        t = 'the king' if row['funktion'] in ['Präsidium', '2. Vizepräsidium', '1. Vizepräsidium'] else row['geschlecht']\n",
    "        records.append({\n",
    "            'sitzung_date': date,\n",
    "            'i': i,\n",
    "            'type': t,\n",
    "            'name': \"%s %s\" % (row['vorname'], row['name'])\n",
    "        })"
   ]
  },
  {
   "cell_type": "code",
   "execution_count": null,
   "metadata": {},
   "outputs": [],
   "source": [
    "# Test: Replace Date with index\n",
    "df_sitzung = pd.DataFrame(records)\n",
    "\n",
    "for i, d in enumerate(df_sitzung.sitzung_date.unique()):\n",
    "    df_sitzung.loc[df_sitzung.sitzung_date == d, 'group'] = i"
   ]
  },
  {
   "cell_type": "code",
   "execution_count": null,
   "metadata": {},
   "outputs": [],
   "source": [
    "# Filter, if needed\n",
    "df_sitzung = df_sitzung[df_sitzung.sitzung_date >= '2016-05-01']"
   ]
  },
  {
   "cell_type": "code",
   "execution_count": null,
   "metadata": {},
   "outputs": [],
   "source": [
    "#df_sitzung = pd.DataFrame(records)\n",
    "\n",
    "size_x = 15\n",
    "fig, ax = plt.subplots(figsize=(size_x, size_x * 1.41 * 2))\n",
    "ax.margins(0.05)\n",
    "for t in df_sitzung.type.unique():\n",
    "    df = df_sitzung[df_sitzung.type == t]\n",
    "    #c = '#d64b47' if t == 'the king' else '#24b39c' if t == 'm' else '#6c43c0'\n",
    "    c = '#c2babd' if t == 'the king' else '#24B39C' if t == 'm' else '#6C43C0'\n",
    "    #ax.plot(df['i'], df['group'], marker='o', linestyle='', ms=3.3, label=t, color=c)\n",
    "    ax.plot(df['i'], df['sitzung_date'], marker='o', linestyle='', ms=3.3, label=t, color=c)\n",
    "\n",
    "ax.legend(numpoints=1, loc='upper right')\n",
    "\n",
    "ax.yaxis.set_major_locator(mdates.WeekdayLocator(interval=20))\n",
    "ax.yaxis.set_major_formatter(DateFormatter(\"%Y-%m\"))\n",
    "\n",
    "plt.title(\"Wer wann im Kantonsrat spricht\", fontsize=25)\n",
    "ax.spines['top'].set_visible(False)\n",
    "ax.spines['right'].set_visible(False)\n",
    "ax.spines['bottom'].set_visible(False)\n",
    "ax.spines['left'].set_visible(False)\n",
    "ax.get_xaxis().set_visible(False)\n",
    "ax.margins(0.01)\n",
    "\n",
    "#plt.show()\n",
    "plt.savefig(Path('../export/plots/dotplot.png'), dpi=200, bbox_inches='tight')\n",
    "\n",
    "#df_sitzung.head()"
   ]
  },
  {
   "cell_type": "markdown",
   "metadata": {},
   "source": [
    "## The same but interactive"
   ]
  },
  {
   "cell_type": "code",
   "execution_count": null,
   "metadata": {},
   "outputs": [],
   "source": [
    "import plotly.express as px\n",
    "#df_sitzung = pd.DataFrame(records)\n",
    "\n",
    "fig = px.scatter(df_sitzung,\n",
    "    x=\"i\", y=\"group\",\n",
    "    color=\"type\",\n",
    "    hover_data={\"sitzung_date\": \"|%Y-%m-%d %H:00\"},\n",
    "    width=1200, height=2200,\n",
    "    color_discrete_sequence=[\"#c2babd\", \"#24b39c\", \"#6c43c0\"])\n",
    "\n",
    "# Change marker size\n",
    "fig.update_traces(marker=dict(size=4), selector=dict(mode='markers'))\n",
    "\n",
    "fig.show()"
   ]
  },
  {
   "cell_type": "markdown",
   "metadata": {},
   "source": [
    "## Wo Frauen wenig/viel gesprochen haben und bei welchen Themen\n",
    "* Top 10 Sitzungen, bei denen Frauen/Männer am meisten gesprochen haben.\n",
    "* Von diesen Sitzungen Sitzungsprotokolle exportieren"
   ]
  },
  {
   "cell_type": "code",
   "execution_count": null,
   "metadata": {},
   "outputs": [],
   "source": [
    "# Absolut\n",
    "df_votum = df_votum_raw.copy()\n",
    "\n",
    "# Remove all Statements from President, 1. & 2. Vizepresidents\n",
    "df_votum = df_votum[~df_votum.funktion.isin(['Präsidium', '2. Vizepräsidium', '1. Vizepräsidium'])]\n",
    "\n",
    "df_votum['sitzung_start'] = pd.to_datetime(df_votum['sitzung_start'])\n",
    "\n",
    "# Pivot\n",
    "df_votum = pd.pivot_table(df_votum, index = 'sitzung_start', columns='geschlecht', values='name', aggfunc='count')\n",
    "\n",
    "df_votum['v'] = round(df_votum['m'] / df_votum['w'], 2)\n",
    "df_votum['sum'] = df_votum.sum(axis=1)\n",
    "\n",
    "df_votum = df_votum.sort_values('v')"
   ]
  },
  {
   "cell_type": "code",
   "execution_count": null,
   "metadata": {},
   "outputs": [],
   "source": [
    "df_traktanden = pd.read_csv(Path('../export/traktanden.csv'))\n",
    "df_traktanden['sitzung'] = pd.to_datetime(df_traktanden['sitzung'])\n",
    "\n",
    "df_votum_trak = df_votum[df_votum.index >= df_traktanden['sitzung'].min()]"
   ]
  },
  {
   "cell_type": "markdown",
   "metadata": {},
   "source": [
    "### Bei diesen Traktanden haben *Frauen* am meisten gesprochen"
   ]
  },
  {
   "cell_type": "code",
   "execution_count": null,
   "metadata": {},
   "outputs": [],
   "source": [
    "# Traktanden bei Top 10 w\n",
    "dates = list(df_votum_trak[df_votum_trak.v <= 1].head(5).index)\n",
    "list(df_traktanden[df_traktanden.sitzung.isin(dates)]['titel'])"
   ]
  },
  {
   "cell_type": "markdown",
   "metadata": {},
   "source": [
    "### Bei diesen Traktanden haben *Männer* am meisten gesprochen"
   ]
  },
  {
   "cell_type": "code",
   "execution_count": null,
   "metadata": {},
   "outputs": [],
   "source": [
    "# Traktanden bei Top 10 m\n",
    "dates = list(df_votum_trak[df_votum_trak.v >= 1].tail(5).index)\n",
    "list(df_traktanden[df_traktanden.sitzung.isin(dates)]['titel'])"
   ]
  },
  {
   "cell_type": "code",
   "execution_count": null,
   "metadata": {},
   "outputs": [],
   "source": []
  }
 ],
 "metadata": {
  "interpreter": {
   "hash": "37f0ca31d41186abe10772da2ac64da7601e3a80a4b6b1bf647ed16bff654d0c"
  },
  "kernelspec": {
   "display_name": "Python 3.9.6 ('env': venv)",
   "language": "python",
   "name": "python3"
  },
  "language_info": {
   "codemirror_mode": {
    "name": "ipython",
    "version": 3
   },
   "file_extension": ".py",
   "mimetype": "text/x-python",
   "name": "python",
   "nbconvert_exporter": "python",
   "pygments_lexer": "ipython3",
   "version": "3.9.6"
  },
  "orig_nbformat": 4
 },
 "nbformat": 4,
 "nbformat_minor": 2
}
