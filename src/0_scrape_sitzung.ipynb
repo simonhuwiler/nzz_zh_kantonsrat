{
 "cells": [
  {
   "cell_type": "markdown",
   "metadata": {},
   "source": [
    "# Scrape Documents\n",
    "\n",
    "This Scraper ask politely for all protocols (pdfs) and stores them.  \n",
    "\n",
    "Ressources:\n",
    "* https://www.zh.ch/de/politik-staat/opendata.html?keyword=ogd#/details/709@fachstelle-ogd-kanton-zuerich\n",
    "* https://github.com/openZH/KRZH_gever\n",
    "* https://parlzhcdws.cmicloud.ch/parlzh5/index/geschaeft/index.html"
   ]
  },
  {
   "cell_type": "code",
   "execution_count": 1,
   "metadata": {},
   "outputs": [],
   "source": [
    "import urllib\n",
    "import calendar\n",
    "import requests\n",
    "from pathlib import Path\n",
    "import glob, os\n",
    "import xml.etree.ElementTree as ET\n",
    "import copy\n",
    "import pandas as pd"
   ]
  },
  {
   "cell_type": "markdown",
   "metadata": {},
   "source": [
    "## 1. Load all Meetings (Sitzungen)"
   ]
  },
  {
   "cell_type": "code",
   "execution_count": 2,
   "metadata": {},
   "outputs": [
    {
     "name": "stdout",
     "output_type": "stream",
     "text": [
      "Years: 2010 - 2022\n"
     ]
    }
   ],
   "source": [
    "url = 'https://parlzhcdws.cmicloud.ch/parlzh3/cdws/Index/SITZUNGENDETAIL/searchdetails?q=%s&l=de-CH'\n",
    "\n",
    "year_from = 2010\n",
    "year_to = 2022\n",
    "print(\"Years: %s - %s\" % (year_from, year_to))\n",
    "for year in range(year_from, year_to):\n",
    "    for i in range(0, 3):\n",
    "        #print(\"%s %s\" % (year, i))\n",
    "\n",
    "        # First day\n",
    "        d_start = '%s-%02d-01 00:00:00' % (year, i * 4 + 1)\n",
    "\n",
    "        # Last day\n",
    "        l = calendar.monthrange(year, (i + 1) * 4)[-1]\n",
    "        d_end = '%s-%02d-%s 23:59:00' % (year, (i + 1) * 4, l)\n",
    "\n",
    "        q = 'datum_start >= \"%s\" and datum_start <= \"%s\" sortBy datum_end/sort.ascending uhrzeit/sort.ascending' % (d_start, d_end)\n",
    "\n",
    "        r = requests.get(url % urllib.parse.quote(q))\n",
    "        with open(Path('../export/SITZUNGENDETAIL/%s_%s.xml' % (year, i)), 'wb') as f:\n",
    "            f.write(r.content)"
   ]
  },
  {
   "cell_type": "markdown",
   "metadata": {},
   "source": [
    "## 2. Create DataFrame from XML"
   ]
  },
  {
   "cell_type": "code",
   "execution_count": 3,
   "metadata": {},
   "outputs": [],
   "source": [
    "# Parse all XML and create Dataframe\n",
    "ns = {\n",
    "    's': 'http://www.cmiag.ch/cdws/searchDetailResponse',\n",
    "    'd': 'http://www.cmiag.ch/cdws/SitzungenDetail'\n",
    "    }\n",
    "\n",
    "records = []\n",
    "\n",
    "# Open all xml-files\n",
    "for f in glob.glob(str(Path('../export/SITZUNGENDETAIL/*.xml'))):\n",
    "    tree = ET.parse(f)\n",
    "    #tree = ET.parse('../export/SITZUNGENDETAIL/2021_1.xml')\n",
    "    root = tree.getroot()\n",
    "\n",
    "    for sitzung in root.findall('.//s:Hit/d:Sitzung', ns):\n",
    "        sitzungsdokumente = sitzung.findall('d:Sitzungsdokumente/d:Dokument', ns)\n",
    "        \n",
    "        # Skip if no docs\n",
    "        if len(sitzungsdokumente) == 0:\n",
    "            continue\n",
    "        \n",
    "        #print(sitzungsdokumente)\n",
    "\n",
    "        record = {\n",
    "            'sitzung_id': sitzung.attrib['OBJ_GUID'],\n",
    "            'sitzung_name': sitzung.find('d:Titel', ns).text,\n",
    "            'sitzung_date': sitzung.find('d:Datum/d:Start', ns).text,\n",
    "            'sitzung_gremium': sitzung.find('d:Gremium/d:Gremium/d:Kurzname', ns).text\n",
    "        }\n",
    "\n",
    "        #if record['sitzung_id'] != '5ffba37035f1487fbf889a3f26c7ae9c': continue\n",
    "\n",
    "        # Loop each Doc\n",
    "        for doc in sitzungsdokumente:\n",
    "\n",
    "            r = copy.copy(record)\n",
    "            r['dokument_id'] = doc.attrib['OBJ_GUID']\n",
    "            r['dokument_titel'] = doc.find('d:Titel', ns).text\n",
    "            r['dokument_kategorie'] = doc.find('d:Kategorie', ns).text\n",
    "\n",
    "            # Get eDoc. Assume, there is only one \"eDokument\" as child of Dokument\n",
    "            edoc = doc.find('d:eDokument', ns)\n",
    "\n",
    "            # Check\n",
    "            if len(doc.findall('d:eDokument', ns)) > 1:\n",
    "                raise ValueError('More than one eDoc')\n",
    "\n",
    "            r['eDokument_id'] = edoc.attrib['ID']\n",
    "            r['eDokument_filename'] = edoc.attrib['FileName']\n",
    "            r['version_nr'] = edoc.findall('d:Version', ns)[-1].attrib['Nr']\n",
    "\n",
    "            records.append(r)\n",
    "\n",
    "# Create DataFrame\n",
    "df = pd.DataFrame(records)\n",
    "\n",
    "df['sitzung_date'] = pd.to_datetime(df['sitzung_date'])\n",
    "\n",
    "# Create Filename\n",
    "def create_filename(row):\n",
    "    return \"%s-%s.pdf\" % (\n",
    "        row['sitzung_date'].strftime('%Y-%m-%d'),\n",
    "        row['eDokument_id']\n",
    "    )\n",
    "df['_filename'] = df.apply(create_filename, axis=1)\n",
    "\n",
    "# Sort and Store\n",
    "df = df.sort_values('sitzung_date')\n",
    "df.to_csv(Path('../export/dokumente.csv'), index=False)"
   ]
  },
  {
   "cell_type": "markdown",
   "metadata": {},
   "source": [
    "## 3. Download Documents"
   ]
  },
  {
   "cell_type": "code",
   "execution_count": 4,
   "metadata": {},
   "outputs": [
    {
     "name": "stdout",
     "output_type": "stream",
     "text": [
      "finito\n"
     ]
    }
   ],
   "source": [
    "df = pd.read_csv(Path('../export/dokumente.csv'))\n",
    "\n",
    "url = 'https://parlzhcdws.cmicloud.ch/parlzh3/cdws/Files/%s/%s/pdf'\n",
    "\n",
    "# Select only \"Protokoll\"\n",
    "for i, row in df[df.dokument_kategorie == 'Protokoll'].iterrows():\n",
    "    \n",
    "    fname = Path('../export/Files/%s' % row['_filename'])\n",
    "\n",
    "    # File exists?\n",
    "    if os.path.isfile(fname):\n",
    "        continue\n",
    "\n",
    "    r = requests.get(url % (row['eDokument_id'], row['version_nr']))\n",
    "    if r.status_code != 200:\n",
    "        raise ValueError('File not found', row['eDokument_id'], row['version_nr'])\n",
    "\n",
    "    with open(fname, 'wb') as f:\n",
    "        f.write(r.content)\n",
    "\n",
    "print(\"finito\")"
   ]
  },
  {
   "cell_type": "code",
   "execution_count": null,
   "metadata": {},
   "outputs": [],
   "source": []
  }
 ],
 "metadata": {
  "interpreter": {
   "hash": "37f0ca31d41186abe10772da2ac64da7601e3a80a4b6b1bf647ed16bff654d0c"
  },
  "kernelspec": {
   "display_name": "Python 3.9.6 64-bit ('env': venv)",
   "name": "python3"
  },
  "language_info": {
   "codemirror_mode": {
    "name": "ipython",
    "version": 3
   },
   "file_extension": ".py",
   "mimetype": "text/x-python",
   "name": "python",
   "nbconvert_exporter": "python",
   "pygments_lexer": "ipython3",
   "version": "3.9.6"
  },
  "orig_nbformat": 4
 },
 "nbformat": 4,
 "nbformat_minor": 2
}
