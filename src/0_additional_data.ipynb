{
 "cells": [
  {
   "cell_type": "markdown",
   "metadata": {},
   "source": [
    "# Load List of Kings and Queens\n",
    "Load from xlsx because:\n",
    "* CSVs are corrupt\n",
    "* API from Parlamentsdienste is a pain\n",
    "Download at the bottom: https://www.zh.ch/de/politik-staat/wahlen-abstimmungen/kantons-regierungsratswahlen/mitglieder-kantonsrats-ab-1803.html#-373901206"
   ]
  },
  {
   "cell_type": "code",
   "execution_count": 1,
   "metadata": {},
   "outputs": [],
   "source": [
    "import pandas as pd\n",
    "from datetime import datetime\n",
    "from pathlib import Path\n",
    "import numpy as np"
   ]
  },
  {
   "cell_type": "code",
   "execution_count": 2,
   "metadata": {},
   "outputs": [],
   "source": [
    "df_person = pd.read_excel(Path('../data/kantonsrathistory.xlsx'), 'Personen')\n",
    "df_funktion = pd.read_excel(Path('../data/kantonsrathistory.xlsx'), 'Funktionen')\n",
    "\n",
    "# Take newest Party. Could be improved\n",
    "df_partei = pd.read_excel(Path('../data/kantonsrathistory.xlsx'), 'Parteien')\n",
    "df_partei = df_partei.sort_values('DATUM_VON_JAHR', ascending=False)\n",
    "df_partei = df_partei.drop_duplicates(['ID_PERSON_NEW'], keep='first')"
   ]
  },
  {
   "cell_type": "code",
   "execution_count": 3,
   "metadata": {},
   "outputs": [
    {
     "name": "stdout",
     "output_type": "stream",
     "text": [
      "finito\n"
     ]
    }
   ],
   "source": [
    "df = df_funktion.merge(df_person, on = 'ID_PERSON_NEW')\n",
    "df = df.merge(df_partei[['ID_PERSON_NEW', 'PARTEIBEZEICHNUNG']], on = 'ID_PERSON_NEW')\n",
    "\n",
    "df = df[(df.DATUM_VON_JAHR >= 1980) | (df.DATUM_VON_JAHR.isna())]\n",
    "\n",
    "\n",
    "records = []\n",
    "for i, row in df.iterrows():\n",
    "\n",
    "    try:\n",
    "        if not np.isnan(row['DATUM_VON_JAHR']) and not(np.isnan(row['DATUM_VON_MONAT'])):\n",
    "            start = datetime(int(row['DATUM_VON_JAHR']), int(row['DATUM_VON_MONAT']), int(row['DATUM_VON_TAG']))\n",
    "        else:\n",
    "            start = datetime(1700, 1, 1)\n",
    "\n",
    "        if (not np.isnan(row['DATUM_BIS_JAHR'])) and (not np.isnan(row['DATUM_BIS_MONAT'])):\n",
    "            end = datetime(int(row['DATUM_BIS_JAHR']), int(row['DATUM_BIS_MONAT']), int(row['DATUM_BIS_TAG']))\n",
    "        else:\n",
    "            end = datetime(9999, 12, 31, 23, 59, 59)\n",
    "    except Exception as e:\n",
    "        print(e)\n",
    "        print(row)\n",
    "        raise\n",
    "\n",
    "    record = {\n",
    "        'id': row['ID_PERSON_NEW'],\n",
    "        'name': row['NACHNAME'],\n",
    "        'vorname': row['VORNAME'],\n",
    "        'geschlecht': row['GESCHLECHT'],\n",
    "        'jahrgang': row['DATUM_GEBURT_JAHR'],\n",
    "        'partei': row['PARTEIBEZEICHNUNG'],\n",
    "        'funktion': row['FUNKTIONSBEZEICHNUNG'],\n",
    "        'start': datetime.strftime(start, '%Y-%m-%dT00:00:00.000'),\n",
    "        'end': datetime.strftime(end, '%Y-%m-%dT00:00:00.000'),\n",
    "    }\n",
    "    records.append(record)\n",
    "\n",
    "df_res = pd.DataFrame(records)\n",
    "df_res.to_csv(Path('../export/mitglieder.csv'), index=False)\n",
    "\n",
    "print(\"finito\")"
   ]
  },
  {
   "cell_type": "code",
   "execution_count": 4,
   "metadata": {},
   "outputs": [
    {
     "data": {
      "text/html": [
       "<div>\n",
       "<style scoped>\n",
       "    .dataframe tbody tr th:only-of-type {\n",
       "        vertical-align: middle;\n",
       "    }\n",
       "\n",
       "    .dataframe tbody tr th {\n",
       "        vertical-align: top;\n",
       "    }\n",
       "\n",
       "    .dataframe thead th {\n",
       "        text-align: right;\n",
       "    }\n",
       "</style>\n",
       "<table border=\"1\" class=\"dataframe\">\n",
       "  <thead>\n",
       "    <tr style=\"text-align: right;\">\n",
       "      <th></th>\n",
       "      <th>id</th>\n",
       "      <th>name</th>\n",
       "      <th>vorname</th>\n",
       "      <th>geschlecht</th>\n",
       "      <th>jahrgang</th>\n",
       "      <th>partei</th>\n",
       "      <th>funktion</th>\n",
       "      <th>start</th>\n",
       "      <th>end</th>\n",
       "    </tr>\n",
       "  </thead>\n",
       "  <tbody>\n",
       "    <tr>\n",
       "      <th>0</th>\n",
       "      <td>13</td>\n",
       "      <td>Petermann</td>\n",
       "      <td>Albert L.</td>\n",
       "      <td>m</td>\n",
       "      <td>1937.0</td>\n",
       "      <td>FDP</td>\n",
       "      <td>NaN</td>\n",
       "      <td>1700-01-01T00:00:00.000</td>\n",
       "      <td>9999-12-31T00:00:00.000</td>\n",
       "    </tr>\n",
       "    <tr>\n",
       "      <th>1</th>\n",
       "      <td>39</td>\n",
       "      <td>Ruedin</td>\n",
       "      <td>Jacques</td>\n",
       "      <td>m</td>\n",
       "      <td>1910.0</td>\n",
       "      <td>Ch</td>\n",
       "      <td>NaN</td>\n",
       "      <td>1700-01-01T00:00:00.000</td>\n",
       "      <td>9999-12-31T00:00:00.000</td>\n",
       "    </tr>\n",
       "    <tr>\n",
       "      <th>2</th>\n",
       "      <td>45</td>\n",
       "      <td>Nievergelt</td>\n",
       "      <td>Ernst</td>\n",
       "      <td>m</td>\n",
       "      <td>1894.0</td>\n",
       "      <td>F</td>\n",
       "      <td>NaN</td>\n",
       "      <td>1700-01-01T00:00:00.000</td>\n",
       "      <td>9999-12-31T00:00:00.000</td>\n",
       "    </tr>\n",
       "    <tr>\n",
       "      <th>3</th>\n",
       "      <td>46</td>\n",
       "      <td>Reimann</td>\n",
       "      <td>Hansheinrich</td>\n",
       "      <td>m</td>\n",
       "      <td>1914.0</td>\n",
       "      <td>F</td>\n",
       "      <td>NaN</td>\n",
       "      <td>1700-01-01T00:00:00.000</td>\n",
       "      <td>9999-12-31T00:00:00.000</td>\n",
       "    </tr>\n",
       "    <tr>\n",
       "      <th>4</th>\n",
       "      <td>52</td>\n",
       "      <td>Fischer</td>\n",
       "      <td>Otto</td>\n",
       "      <td>m</td>\n",
       "      <td>1901.0</td>\n",
       "      <td>PdA</td>\n",
       "      <td>NaN</td>\n",
       "      <td>1700-01-01T00:00:00.000</td>\n",
       "      <td>9999-12-31T00:00:00.000</td>\n",
       "    </tr>\n",
       "  </tbody>\n",
       "</table>\n",
       "</div>"
      ],
      "text/plain": [
       "   id        name       vorname geschlecht  jahrgang partei funktion  \\\n",
       "0  13   Petermann     Albert L.          m    1937.0    FDP      NaN   \n",
       "1  39      Ruedin       Jacques          m    1910.0     Ch      NaN   \n",
       "2  45  Nievergelt         Ernst          m    1894.0      F      NaN   \n",
       "3  46     Reimann  Hansheinrich          m    1914.0      F      NaN   \n",
       "4  52     Fischer          Otto          m    1901.0    PdA      NaN   \n",
       "\n",
       "                     start                      end  \n",
       "0  1700-01-01T00:00:00.000  9999-12-31T00:00:00.000  \n",
       "1  1700-01-01T00:00:00.000  9999-12-31T00:00:00.000  \n",
       "2  1700-01-01T00:00:00.000  9999-12-31T00:00:00.000  \n",
       "3  1700-01-01T00:00:00.000  9999-12-31T00:00:00.000  \n",
       "4  1700-01-01T00:00:00.000  9999-12-31T00:00:00.000  "
      ]
     },
     "execution_count": 4,
     "metadata": {},
     "output_type": "execute_result"
    }
   ],
   "source": [
    "df_res.head()"
   ]
  },
  {
   "cell_type": "code",
   "execution_count": null,
   "metadata": {},
   "outputs": [],
   "source": []
  }
 ],
 "metadata": {
  "interpreter": {
   "hash": "37f0ca31d41186abe10772da2ac64da7601e3a80a4b6b1bf647ed16bff654d0c"
  },
  "kernelspec": {
   "display_name": "Python 3.9.6 64-bit ('env': venv)",
   "name": "python3"
  },
  "language_info": {
   "codemirror_mode": {
    "name": "ipython",
    "version": 3
   },
   "file_extension": ".py",
   "mimetype": "text/x-python",
   "name": "python",
   "nbconvert_exporter": "python",
   "pygments_lexer": "ipython3",
   "version": "3.9.0"
  },
  "orig_nbformat": 4
 },
 "nbformat": 4,
 "nbformat_minor": 2
}
