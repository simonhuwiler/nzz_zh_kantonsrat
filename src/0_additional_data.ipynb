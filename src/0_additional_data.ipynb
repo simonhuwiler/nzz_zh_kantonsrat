{
 "cells": [
  {
   "cell_type": "markdown",
   "metadata": {},
   "source": [
    "# Load List of Kings and Queens\n",
    "Load from xlsx because:\n",
    "* CSVs are corrupt\n",
    "* API from Parlamentsdienste is a pain\n",
    "Download at the bottom: https://www.zh.ch/de/politik-staat/wahlen-abstimmungen/kantons-regierungsratswahlen/mitglieder-kantonsrats-ab-1803.html#-373901206"
   ]
  },
  {
   "cell_type": "code",
   "execution_count": 27,
   "metadata": {},
   "outputs": [],
   "source": [
    "import pandas as pd\n",
    "from datetime import datetime\n",
    "from pathlib import Path\n",
    "import numpy as np\n",
    "import json"
   ]
  },
  {
   "cell_type": "code",
   "execution_count": 6,
   "metadata": {},
   "outputs": [],
   "source": [
    "df_person = pd.read_excel(Path('../data/kantonsrathistory.xlsx'), 'Personen')\n",
    "df_funktion = pd.read_excel(Path('../data/kantonsrathistory.xlsx'), 'Funktionen')\n",
    "df_partei = pd.read_excel(Path('../data/kantonsrathistory.xlsx'), 'Parteien')\n",
    "df_einsitz = pd.read_excel(Path('../data/kantonsrathistory.xlsx'), 'Einsitze')"
   ]
  },
  {
   "cell_type": "code",
   "execution_count": 43,
   "metadata": {},
   "outputs": [],
   "source": [
    "df_person = df_person[df_person.DATUM_GEBURT_JAHR.notna()]\n",
    "df_person = df_person[df_person.DATUM_GEBURT_JAHR> 1900]\n",
    "df_einsitz = df_einsitz[df_einsitz.DATUM_EINTRITT_JAHR.notna()]\n",
    "df_funktion = df_funktion[df_funktion.DATUM_VON_JAHR.notna()]\n",
    "df_funktion = df_funktion[df_funktion.DATUM_BIS_JAHR >= 2000]\n",
    "df_partei = df_partei[df_partei.PARTEIBEZEICHNUNG.notna()]\n",
    "\n",
    "records = []\n",
    "\n",
    "for i, row in df_person.iterrows():\n",
    "\n",
    "    record = {\n",
    "        'id': row['ID_PERSON_NEW'],\n",
    "        'name': row['NACHNAME'],\n",
    "        'vorname': row['VORNAME'],\n",
    "        'geschlecht': row['GESCHLECHT'],\n",
    "        'jahrgang': row['DATUM_GEBURT_JAHR'],\n",
    "        'einsitz': [],\n",
    "        'partei': [],\n",
    "        'funktion': []\n",
    "    }\n",
    "\n",
    "    # Add Einsitz\n",
    "    df = df_einsitz[df_einsitz.ID_PERSON_NEW == row['ID_PERSON_NEW']]\n",
    "    for y, row2 in df.iterrows():\n",
    "        if np.isnan(row2['DATUM_AUSTRITT_JAHR']):\n",
    "            end = datetime(2100, 12, 31)\n",
    "        else:\n",
    "            end = datetime(int(row2['DATUM_AUSTRITT_JAHR']), int(row2['DATUM_AUSTRITT_MONAT']), int(row2['DATUM_AUSTRITT_TAG']))\n",
    "\n",
    "        record['einsitz'].append({\n",
    "            'start': datetime(int(row2['DATUM_EINTRITT_JAHR']), int(row2['DATUM_EINTRITT_MONAT']), int(row2['DATUM_EINTRITT_TAG'])),\n",
    "            'end': end\n",
    "        })\n",
    "\n",
    "    # Add Party\n",
    "    df = df_partei[df_partei.ID_PERSON_NEW == row['ID_PERSON_NEW']]\n",
    "    try:\n",
    "        for y, row2 in df.iterrows():\n",
    "            if not(np.isnan(row2['DATUM_BIS_MONAT'])) and not(np.isnan(row2['DATUM_BIS_JAHR'])):\n",
    "                end = datetime(int(row2['DATUM_BIS_JAHR']), int(row2['DATUM_BIS_MONAT']), int(row2['DATUM_BIS_TAG']))\n",
    "            else:\n",
    "                end = datetime(2100, 12, 31)\n",
    "\n",
    "            if np.isnan(row2['DATUM_VON_JAHR']):\n",
    "                start = record['einsitz'][0]['start']\n",
    "            else:\n",
    "                datetime(int(row2['DATUM_VON_JAHR']), int(row2['DATUM_VON_MONAT']), int(row2['DATUM_VON_TAG']))\n",
    "\n",
    "            record['partei'].append({\n",
    "                'bezeichnung': row2['PARTEIBEZEICHNUNG'],\n",
    "                'start': start,\n",
    "                'end': end\n",
    "            })\n",
    "    except:\n",
    "        print(row2)\n",
    "        raise\n",
    "        \n",
    "    # Add Funktion\n",
    "    df = df_funktion[df_funktion.ID_PERSON_NEW == row['ID_PERSON_NEW']]\n",
    "    try:\n",
    "        for y, row2 in df.iterrows():\n",
    "            # Assume, that Amtsjahr starts at 1. Mai and ends at 30. April\n",
    "            if not np.isnan(row2['DATUM_VON_JAHR']):\n",
    "                day = 1 if np.isnan(row2['DATUM_VON_TAG']) else int(row2['DATUM_VON_TAG'])\n",
    "                month = 5 if np.isnan(row2['DATUM_VON_MONAT']) else int(row2['DATUM_VON_MONAT'])\n",
    "                start = datetime(int(row2['DATUM_VON_JAHR']), month, day)\n",
    "            else:\n",
    "                start = datetime(2100, 12, 31)\n",
    "                print(\"Hmmm\")\n",
    "\n",
    "\n",
    "            if np.isnan(row2['DATUM_BIS_JAHR']):\n",
    "                end = datetime(2100, 12, 31)\n",
    "            else:\n",
    "                day = 30 if np.isnan(row2['DATUM_BIS_TAG']) else int(row2['DATUM_BIS_TAG'])\n",
    "                month = 4 if np.isnan(row2['DATUM_BIS_MONAT']) else int(row2['DATUM_BIS_MONAT'])\n",
    "                end = datetime(int(row2['DATUM_BIS_JAHR']), month, day)                \n",
    "\n",
    "            record['funktion'].append({\n",
    "                'bezeichnung': row2['FUNKTIONSBEZEICHNUNG'],\n",
    "                'start': start,\n",
    "                'end': end\n",
    "            })\n",
    "\n",
    "    except:\n",
    "        print(row2)\n",
    "        raise\n",
    "    records.append(record)\n",
    "\n",
    "    #break"
   ]
  },
  {
   "cell_type": "code",
   "execution_count": 48,
   "metadata": {},
   "outputs": [],
   "source": [
    "with open(Path('../export/mitglieder.json'), 'w') as f:\n",
    "    json.dump(records, f, default=str)"
   ]
  },
  {
   "cell_type": "markdown",
   "metadata": {},
   "source": [
    "DEPRICATED"
   ]
  },
  {
   "cell_type": "code",
   "execution_count": 2,
   "metadata": {},
   "outputs": [],
   "source": [
    "df_person = pd.read_excel(Path('../data/kantonsrathistory.xlsx'), 'Personen')\n",
    "df_funktion = pd.read_excel(Path('../data/kantonsrathistory.xlsx'), 'Funktionen')\n",
    "\n",
    "# Take newest Party. Could be improved\n",
    "df_partei = pd.read_excel(Path('../data/kantonsrathistory.xlsx'), 'Parteien')\n",
    "df_partei = df_partei.sort_values('DATUM_VON_JAHR', ascending=False)\n",
    "df_partei = df_partei.drop_duplicates(['ID_PERSON_NEW'], keep='first')"
   ]
  },
  {
   "cell_type": "code",
   "execution_count": 3,
   "metadata": {},
   "outputs": [
    {
     "name": "stdout",
     "output_type": "stream",
     "text": [
      "finito\n"
     ]
    }
   ],
   "source": [
    "df = df_funktion.merge(df_person, on = 'ID_PERSON_NEW')\n",
    "df = df.merge(df_partei[['ID_PERSON_NEW', 'PARTEIBEZEICHNUNG']], on = 'ID_PERSON_NEW')\n",
    "\n",
    "df = df[(df.DATUM_VON_JAHR >= 1980) | (df.DATUM_VON_JAHR.isna())]\n",
    "\n",
    "\n",
    "records = []\n",
    "for i, row in df.iterrows():\n",
    "\n",
    "    try:\n",
    "        if not np.isnan(row['DATUM_VON_JAHR']) and not(np.isnan(row['DATUM_VON_MONAT'])):\n",
    "            start = datetime(int(row['DATUM_VON_JAHR']), int(row['DATUM_VON_MONAT']), int(row['DATUM_VON_TAG']))\n",
    "        else:\n",
    "            start = datetime(1700, 1, 1)\n",
    "\n",
    "        if (not np.isnan(row['DATUM_BIS_JAHR'])) and (not np.isnan(row['DATUM_BIS_MONAT'])):\n",
    "            end = datetime(int(row['DATUM_BIS_JAHR']), int(row['DATUM_BIS_MONAT']), int(row['DATUM_BIS_TAG']))\n",
    "        else:\n",
    "            end = datetime(9999, 12, 31, 23, 59, 59)\n",
    "    except Exception as e:\n",
    "        print(e)\n",
    "        print(row)\n",
    "        raise\n",
    "\n",
    "    record = {\n",
    "        'id': row['ID_PERSON_NEW'],\n",
    "        'name': row['NACHNAME'],\n",
    "        'vorname': row['VORNAME'],\n",
    "        'geschlecht': row['GESCHLECHT'],\n",
    "        'jahrgang': row['DATUM_GEBURT_JAHR'],\n",
    "        'partei': row['PARTEIBEZEICHNUNG'],\n",
    "        'funktion': row['FUNKTIONSBEZEICHNUNG'],\n",
    "        'start': datetime.strftime(start, '%Y-%m-%dT00:00:00.000'),\n",
    "        'end': datetime.strftime(end, '%Y-%m-%dT00:00:00.000'),\n",
    "    }\n",
    "    records.append(record)\n",
    "\n",
    "df_res = pd.DataFrame(records)\n",
    "df_res.to_csv(Path('../export/mitglieder.csv'), index=False)\n",
    "\n",
    "print(\"finito\")"
   ]
  }
 ],
 "metadata": {
  "interpreter": {
   "hash": "37f0ca31d41186abe10772da2ac64da7601e3a80a4b6b1bf647ed16bff654d0c"
  },
  "kernelspec": {
   "display_name": "Python 3.9.6 64-bit ('env': venv)",
   "name": "python3"
  },
  "language_info": {
   "codemirror_mode": {
    "name": "ipython",
    "version": 3
   },
   "file_extension": ".py",
   "mimetype": "text/x-python",
   "name": "python",
   "nbconvert_exporter": "python",
   "pygments_lexer": "ipython3",
   "version": "3.9.0"
  },
  "orig_nbformat": 4
 },
 "nbformat": 4,
 "nbformat_minor": 2
}
