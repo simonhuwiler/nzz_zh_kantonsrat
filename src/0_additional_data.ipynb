{
 "cells": [
  {
   "cell_type": "markdown",
   "metadata": {},
   "source": [
    "# Load List of Kings and Queens\n",
    "|  \n",
    "|  \n",
    "v  \n",
    "**!!!!! ERROR WITH Robert Brunner!!!**"
   ]
  },
  {
   "cell_type": "code",
   "execution_count": 1,
   "metadata": {},
   "outputs": [],
   "source": [
    "import pandas as pd\n",
    "import requests\n",
    "import xml.etree.ElementTree as ET\n",
    "import urllib\n",
    "from datetime import datetime\n",
    "from pathlib import Path"
   ]
  },
  {
   "cell_type": "code",
   "execution_count": 2,
   "metadata": {},
   "outputs": [],
   "source": [
    "url = 'https://parlzhcdws.cmicloud.ch/parlzh2/cdws/Index/MITGLIEDER/searchdetails?q=seq>0 and %s and gremium all KR and funktion any \"Mitglied Präsidium Vizepräsidium\" sortBy name/sort.ascending vorname/sort.ascending&l=de-CH'\n",
    "\n",
    "# from to\n",
    "param = 'dauer_end >= \"2010-11-19 00:00:00\" and dauer_start <= \"2022-12-31 00:00:00\"'\n",
    "\n",
    "# Get XML\n",
    "r = requests.get(url % urllib.parse.quote(param))\n",
    "\n",
    "# Load XML\n",
    "tree = ET.ElementTree(ET.fromstring(r.text))\n",
    "root = tree.getroot()"
   ]
  },
  {
   "cell_type": "code",
   "execution_count": 115,
   "metadata": {},
   "outputs": [
    {
     "data": {
      "text/plain": [
       "'https://parlzhcdws.cmicloud.ch/parlzh2/cdws/Index/MITGLIEDER/searchdetails?q=seq>0 and dauer_end%20%3E%3D%20%222010-11-19%2000%3A00%3A00%22%20and%20dauer_start%20%3C%3D%20%222022-12-31%2000%3A00%3A00%22 and gremium all KR and funktion any \"Mitglied Präsidium Vizepräsidium\" sortBy name/sort.ascending vorname/sort.ascending&l=de-CH'"
      ]
     },
     "execution_count": 115,
     "metadata": {},
     "output_type": "execute_result"
    }
   ],
   "source": [
    "url % urllib.parse.quote(param)"
   ]
  },
  {
   "cell_type": "code",
   "execution_count": 7,
   "metadata": {},
   "outputs": [],
   "source": [
    "# Parse XML\n",
    "ns = {\n",
    "    's': 'http://www.cmiag.ch/cdws/searchDetailResponse',\n",
    "    'd': 'http://www.cmiag.ch/cdws/SitzungenDetail',\n",
    "    'm': 'http://www.cmiag.ch/cdws/Mitglieder'\n",
    "    }\n",
    "\n",
    "def str2dt(s):\n",
    "    if s == '9999-12-31T23:59:59.000':\n",
    "        s = '2100-12-31T00:00:00.000'\n",
    "    return datetime.strptime(s, '%Y-%m-%dT00:00:00.000')\n",
    "\n",
    "records = []\n",
    "\n",
    "for mitglied in root.findall('.//m:Mitglied', ns):\n",
    "    person = mitglied.find('m:Person', ns)\n",
    "\n",
    "    end_person = mitglied.find('m:Dauer/m:End', ns).text\n",
    "    if end_person == '9999-12-31T23:59:59.000':\n",
    "            # Set 2100 als enddate\n",
    "            end_person = '2100-12-31T00:00:00.000'\n",
    "\n",
    "    start_person = datetime.strptime(mitglied.find('m:Dauer/m:Start', ns).text, '%Y-%m-%dT00:00:00.000')\n",
    "\n",
    "\n",
    "    # Loop for each Party. If someone switch party, add person twice\n",
    "    for party in person.findall('m:Kontakt/m:Parteizugehoerigkeiten/m:Parteizugehoerigkeit', ns):\n",
    "        end = party.find('m:Dauer/m:End', ns).text\n",
    "        if end == '9999-12-31T23:59:59.000':\n",
    "            # Set end_person as end_date\n",
    "            end = end_person\n",
    "        end = datetime.strptime(end, '%Y-%m-%dT00:00:00.000')\n",
    "\n",
    "        start = datetime.strptime(party.find('m:Dauer/m:Start', ns).text, '%Y-%m-%dT00:00:00.000')\n",
    "        if start < start_person:\n",
    "            start = start_person\n",
    "\n",
    "        record = {\n",
    "            'name': person.find('m:Kontakt/m:Name', ns).text,\n",
    "            'vorname': person.find('m:Kontakt/m:Vorname', ns).text,\n",
    "            'geschlecht': person.find('m:Kontakt/m:Geschlecht', ns).text,\n",
    "            'wahlkreis': person.find('m:Kontakt/m:Wahlkreis', ns).text,\n",
    "            'partei': party.find('m:Name', ns).text,\n",
    "            'start': start,\n",
    "            'end': end,\n",
    "        }\n",
    "\n",
    "        records.append(record)\n",
    "\n",
    "    #print(datetime.strptime(mitglied.find('m:Dauer/m:End', ns).text, '%Y-%m-%dT00:00:00.000'))\n",
    "    #break\n",
    "\n",
    "df = pd.DataFrame(records)\n",
    "\n",
    "# Save\n",
    "df.to_csv(Path('../export/mitglieder.csv'), index=False)"
   ]
  },
  {
   "cell_type": "markdown",
   "metadata": {},
   "source": [
    "## Download Präsidium\n",
    "**!!!!! CORRUPT CSV!!!!!!!**"
   ]
  },
  {
   "cell_type": "code",
   "execution_count": 47,
   "metadata": {},
   "outputs": [],
   "source": [
    "# ANPASSEN! https://raw.githubusercontent.com/openZH/krdb-lod/master/data/funktionen.csv\n",
    "df_funktion = pd.read_csv('/Users/simon/Downloads/funktionen.csv', encoding='utf-8')\n",
    "#df_person = pd.read_csv('https://raw.githubusercontent.com/openZH/krdb-lod/master/data/personen.csv')\n",
    "df_person = pd.read_csv('/Users/simon/Downloads/personen.csv')\n",
    "\n",
    "# Filter\n",
    "df_funktion = df_funktion[df_funktion.FUNKTIONSBEZEICHNUNG.isin(['1. Vizepräsidium', 'Präsidium', '2. Vizepräsidium'])]"
   ]
  },
  {
   "cell_type": "code",
   "execution_count": 52,
   "metadata": {},
   "outputs": [
    {
     "data": {
      "text/html": [
       "<div>\n",
       "<style scoped>\n",
       "    .dataframe tbody tr th:only-of-type {\n",
       "        vertical-align: middle;\n",
       "    }\n",
       "\n",
       "    .dataframe tbody tr th {\n",
       "        vertical-align: top;\n",
       "    }\n",
       "\n",
       "    .dataframe thead th {\n",
       "        text-align: right;\n",
       "    }\n",
       "</style>\n",
       "<table border=\"1\" class=\"dataframe\">\n",
       "  <thead>\n",
       "    <tr style=\"text-align: right;\">\n",
       "      <th></th>\n",
       "      <th>VORNAME</th>\n",
       "      <th>NACHNAME</th>\n",
       "      <th>GESCHLECHT</th>\n",
       "      <th>FUNKTIONSBEZEICHNUNG</th>\n",
       "    </tr>\n",
       "  </thead>\n",
       "  <tbody>\n",
       "    <tr>\n",
       "      <th>0</th>\n",
       "      <td>Albert L.</td>\n",
       "      <td>Petermann</td>\n",
       "      <td>m</td>\n",
       "      <td>NaN</td>\n",
       "    </tr>\n",
       "    <tr>\n",
       "      <th>1</th>\n",
       "      <td>Jacques</td>\n",
       "      <td>Ruedin</td>\n",
       "      <td>m</td>\n",
       "      <td>NaN</td>\n",
       "    </tr>\n",
       "    <tr>\n",
       "      <th>2</th>\n",
       "      <td>Ernst</td>\n",
       "      <td>Nievergelt</td>\n",
       "      <td>m</td>\n",
       "      <td>NaN</td>\n",
       "    </tr>\n",
       "    <tr>\n",
       "      <th>3</th>\n",
       "      <td>Hansheinrich</td>\n",
       "      <td>Reimann</td>\n",
       "      <td>m</td>\n",
       "      <td>NaN</td>\n",
       "    </tr>\n",
       "    <tr>\n",
       "      <th>4</th>\n",
       "      <td>Otto</td>\n",
       "      <td>Fischer</td>\n",
       "      <td>m</td>\n",
       "      <td>NaN</td>\n",
       "    </tr>\n",
       "  </tbody>\n",
       "</table>\n",
       "</div>"
      ],
      "text/plain": [
       "        VORNAME    NACHNAME GESCHLECHT  FUNKTIONSBEZEICHNUNG\n",
       "0     Albert L.   Petermann          m                   NaN\n",
       "1       Jacques      Ruedin          m                   NaN\n",
       "2         Ernst  Nievergelt          m                   NaN\n",
       "3  Hansheinrich     Reimann          m                   NaN\n",
       "4          Otto     Fischer          m                   NaN"
      ]
     },
     "execution_count": 52,
     "metadata": {},
     "output_type": "execute_result"
    }
   ],
   "source": [
    "df_merged = df_funktion.merge(df_person, on = 'ID_PERSON_NEW')\n",
    "\n",
    "df_merged['start'] = df_merged.apply(lambda row: \"%s-%2d-%2d\" % (row['DATUM_VON_JAHR'], row['DATUM_VON_MONAT'], row['DATUM_VON_TAG']), axis=1)\n",
    "df_merged['end'] = df_merged.apply(lambda row: \"%s-%2d-%2d\" % (row['DATUM_BIS_JAHR'], row['DATUM_BIS_MONAT'], row['DATUM_BIS_TAG']), axis=1)\n",
    "\n",
    "df_merged = df_merged[['VORNAME', 'NACHNAME', 'GESCHLECHT', 'FUNKTIONSBEZEICHNUNG', 'start', 'end']]\n",
    "df_merged.rename(columns={'VORNAME': 'vorname', 'NACHNAME': 'nachname', 'GESCHLECHT': 'geschlecht', 'FUNKTIONSBEZEICHNUNG': 'funktion'}, inplace=True)\n",
    "\n",
    "df_merged.to_csv(Path('../export/funktion.csv'), index=False)"
   ]
  },
  {
   "cell_type": "markdown",
   "metadata": {},
   "source": [
    "## DEPRICATED"
   ]
  },
  {
   "cell_type": "code",
   "execution_count": 18,
   "metadata": {},
   "outputs": [
    {
     "name": "stdout",
     "output_type": "stream",
     "text": [
      "[{'vorname': 'Markus', 'name': 'Bischoff', 'funktion': 'Mitglied', 'start': '2015-05-18T00:00:00.000', 'end': '2019-05-06T00:00:00.000'}, {'vorname': 'Markus', 'name': 'Bischoff', 'funktion': 'Mitglied', 'start': '2019-05-06T00:00:00.000', 'end': '9999-12-31T23:59:59.000'}, {'vorname': 'Yvonne', 'name': 'Bürgin', 'funktion': '1. Vizepräsidium', 'start': '2017-05-08T00:00:00.000', 'end': '2018-05-08T00:00:00.000'}, {'vorname': 'Yvonne', 'name': 'Bürgin', 'funktion': '2. Vizepräsidium', 'start': '2016-05-09T00:00:00.000', 'end': '2017-05-08T00:00:00.000'}, {'vorname': 'Yvonne', 'name': 'Bürgin', 'funktion': 'Präsidium', 'start': '2018-05-07T00:00:00.000', 'end': '2019-05-06T00:00:00.000'}, {'vorname': 'Yvonne', 'name': 'Bürgin', 'funktion': 'Mitglied', 'start': '2019-05-06T00:00:00.000', 'end': '9999-12-31T23:59:59.000'}, {'vorname': 'Barbara', 'name': 'Bussmann', 'funktion': 'Mitglied', 'start': '2010-05-03T00:00:00.000', 'end': '2011-05-09T00:00:00.000'}, {'vorname': 'Barbara', 'name': 'Bussmann', 'funktion': 'Mitglied', 'start': '2012-05-07T00:00:00.000', 'end': '2015-05-18T00:00:00.000'}, {'vorname': 'Barbara', 'name': 'Bussmann', 'funktion': 'Mitglied', 'start': '2011-05-09T00:00:00.000', 'end': '2012-05-07T00:00:00.000'}, {'vorname': 'Pierre', 'name': 'Dalcher', 'funktion': 'Mitglied', 'start': '2018-05-07T00:00:00.000', 'end': '2019-05-06T00:00:00.000'}, {'vorname': 'Pierre', 'name': 'Dalcher', 'funktion': 'Mitglied', 'start': '2019-05-06T00:00:00.000', 'end': '9999-12-31T23:59:59.000'}, {'vorname': 'Stefan', 'name': 'Dollenmeier', 'funktion': 'Mitglied', 'start': '2011-05-09T00:00:00.000', 'end': '2012-05-07T00:00:00.000'}, {'vorname': 'Stefan', 'name': 'Dollenmeier', 'funktion': 'Mitglied', 'start': '2009-05-04T00:00:00.000', 'end': '2010-05-04T00:00:00.000'}, {'vorname': 'Stefan', 'name': 'Dollenmeier', 'funktion': 'Mitglied', 'start': '2008-05-05T00:00:00.000', 'end': '2009-05-04T00:00:00.000'}, {'vorname': 'Stefan', 'name': 'Dollenmeier', 'funktion': 'Mitglied', 'start': '2010-05-03T00:00:00.000', 'end': '2011-05-09T00:00:00.000'}, {'vorname': 'Stefan', 'name': 'Dollenmeier', 'funktion': 'Mitglied', 'start': '2007-05-21T00:00:00.000', 'end': '2008-05-05T00:00:00.000'}, {'vorname': 'Bernhard', 'name': 'Egg', 'funktion': 'Mitglied', 'start': '2013-05-06T00:00:00.000', 'end': '2013-07-08T00:00:00.000'}, {'vorname': 'Bernhard', 'name': 'Egg', 'funktion': 'Mitglied', 'start': '2009-05-04T00:00:00.000', 'end': '2010-05-03T00:00:00.000'}, {'vorname': 'Bernhard', 'name': 'Egg', 'funktion': 'Mitglied', 'start': '2008-05-05T00:00:00.000', 'end': '2009-05-04T00:00:00.000'}, {'vorname': 'Bernhard', 'name': 'Egg', 'funktion': '2. Vizepräsidium', 'start': '2010-05-03T00:00:00.000', 'end': '2011-05-09T00:00:00.000'}, {'vorname': 'Bernhard', 'name': 'Egg', 'funktion': 'Mitglied', 'start': '2007-05-21T00:00:00.000', 'end': '2008-05-05T00:00:00.000'}, {'vorname': 'Bernhard', 'name': 'Egg', 'funktion': 'Präsidium', 'start': '2012-05-07T00:00:00.000', 'end': '2013-05-06T00:00:00.000'}, {'vorname': 'Bernhard', 'name': 'Egg', 'funktion': '1. Vizepräsidium', 'start': '2011-05-09T00:00:00.000', 'end': '2012-05-07T00:00:00.000'}, {'vorname': 'Karin', 'name': 'Egli-Zimmermann', 'funktion': '2. Vizepräsidium', 'start': '2015-05-18T00:00:00.000', 'end': '2016-05-09T00:00:00.000'}, {'vorname': 'Karin', 'name': 'Egli-Zimmermann', 'funktion': 'Mitglied', 'start': '2014-05-12T00:00:00.000', 'end': '2015-05-18T00:00:00.000'}, {'vorname': 'Karin', 'name': 'Egli-Zimmermann', 'funktion': 'Präsidium', 'start': '2017-05-08T00:00:00.000', 'end': '2018-05-08T00:00:00.000'}, {'vorname': 'Karin', 'name': 'Egli-Zimmermann', 'funktion': '1. Vizepräsidium', 'start': '2016-05-09T00:00:00.000', 'end': '2017-05-08T00:00:00.000'}, {'vorname': 'Karin', 'name': 'Egli-Zimmermann', 'funktion': '2. Vizepräsidium', 'start': '2015-05-18T00:00:00.000', 'end': '2016-05-09T00:00:00.000'}, {'vorname': 'Karin', 'name': 'Egli-Zimmermann', 'funktion': 'Mitglied', 'start': '2014-05-12T00:00:00.000', 'end': '2015-05-18T00:00:00.000'}, {'vorname': 'Karin', 'name': 'Egli-Zimmermann', 'funktion': 'Präsidium', 'start': '2017-05-08T00:00:00.000', 'end': '2018-05-08T00:00:00.000'}, {'vorname': 'Karin', 'name': 'Egli-Zimmermann', 'funktion': '1. Vizepräsidium', 'start': '2016-05-09T00:00:00.000', 'end': '2017-05-08T00:00:00.000'}, {'vorname': 'Andreas', 'name': 'Erdin', 'funktion': 'Mitglied', 'start': '2010-05-03T00:00:00.000', 'end': '2011-05-09T00:00:00.000'}, {'vorname': 'Andreas', 'name': 'Erdin', 'funktion': 'Mitglied', 'start': '2008-02-25T00:00:00.000', 'end': '2008-05-05T00:00:00.000'}, {'vorname': 'Andreas', 'name': 'Erdin', 'funktion': 'Mitglied', 'start': '2008-05-05T00:00:00.000', 'end': '2009-05-04T00:00:00.000'}, {'vorname': 'Andreas', 'name': 'Erdin', 'funktion': 'Mitglied', 'start': '2009-05-04T00:00:00.000', 'end': '2010-05-03T00:00:00.000'}, {'vorname': 'Gerhard', 'name': 'Fischer', 'funktion': 'Präsidium', 'start': '2010-05-03T00:00:00.000', 'end': '2011-05-09T00:00:00.000'}, {'vorname': 'Gerhard', 'name': 'Fischer', 'funktion': 'Mitglied', 'start': '2008-05-05T00:00:00.000', 'end': '2009-05-04T00:00:00.000'}, {'vorname': 'Gerhard', 'name': 'Fischer', 'funktion': '1. Vizepräsidium', 'start': '2009-05-04T00:00:00.000', 'end': '2010-05-03T00:00:00.000'}, {'vorname': 'Thomas', 'name': 'Forrer', 'funktion': 'Mitglied', 'start': '2020-05-04T00:00:00.000', 'end': '9999-12-31T23:59:59.000'}, {'vorname': 'Hans', 'name': 'Frei', 'funktion': 'Mitglied', 'start': '2010-05-03T00:00:00.000', 'end': '2011-05-09T00:00:00.000'}, {'vorname': 'Hans', 'name': 'Frei', 'funktion': 'Mitglied', 'start': '2008-07-07T00:00:00.000', 'end': '2009-05-04T00:00:00.000'}, {'vorname': 'Hans', 'name': 'Frei', 'funktion': 'Mitglied', 'start': '2009-05-04T00:00:00.000', 'end': '2010-05-03T00:00:00.000'}, {'vorname': 'Hans', 'name': 'Frei', 'funktion': 'Mitglied', 'start': '2011-05-09T00:00:00.000', 'end': '2012-05-07T00:00:00.000'}, {'vorname': 'Beatrix', 'name': 'Frey', 'funktion': 'Mitglied', 'start': '2019-05-06T00:00:00.000', 'end': '9999-12-31T23:59:59.000'}, {'vorname': 'Raphael', 'name': 'Golta', 'funktion': 'Mitglied', 'start': '2005-05-09T00:00:00.000', 'end': '2006-05-08T00:00:00.000'}, {'vorname': 'Raphael', 'name': 'Golta', 'funktion': 'Mitglied', 'start': '2011-05-09T00:00:00.000', 'end': '2012-05-07T00:00:00.000'}, {'vorname': 'Raphael', 'name': 'Golta', 'funktion': 'Mitglied', 'start': '2004-05-03T00:00:00.000', 'end': '2005-05-09T00:00:00.000'}, {'vorname': 'Raphael', 'name': 'Golta', 'funktion': 'Mitglied', 'start': '2012-05-07T00:00:00.000', 'end': '2014-03-22T00:00:00.000'}, {'vorname': 'Raphael', 'name': 'Golta', 'funktion': 'Mitglied', 'start': '2006-05-08T00:00:00.000', 'end': '2007-05-26T00:00:00.000'}, {'vorname': 'Raphael', 'name': 'Golta', 'funktion': 'Mitglied', 'start': '2010-05-25T00:00:00.000', 'end': '2011-05-09T00:00:00.000'}, {'vorname': 'Raphael', 'name': 'Golta', 'funktion': 'Mitglied', 'start': '2003-05-19T00:00:00.000', 'end': '2004-05-03T00:00:00.000'}, {'vorname': 'Esther', 'name': 'Guyer', 'funktion': 'Mitglied', 'start': '2007-05-21T00:00:00.000', 'end': '2008-05-05T00:00:00.000'}, {'vorname': 'Esther', 'name': 'Guyer', 'funktion': 'Mitglied', 'start': '2012-05-07T00:00:00.000', 'end': '2015-05-18T00:00:00.000'}, {'vorname': 'Esther', 'name': 'Guyer', 'funktion': 'Mitglied', 'start': '2008-05-05T00:00:00.000', 'end': '2009-05-04T00:00:00.000'}, {'vorname': 'Esther', 'name': 'Guyer', 'funktion': 'Mitglied', 'start': '2009-05-04T00:00:00.000', 'end': '2010-05-03T00:00:00.000'}, {'vorname': 'Esther', 'name': 'Guyer', 'funktion': 'Mitglied', 'start': '2005-05-09T00:00:00.000', 'end': '2006-05-08T00:00:00.000'}, {'vorname': 'Esther', 'name': 'Guyer', 'funktion': 'Mitglied', 'start': '2011-05-09T00:00:00.000', 'end': '2012-05-07T00:00:00.000'}, {'vorname': 'Esther', 'name': 'Guyer', 'funktion': 'Mitglied', 'start': '2010-05-03T00:00:00.000', 'end': '2011-05-09T00:00:00.000'}, {'vorname': 'Esther', 'name': 'Guyer', 'funktion': 'Mitglied', 'start': '2006-05-08T00:00:00.000', 'end': '2007-05-21T00:00:00.000'}, {'vorname': 'Esther', 'name': 'Guyer', 'funktion': 'Mitglied', 'start': '2015-05-18T00:00:00.000', 'end': '2019-05-06T00:00:00.000'}, {'vorname': 'Esther', 'name': 'Guyer', 'funktion': 'Mitglied', 'start': '2019-05-06T00:00:00.000', 'end': '9999-12-31T23:59:59.000'}, {'vorname': 'Esther', 'name': 'Hildebrand', 'funktion': 'Mitglied', 'start': '2010-05-03T00:00:00.000', 'end': '2011-05-09T00:00:00.000'}, {'vorname': 'Esther', 'name': 'Hildebrand', 'funktion': 'Präsidium', 'start': '2009-05-04T00:00:00.000', 'end': '2010-05-03T00:00:00.000'}, {'vorname': 'Esther', 'name': 'Hildebrand', 'funktion': 'Mitglied', 'start': '2007-05-21T00:00:00.000', 'end': '2008-05-05T00:00:00.000'}, {'vorname': 'Esther', 'name': 'Hildebrand', 'funktion': 'Mitglied', 'start': '2008-05-05T00:00:00.000', 'end': '2009-05-04T00:00:00.000'}, {'vorname': 'Martin', 'name': 'Hübscher', 'funktion': 'Mitglied', 'start': '2018-09-01T00:00:00.000', 'end': '2019-05-06T00:00:00.000'}, {'vorname': 'Martin', 'name': 'Hübscher', 'funktion': 'Mitglied', 'start': '2019-05-06T00:00:00.000', 'end': '9999-12-31T23:59:59.000'}, {'vorname': 'Brigitta', 'name': 'Johner', 'funktion': 'Mitglied', 'start': '2011-05-09T00:00:00.000', 'end': '2012-05-07T00:00:00.000'}, {'vorname': 'Brigitta', 'name': 'Johner', 'funktion': 'Mitglied', 'start': '2009-07-06T00:00:00.000', 'end': '2010-05-03T00:00:00.000'}, {'vorname': 'Brigitta', 'name': 'Johner', 'funktion': 'Mitglied', 'start': '2010-05-03T00:00:00.000', 'end': '2011-05-09T00:00:00.000'}, {'vorname': 'Brigitta', 'name': 'Johner', 'funktion': 'Präsidium', 'start': '2014-05-12T00:00:00.000', 'end': '2015-05-18T00:00:00.000'}, {'vorname': 'Brigitta', 'name': 'Johner', 'funktion': '1. Vizepräsidium', 'start': '2013-05-06T00:00:00.000', 'end': '2014-05-12T00:00:00.000'}, {'vorname': 'Brigitta', 'name': 'Johner', 'funktion': '2. Vizepräsidium', 'start': '2012-05-07T00:00:00.000', 'end': '2013-05-06T00:00:00.000'}, {'vorname': 'Brigitta', 'name': 'Johner', 'funktion': 'Mitglied', 'start': '2011-05-09T00:00:00.000', 'end': '2012-05-07T00:00:00.000'}, {'vorname': 'Brigitta', 'name': 'Johner', 'funktion': 'Mitglied', 'start': '2009-07-06T00:00:00.000', 'end': '2010-05-03T00:00:00.000'}, {'vorname': 'Brigitta', 'name': 'Johner', 'funktion': 'Mitglied', 'start': '2010-05-03T00:00:00.000', 'end': '2011-05-09T00:00:00.000'}, {'vorname': 'Brigitta', 'name': 'Johner', 'funktion': 'Präsidium', 'start': '2014-05-12T00:00:00.000', 'end': '2015-05-18T00:00:00.000'}, {'vorname': 'Brigitta', 'name': 'Johner', 'funktion': '1. Vizepräsidium', 'start': '2013-05-06T00:00:00.000', 'end': '2014-05-12T00:00:00.000'}, {'vorname': 'Brigitta', 'name': 'Johner', 'funktion': '2. Vizepräsidium', 'start': '2012-05-07T00:00:00.000', 'end': '2013-05-06T00:00:00.000'}, {'vorname': 'Dieter', 'name': 'Kläy', 'funktion': '1. Vizepräsidium', 'start': '2018-05-08T00:00:00.000', 'end': '2019-05-06T00:00:00.000'}, {'vorname': 'Dieter', 'name': 'Kläy', 'funktion': '2. Vizepräsidium', 'start': '2017-05-08T00:00:00.000', 'end': '2018-05-08T00:00:00.000'}, {'vorname': 'Dieter', 'name': 'Kläy', 'funktion': 'Mitglied', 'start': '2015-05-18T00:00:00.000', 'end': '2017-05-08T00:00:00.000'}, {'vorname': 'Dieter', 'name': 'Kläy', 'funktion': 'Präsidium', 'start': '2019-05-06T00:00:00.000', 'end': '2020-05-04T00:00:00.000'}, {'vorname': 'Dieter', 'name': 'Kläy', 'funktion': 'Mitglied', 'start': '2020-05-04T00:00:00.000', 'end': '9999-12-31T23:59:59.000'}, {'vorname': 'Philipp', 'name': 'Kutter', 'funktion': 'Mitglied', 'start': '2011-05-09T00:00:00.000', 'end': '2012-05-07T00:00:00.000'}, {'vorname': 'Philipp', 'name': 'Kutter', 'funktion': 'Mitglied', 'start': '2015-05-18T00:00:00.000', 'end': '2018-08-01T00:00:00.000'}, {'vorname': 'Philipp', 'name': 'Kutter', 'funktion': 'Mitglied', 'start': '2009-05-04T00:00:00.000', 'end': '2010-05-03T00:00:00.000'}, {'vorname': 'Philipp', 'name': 'Kutter', 'funktion': 'Mitglied', 'start': '2010-05-03T00:00:00.000', 'end': '2011-05-09T00:00:00.000'}, {'vorname': 'Philipp', 'name': 'Kutter', 'funktion': 'Mitglied', 'start': '2008-05-05T00:00:00.000', 'end': '2009-05-04T00:00:00.000'}, {'vorname': 'Philipp', 'name': 'Kutter', 'funktion': 'Mitglied', 'start': '2012-05-07T00:00:00.000', 'end': '2015-05-18T00:00:00.000'}, {'vorname': 'Heinz', 'name': 'Kyburz', 'funktion': 'Mitglied', 'start': '2012-05-07T00:00:00.000', 'end': '2015-05-18T00:00:00.000'}, {'vorname': 'Ruedi', 'name': 'Lais', 'funktion': 'Mitglied', 'start': '2009-05-04T00:00:00.000', 'end': '2010-05-03T00:00:00.000'}, {'vorname': 'Ruedi', 'name': 'Lais', 'funktion': 'Mitglied', 'start': '2010-05-03T00:00:00.000', 'end': '2010-05-26T00:00:00.000'}, {'vorname': 'Ruedi', 'name': 'Lais', 'funktion': 'Mitglied', 'start': '2006-05-08T00:00:00.000', 'end': '2007-05-21T00:00:00.000'}, {'vorname': 'Ruedi', 'name': 'Lais', 'funktion': 'Mitglied', 'start': '2005-05-09T00:00:00.000', 'end': '2006-05-08T00:00:00.000'}, {'vorname': 'Ruedi', 'name': 'Lais', 'funktion': 'Mitglied', 'start': '2007-05-21T00:00:00.000', 'end': '2008-05-05T00:00:00.000'}, {'vorname': 'Ruedi', 'name': 'Lais', 'funktion': 'Mitglied', 'start': '2008-05-05T00:00:00.000', 'end': '2009-05-04T00:00:00.000'}, {'vorname': 'Ruedi', 'name': 'Lais', 'funktion': 'Mitglied', 'start': '2019-05-06T00:00:00.000', 'end': '2021-10-03T00:00:00.000'}, {'vorname': 'Emy', 'name': 'Lalli', 'funktion': 'Mitglied', 'start': '2006-05-08T00:00:00.000', 'end': '2007-05-22T00:00:00.000'}, {'vorname': 'Emy', 'name': 'Lalli', 'funktion': 'Mitglied', 'start': '2001-05-07T00:00:00.000', 'end': '2002-05-01T00:00:00.000'}, {'vorname': 'Emy', 'name': 'Lalli', 'funktion': 'Mitglied', 'start': '2000-05-08T00:00:00.000', 'end': '2001-05-01T00:00:00.000'}, {'vorname': 'Emy', 'name': 'Lalli', 'funktion': 'Mitglied', 'start': '2003-05-19T00:00:00.000', 'end': '2004-05-04T00:00:00.000'}, {'vorname': 'Emy', 'name': 'Lalli', 'funktion': 'Mitglied', 'start': '2005-05-09T00:00:00.000', 'end': '2006-05-09T00:00:00.000'}, {'vorname': 'Emy', 'name': 'Lalli', 'funktion': 'Präsidium', 'start': '2004-05-03T00:00:00.000', 'end': '2005-05-10T00:00:00.000'}, {'vorname': 'Emy', 'name': 'Lalli', 'funktion': 'Mitglied', 'start': '2002-05-06T00:00:00.000', 'end': '2003-05-19T00:00:00.000'}, {'vorname': 'Emy', 'name': 'Lalli', 'funktion': 'Mitglied', 'start': '1999-05-31T00:00:00.000', 'end': '2000-05-01T00:00:00.000'}, {'vorname': 'Marcel', 'name': 'Lenggenhager', 'funktion': 'Mitglied', 'start': '2012-05-07T00:00:00.000', 'end': '2015-05-18T00:00:00.000'}, {'vorname': 'Marcel', 'name': 'Lenggenhager', 'funktion': 'Mitglied', 'start': '2015-05-18T00:00:00.000', 'end': '2019-05-06T00:00:00.000'}, {'vorname': 'Marcel', 'name': 'Lenggenhager', 'funktion': 'Mitglied', 'start': '2011-05-09T00:00:00.000', 'end': '2012-05-07T00:00:00.000'}, {'vorname': 'Karin', 'name': 'Maeder-Zuberbühler', 'funktion': 'Mitglied', 'start': '2002-05-06T00:00:00.000', 'end': '2003-05-19T00:00:00.000'}, {'vorname': 'Thomas', 'name': 'Maier', 'funktion': 'Mitglied', 'start': '2011-05-09T00:00:00.000', 'end': '2012-02-13T00:00:00.000'}, {'vorname': 'Sibylle', 'name': 'Marti', 'funktion': 'Mitglied', 'start': '2017-05-08T00:00:00.000', 'end': '2019-05-06T00:00:00.000'}, {'vorname': 'Sylvie', 'name': 'Matter', 'funktion': 'Mitglied', 'start': '2019-05-06T00:00:00.000', 'end': '9999-12-31T23:59:59.000'}, {'vorname': 'Ursula', 'name': 'Moor-Schwarz', 'funktion': 'Mitglied', 'start': '2002-02-11T00:00:00.000', 'end': '2002-05-01T00:00:00.000'}, {'vorname': 'Ursula', 'name': 'Moor-Schwarz', 'funktion': 'Mitglied', 'start': '2008-05-05T00:00:00.000', 'end': '2009-05-05T00:00:00.000'}, {'vorname': 'Ursula', 'name': 'Moor-Schwarz', 'funktion': 'Mitglied', 'start': '2002-05-06T00:00:00.000', 'end': '2003-05-19T00:00:00.000'}, {'vorname': 'Ursula', 'name': 'Moor-Schwarz', 'funktion': 'Mitglied', 'start': '2005-05-09T00:00:00.000', 'end': '2006-05-08T00:00:00.000'}, {'vorname': 'Ursula', 'name': 'Moor-Schwarz', 'funktion': 'Mitglied', 'start': '2009-05-04T00:00:00.000', 'end': '2010-05-04T00:00:00.000'}, {'vorname': 'Ursula', 'name': 'Moor-Schwarz', 'funktion': 'Mitglied', 'start': '2010-05-03T00:00:00.000', 'end': '2011-05-09T00:00:00.000'}, {'vorname': 'Ursula', 'name': 'Moor-Schwarz', 'funktion': 'Präsidium', 'start': '2007-05-21T00:00:00.000', 'end': '2008-05-05T00:00:00.000'}, {'vorname': 'Ursula', 'name': 'Moor-Schwarz', 'funktion': 'Mitglied', 'start': '2004-05-03T00:00:00.000', 'end': '2005-05-09T00:00:00.000'}, {'vorname': 'Ursula', 'name': 'Moor-Schwarz', 'funktion': 'Mitglied', 'start': '2003-05-19T00:00:00.000', 'end': '2004-05-03T00:00:00.000'}, {'vorname': 'Ursula', 'name': 'Moor-Schwarz', 'funktion': 'Mitglied', 'start': '2006-05-08T00:00:00.000', 'end': '2007-05-22T00:00:00.000'}, {'vorname': 'Peter', 'name': 'Reinhard', 'funktion': 'Mitglied', 'start': '2007-05-21T00:00:00.000', 'end': '2008-05-05T00:00:00.000'}, {'vorname': 'Peter', 'name': 'Reinhard', 'funktion': 'Mitglied', 'start': '2011-05-09T00:00:00.000', 'end': '2012-05-07T00:00:00.000'}, {'vorname': 'Peter', 'name': 'Reinhard', 'funktion': 'Mitglied', 'start': '2015-05-18T00:00:00.000', 'end': '2017-04-11T00:00:00.000'}, {'vorname': 'Peter', 'name': 'Reinhard', 'funktion': 'Mitglied', 'start': '2005-05-09T00:00:00.000', 'end': '2006-05-08T00:00:00.000'}, {'vorname': 'Peter', 'name': 'Reinhard', 'funktion': 'Mitglied', 'start': '2006-05-08T00:00:00.000', 'end': '2007-05-21T00:00:00.000'}, {'vorname': 'Peter', 'name': 'Reinhard', 'funktion': 'Mitglied', 'start': '2004-05-03T00:00:00.000', 'end': '2005-05-09T00:00:00.000'}, {'vorname': 'Peter', 'name': 'Reinhard', 'funktion': 'Mitglied', 'start': '2012-05-07T00:00:00.000', 'end': '2015-05-18T00:00:00.000'}, {'vorname': 'Markus', 'name': 'Schaaf', 'funktion': 'Mitglied', 'start': '2017-04-10T00:00:00.000', 'end': '2019-05-06T00:00:00.000'}, {'vorname': 'Markus', 'name': 'Schaaf', 'funktion': 'Mitglied', 'start': '2019-05-06T00:00:00.000', 'end': '9999-12-31T23:59:59.000'}, {'vorname': 'Benno', 'name': 'Scherrer', 'funktion': 'Mitglied', 'start': '2012-05-07T00:00:00.000', 'end': '2015-05-18T00:00:00.000'}, {'vorname': 'Benno', 'name': 'Scherrer', 'funktion': 'Mitglied', 'start': '2012-02-13T00:00:00.000', 'end': '2012-05-07T00:00:00.000'}, {'vorname': 'Benno', 'name': 'Scherrer', 'funktion': 'Mitglied', 'start': '2019-05-06T00:00:00.000', 'end': '2021-05-03T00:00:00.000'}, {'vorname': 'Benno', 'name': 'Scherrer', 'funktion': 'Mitglied', 'start': '2015-05-18T00:00:00.000', 'end': '2019-05-06T00:00:00.000'}, {'vorname': 'Benno', 'name': 'Scherrer', 'funktion': 'Präsidium', 'start': '2021-05-03T00:00:00.000', 'end': '9999-12-31T23:59:59.000'}, {'vorname': 'Roman', 'name': 'Schmid', 'funktion': 'Sekretariat', 'start': '2012-05-07T00:00:00.000', 'end': '2018-05-08T00:00:00.000'}, {'vorname': 'Roman', 'name': 'Schmid', 'funktion': 'Mitglied', 'start': '2019-05-06T00:00:00.000', 'end': '2020-05-04T00:00:00.000'}, {'vorname': 'Roman', 'name': 'Schmid', 'funktion': 'Mitglied', 'start': '2018-05-08T00:00:00.000', 'end': '2019-05-06T00:00:00.000'}, {'vorname': 'Roman', 'name': 'Schmid', 'funktion': 'Präsidium', 'start': '2020-05-04T00:00:00.000', 'end': '2021-05-03T00:00:00.000'}, {'vorname': 'Roman', 'name': 'Schmid', 'funktion': 'Mitglied', 'start': '2021-05-03T00:00:00.000', 'end': '9999-12-31T23:59:59.000'}, {'vorname': 'Markus', 'name': 'Späth-Walter', 'funktion': 'Mitglied', 'start': '2014-03-24T00:00:00.000', 'end': '2015-05-18T00:00:00.000'}, {'vorname': 'Markus', 'name': 'Späth-Walter', 'funktion': 'Mitglied', 'start': '2015-05-18T00:00:00.000', 'end': '2019-05-06T00:00:00.000'}, {'vorname': 'Markus', 'name': 'Späth-Walter', 'funktion': 'Mitglied', 'start': '2019-05-06T00:00:00.000', 'end': '9999-12-31T23:59:59.000'}, {'vorname': 'Rolf', 'name': 'Steiner', 'funktion': 'Präsidium', 'start': '2016-05-09T00:00:00.000', 'end': '2017-05-09T00:00:00.000'}, {'vorname': 'Rolf', 'name': 'Steiner', 'funktion': '1. Vizepräsidium', 'start': '2015-05-18T00:00:00.000', 'end': '2016-05-09T00:00:00.000'}, {'vorname': 'Rolf', 'name': 'Steiner', 'funktion': '2. Vizepräsidium', 'start': '2014-05-12T00:00:00.000', 'end': '2015-05-18T00:00:00.000'}, {'vorname': 'Rolf', 'name': 'Steiner', 'funktion': 'Mitglied', 'start': '2013-07-08T00:00:00.000', 'end': '2014-05-12T00:00:00.000'}, {'vorname': 'Rolf', 'name': 'Steiner', 'funktion': 'Präsidium', 'start': '2016-05-09T00:00:00.000', 'end': '2017-05-09T00:00:00.000'}, {'vorname': 'Rolf', 'name': 'Steiner', 'funktion': '1. Vizepräsidium', 'start': '2015-05-18T00:00:00.000', 'end': '2016-05-09T00:00:00.000'}, {'vorname': 'Rolf', 'name': 'Steiner', 'funktion': '2. Vizepräsidium', 'start': '2014-05-12T00:00:00.000', 'end': '2015-05-18T00:00:00.000'}, {'vorname': 'Rolf', 'name': 'Steiner', 'funktion': 'Mitglied', 'start': '2013-07-08T00:00:00.000', 'end': '2014-05-12T00:00:00.000'}, {'vorname': 'Jürg', 'name': 'Sulser', 'funktion': 'Mitglied', 'start': '2018-10-22T00:00:00.000', 'end': '2019-05-06T00:00:00.000'}, {'vorname': 'Jürg', 'name': 'Trachsel', 'funktion': '1. Vizepräsidium', 'start': '2010-05-03T00:00:00.000', 'end': '2011-05-09T00:00:00.000'}, {'vorname': 'Jürg', 'name': 'Trachsel', 'funktion': 'Mitglied', 'start': '2007-05-21T00:00:00.000', 'end': '2008-05-05T00:00:00.000'}, {'vorname': 'Jürg', 'name': 'Trachsel', 'funktion': 'Mitglied', 'start': '2015-05-18T00:00:00.000', 'end': '2018-09-01T00:00:00.000'}, {'vorname': 'Jürg', 'name': 'Trachsel', 'funktion': 'Mitglied', 'start': '2008-05-05T00:00:00.000', 'end': '2009-05-04T00:00:00.000'}, {'vorname': 'Jürg', 'name': 'Trachsel', 'funktion': '2. Vizepräsidium', 'start': '2009-05-04T00:00:00.000', 'end': '2010-05-03T00:00:00.000'}, {'vorname': 'Jürg', 'name': 'Trachsel', 'funktion': 'Mitglied', 'start': '2012-05-07T00:00:00.000', 'end': '2015-05-18T00:00:00.000'}, {'vorname': 'Jürg', 'name': 'Trachsel', 'funktion': 'Präsidium', 'start': '2011-05-09T00:00:00.000', 'end': '2012-05-07T00:00:00.000'}, {'vorname': 'Thomas', 'name': 'Vogel', 'funktion': 'Mitglied', 'start': '2012-05-07T00:00:00.000', 'end': '2015-05-18T00:00:00.000'}, {'vorname': 'Thomas', 'name': 'Vogel', 'funktion': 'Mitglied', 'start': '2010-05-03T00:00:00.000', 'end': '2011-05-09T00:00:00.000'}, {'vorname': 'Thomas', 'name': 'Vogel', 'funktion': 'Mitglied', 'start': '2015-05-18T00:00:00.000', 'end': '2019-05-06T00:00:00.000'}, {'vorname': 'Thomas', 'name': 'Vogel', 'funktion': 'Mitglied', 'start': '2009-05-04T00:00:00.000', 'end': '2010-05-04T00:00:00.000'}, {'vorname': 'Thomas', 'name': 'Vogel', 'funktion': 'Mitglied', 'start': '2008-05-05T00:00:00.000', 'end': '2009-05-04T00:00:00.000'}, {'vorname': 'Thomas', 'name': 'Vogel', 'funktion': 'Mitglied', 'start': '2011-05-09T00:00:00.000', 'end': '2012-05-07T00:00:00.000'}, {'vorname': 'Erich', 'name': 'Vontobel', 'funktion': 'Mitglied', 'start': '2015-05-18T00:00:00.000', 'end': '2019-05-06T00:00:00.000'}, {'vorname': 'Bruno', 'name': 'Walliser', 'funktion': 'Mitglied', 'start': '2009-05-04T00:00:00.000', 'end': '2010-05-03T00:00:00.000'}, {'vorname': 'Bruno', 'name': 'Walliser', 'funktion': 'Mitglied', 'start': '2008-03-31T00:00:00.000', 'end': '2008-05-05T00:00:00.000'}, {'vorname': 'Bruno', 'name': 'Walliser', 'funktion': '1. Vizepräsidium', 'start': '2012-05-07T00:00:00.000', 'end': '2013-05-06T00:00:00.000'}, {'vorname': 'Bruno', 'name': 'Walliser', 'funktion': 'Präsidium', 'start': '2013-05-06T00:00:00.000', 'end': '2014-05-12T00:00:00.000'}, {'vorname': 'Bruno', 'name': 'Walliser', 'funktion': 'Mitglied', 'start': '2008-05-05T00:00:00.000', 'end': '2009-05-04T00:00:00.000'}, {'vorname': 'Bruno', 'name': 'Walliser', 'funktion': 'Mitglied', 'start': '2010-05-03T00:00:00.000', 'end': '2011-05-09T00:00:00.000'}, {'vorname': 'Bruno', 'name': 'Walliser', 'funktion': '2. Vizepräsidium', 'start': '2011-05-09T00:00:00.000', 'end': '2012-05-07T00:00:00.000'}, {'vorname': 'Bruno', 'name': 'Walliser', 'funktion': 'Mitglied', 'start': '2009-05-04T00:00:00.000', 'end': '2010-05-03T00:00:00.000'}, {'vorname': 'Bruno', 'name': 'Walliser', 'funktion': 'Mitglied', 'start': '2008-03-31T00:00:00.000', 'end': '2008-05-05T00:00:00.000'}, {'vorname': 'Bruno', 'name': 'Walliser', 'funktion': '1. Vizepräsidium', 'start': '2012-05-07T00:00:00.000', 'end': '2013-05-06T00:00:00.000'}, {'vorname': 'Bruno', 'name': 'Walliser', 'funktion': 'Präsidium', 'start': '2013-05-06T00:00:00.000', 'end': '2014-05-12T00:00:00.000'}, {'vorname': 'Bruno', 'name': 'Walliser', 'funktion': 'Mitglied', 'start': '2008-05-05T00:00:00.000', 'end': '2009-05-04T00:00:00.000'}, {'vorname': 'Bruno', 'name': 'Walliser', 'funktion': 'Mitglied', 'start': '2010-05-03T00:00:00.000', 'end': '2011-05-09T00:00:00.000'}, {'vorname': 'Bruno', 'name': 'Walliser', 'funktion': '2. Vizepräsidium', 'start': '2011-05-09T00:00:00.000', 'end': '2012-05-07T00:00:00.000'}, {'vorname': 'Beat', 'name': 'Walti', 'funktion': 'Mitglied', 'start': '2006-05-08T00:00:00.000', 'end': '2007-05-21T00:00:00.000'}, {'vorname': 'Beat', 'name': 'Walti', 'funktion': 'Mitglied', 'start': '2005-08-22T00:00:00.000', 'end': '2006-05-08T00:00:00.000'}, {'vorname': 'Beat', 'name': 'Walti', 'funktion': 'Mitglied', 'start': '2007-05-21T00:00:00.000', 'end': '2008-05-05T00:00:00.000'}, {'vorname': 'Urs', 'name': 'Waser', 'funktion': 'Mitglied', 'start': '2019-05-06T00:00:00.000', 'end': '9999-12-31T23:59:59.000'}, {'vorname': 'Theresia', 'name': 'Weber-Gachnang', 'funktion': '1. Vizepräsidium', 'start': '2014-05-12T00:00:00.000', 'end': '2015-05-18T00:00:00.000'}, {'vorname': 'Theresia', 'name': 'Weber-Gachnang', 'funktion': 'Mitglied', 'start': '2016-05-09T00:00:00.000', 'end': '2018-10-20T00:00:00.000'}, {'vorname': 'Theresia', 'name': 'Weber-Gachnang', 'funktion': 'Mitglied', 'start': '2012-05-07T00:00:00.000', 'end': '2013-05-06T00:00:00.000'}, {'vorname': 'Theresia', 'name': 'Weber-Gachnang', 'funktion': 'Mitglied', 'start': '2011-05-09T00:00:00.000', 'end': '2012-05-07T00:00:00.000'}, {'vorname': 'Theresia', 'name': 'Weber-Gachnang', 'funktion': '2. Vizepräsidium', 'start': '2013-05-06T00:00:00.000', 'end': '2014-05-12T00:00:00.000'}, {'vorname': 'Theresia', 'name': 'Weber-Gachnang', 'funktion': 'Präsidium', 'start': '2015-05-18T00:00:00.000', 'end': '2016-05-09T00:00:00.000'}, {'vorname': 'Josef', 'name': 'Wiederkehr', 'funktion': 'Mitglied', 'start': '2018-08-01T00:00:00.000', 'end': '2019-05-06T00:00:00.000'}, {'vorname': 'Michael', 'name': 'Zeugin', 'funktion': 'Mitglied', 'start': '2019-05-06T00:00:00.000', 'end': '9999-12-31T23:59:59.000'}]\n"
     ]
    }
   ],
   "source": [
    "presidency = []\n",
    "\n",
    "for person in root.findall('.//m:Mitglied/m:Person/m:Kontakt', ns):\n",
    "    for mandat in person.findall('m:Behordenmandate/m:Behoerdenmandat', ns):\n",
    "        if mandat.find('m:Kurzname', ns).text != 'GLKR':\n",
    "            continue\n",
    "\n",
    "        presidency.append({\n",
    "            'vorname': person.find('m:Vorname', ns).text,\n",
    "            'name': person.find('m:Name', ns).text,\n",
    "            'funktion': mandat.find('m:Funktion', ns).text,\n",
    "            'start': mandat.find('m:Dauer/m:Start', ns).text,\n",
    "            'end': mandat.find('m:Dauer/m:End', ns).text,\n",
    "        })\n",
    "        \n",
    "print(presidency)"
   ]
  },
  {
   "cell_type": "code",
   "execution_count": null,
   "metadata": {},
   "outputs": [],
   "source": []
  },
  {
   "cell_type": "code",
   "execution_count": null,
   "metadata": {},
   "outputs": [],
   "source": [
    "# Test"
   ]
  },
  {
   "cell_type": "code",
   "execution_count": 99,
   "metadata": {},
   "outputs": [
    {
     "data": {
      "text/plain": [
       "datetime.datetime(2019, 3, 1, 0, 0)"
      ]
     },
     "execution_count": 99,
     "metadata": {},
     "output_type": "execute_result"
    }
   ],
   "source": [
    "d = datetime.strptime('2019-03-01', '%Y-%m-%d')\n",
    "d"
   ]
  },
  {
   "cell_type": "code",
   "execution_count": 103,
   "metadata": {},
   "outputs": [
    {
     "data": {
      "text/plain": [
       "179"
      ]
     },
     "execution_count": 103,
     "metadata": {},
     "output_type": "execute_result"
    }
   ],
   "source": [
    "\n",
    "x = df[(df.start <= d) & (df.end >= d)]\n",
    "len(x)"
   ]
  },
  {
   "cell_type": "code",
   "execution_count": 107,
   "metadata": {},
   "outputs": [
    {
     "data": {
      "text/html": [
       "<div>\n",
       "<style scoped>\n",
       "    .dataframe tbody tr th:only-of-type {\n",
       "        vertical-align: middle;\n",
       "    }\n",
       "\n",
       "    .dataframe tbody tr th {\n",
       "        vertical-align: top;\n",
       "    }\n",
       "\n",
       "    .dataframe thead th {\n",
       "        text-align: right;\n",
       "    }\n",
       "</style>\n",
       "<table border=\"1\" class=\"dataframe\">\n",
       "  <thead>\n",
       "    <tr style=\"text-align: right;\">\n",
       "      <th></th>\n",
       "      <th>name</th>\n",
       "      <th>vorname</th>\n",
       "      <th>geschlecht</th>\n",
       "      <th>wahlkreis</th>\n",
       "      <th>partei</th>\n",
       "      <th>start</th>\n",
       "      <th>end</th>\n",
       "    </tr>\n",
       "  </thead>\n",
       "  <tbody>\n",
       "    <tr>\n",
       "      <th>34</th>\n",
       "      <td>Brazerol</td>\n",
       "      <td>Rico</td>\n",
       "      <td>männlich</td>\n",
       "      <td>IX Horgen</td>\n",
       "      <td>BDP</td>\n",
       "      <td>2011-05-09</td>\n",
       "      <td>2019-05-06</td>\n",
       "    </tr>\n",
       "    <tr>\n",
       "      <th>35</th>\n",
       "      <td>Brunner</td>\n",
       "      <td>Hans-Peter</td>\n",
       "      <td>männlich</td>\n",
       "      <td>IX Horgen</td>\n",
       "      <td>FDP</td>\n",
       "      <td>2015-05-18</td>\n",
       "      <td>2100-12-31</td>\n",
       "    </tr>\n",
       "    <tr>\n",
       "      <th>33</th>\n",
       "      <td>Brändli</td>\n",
       "      <td>Roland</td>\n",
       "      <td>männlich</td>\n",
       "      <td>XI Hinwil</td>\n",
       "      <td>SVP</td>\n",
       "      <td>2019-01-01</td>\n",
       "      <td>2019-05-06</td>\n",
       "    </tr>\n",
       "    <tr>\n",
       "      <th>39</th>\n",
       "      <td>Burtscher</td>\n",
       "      <td>Rochus</td>\n",
       "      <td>männlich</td>\n",
       "      <td>VII Dietikon</td>\n",
       "      <td>SVP</td>\n",
       "      <td>2011-05-09</td>\n",
       "      <td>2100-12-31</td>\n",
       "    </tr>\n",
       "    <tr>\n",
       "      <th>41</th>\n",
       "      <td>Bussmann</td>\n",
       "      <td>Barbara</td>\n",
       "      <td>weiblich</td>\n",
       "      <td>XII Uster</td>\n",
       "      <td>SP</td>\n",
       "      <td>2009-01-01</td>\n",
       "      <td>2019-05-06</td>\n",
       "    </tr>\n",
       "    <tr>\n",
       "      <th>14</th>\n",
       "      <td>Bär</td>\n",
       "      <td>Hansruedi</td>\n",
       "      <td>männlich</td>\n",
       "      <td>VI Zürich 11+12</td>\n",
       "      <td>SVP</td>\n",
       "      <td>2009-01-01</td>\n",
       "      <td>2019-05-06</td>\n",
       "    </tr>\n",
       "    <tr>\n",
       "      <th>18</th>\n",
       "      <td>Bärtschiger</td>\n",
       "      <td>Markus</td>\n",
       "      <td>männlich</td>\n",
       "      <td>VII Dietikon</td>\n",
       "      <td>SP</td>\n",
       "      <td>2017-05-15</td>\n",
       "      <td>2100-12-31</td>\n",
       "    </tr>\n",
       "    <tr>\n",
       "      <th>38</th>\n",
       "      <td>Bürgin</td>\n",
       "      <td>Yvonne</td>\n",
       "      <td>weiblich</td>\n",
       "      <td>XI Hinwil</td>\n",
       "      <td>Die Mitte</td>\n",
       "      <td>2013-08-19</td>\n",
       "      <td>2100-12-31</td>\n",
       "    </tr>\n",
       "    <tr>\n",
       "      <th>43</th>\n",
       "      <td>Bütikofer</td>\n",
       "      <td>Kaspar</td>\n",
       "      <td>männlich</td>\n",
       "      <td>II Zürich 3+9</td>\n",
       "      <td>AL</td>\n",
       "      <td>2009-01-01</td>\n",
       "      <td>2021-09-06</td>\n",
       "    </tr>\n",
       "    <tr>\n",
       "      <th>44</th>\n",
       "      <td>Camenisch</td>\n",
       "      <td>Linda</td>\n",
       "      <td>weiblich</td>\n",
       "      <td>XVII Bülach</td>\n",
       "      <td>FDP</td>\n",
       "      <td>2010-08-23</td>\n",
       "      <td>2100-12-31</td>\n",
       "    </tr>\n",
       "  </tbody>\n",
       "</table>\n",
       "</div>"
      ],
      "text/plain": [
       "           name     vorname geschlecht        wahlkreis     partei      start  \\\n",
       "34     Brazerol        Rico   männlich        IX Horgen        BDP 2011-05-09   \n",
       "35      Brunner  Hans-Peter   männlich        IX Horgen        FDP 2015-05-18   \n",
       "33      Brändli      Roland   männlich        XI Hinwil        SVP 2019-01-01   \n",
       "39    Burtscher      Rochus   männlich     VII Dietikon        SVP 2011-05-09   \n",
       "41     Bussmann     Barbara   weiblich        XII Uster         SP 2009-01-01   \n",
       "14          Bär   Hansruedi   männlich  VI Zürich 11+12        SVP 2009-01-01   \n",
       "18  Bärtschiger      Markus   männlich     VII Dietikon         SP 2017-05-15   \n",
       "38       Bürgin      Yvonne   weiblich        XI Hinwil  Die Mitte 2013-08-19   \n",
       "43    Bütikofer      Kaspar   männlich    II Zürich 3+9         AL 2009-01-01   \n",
       "44    Camenisch       Linda   weiblich      XVII Bülach        FDP 2010-08-23   \n",
       "\n",
       "          end  \n",
       "34 2019-05-06  \n",
       "35 2100-12-31  \n",
       "33 2019-05-06  \n",
       "39 2100-12-31  \n",
       "41 2019-05-06  \n",
       "14 2019-05-06  \n",
       "18 2100-12-31  \n",
       "38 2100-12-31  \n",
       "43 2021-09-06  \n",
       "44 2100-12-31  "
      ]
     },
     "execution_count": 107,
     "metadata": {},
     "output_type": "execute_result"
    }
   ],
   "source": [
    "x.sort_values('name')[20:30]"
   ]
  },
  {
   "cell_type": "code",
   "execution_count": 108,
   "metadata": {},
   "outputs": [
    {
     "data": {
      "text/html": [
       "<div>\n",
       "<style scoped>\n",
       "    .dataframe tbody tr th:only-of-type {\n",
       "        vertical-align: middle;\n",
       "    }\n",
       "\n",
       "    .dataframe tbody tr th {\n",
       "        vertical-align: top;\n",
       "    }\n",
       "\n",
       "    .dataframe thead th {\n",
       "        text-align: right;\n",
       "    }\n",
       "</style>\n",
       "<table border=\"1\" class=\"dataframe\">\n",
       "  <thead>\n",
       "    <tr style=\"text-align: right;\">\n",
       "      <th></th>\n",
       "      <th>name</th>\n",
       "      <th>vorname</th>\n",
       "      <th>geschlecht</th>\n",
       "      <th>wahlkreis</th>\n",
       "      <th>partei</th>\n",
       "      <th>start</th>\n",
       "      <th>end</th>\n",
       "    </tr>\n",
       "  </thead>\n",
       "  <tbody>\n",
       "    <tr>\n",
       "      <th>36</th>\n",
       "      <td>Brunner</td>\n",
       "      <td>Robert</td>\n",
       "      <td>männlich</td>\n",
       "      <td>XVIII Dielsdorf</td>\n",
       "      <td>Grüne</td>\n",
       "      <td>2020-02-01</td>\n",
       "      <td>2020-02-11</td>\n",
       "    </tr>\n",
       "  </tbody>\n",
       "</table>\n",
       "</div>"
      ],
      "text/plain": [
       "       name vorname geschlecht        wahlkreis partei      start        end\n",
       "36  Brunner  Robert   männlich  XVIII Dielsdorf  Grüne 2020-02-01 2020-02-11"
      ]
     },
     "execution_count": 108,
     "metadata": {},
     "output_type": "execute_result"
    }
   ],
   "source": [
    "df[df.vorname == 'Robert']"
   ]
  },
  {
   "cell_type": "code",
   "execution_count": 92,
   "metadata": {},
   "outputs": [
    {
     "name": "stderr",
     "output_type": "stream",
     "text": [
      "/var/folders/xv/8dpn0yrd2_sdyj5_kf48mxbh0000gn/T/ipykernel_27588/2518723928.py:1: SettingWithCopyWarning: \n",
      "A value is trying to be set on a copy of a slice from a DataFrame.\n",
      "Try using .loc[row_indexer,col_indexer] = value instead\n",
      "\n",
      "See the caveats in the documentation: https://pandas.pydata.org/pandas-docs/stable/user_guide/indexing.html#returning-a-view-versus-a-copy\n",
      "  x['dup'] = x.duplicated(subset=['name', 'vorname'], keep=False)\n"
     ]
    },
    {
     "data": {
      "text/html": [
       "<div>\n",
       "<style scoped>\n",
       "    .dataframe tbody tr th:only-of-type {\n",
       "        vertical-align: middle;\n",
       "    }\n",
       "\n",
       "    .dataframe tbody tr th {\n",
       "        vertical-align: top;\n",
       "    }\n",
       "\n",
       "    .dataframe thead th {\n",
       "        text-align: right;\n",
       "    }\n",
       "</style>\n",
       "<table border=\"1\" class=\"dataframe\">\n",
       "  <thead>\n",
       "    <tr style=\"text-align: right;\">\n",
       "      <th></th>\n",
       "      <th>name</th>\n",
       "      <th>vorname</th>\n",
       "      <th>geschlecht</th>\n",
       "      <th>wahlkreis</th>\n",
       "      <th>partei</th>\n",
       "      <th>start</th>\n",
       "      <th>end</th>\n",
       "      <th>dup</th>\n",
       "    </tr>\n",
       "  </thead>\n",
       "  <tbody>\n",
       "    <tr>\n",
       "      <th>0</th>\n",
       "      <td>Ackermann</td>\n",
       "      <td>Pia</td>\n",
       "      <td>weiblich</td>\n",
       "      <td>II Zürich 3+9</td>\n",
       "      <td>SP</td>\n",
       "      <td>2015-05-18</td>\n",
       "      <td>2100-12-31</td>\n",
       "      <td>False</td>\n",
       "    </tr>\n",
       "    <tr>\n",
       "      <th>1</th>\n",
       "      <td>Ackermann</td>\n",
       "      <td>Ruth</td>\n",
       "      <td>weiblich</td>\n",
       "      <td>VI Zürich 11+12</td>\n",
       "      <td>Die Mitte</td>\n",
       "      <td>2015-05-18</td>\n",
       "      <td>2100-12-31</td>\n",
       "      <td>False</td>\n",
       "    </tr>\n",
       "    <tr>\n",
       "      <th>3</th>\n",
       "      <td>Agosti Monn</td>\n",
       "      <td>Theres</td>\n",
       "      <td>weiblich</td>\n",
       "      <td>XV Winterthur Land</td>\n",
       "      <td>SP</td>\n",
       "      <td>2013-08-19</td>\n",
       "      <td>2100-12-31</td>\n",
       "      <td>False</td>\n",
       "    </tr>\n",
       "    <tr>\n",
       "      <th>5</th>\n",
       "      <td>Albanese</td>\n",
       "      <td>Franco</td>\n",
       "      <td>männlich</td>\n",
       "      <td>XIV Winterthur Stadt</td>\n",
       "      <td>SVP</td>\n",
       "      <td>2016-09-06</td>\n",
       "      <td>2020-08-15</td>\n",
       "      <td>False</td>\n",
       "    </tr>\n",
       "    <tr>\n",
       "      <th>7</th>\n",
       "      <td>Alder</td>\n",
       "      <td>Ronald</td>\n",
       "      <td>männlich</td>\n",
       "      <td>VIII Affoltern</td>\n",
       "      <td>GLP</td>\n",
       "      <td>2017-08-21</td>\n",
       "      <td>2100-12-31</td>\n",
       "      <td>False</td>\n",
       "    </tr>\n",
       "  </tbody>\n",
       "</table>\n",
       "</div>"
      ],
      "text/plain": [
       "          name vorname geschlecht             wahlkreis     partei      start  \\\n",
       "0    Ackermann     Pia   weiblich         II Zürich 3+9         SP 2015-05-18   \n",
       "1    Ackermann    Ruth   weiblich       VI Zürich 11+12  Die Mitte 2015-05-18   \n",
       "3  Agosti Monn  Theres   weiblich    XV Winterthur Land         SP 2013-08-19   \n",
       "5     Albanese  Franco   männlich  XIV Winterthur Stadt        SVP 2016-09-06   \n",
       "7        Alder  Ronald   männlich        VIII Affoltern        GLP 2017-08-21   \n",
       "\n",
       "         end    dup  \n",
       "0 2100-12-31  False  \n",
       "1 2100-12-31  False  \n",
       "3 2100-12-31  False  \n",
       "5 2020-08-15  False  \n",
       "7 2100-12-31  False  "
      ]
     },
     "execution_count": 92,
     "metadata": {},
     "output_type": "execute_result"
    }
   ],
   "source": [
    "x['dup'] = x.duplicated(subset=['name', 'vorname'], keep=False)\n",
    "x.head()"
   ]
  },
  {
   "cell_type": "code",
   "execution_count": 93,
   "metadata": {},
   "outputs": [
    {
     "data": {
      "text/html": [
       "<div>\n",
       "<style scoped>\n",
       "    .dataframe tbody tr th:only-of-type {\n",
       "        vertical-align: middle;\n",
       "    }\n",
       "\n",
       "    .dataframe tbody tr th {\n",
       "        vertical-align: top;\n",
       "    }\n",
       "\n",
       "    .dataframe thead th {\n",
       "        text-align: right;\n",
       "    }\n",
       "</style>\n",
       "<table border=\"1\" class=\"dataframe\">\n",
       "  <thead>\n",
       "    <tr style=\"text-align: right;\">\n",
       "      <th></th>\n",
       "      <th>name</th>\n",
       "      <th>vorname</th>\n",
       "      <th>geschlecht</th>\n",
       "      <th>wahlkreis</th>\n",
       "      <th>partei</th>\n",
       "      <th>start</th>\n",
       "      <th>end</th>\n",
       "      <th>dup</th>\n",
       "    </tr>\n",
       "  </thead>\n",
       "  <tbody>\n",
       "  </tbody>\n",
       "</table>\n",
       "</div>"
      ],
      "text/plain": [
       "Empty DataFrame\n",
       "Columns: [name, vorname, geschlecht, wahlkreis, partei, start, end, dup]\n",
       "Index: []"
      ]
     },
     "execution_count": 93,
     "metadata": {},
     "output_type": "execute_result"
    }
   ],
   "source": [
    "x[x.dup == True]"
   ]
  },
  {
   "cell_type": "code",
   "execution_count": 13,
   "metadata": {},
   "outputs": [
    {
     "data": {
      "text/plain": [
       "294"
      ]
     },
     "execution_count": 13,
     "metadata": {},
     "output_type": "execute_result"
    }
   ],
   "source": [
    "len(root.findall('.//m:Person', ns))"
   ]
  }
 ],
 "metadata": {
  "interpreter": {
   "hash": "69dc94fc393d943518fcde1eb0a856b515bbecd136e3dea5800bae48efbead23"
  },
  "kernelspec": {
   "display_name": "Python 3.9.6 64-bit ('env': venv)",
   "name": "python3"
  },
  "language_info": {
   "codemirror_mode": {
    "name": "ipython",
    "version": 3
   },
   "file_extension": ".py",
   "mimetype": "text/x-python",
   "name": "python",
   "nbconvert_exporter": "python",
   "pygments_lexer": "ipython3",
   "version": "3.9.6"
  },
  "orig_nbformat": 4
 },
 "nbformat": 4,
 "nbformat_minor": 2
}
