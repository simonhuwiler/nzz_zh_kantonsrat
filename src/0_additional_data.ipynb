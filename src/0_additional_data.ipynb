{
 "cells": [
  {
   "cell_type": "markdown",
   "metadata": {},
   "source": [
    "# Load List of Kings and Queens\n",
    "|  \n",
    "|  \n",
    "v  \n",
    "**!!!!! ERROR WITH Robert Brunner!!!**"
   ]
  },
  {
   "cell_type": "code",
   "execution_count": 27,
   "metadata": {},
   "outputs": [],
   "source": [
    "import pandas as pd\n",
    "import requests\n",
    "import xml.etree.ElementTree as ET\n",
    "import urllib\n",
    "from datetime import datetime\n",
    "from pathlib import Path\n",
    "import numpy as np"
   ]
  },
  {
   "cell_type": "code",
   "execution_count": 53,
   "metadata": {},
   "outputs": [],
   "source": [
    "url = 'https://parlzhcdws.cmicloud.ch/parlzh2/cdws/Index/MITGLIEDER/searchdetails?q=seq>0 and %s and gremium all KR and funktion any \"Mitglied Präsidium Vizepräsidium\" sortBy name/sort.ascending vorname/sort.ascending&l=de-CH'\n",
    "\n",
    "# from to\n",
    "param = 'dauer_end >= \"2010-11-19 00:00:00\" and dauer_start <= \"2022-12-31 00:00:00\"'\n",
    "\n",
    "# Get XML\n",
    "r = requests.get(url % urllib.parse.quote(param))\n",
    "\n",
    "# Load XML\n",
    "tree = ET.ElementTree(ET.fromstring(r.text))\n",
    "root = tree.getroot()"
   ]
  },
  {
   "cell_type": "code",
   "execution_count": 54,
   "metadata": {},
   "outputs": [
    {
     "data": {
      "text/plain": [
       "'https://parlzhcdws.cmicloud.ch/parlzh2/cdws/Index/MITGLIEDER/searchdetails?q=seq>0 and dauer_end%20%3E%3D%20%222010-11-19%2000%3A00%3A00%22%20and%20dauer_start%20%3C%3D%20%222022-12-31%2000%3A00%3A00%22 and gremium all KR and funktion any \"Mitglied Präsidium Vizepräsidium\" sortBy name/sort.ascending vorname/sort.ascending&l=de-CH'"
      ]
     },
     "execution_count": 54,
     "metadata": {},
     "output_type": "execute_result"
    }
   ],
   "source": [
    "url % urllib.parse.quote(param)"
   ]
  },
  {
   "cell_type": "code",
   "execution_count": 7,
   "metadata": {},
   "outputs": [],
   "source": [
    "# Parse XML\n",
    "ns = {\n",
    "    's': 'http://www.cmiag.ch/cdws/searchDetailResponse',\n",
    "    'd': 'http://www.cmiag.ch/cdws/SitzungenDetail',\n",
    "    'm': 'http://www.cmiag.ch/cdws/Mitglieder'\n",
    "    }\n",
    "\n",
    "def str2dt(s):\n",
    "    if s == '9999-12-31T23:59:59.000':\n",
    "        s = '2100-12-31T00:00:00.000'\n",
    "    return datetime.strptime(s, '%Y-%m-%dT00:00:00.000')\n",
    "\n",
    "records = []\n",
    "\n",
    "for mitglied in root.findall('.//m:Mitglied', ns):\n",
    "    person = mitglied.find('m:Person', ns)\n",
    "\n",
    "    end_person = mitglied.find('m:Dauer/m:End', ns).text\n",
    "    if end_person == '9999-12-31T23:59:59.000':\n",
    "            # Set 2100 als enddate\n",
    "            end_person = '2100-12-31T00:00:00.000'\n",
    "\n",
    "    start_person = datetime.strptime(mitglied.find('m:Dauer/m:Start', ns).text, '%Y-%m-%dT00:00:00.000')\n",
    "\n",
    "\n",
    "    # Loop for each Party. If someone switch party, add person twice\n",
    "    for party in person.findall('m:Kontakt/m:Parteizugehoerigkeiten/m:Parteizugehoerigkeit', ns):\n",
    "        end = party.find('m:Dauer/m:End', ns).text\n",
    "        if end == '9999-12-31T23:59:59.000':\n",
    "            # Set end_person as end_date\n",
    "            end = end_person\n",
    "        end = datetime.strptime(end, '%Y-%m-%dT00:00:00.000')\n",
    "\n",
    "        start = datetime.strptime(party.find('m:Dauer/m:Start', ns).text, '%Y-%m-%dT00:00:00.000')\n",
    "        if start < start_person:\n",
    "            start = start_person\n",
    "\n",
    "        record = {\n",
    "            'name': person.find('m:Kontakt/m:Name', ns).text,\n",
    "            'vorname': person.find('m:Kontakt/m:Vorname', ns).text,\n",
    "            'geschlecht': person.find('m:Kontakt/m:Geschlecht', ns).text,\n",
    "            'wahlkreis': person.find('m:Kontakt/m:Wahlkreis', ns).text,\n",
    "            'partei': party.find('m:Name', ns).text,\n",
    "            'start': start,\n",
    "            'end': end,\n",
    "        }\n",
    "\n",
    "        records.append(record)\n",
    "\n",
    "    #print(datetime.strptime(mitglied.find('m:Dauer/m:End', ns).text, '%Y-%m-%dT00:00:00.000'))\n",
    "    #break\n",
    "\n",
    "df = pd.DataFrame(records)\n",
    "\n",
    "# Save\n",
    "df.to_csv(Path('../export/mitglieder.csv'), index=False)"
   ]
  },
  {
   "cell_type": "markdown",
   "metadata": {},
   "source": [
    "## Download Präsidium\n",
    "**!!!!! CORRUPT CSV!!!!!!!**"
   ]
  },
  {
   "cell_type": "code",
   "execution_count": 47,
   "metadata": {},
   "outputs": [],
   "source": [
    "# ANPASSEN! https://raw.githubusercontent.com/openZH/krdb-lod/master/data/funktionen.csv\n",
    "df_funktion = pd.read_csv('/Users/simon/Downloads/funktionen.csv', encoding='utf-8')\n",
    "#df_person = pd.read_csv('https://raw.githubusercontent.com/openZH/krdb-lod/master/data/personen.csv')\n",
    "df_person = pd.read_csv('/Users/simon/Downloads/personen.csv')\n",
    "\n",
    "# Filter\n",
    "df_funktion = df_funktion[df_funktion.FUNKTIONSBEZEICHNUNG.isin(['1. Vizepräsidium', 'Präsidium', '2. Vizepräsidium'])]"
   ]
  },
  {
   "cell_type": "code",
   "execution_count": 52,
   "metadata": {},
   "outputs": [
    {
     "data": {
      "text/html": [
       "<div>\n",
       "<style scoped>\n",
       "    .dataframe tbody tr th:only-of-type {\n",
       "        vertical-align: middle;\n",
       "    }\n",
       "\n",
       "    .dataframe tbody tr th {\n",
       "        vertical-align: top;\n",
       "    }\n",
       "\n",
       "    .dataframe thead th {\n",
       "        text-align: right;\n",
       "    }\n",
       "</style>\n",
       "<table border=\"1\" class=\"dataframe\">\n",
       "  <thead>\n",
       "    <tr style=\"text-align: right;\">\n",
       "      <th></th>\n",
       "      <th>VORNAME</th>\n",
       "      <th>NACHNAME</th>\n",
       "      <th>GESCHLECHT</th>\n",
       "      <th>FUNKTIONSBEZEICHNUNG</th>\n",
       "    </tr>\n",
       "  </thead>\n",
       "  <tbody>\n",
       "    <tr>\n",
       "      <th>0</th>\n",
       "      <td>Albert L.</td>\n",
       "      <td>Petermann</td>\n",
       "      <td>m</td>\n",
       "      <td>NaN</td>\n",
       "    </tr>\n",
       "    <tr>\n",
       "      <th>1</th>\n",
       "      <td>Jacques</td>\n",
       "      <td>Ruedin</td>\n",
       "      <td>m</td>\n",
       "      <td>NaN</td>\n",
       "    </tr>\n",
       "    <tr>\n",
       "      <th>2</th>\n",
       "      <td>Ernst</td>\n",
       "      <td>Nievergelt</td>\n",
       "      <td>m</td>\n",
       "      <td>NaN</td>\n",
       "    </tr>\n",
       "    <tr>\n",
       "      <th>3</th>\n",
       "      <td>Hansheinrich</td>\n",
       "      <td>Reimann</td>\n",
       "      <td>m</td>\n",
       "      <td>NaN</td>\n",
       "    </tr>\n",
       "    <tr>\n",
       "      <th>4</th>\n",
       "      <td>Otto</td>\n",
       "      <td>Fischer</td>\n",
       "      <td>m</td>\n",
       "      <td>NaN</td>\n",
       "    </tr>\n",
       "  </tbody>\n",
       "</table>\n",
       "</div>"
      ],
      "text/plain": [
       "        VORNAME    NACHNAME GESCHLECHT  FUNKTIONSBEZEICHNUNG\n",
       "0     Albert L.   Petermann          m                   NaN\n",
       "1       Jacques      Ruedin          m                   NaN\n",
       "2         Ernst  Nievergelt          m                   NaN\n",
       "3  Hansheinrich     Reimann          m                   NaN\n",
       "4          Otto     Fischer          m                   NaN"
      ]
     },
     "execution_count": 52,
     "metadata": {},
     "output_type": "execute_result"
    }
   ],
   "source": [
    "df_merged = df_funktion.merge(df_person, on = 'ID_PERSON_NEW')\n",
    "\n",
    "df_merged['start'] = df_merged.apply(lambda row: \"%s-%2d-%2d\" % (row['DATUM_VON_JAHR'], row['DATUM_VON_MONAT'], row['DATUM_VON_TAG']), axis=1)\n",
    "df_merged['end'] = df_merged.apply(lambda row: \"%s-%2d-%2d\" % (row['DATUM_BIS_JAHR'], row['DATUM_BIS_MONAT'], row['DATUM_BIS_TAG']), axis=1)\n",
    "\n",
    "df_merged = df_merged[['VORNAME', 'NACHNAME', 'GESCHLECHT', 'FUNKTIONSBEZEICHNUNG', 'start', 'end']]\n",
    "df_merged.rename(columns={'VORNAME': 'vorname', 'NACHNAME': 'nachname', 'GESCHLECHT': 'geschlecht', 'FUNKTIONSBEZEICHNUNG': 'funktion'}, inplace=True)\n",
    "\n",
    "df_merged.to_csv(Path('../export/funktion.csv'), index=False)"
   ]
  },
  {
   "cell_type": "markdown",
   "metadata": {},
   "source": [
    "## Last ***** attempt: Via XLSX file from Staatsarchiv\n",
    "Download at the bottom: https://www.zh.ch/de/politik-staat/wahlen-abstimmungen/kantons-regierungsratswahlen/mitglieder-kantonsrats-ab-1803.html#-373901206"
   ]
  },
  {
   "cell_type": "code",
   "execution_count": 66,
   "metadata": {},
   "outputs": [],
   "source": [
    "df_einsitz = pd.read_excel(Path('../data/kantonsrathistory.xlsx'), 'Einsitze')\n",
    "df_person = pd.read_excel(Path('../data/kantonsrathistory.xlsx'), 'Personen')\n",
    "df_partei = pd.read_excel(Path('../data/kantonsrathistory.xlsx'), 'Parteien')"
   ]
  },
  {
   "cell_type": "code",
   "execution_count": 72,
   "metadata": {},
   "outputs": [
    {
     "name": "stdout",
     "output_type": "stream",
     "text": [
      "finito\n"
     ]
    }
   ],
   "source": [
    "df = df_partei.merge(df_person, on = 'ID_PERSON_NEW')\n",
    "\n",
    "records = []\n",
    "\n",
    "# Select 2000\n",
    "#df = df[df.DATUM_EINTRITT_JAHR >= 2000]\n",
    "\n",
    "for i, row in df.iterrows():\n",
    "    #start = None\n",
    "    #end = None\n",
    "\n",
    "    try:\n",
    "        if not np.isnan(row['DATUM_VON_JAHR']) and not(np.isnan(row['DATUM_VON_MONAT'])):\n",
    "            start = datetime(int(row['DATUM_VON_JAHR']), int(row['DATUM_VON_MONAT']), int(row['DATUM_VON_TAG']))\n",
    "\n",
    "\n",
    "\n",
    "        if (not np.isnan(row['DATUM_BIS_JAHR'])) and (not np.isnan(row['DATUM_BIS_MONAT'])):\n",
    "            end = datetime(int(row['DATUM_BIS_JAHR']), int(row['DATUM_BIS_MONAT']), int(row['DATUM_BIS_TAG']))\n",
    "    except Exception as e:\n",
    "        print(e)\n",
    "        print(row)\n",
    "        row.to_clipboard()\n",
    "        raise\n",
    "    #start = datetime.strptime(party.find('m:Dauer/m:Start', ns).text, '%Y-%m-%dT00:00:00.000')\n",
    "\n",
    "    # Find Party. Take oldest one.\n",
    "    #df_p = df_partei[df_partei.ID_PERSON_NEW == row['ID_PERSON_NEW']].sort_values('DATUM_VON_JAHR')\n",
    "    if len(df_p) == 0:\n",
    "        raise('No Party', row)\n",
    "\n",
    "    record = {\n",
    "        'name': row['NACHNAME'],\n",
    "        'vorname': row['VORNAME'],\n",
    "        'geschlecht': row['GESCHLECHT'],\n",
    "        'jahrgang': row['DATUM_GEBURT_JAHR'],\n",
    "        'partei': row['PARTEIBEZEICHNUNG'],\n",
    "        'start': datetime.strftime(start, '%Y-%m-%dT00:00:00.000'),\n",
    "        'end': datetime.strftime(end, '%Y-%m-%dT00:00:00.000'),\n",
    "    }\n",
    "    records.append(record)\n",
    "\n",
    "df_res = pd.DataFrame(records)\n",
    "df_res.to_csv(Path('../export/mitglieder.csv'), index=False)\n",
    "\n",
    "print(\"finito\")"
   ]
  },
  {
   "cell_type": "markdown",
   "metadata": {},
   "source": [
    "## DEPRICATED"
   ]
  },
  {
   "cell_type": "code",
   "execution_count": 46,
   "metadata": {},
   "outputs": [],
   "source": [
    "df = df_einsitz.merge(df_person, on = 'ID_PERSON_NEW')\n",
    "\n",
    "# Select 2000\n",
    "df = df[df.DATUM_EINTRITT_JAHR >= 2000]\n",
    "\n",
    "df['DATUM_EINTRITT_JAHR'] = df['DATUM_EINTRITT_JAHR'].astype(int)\n",
    "df['DATUM_EINTRITT_MONAT'] = df['DATUM_EINTRITT_MONAT'].astype(int)\n",
    "df['DATUM_EINTRITT_TAG'] = df['DATUM_EINTRITT_TAG'].astype(int)\n",
    "\n",
    "records = []\n",
    "\n",
    "for i, row in df.iterrows():\n",
    "\n",
    "    start = datetime(row['DATUM_EINTRITT_JAHR'], row['DATUM_EINTRITT_MONAT'], row['DATUM_EINTRITT_TAG'])\n",
    "\n",
    "    if not np.isnan(row['DATUM_AUSTRITT_JAHR']):\n",
    "        end = datetime(int(row['DATUM_AUSTRITT_JAHR']), int(row['DATUM_AUSTRITT_MONAT']), int(row['DATUM_AUSTRITT_TAG']))\n",
    "\n",
    "    #start = datetime.strptime(party.find('m:Dauer/m:Start', ns).text, '%Y-%m-%dT00:00:00.000')\n",
    "\n",
    "    # Find Party. Take oldest one.\n",
    "    df_p = df_partei[df_partei.ID_PERSON_NEW == row['ID_PERSON_NEW']].sort_values('DATUM_VON_JAHR')\n",
    "    if len(df_p) == 0:\n",
    "        raise('No Party', row)\n",
    "\n",
    "    record = {\n",
    "        'name': row['NACHNAME'],\n",
    "        'vorname': row['VORNAME'],\n",
    "        'geschlecht': row['GESCHLECHT'],\n",
    "        'jahrgang': int(row['DATUM_GEBURT_JAHR']),\n",
    "        'partei': df_p.iloc[0]['PARTEIBEZEICHNUNG'],\n",
    "        'start': datetime.strftime(start, '%Y-%m-%dT00:00:00.000'),\n",
    "        'end': datetime.strftime(end, '%Y-%m-%dT00:00:00.000'),\n",
    "    }\n",
    "    records.append(record)\n",
    "\n",
    "df_res = pd.DataFrame(records)\n",
    "df_res.to_csv(Path('../export/mitglieder.csv'), index=False)"
   ]
  },
  {
   "cell_type": "code",
   "execution_count": null,
   "metadata": {},
   "outputs": [],
   "source": []
  }
 ],
 "metadata": {
  "interpreter": {
   "hash": "37f0ca31d41186abe10772da2ac64da7601e3a80a4b6b1bf647ed16bff654d0c"
  },
  "kernelspec": {
   "display_name": "Python 3.9.6 64-bit ('env': venv)",
   "name": "python3"
  },
  "language_info": {
   "codemirror_mode": {
    "name": "ipython",
    "version": 3
   },
   "file_extension": ".py",
   "mimetype": "text/x-python",
   "name": "python",
   "nbconvert_exporter": "python",
   "pygments_lexer": "ipython3",
   "version": "3.9.6"
  },
  "orig_nbformat": 4
 },
 "nbformat": 4,
 "nbformat_minor": 2
}
