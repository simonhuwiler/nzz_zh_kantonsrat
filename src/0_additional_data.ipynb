{
 "cells": [
  {
   "cell_type": "markdown",
   "metadata": {},
   "source": [
    "# Load List of Kings and Queens\n",
    "|  \n",
    "|  \n",
    "v  \n",
    "**!!!!! ERROR WITH Robert Brunner!!!**"
   ]
  },
  {
   "cell_type": "code",
   "execution_count": 109,
   "metadata": {},
   "outputs": [],
   "source": [
    "import pandas as pd\n",
    "import requests\n",
    "import xml.etree.ElementTree as ET\n",
    "import urllib\n",
    "from datetime import datetime\n",
    "from pathlib import Path"
   ]
  },
  {
   "cell_type": "code",
   "execution_count": 111,
   "metadata": {},
   "outputs": [],
   "source": [
    "url = 'https://parlzhcdws.cmicloud.ch/parlzh2/cdws/Index/MITGLIEDER/searchdetails?q=seq>0 and %s and gremium all KR and funktion any \"Mitglied Präsidium Vizepräsidium\" sortBy name/sort.ascending vorname/sort.ascending&l=de-CH'\n",
    "\n",
    "# from to\n",
    "param = 'dauer_end >= \"2010-11-19 00:00:00\" and dauer_start <= \"2022-12-31 00:00:00\"'\n",
    "\n",
    "# Get XML\n",
    "r = requests.get(url % urllib.parse.quote(param))\n",
    "\n",
    "# Load XML\n",
    "tree = ET.ElementTree(ET.fromstring(r.text))\n",
    "root = tree.getroot()"
   ]
  },
  {
   "cell_type": "code",
   "execution_count": 112,
   "metadata": {},
   "outputs": [],
   "source": [
    "# Parse XML\n",
    "ns = {\n",
    "    's': 'http://www.cmiag.ch/cdws/searchDetailResponse',\n",
    "    'd': 'http://www.cmiag.ch/cdws/SitzungenDetail',\n",
    "    'm': 'http://www.cmiag.ch/cdws/Mitglieder'\n",
    "    }\n",
    "\n",
    "records = []\n",
    "\n",
    "for mitglied in root.findall('.//m:Mitglied', ns):\n",
    "    person = mitglied.find('m:Person', ns)\n",
    "\n",
    "    end_person = mitglied.find('m:Dauer/m:End', ns).text\n",
    "    if end_person == '9999-12-31T23:59:59.000':\n",
    "            # Set 2100 als enddate\n",
    "            end_person = '2100-12-31T00:00:00.000'\n",
    "\n",
    "    start_person = datetime.strptime(mitglied.find('m:Dauer/m:Start', ns).text, '%Y-%m-%dT00:00:00.000')\n",
    "\n",
    "\n",
    "    # Loop for each Party. If someone switch party, add person twice\n",
    "    for party in person.findall('m:Kontakt/m:Parteizugehoerigkeiten/m:Parteizugehoerigkeit', ns):\n",
    "        end = party.find('m:Dauer/m:End', ns).text\n",
    "        if end == '9999-12-31T23:59:59.000':\n",
    "            # Set end_person as end_date\n",
    "            end = end_person\n",
    "        end = datetime.strptime(end, '%Y-%m-%dT00:00:00.000')\n",
    "\n",
    "        start = datetime.strptime(party.find('m:Dauer/m:Start', ns).text, '%Y-%m-%dT00:00:00.000')\n",
    "        if start < start_person:\n",
    "            start = start_person\n",
    "\n",
    "        record = {\n",
    "            'name': person.find('m:Kontakt/m:Name', ns).text,\n",
    "            'vorname': person.find('m:Kontakt/m:Vorname', ns).text,\n",
    "            'geschlecht': person.find('m:Kontakt/m:Geschlecht', ns).text,\n",
    "            'wahlkreis': person.find('m:Kontakt/m:Wahlkreis', ns).text,\n",
    "            'partei': party.find('m:Name', ns).text,\n",
    "            'start': start,\n",
    "            'end': end,\n",
    "        }\n",
    "\n",
    "        records.append(record)\n",
    "\n",
    "    #print(datetime.strptime(mitglied.find('m:Dauer/m:End', ns).text, '%Y-%m-%dT00:00:00.000'))\n",
    "    #break\n",
    "\n",
    "df = pd.DataFrame(records)\n",
    "\n",
    "# Save\n",
    "df.to_csv(Path('../export/mitglieder.csv'), index=False)"
   ]
  },
  {
   "cell_type": "code",
   "execution_count": null,
   "metadata": {},
   "outputs": [],
   "source": [
    "# Test"
   ]
  },
  {
   "cell_type": "code",
   "execution_count": 99,
   "metadata": {},
   "outputs": [
    {
     "data": {
      "text/plain": [
       "datetime.datetime(2019, 3, 1, 0, 0)"
      ]
     },
     "execution_count": 99,
     "metadata": {},
     "output_type": "execute_result"
    }
   ],
   "source": [
    "d = datetime.strptime('2019-03-01', '%Y-%m-%d')\n",
    "d"
   ]
  },
  {
   "cell_type": "code",
   "execution_count": 103,
   "metadata": {},
   "outputs": [
    {
     "data": {
      "text/plain": [
       "179"
      ]
     },
     "execution_count": 103,
     "metadata": {},
     "output_type": "execute_result"
    }
   ],
   "source": [
    "\n",
    "x = df[(df.start <= d) & (df.end >= d)]\n",
    "len(x)"
   ]
  },
  {
   "cell_type": "code",
   "execution_count": 107,
   "metadata": {},
   "outputs": [
    {
     "data": {
      "text/html": [
       "<div>\n",
       "<style scoped>\n",
       "    .dataframe tbody tr th:only-of-type {\n",
       "        vertical-align: middle;\n",
       "    }\n",
       "\n",
       "    .dataframe tbody tr th {\n",
       "        vertical-align: top;\n",
       "    }\n",
       "\n",
       "    .dataframe thead th {\n",
       "        text-align: right;\n",
       "    }\n",
       "</style>\n",
       "<table border=\"1\" class=\"dataframe\">\n",
       "  <thead>\n",
       "    <tr style=\"text-align: right;\">\n",
       "      <th></th>\n",
       "      <th>name</th>\n",
       "      <th>vorname</th>\n",
       "      <th>geschlecht</th>\n",
       "      <th>wahlkreis</th>\n",
       "      <th>partei</th>\n",
       "      <th>start</th>\n",
       "      <th>end</th>\n",
       "    </tr>\n",
       "  </thead>\n",
       "  <tbody>\n",
       "    <tr>\n",
       "      <th>34</th>\n",
       "      <td>Brazerol</td>\n",
       "      <td>Rico</td>\n",
       "      <td>männlich</td>\n",
       "      <td>IX Horgen</td>\n",
       "      <td>BDP</td>\n",
       "      <td>2011-05-09</td>\n",
       "      <td>2019-05-06</td>\n",
       "    </tr>\n",
       "    <tr>\n",
       "      <th>35</th>\n",
       "      <td>Brunner</td>\n",
       "      <td>Hans-Peter</td>\n",
       "      <td>männlich</td>\n",
       "      <td>IX Horgen</td>\n",
       "      <td>FDP</td>\n",
       "      <td>2015-05-18</td>\n",
       "      <td>2100-12-31</td>\n",
       "    </tr>\n",
       "    <tr>\n",
       "      <th>33</th>\n",
       "      <td>Brändli</td>\n",
       "      <td>Roland</td>\n",
       "      <td>männlich</td>\n",
       "      <td>XI Hinwil</td>\n",
       "      <td>SVP</td>\n",
       "      <td>2019-01-01</td>\n",
       "      <td>2019-05-06</td>\n",
       "    </tr>\n",
       "    <tr>\n",
       "      <th>39</th>\n",
       "      <td>Burtscher</td>\n",
       "      <td>Rochus</td>\n",
       "      <td>männlich</td>\n",
       "      <td>VII Dietikon</td>\n",
       "      <td>SVP</td>\n",
       "      <td>2011-05-09</td>\n",
       "      <td>2100-12-31</td>\n",
       "    </tr>\n",
       "    <tr>\n",
       "      <th>41</th>\n",
       "      <td>Bussmann</td>\n",
       "      <td>Barbara</td>\n",
       "      <td>weiblich</td>\n",
       "      <td>XII Uster</td>\n",
       "      <td>SP</td>\n",
       "      <td>2009-01-01</td>\n",
       "      <td>2019-05-06</td>\n",
       "    </tr>\n",
       "    <tr>\n",
       "      <th>14</th>\n",
       "      <td>Bär</td>\n",
       "      <td>Hansruedi</td>\n",
       "      <td>männlich</td>\n",
       "      <td>VI Zürich 11+12</td>\n",
       "      <td>SVP</td>\n",
       "      <td>2009-01-01</td>\n",
       "      <td>2019-05-06</td>\n",
       "    </tr>\n",
       "    <tr>\n",
       "      <th>18</th>\n",
       "      <td>Bärtschiger</td>\n",
       "      <td>Markus</td>\n",
       "      <td>männlich</td>\n",
       "      <td>VII Dietikon</td>\n",
       "      <td>SP</td>\n",
       "      <td>2017-05-15</td>\n",
       "      <td>2100-12-31</td>\n",
       "    </tr>\n",
       "    <tr>\n",
       "      <th>38</th>\n",
       "      <td>Bürgin</td>\n",
       "      <td>Yvonne</td>\n",
       "      <td>weiblich</td>\n",
       "      <td>XI Hinwil</td>\n",
       "      <td>Die Mitte</td>\n",
       "      <td>2013-08-19</td>\n",
       "      <td>2100-12-31</td>\n",
       "    </tr>\n",
       "    <tr>\n",
       "      <th>43</th>\n",
       "      <td>Bütikofer</td>\n",
       "      <td>Kaspar</td>\n",
       "      <td>männlich</td>\n",
       "      <td>II Zürich 3+9</td>\n",
       "      <td>AL</td>\n",
       "      <td>2009-01-01</td>\n",
       "      <td>2021-09-06</td>\n",
       "    </tr>\n",
       "    <tr>\n",
       "      <th>44</th>\n",
       "      <td>Camenisch</td>\n",
       "      <td>Linda</td>\n",
       "      <td>weiblich</td>\n",
       "      <td>XVII Bülach</td>\n",
       "      <td>FDP</td>\n",
       "      <td>2010-08-23</td>\n",
       "      <td>2100-12-31</td>\n",
       "    </tr>\n",
       "  </tbody>\n",
       "</table>\n",
       "</div>"
      ],
      "text/plain": [
       "           name     vorname geschlecht        wahlkreis     partei      start  \\\n",
       "34     Brazerol        Rico   männlich        IX Horgen        BDP 2011-05-09   \n",
       "35      Brunner  Hans-Peter   männlich        IX Horgen        FDP 2015-05-18   \n",
       "33      Brändli      Roland   männlich        XI Hinwil        SVP 2019-01-01   \n",
       "39    Burtscher      Rochus   männlich     VII Dietikon        SVP 2011-05-09   \n",
       "41     Bussmann     Barbara   weiblich        XII Uster         SP 2009-01-01   \n",
       "14          Bär   Hansruedi   männlich  VI Zürich 11+12        SVP 2009-01-01   \n",
       "18  Bärtschiger      Markus   männlich     VII Dietikon         SP 2017-05-15   \n",
       "38       Bürgin      Yvonne   weiblich        XI Hinwil  Die Mitte 2013-08-19   \n",
       "43    Bütikofer      Kaspar   männlich    II Zürich 3+9         AL 2009-01-01   \n",
       "44    Camenisch       Linda   weiblich      XVII Bülach        FDP 2010-08-23   \n",
       "\n",
       "          end  \n",
       "34 2019-05-06  \n",
       "35 2100-12-31  \n",
       "33 2019-05-06  \n",
       "39 2100-12-31  \n",
       "41 2019-05-06  \n",
       "14 2019-05-06  \n",
       "18 2100-12-31  \n",
       "38 2100-12-31  \n",
       "43 2021-09-06  \n",
       "44 2100-12-31  "
      ]
     },
     "execution_count": 107,
     "metadata": {},
     "output_type": "execute_result"
    }
   ],
   "source": [
    "x.sort_values('name')[20:30]"
   ]
  },
  {
   "cell_type": "code",
   "execution_count": 108,
   "metadata": {},
   "outputs": [
    {
     "data": {
      "text/html": [
       "<div>\n",
       "<style scoped>\n",
       "    .dataframe tbody tr th:only-of-type {\n",
       "        vertical-align: middle;\n",
       "    }\n",
       "\n",
       "    .dataframe tbody tr th {\n",
       "        vertical-align: top;\n",
       "    }\n",
       "\n",
       "    .dataframe thead th {\n",
       "        text-align: right;\n",
       "    }\n",
       "</style>\n",
       "<table border=\"1\" class=\"dataframe\">\n",
       "  <thead>\n",
       "    <tr style=\"text-align: right;\">\n",
       "      <th></th>\n",
       "      <th>name</th>\n",
       "      <th>vorname</th>\n",
       "      <th>geschlecht</th>\n",
       "      <th>wahlkreis</th>\n",
       "      <th>partei</th>\n",
       "      <th>start</th>\n",
       "      <th>end</th>\n",
       "    </tr>\n",
       "  </thead>\n",
       "  <tbody>\n",
       "    <tr>\n",
       "      <th>36</th>\n",
       "      <td>Brunner</td>\n",
       "      <td>Robert</td>\n",
       "      <td>männlich</td>\n",
       "      <td>XVIII Dielsdorf</td>\n",
       "      <td>Grüne</td>\n",
       "      <td>2020-02-01</td>\n",
       "      <td>2020-02-11</td>\n",
       "    </tr>\n",
       "  </tbody>\n",
       "</table>\n",
       "</div>"
      ],
      "text/plain": [
       "       name vorname geschlecht        wahlkreis partei      start        end\n",
       "36  Brunner  Robert   männlich  XVIII Dielsdorf  Grüne 2020-02-01 2020-02-11"
      ]
     },
     "execution_count": 108,
     "metadata": {},
     "output_type": "execute_result"
    }
   ],
   "source": [
    "df[df.vorname == 'Robert']"
   ]
  },
  {
   "cell_type": "code",
   "execution_count": 92,
   "metadata": {},
   "outputs": [
    {
     "name": "stderr",
     "output_type": "stream",
     "text": [
      "/var/folders/xv/8dpn0yrd2_sdyj5_kf48mxbh0000gn/T/ipykernel_27588/2518723928.py:1: SettingWithCopyWarning: \n",
      "A value is trying to be set on a copy of a slice from a DataFrame.\n",
      "Try using .loc[row_indexer,col_indexer] = value instead\n",
      "\n",
      "See the caveats in the documentation: https://pandas.pydata.org/pandas-docs/stable/user_guide/indexing.html#returning-a-view-versus-a-copy\n",
      "  x['dup'] = x.duplicated(subset=['name', 'vorname'], keep=False)\n"
     ]
    },
    {
     "data": {
      "text/html": [
       "<div>\n",
       "<style scoped>\n",
       "    .dataframe tbody tr th:only-of-type {\n",
       "        vertical-align: middle;\n",
       "    }\n",
       "\n",
       "    .dataframe tbody tr th {\n",
       "        vertical-align: top;\n",
       "    }\n",
       "\n",
       "    .dataframe thead th {\n",
       "        text-align: right;\n",
       "    }\n",
       "</style>\n",
       "<table border=\"1\" class=\"dataframe\">\n",
       "  <thead>\n",
       "    <tr style=\"text-align: right;\">\n",
       "      <th></th>\n",
       "      <th>name</th>\n",
       "      <th>vorname</th>\n",
       "      <th>geschlecht</th>\n",
       "      <th>wahlkreis</th>\n",
       "      <th>partei</th>\n",
       "      <th>start</th>\n",
       "      <th>end</th>\n",
       "      <th>dup</th>\n",
       "    </tr>\n",
       "  </thead>\n",
       "  <tbody>\n",
       "    <tr>\n",
       "      <th>0</th>\n",
       "      <td>Ackermann</td>\n",
       "      <td>Pia</td>\n",
       "      <td>weiblich</td>\n",
       "      <td>II Zürich 3+9</td>\n",
       "      <td>SP</td>\n",
       "      <td>2015-05-18</td>\n",
       "      <td>2100-12-31</td>\n",
       "      <td>False</td>\n",
       "    </tr>\n",
       "    <tr>\n",
       "      <th>1</th>\n",
       "      <td>Ackermann</td>\n",
       "      <td>Ruth</td>\n",
       "      <td>weiblich</td>\n",
       "      <td>VI Zürich 11+12</td>\n",
       "      <td>Die Mitte</td>\n",
       "      <td>2015-05-18</td>\n",
       "      <td>2100-12-31</td>\n",
       "      <td>False</td>\n",
       "    </tr>\n",
       "    <tr>\n",
       "      <th>3</th>\n",
       "      <td>Agosti Monn</td>\n",
       "      <td>Theres</td>\n",
       "      <td>weiblich</td>\n",
       "      <td>XV Winterthur Land</td>\n",
       "      <td>SP</td>\n",
       "      <td>2013-08-19</td>\n",
       "      <td>2100-12-31</td>\n",
       "      <td>False</td>\n",
       "    </tr>\n",
       "    <tr>\n",
       "      <th>5</th>\n",
       "      <td>Albanese</td>\n",
       "      <td>Franco</td>\n",
       "      <td>männlich</td>\n",
       "      <td>XIV Winterthur Stadt</td>\n",
       "      <td>SVP</td>\n",
       "      <td>2016-09-06</td>\n",
       "      <td>2020-08-15</td>\n",
       "      <td>False</td>\n",
       "    </tr>\n",
       "    <tr>\n",
       "      <th>7</th>\n",
       "      <td>Alder</td>\n",
       "      <td>Ronald</td>\n",
       "      <td>männlich</td>\n",
       "      <td>VIII Affoltern</td>\n",
       "      <td>GLP</td>\n",
       "      <td>2017-08-21</td>\n",
       "      <td>2100-12-31</td>\n",
       "      <td>False</td>\n",
       "    </tr>\n",
       "  </tbody>\n",
       "</table>\n",
       "</div>"
      ],
      "text/plain": [
       "          name vorname geschlecht             wahlkreis     partei      start  \\\n",
       "0    Ackermann     Pia   weiblich         II Zürich 3+9         SP 2015-05-18   \n",
       "1    Ackermann    Ruth   weiblich       VI Zürich 11+12  Die Mitte 2015-05-18   \n",
       "3  Agosti Monn  Theres   weiblich    XV Winterthur Land         SP 2013-08-19   \n",
       "5     Albanese  Franco   männlich  XIV Winterthur Stadt        SVP 2016-09-06   \n",
       "7        Alder  Ronald   männlich        VIII Affoltern        GLP 2017-08-21   \n",
       "\n",
       "         end    dup  \n",
       "0 2100-12-31  False  \n",
       "1 2100-12-31  False  \n",
       "3 2100-12-31  False  \n",
       "5 2020-08-15  False  \n",
       "7 2100-12-31  False  "
      ]
     },
     "execution_count": 92,
     "metadata": {},
     "output_type": "execute_result"
    }
   ],
   "source": [
    "x['dup'] = x.duplicated(subset=['name', 'vorname'], keep=False)\n",
    "x.head()"
   ]
  },
  {
   "cell_type": "code",
   "execution_count": 93,
   "metadata": {},
   "outputs": [
    {
     "data": {
      "text/html": [
       "<div>\n",
       "<style scoped>\n",
       "    .dataframe tbody tr th:only-of-type {\n",
       "        vertical-align: middle;\n",
       "    }\n",
       "\n",
       "    .dataframe tbody tr th {\n",
       "        vertical-align: top;\n",
       "    }\n",
       "\n",
       "    .dataframe thead th {\n",
       "        text-align: right;\n",
       "    }\n",
       "</style>\n",
       "<table border=\"1\" class=\"dataframe\">\n",
       "  <thead>\n",
       "    <tr style=\"text-align: right;\">\n",
       "      <th></th>\n",
       "      <th>name</th>\n",
       "      <th>vorname</th>\n",
       "      <th>geschlecht</th>\n",
       "      <th>wahlkreis</th>\n",
       "      <th>partei</th>\n",
       "      <th>start</th>\n",
       "      <th>end</th>\n",
       "      <th>dup</th>\n",
       "    </tr>\n",
       "  </thead>\n",
       "  <tbody>\n",
       "  </tbody>\n",
       "</table>\n",
       "</div>"
      ],
      "text/plain": [
       "Empty DataFrame\n",
       "Columns: [name, vorname, geschlecht, wahlkreis, partei, start, end, dup]\n",
       "Index: []"
      ]
     },
     "execution_count": 93,
     "metadata": {},
     "output_type": "execute_result"
    }
   ],
   "source": [
    "x[x.dup == True]"
   ]
  },
  {
   "cell_type": "code",
   "execution_count": 13,
   "metadata": {},
   "outputs": [
    {
     "data": {
      "text/plain": [
       "294"
      ]
     },
     "execution_count": 13,
     "metadata": {},
     "output_type": "execute_result"
    }
   ],
   "source": [
    "len(root.findall('.//m:Person', ns))"
   ]
  }
 ],
 "metadata": {
  "interpreter": {
   "hash": "69dc94fc393d943518fcde1eb0a856b515bbecd136e3dea5800bae48efbead23"
  },
  "kernelspec": {
   "display_name": "Python 3.9.6 64-bit ('env': venv)",
   "name": "python3"
  },
  "language_info": {
   "codemirror_mode": {
    "name": "ipython",
    "version": 3
   },
   "file_extension": ".py",
   "mimetype": "text/x-python",
   "name": "python",
   "nbconvert_exporter": "python",
   "pygments_lexer": "ipython3",
   "version": "3.9.6"
  },
  "orig_nbformat": 4
 },
 "nbformat": 4,
 "nbformat_minor": 2
}
